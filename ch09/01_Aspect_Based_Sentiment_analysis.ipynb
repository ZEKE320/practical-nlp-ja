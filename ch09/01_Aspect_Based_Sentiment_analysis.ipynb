{
 "nbformat": 4,
 "nbformat_minor": 0,
 "metadata": {
  "kernelspec": {
   "display_name": "Python 3",
   "language": "python",
   "name": "python3"
  },
  "language_info": {
   "codemirror_mode": {
    "name": "ipython",
    "version": 3
   },
   "file_extension": ".py",
   "mimetype": "text/x-python",
   "name": "python",
   "nbconvert_exporter": "python",
   "pygments_lexer": "ipython3",
   "version": "3.8.3"
  },
  "colab": {
   "name": "01_Aspect_Based_Sentiment_analysis.ipynb",
   "provenance": [],
   "collapsed_sections": []
  }
 },
 "cells": [
  {
   "cell_type": "markdown",
   "metadata": {
    "id": "ZBsnoFa7c7ML"
   },
   "source": [
    "# VADERを用いたアスペクトベースセンチメント分析\n",
    "\n",
    "このノートブックでは、[VADER](https://github.com/cjhutto/vaderSentiment)を用いてアスペクトベースのセンチメント分析をする方法を紹介します。VADERは辞書とルールベースのセンチメント分析のツールで、ソーシャルメディアを対象に作成されています。"
   ]
  },
  {
   "cell_type": "markdown",
   "metadata": {
    "id": "ZhAYY_TZc-ob"
   },
   "source": [
    "## 準備"
   ]
  },
  {
   "cell_type": "markdown",
   "metadata": {
    "id": "M9dXg2m0dAKL"
   },
   "source": [
    "### パッケージのインストール"
   ]
  },
  {
   "cell_type": "code",
   "metadata": {
    "scrolled": true,
    "colab": {
     "base_uri": "https://localhost:8080/"
    },
    "id": "DZijhEHTc7MP",
    "outputId": "a1c4c316-3008-4914-dd82-7b4ccf40b478"
   },
   "source": [
    "!pip install -q vaderSentiment==3.3.2 nltk==3.2.5"
   ],
   "execution_count": null,
   "outputs": [
    {
     "output_type": "stream",
     "name": "stdout",
     "text": [
      "Collecting vaderSentiment\n",
      "  Downloading vaderSentiment-3.3.2-py2.py3-none-any.whl (125 kB)\n",
      "\u001B[?25l\r\u001B[K     |██▋                             | 10 kB 19.9 MB/s eta 0:00:01\r\u001B[K     |█████▏                          | 20 kB 24.3 MB/s eta 0:00:01\r\u001B[K     |███████▉                        | 30 kB 29.5 MB/s eta 0:00:01\r\u001B[K     |██████████▍                     | 40 kB 25.0 MB/s eta 0:00:01\r\u001B[K     |█████████████                   | 51 kB 19.4 MB/s eta 0:00:01\r\u001B[K     |███████████████▋                | 61 kB 15.9 MB/s eta 0:00:01\r\u001B[K     |██████████████████▏             | 71 kB 13.3 MB/s eta 0:00:01\r\u001B[K     |████████████████████▉           | 81 kB 14.7 MB/s eta 0:00:01\r\u001B[K     |███████████████████████▍        | 92 kB 12.9 MB/s eta 0:00:01\r\u001B[K     |██████████████████████████      | 102 kB 13.9 MB/s eta 0:00:01\r\u001B[K     |████████████████████████████▋   | 112 kB 13.9 MB/s eta 0:00:01\r\u001B[K     |███████████████████████████████▏| 122 kB 13.9 MB/s eta 0:00:01\r\u001B[K     |████████████████████████████████| 125 kB 13.9 MB/s \n",
      "\u001B[?25hRequirement already satisfied: requests in /usr/local/lib/python3.7/dist-packages (from vaderSentiment) (2.23.0)\n",
      "Requirement already satisfied: idna<3,>=2.5 in /usr/local/lib/python3.7/dist-packages (from requests->vaderSentiment) (2.10)\n",
      "Requirement already satisfied: certifi>=2017.4.17 in /usr/local/lib/python3.7/dist-packages (from requests->vaderSentiment) (2021.5.30)\n",
      "Requirement already satisfied: urllib3!=1.25.0,!=1.25.1,<1.26,>=1.21.1 in /usr/local/lib/python3.7/dist-packages (from requests->vaderSentiment) (1.24.3)\n",
      "Requirement already satisfied: chardet<4,>=3.0.2 in /usr/local/lib/python3.7/dist-packages (from requests->vaderSentiment) (3.0.4)\n",
      "Installing collected packages: vaderSentiment\n",
      "Successfully installed vaderSentiment-3.3.2\n"
     ]
    }
   ]
  },
  {
   "cell_type": "markdown",
   "metadata": {
    "id": "8_nDI4kDc7MR"
   },
   "source": [
    "### インポート"
   ]
  },
  {
   "cell_type": "code",
   "metadata": {
    "colab": {
     "base_uri": "https://localhost:8080/"
    },
    "id": "wzoUzNdZc7MS",
    "outputId": "1d8fb362-dec0-4783-e156-c90af62d6d2d"
   },
   "source": [
    "import re\n",
    "import string\n",
    "from pprint import pprint\n",
    "\n",
    "import nltk\n",
    "from vaderSentiment.vaderSentiment import SentimentIntensityAnalyzer\n",
    "from nltk.tokenize import RegexpTokenizer, word_tokenize\n",
    "nltk.download(\"punkt\")\n",
    "nltk.download(\"vader_lexicon\")"
   ],
   "execution_count": null,
   "outputs": [
    {
     "output_type": "stream",
     "name": "stdout",
     "text": [
      "[nltk_data] Downloading package punkt to /root/nltk_data...\n",
      "[nltk_data]   Unzipping tokenizers/punkt.zip.\n",
      "[nltk_data] Downloading package vader_lexicon to /root/nltk_data...\n"
     ]
    },
    {
     "output_type": "execute_result",
     "data": {
      "text/plain": [
       "True"
      ]
     },
     "metadata": {},
     "execution_count": 12
    }
   ]
  },
  {
   "cell_type": "markdown",
   "metadata": {
    "id": "gP4KoP8yc7MU"
   },
   "source": [
    "## VADERで分析\n",
    "\n",
    "スコアは-1から1までの間で出力されます。-1はネガティブ、1はポジティブを表しています。"
   ]
  },
  {
   "cell_type": "markdown",
   "metadata": {
    "id": "V4Jycu7cc7MT"
   },
   "source": [
    "では、解析してみましょう。"
   ]
  },
  {
   "cell_type": "code",
   "metadata": {
    "id": "TSfNCGRcc7MT"
   },
   "source": [
    "# フライドチキンが最高です。ジューシーで焼き加減も丁度いい。\n",
    "positive = \"This fried chicken tastes very good. It is juicy and perfectly cooked.\"\n",
    "\n",
    "# フライドチキンがまずい。パサパサで焼き過ぎ。\n",
    "negative = \"This fried chicken tasted bad. It is dry and overcooked.\"\n",
    "\n",
    "# フライドチキンは美味しいですが、それ以外はだめです。\n",
    "ambiguous = \"Except the amazing fried chicken everything else at the restaurant tastes very bad.\""
   ],
   "execution_count": null,
   "outputs": []
  },
  {
   "cell_type": "markdown",
   "metadata": {
    "id": "rqCH0ru1hObL"
   },
   "source": [
    "`SentimentIntensityAnalyzer`を使うことで、文に対するセンチメントのスコアを出力できます。"
   ]
  },
  {
   "cell_type": "code",
   "metadata": {
    "id": "ejxd6dklc7MV"
   },
   "source": [
    "def sentiment_analyzer_scores(text):\n",
    "    sentiment_analyzer = SentimentIntensityAnalyzer()\n",
    "    score = sentiment_analyzer.polarity_scores(text)\n",
    "    pprint(text)\n",
    "    pprint(score)\n",
    "    print(\"-\" * 30)"
   ],
   "execution_count": null,
   "outputs": []
  },
  {
   "cell_type": "code",
   "metadata": {
    "colab": {
     "base_uri": "https://localhost:8080/"
    },
    "id": "rCXxafBdc7MW",
    "outputId": "0add2208-ae9f-48b3-ba20-fd268261451b"
   },
   "source": [
    "print(\"Positive:\")\n",
    "sentiment_analyzer_scores(positive)\n",
    "\n",
    "print(\"Negative:\")\n",
    "sentiment_analyzer_scores(negative)\n",
    "\n",
    "print(\"Ambiguous:\")\n",
    "sentiment_analyzer_scores(ambiguous)"
   ],
   "execution_count": null,
   "outputs": [
    {
     "output_type": "stream",
     "name": "stdout",
     "text": [
      "Positive:\n",
      "'This fried chicken tastes very good. It is juicy and perfectly cooked.'\n",
      "{'compound': 0.8122, 'neg': 0.0, 'neu': 0.575, 'pos': 0.425}\n",
      "------------------------------\n",
      "Negative:\n",
      "'This fried chicken tasted bad. It is dry and overcooked.'\n",
      "{'compound': -0.5423, 'neg': 0.28, 'neu': 0.72, 'pos': 0.0}\n",
      "------------------------------\n",
      "Ambiguous:\n",
      "('Except the amazing fried chicken everything else at the restaurant tastes '\n",
      " 'very bad.')\n",
      "{'compound': 0.0018, 'neg': 0.204, 'neu': 0.592, 'pos': 0.204}\n",
      "------------------------------\n"
     ]
    }
   ]
  },
  {
   "cell_type": "markdown",
   "metadata": {
    "id": "6M_JnK4sc7MW"
   },
   "source": [
    "`polarity_scores`で得られるスコアを使って、各単語をポジティブ、ネガティブ、ニュートラルに分類してみましょう。"
   ]
  },
  {
   "cell_type": "code",
   "metadata": {
    "id": "UVs955qpc7MX"
   },
   "source": [
    "def get_word_sentiment(text, sentiment_analyzer):\n",
    "    tokenized_text = nltk.word_tokenize(text)\n",
    "\n",
    "    positive_words = []\n",
    "    neutral_words = []\n",
    "    negative_words = []\n",
    "    for word in tokenized_text:\n",
    "        if (sentiment_analyzer.polarity_scores(word)[\"compound\"]) >= 0.1:\n",
    "            positive_words.append(word)\n",
    "        elif (sentiment_analyzer.polarity_scores(word)[\"compound\"]) <= -0.1:\n",
    "            negative_words.append(word)\n",
    "        else:\n",
    "            neutral_words.append(word)\n",
    "    print(text)\n",
    "    print(\"Positive:\", positive_words)\n",
    "    print(\"Negative:\", negative_words)\n",
    "    print(\"Neutral:\", neutral_words)\n",
    "    print(\"-\" * 30)"
   ],
   "execution_count": null,
   "outputs": []
  },
  {
   "cell_type": "code",
   "metadata": {
    "colab": {
     "base_uri": "https://localhost:8080/"
    },
    "id": "oca4erCAc7MY",
    "outputId": "78b8ab5b-412c-4d07-c269-6a433f043d5d"
   },
   "source": [
    "sentiment_analyzer = SentimentIntensityAnalyzer()\n",
    "get_word_sentiment(positive, sentiment_analyzer)\n",
    "get_word_sentiment(negative, sentiment_analyzer)\n",
    "get_word_sentiment(ambiguous, sentiment_analyzer)"
   ],
   "execution_count": null,
   "outputs": [
    {
     "output_type": "stream",
     "name": "stdout",
     "text": [
      "This fried chicken tastes very good. It is juicy and perfectly cooked.\n",
      "Positive: ['good', 'perfectly']\n",
      "Negative: []\n",
      "Neutral: ['This', 'fried', 'chicken', 'tastes', 'very', '.', 'It', 'is', 'juicy', 'and', 'cooked', '.']\n",
      "------------------------------\n",
      "This fried chicken tasted bad. It is dry and overcooked.\n",
      "Positive: []\n",
      "Negative: ['bad']\n",
      "Neutral: ['This', 'fried', 'chicken', 'tasted', '.', 'It', 'is', 'dry', 'and', 'overcooked', '.']\n",
      "------------------------------\n",
      "Except the amazing fried chicken everything else at the restaurant tastes very bad.\n",
      "Positive: ['amazing']\n",
      "Negative: ['bad']\n",
      "Neutral: ['Except', 'the', 'fried', 'chicken', 'everything', 'else', 'at', 'the', 'restaurant', 'tastes', 'very', '.']\n",
      "------------------------------\n"
     ]
    }
   ]
  },
  {
   "cell_type": "markdown",
   "metadata": {
    "id": "IQrzPSpjjdOj"
   },
   "source": [
    "使っている辞書を更新してみましょう。認識結果が変化しています。"
   ]
  },
  {
   "cell_type": "code",
   "metadata": {
    "colab": {
     "base_uri": "https://localhost:8080/"
    },
    "id": "dODo84Y5h34K",
    "outputId": "6604fa6a-50fd-4dbc-a53e-7e7f838da514"
   },
   "source": [
    "new_words = {\n",
    "    'dry': -2.0,\n",
    "    'overcooked': -2.0,\n",
    "}\n",
    "sentiment_analyzer.lexicon.update(new_words)\n",
    "get_word_sentiment(positive, sentiment_analyzer)\n",
    "get_word_sentiment(negative, sentiment_analyzer)\n",
    "get_word_sentiment(ambiguous, sentiment_analyzer)"
   ],
   "execution_count": null,
   "outputs": [
    {
     "output_type": "stream",
     "name": "stdout",
     "text": [
      "This fried chicken tastes very good. It is juicy and perfectly cooked.\n",
      "Positive: ['good', 'perfectly']\n",
      "Negative: []\n",
      "Neutral: ['This', 'fried', 'chicken', 'tastes', 'very', '.', 'It', 'is', 'juicy', 'and', 'cooked', '.']\n",
      "------------------------------\n",
      "This fried chicken tasted bad. It is dry and overcooked.\n",
      "Positive: []\n",
      "Negative: ['bad', 'dry', 'overcooked']\n",
      "Neutral: ['This', 'fried', 'chicken', 'tasted', '.', 'It', 'is', 'and', '.']\n",
      "------------------------------\n",
      "Except the amazing fried chicken everything else at the restaurant tastes very bad.\n",
      "Positive: ['amazing']\n",
      "Negative: ['bad']\n",
      "Neutral: ['Except', 'the', 'fried', 'chicken', 'everything', 'else', 'at', 'the', 'restaurant', 'tastes', 'very', '.']\n",
      "------------------------------\n"
     ]
    }
   ]
  },
  {
   "cell_type": "markdown",
   "metadata": {
    "id": "HSMI7HFHjgdv"
   },
   "source": [
    "元に戻しておきます。"
   ]
  },
  {
   "cell_type": "code",
   "metadata": {
    "id": "7B_JcdlajPke"
   },
   "source": [
    "sentiment_analyzer.lexicon.pop(\"dry\")\n",
    "sentiment_analyzer.lexicon.pop(\"overcooked\")"
   ],
   "execution_count": null,
   "outputs": []
  }
 ]
}