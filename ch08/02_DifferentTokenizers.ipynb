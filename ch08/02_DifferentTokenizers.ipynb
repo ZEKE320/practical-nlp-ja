{
  "nbformat": 4,
  "nbformat_minor": 0,
  "metadata": {
    "colab": {
      "name": "02_DifferentTokenizers.ipynb",
      "provenance": [],
      "collapsed_sections": []
    },
    "kernelspec": {
      "display_name": "Python 3",
      "language": "python",
      "name": "python3"
    },
    "language_info": {
      "codemirror_mode": {
        "name": "ipython",
        "version": 3
      },
      "file_extension": ".py",
      "mimetype": "text/x-python",
      "name": "python",
      "nbconvert_exporter": "python",
      "pygments_lexer": "ipython3",
      "version": "3.6.10"
    }
  },
  "cells": [
    {
      "cell_type": "code",
      "metadata": {
        "colab": {
          "base_uri": "https://localhost:8080/"
        },
        "id": "IMBIGpxdvSUX",
        "outputId": "082027d5-9a10-47da-f472-99c9a4e77fc6"
      },
      "source": [
        "!pip install twikenizer==1.0 emoji==1.5.0"
      ],
      "execution_count": 1,
      "outputs": [
        {
          "output_type": "stream",
          "name": "stdout",
          "text": [
            "Collecting twikenizer\n",
            "  Downloading twikenizer-1.0.tar.gz (4.4 kB)\n",
            "Collecting emoji\n",
            "  Downloading emoji-1.5.0.tar.gz (185 kB)\n",
            "\u001b[K     |████████████████████████████████| 185 kB 2.7 MB/s \n",
            "\u001b[?25hBuilding wheels for collected packages: twikenizer, emoji\n",
            "  Building wheel for twikenizer (setup.py) ... \u001b[?25l\u001b[?25hdone\n",
            "  Created wheel for twikenizer: filename=twikenizer-1.0-py3-none-any.whl size=4851 sha256=10dfd57c7175eea6cf30c3416bc82d9077fe60008c175e163f9faede6a2977b2\n",
            "  Stored in directory: /root/.cache/pip/wheels/b2/6e/1e/8e16444d4adf9e5bb49cf3089ebbb5d81e7e51d216430afcc5\n",
            "  Building wheel for emoji (setup.py) ... \u001b[?25l\u001b[?25hdone\n",
            "  Created wheel for emoji: filename=emoji-1.5.0-py3-none-any.whl size=187457 sha256=f8d16035f46b97b8c04834735a9a108ec5789e49418336f6ca4564378fc49a37\n",
            "  Stored in directory: /root/.cache/pip/wheels/db/b5/f6/b39abf14e94b3d6640613bbe630a66c10ccf7a12882d064fb5\n",
            "Successfully built twikenizer emoji\n",
            "Installing collected packages: twikenizer, emoji\n",
            "Successfully installed emoji-1.5.0 twikenizer-1.0\n"
          ]
        }
      ]
    },
    {
      "cell_type": "code",
      "metadata": {
        "id": "Bbb26h3YduGi"
      },
      "source": [
        "tweet3 = \"Tw33t a_!aa&!a?b #%lol # @dude_really #b3st_day $ad (b@e) (beep#d) @dude. 😀😀 !😀abc %😀lol #loveit #love.it $%&/ d*ck-\""
      ],
      "execution_count": 2,
      "outputs": []
    },
    {
      "cell_type": "code",
      "metadata": {
        "colab": {
          "base_uri": "https://localhost:8080/"
        },
        "id": "hvkNxqYQd9f6",
        "outputId": "1f52302e-e081-4166-a16d-2c72589c94b4"
      },
      "source": [
        "import twikenizer as twk\n",
        "\n",
        "twk = twk.Twikenizer()\n",
        "print(twk.tokenize(tweet3))"
      ],
      "execution_count": 3,
      "outputs": [
        {
          "output_type": "stream",
          "name": "stdout",
          "text": [
            "['Tw33t', 'a', '_', '!', 'aa', '&', '!', 'a', '?', 'b', '#%lol', '#', '@dude_really', '#b3st_day', '$ad', '(', 'b', '@', 'e', ')', '(', 'beep', '#', 'd', ')', '@dude', '.', '😀', '😀', '!', '😀', 'abc', '%', '😀', 'lol', '#loveit', '#love', '.', 'it', '$', '%', '&', '/', 'd*ck', '-']\n"
          ]
        }
      ]
    },
    {
      "cell_type": "code",
      "metadata": {
        "colab": {
          "base_uri": "https://localhost:8080/"
        },
        "id": "YQsVP30nqXn2",
        "outputId": "2a5c8151-e038-4c10-ea38-a14df06f5cc7"
      },
      "source": [
        "from nltk.tokenize import TweetTokenizer\n",
        "\n",
        "tknzr = TweetTokenizer()\n",
        "print(tknzr.tokenize(tweet3))"
      ],
      "execution_count": 4,
      "outputs": [
        {
          "output_type": "stream",
          "name": "stdout",
          "text": [
            "['Tw33t', 'a_', '!', 'aa', '&', '!', 'a', '?', 'b', '#', '%', 'lol', '#', '@dude_really', '#b3st_day', '$', 'ad', '(', 'b', '@e', ')', '(', 'beep', '#', 'd', ')', '@dude', '.', '😀', '😀', '!', '😀', 'abc', '%', '😀', 'lol', '#loveit', '#love', '.', 'it', '$', '%', '&', '/', 'd', '*', 'ck', '-']\n"
          ]
        }
      ]
    },
    {
      "cell_type": "code",
      "metadata": {
        "id": "qBx-x_aqNjJX"
      },
      "source": [
        ""
      ],
      "execution_count": null,
      "outputs": []
    }
  ]
}