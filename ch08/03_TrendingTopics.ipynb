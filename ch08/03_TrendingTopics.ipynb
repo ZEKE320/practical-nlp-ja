{
  "nbformat": 4,
  "nbformat_minor": 0,
  "metadata": {
    "colab": {
      "name": "03_TrendingTopics.ipynb",
      "provenance": [],
      "collapsed_sections": []
    },
    "kernelspec": {
      "name": "python3",
      "display_name": "Python 3"
    }
  },
  "cells": [
    {
      "cell_type": "markdown",
      "metadata": {
        "id": "6IM1xuTnGlPs"
      },
      "source": [
        "# トレンドトピック\n",
        "\n",
        "このノートブックでは、ある場所のトレンドトピックにアクセスする方法を紹介します。前提として、Twitter Developer Accountが必要です。持っていない場合は、以下のサイトから取得方法を確認できます。\n",
        "\n",
        "- [Obtaining and using access tokens](https://cran.r-project.org/web/packages/rtweet/vignettes/auth.html)"
      ]
    },
    {
      "cell_type": "code",
      "metadata": {
        "colab": {
          "base_uri": "https://localhost:8080/"
        },
        "id": "SiJcV8E9RX98",
        "outputId": "4c61aa61-a0fe-4f8c-e3f1-8ad7f8801a28"
      },
      "source": [
        "!pip install -q tweepy==3.10.0"
      ],
      "execution_count": 1,
      "outputs": [
        {
          "output_type": "stream",
          "name": "stdout",
          "text": [
            "Requirement already satisfied: tweepy in /usr/local/lib/python3.7/dist-packages (3.10.0)\n",
            "Requirement already satisfied: requests[socks]>=2.11.1 in /usr/local/lib/python3.7/dist-packages (from tweepy) (2.23.0)\n",
            "Requirement already satisfied: requests-oauthlib>=0.7.0 in /usr/local/lib/python3.7/dist-packages (from tweepy) (1.3.0)\n",
            "Requirement already satisfied: six>=1.10.0 in /usr/local/lib/python3.7/dist-packages (from tweepy) (1.15.0)\n",
            "Requirement already satisfied: oauthlib>=3.0.0 in /usr/local/lib/python3.7/dist-packages (from requests-oauthlib>=0.7.0->tweepy) (3.1.1)\n",
            "Requirement already satisfied: certifi>=2017.4.17 in /usr/local/lib/python3.7/dist-packages (from requests[socks]>=2.11.1->tweepy) (2021.5.30)\n",
            "Requirement already satisfied: chardet<4,>=3.0.2 in /usr/local/lib/python3.7/dist-packages (from requests[socks]>=2.11.1->tweepy) (3.0.4)\n",
            "Requirement already satisfied: urllib3!=1.25.0,!=1.25.1,<1.26,>=1.21.1 in /usr/local/lib/python3.7/dist-packages (from requests[socks]>=2.11.1->tweepy) (1.24.3)\n",
            "Requirement already satisfied: idna<3,>=2.5 in /usr/local/lib/python3.7/dist-packages (from requests[socks]>=2.11.1->tweepy) (2.10)\n",
            "Requirement already satisfied: PySocks!=1.5.7,>=1.5.6 in /usr/local/lib/python3.7/dist-packages (from requests[socks]>=2.11.1->tweepy) (1.7.1)\n"
          ]
        }
      ]
    },
    {
      "cell_type": "code",
      "metadata": {
        "id": "SSKP1W_7p7vL"
      },
      "source": [
        "import json\n",
        "\n",
        "import tweepy"
      ],
      "execution_count": 2,
      "outputs": []
    },
    {
      "cell_type": "code",
      "metadata": {
        "id": "toSpm2I4BeTH"
      },
      "source": [
        "# setting all the credentials of your twitter developer account\n",
        "CONSUMER_KEY = \"insert your customer key\"\n",
        "CONSUMER_SECRET = \"insert your customer secrect key\"\n",
        "ACCESS_KEY = \"insert your access key here\"\n",
        "ACCESS_SECRET = \"insert your access secret key here\""
      ],
      "execution_count": 11,
      "outputs": []
    },
    {
      "cell_type": "code",
      "metadata": {
        "id": "oiNcCJPiBfDW"
      },
      "source": [
        "# granting access to your twitter account\n",
        "auth = tweepy.OAuthHandler(CONSUMER_KEY, CONSUMER_SECRET)\n",
        "auth.set_access_token(ACCESS_KEY, ACCESS_SECRET)\n",
        "api = tweepy.API(auth)"
      ],
      "execution_count": 4,
      "outputs": []
    },
    {
      "cell_type": "code",
      "metadata": {
        "id": "wAM5FWYPBix2",
        "colab": {
          "base_uri": "https://localhost:8080/"
        },
        "outputId": "f40b1b7f-ffb8-437c-9d9a-b4025814d21d"
      },
      "source": [
        "# A WOEID (Where On Earth IDentifier) is a unique 32-bit reference identifier\n",
        "\n",
        "WORLD_WOE_ID = 1\n",
        "TOKYO_WOE_ID = 1118370\n",
        "\n",
        "# fetching trending topics in tokyo\n",
        "tokyo_trends = api.trends_place(TOKYO_WOE_ID)\n",
        "\n",
        "tokyo_trend_list = []\n",
        "for trend in tokyo_trends[0][\"trends\"]:\n",
        "    tokyo_trend_list.append(trend[\"name\"].strip(\"#\"))\n",
        "\n",
        "# fetching trending topics in the world\n",
        "world_trends = api.trends_place(WORLD_WOE_ID)\n",
        "\n",
        "world_trend_list = []\n",
        "for trend in world_trends[0][\"trends\"]:\n",
        "    world_trend_list.append(trend[\"name\"].strip(\"#\"))\n",
        "\n",
        "# printing the topics which are trending in both WORLD and TOKYO\n",
        "print(set(world_trend_list).intersection(set(tokyo_trend_list)))"
      ],
      "execution_count": 10,
      "outputs": [
        {
          "output_type": "stream",
          "name": "stdout",
          "text": [
            "{'無限CM編', 'ジュンくん', '無賃乗車', '煉獄さん', '猗窩座戦', '石田さん', 'れんごくさん', 'Eden', 'CM無し', 'ノーカット', '鬼滅の映画', 'フジテレビ', '俺の家族', '各駅停車', 'CM多すぎ', 'CMなし'}\n"
          ]
        }
      ]
    },
    {
      "cell_type": "code",
      "metadata": {
        "id": "PtL_1xLQRkOt"
      },
      "source": [
        ""
      ],
      "execution_count": null,
      "outputs": []
    }
  ]
}