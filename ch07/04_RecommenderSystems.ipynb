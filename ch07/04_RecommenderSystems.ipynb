{
 "nbformat": 4,
 "nbformat_minor": 0,
 "metadata": {
  "kernelspec": {
   "display_name": "Python 3",
   "language": "python",
   "name": "python3"
  },
  "language_info": {
   "codemirror_mode": {
    "name": "ipython",
    "version": 3
   },
   "file_extension": ".py",
   "mimetype": "text/x-python",
   "name": "python",
   "nbconvert_exporter": "python",
   "pygments_lexer": "ipython3",
   "version": "3.5.6"
  },
  "colab": {
   "name": "04_RecommenderSystems.ipynb",
   "provenance": [],
   "collapsed_sections": []
  }
 },
 "cells": [
  {
   "cell_type": "markdown",
   "metadata": {
    "id": "9ulFRuixcfUZ"
   },
   "source": [
    "# Doc2Vecを用いた推薦システム\n",
    "\n",
    "このノートブックでは、Doc2Vecを用いて推薦システムを構築する方法を紹介します。データセットとしては「[CMU Book Summary Dataset](https://www.cs.cmu.edu/~dbamman/booksummaries.html)」を使います。このデータセットは、Wikipediaから16,559冊の本のあらすじを抽出して作成されています。タブ区切りで、以下の情報が格納されています。\n",
    "\n",
    "1. Wikipedia article ID\n",
    "2. Freebase ID\n",
    "3. Book title\n",
    "4. Author\n",
    "5. Publication date\n",
    "6. Book genres (Freebase ID:name tuples)\n",
    "7. Plot summary\n"
   ]
  },
  {
   "cell_type": "markdown",
   "metadata": {
    "id": "fN8T7Ka-dkWi"
   },
   "source": [
    "## 準備"
   ]
  },
  {
   "cell_type": "markdown",
   "metadata": {
    "id": "Jk5E1T6jdlzJ"
   },
   "source": [
    "### パッケージのインストール"
   ]
  },
  {
   "cell_type": "code",
   "metadata": {
    "colab": {
     "base_uri": "https://localhost:8080/"
    },
    "id": "4PXkDjnNcfUe",
    "outputId": "4e02e029-f96f-4d69-ad0d-068d25e816dd"
   },
   "source": [
    "!pip install -q nltk==3.2.5 gensim==4.1.2 pandas==1.1.5"
   ],
   "execution_count": 1,
   "outputs": [
    {
     "output_type": "stream",
     "name": "stdout",
     "text": [
      "\u001B[K     |████████████████████████████████| 24.1 MB 1.7 MB/s \n",
      "\u001B[?25h"
     ]
    }
   ]
  },
  {
   "cell_type": "markdown",
   "metadata": {
    "id": "ewrr2l8gdpz8"
   },
   "source": [
    "### インポート"
   ]
  },
  {
   "cell_type": "code",
   "metadata": {
    "colab": {
     "base_uri": "https://localhost:8080/"
    },
    "id": "1oRoLFsJcfUi",
    "outputId": "f7d12387-5c63-44ca-d7ab-d9b53370b8dc"
   },
   "source": [
    "from pprint import pprint\n",
    "\n",
    "import nltk\n",
    "import pandas as pd\n",
    "from gensim.models.doc2vec import Doc2Vec, TaggedDocument\n",
    "from nltk.tokenize import word_tokenize\n",
    "nltk.download(\"punkt\")"
   ],
   "execution_count": 15,
   "outputs": [
    {
     "output_type": "stream",
     "name": "stdout",
     "text": [
      "[nltk_data] Downloading package punkt to /root/nltk_data...\n",
      "[nltk_data]   Package punkt is already up-to-date!\n"
     ]
    },
    {
     "output_type": "execute_result",
     "data": {
      "text/plain": [
       "True"
      ]
     },
     "metadata": {},
     "execution_count": 15
    }
   ]
  },
  {
   "cell_type": "markdown",
   "metadata": {
    "id": "suTKpKm5dwXD"
   },
   "source": [
    "### データセットの準備"
   ]
  },
  {
   "cell_type": "markdown",
   "metadata": {
    "id": "6_TcTRIQdzJn"
   },
   "source": [
    "まずは、データセットをダウンロードして展開します。"
   ]
  },
  {
   "cell_type": "code",
   "metadata": {
    "colab": {
     "base_uri": "https://localhost:8080/"
    },
    "id": "qNmPOVISdyWI",
    "outputId": "49cbe627-30c7-428f-ba01-c59123aca0fd"
   },
   "source": [
    "!wget https://www.cs.cmu.edu/~dbamman/data/booksummaries.tar.gz\n",
    "!tar xvfz booksummaries.tar.gz"
   ],
   "execution_count": 3,
   "outputs": [
    {
     "output_type": "stream",
     "name": "stdout",
     "text": [
      "--2021-09-26 09:50:39--  https://www.cs.cmu.edu/~dbamman/data/booksummaries.tar.gz\n",
      "Resolving www.cs.cmu.edu (www.cs.cmu.edu)... 128.2.42.95\n",
      "Connecting to www.cs.cmu.edu (www.cs.cmu.edu)|128.2.42.95|:443... connected.\n",
      "HTTP request sent, awaiting response... 200 OK\n",
      "Length: 16795330 (16M) [application/x-gzip]\n",
      "Saving to: ‘booksummaries.tar.gz’\n",
      "\n",
      "booksummaries.tar.g 100%[===================>]  16.02M   385KB/s    in 33s     \n",
      "\n",
      "2021-09-26 09:51:12 (502 KB/s) - ‘booksummaries.tar.gz’ saved [16795330/16795330]\n",
      "\n",
      "booksummaries/\n",
      "booksummaries/README\n",
      "booksummaries/booksummaries.txt\n"
     ]
    }
   ]
  },
  {
   "cell_type": "markdown",
   "metadata": {
    "id": "I1HaSsrSd4iR"
   },
   "source": [
    "中身を確認しておきましょう。"
   ]
  },
  {
   "cell_type": "code",
   "metadata": {
    "colab": {
     "base_uri": "https://localhost:8080/"
    },
    "id": "_zLQANWpd7dE",
    "outputId": "3cba81d0-2163-4045-e109-ef4ad285ed2e"
   },
   "source": [
    "!head -1 booksummaries/booksummaries.txt"
   ],
   "execution_count": 4,
   "outputs": [
    {
     "output_type": "stream",
     "name": "stdout",
     "text": [
      "620\t/m/0hhy\tAnimal Farm\tGeorge Orwell\t1945-08-17\t{\"/m/016lj8\": \"Roman \\u00e0 clef\", \"/m/06nbt\": \"Satire\", \"/m/0dwly\": \"Children's literature\", \"/m/014dfn\": \"Speculative fiction\", \"/m/02xlf\": \"Fiction\"}\t Old Major, the old boar on the Manor Farm, calls the animals on the farm for a meeting, where he compares the humans to parasites and teaches the animals a revolutionary song, 'Beasts of England'. When Major dies, two young pigs, Snowball and Napoleon, assume command and turn his dream into a philosophy. The animals revolt and drive the drunken and irresponsible Mr Jones from the farm, renaming it \"Animal Farm\". They adopt Seven Commandments of Animal-ism, the most important of which is, \"All animals are equal\". Snowball attempts to teach the animals reading and writing; food is plentiful, and the farm runs smoothly. The pigs elevate themselves to positions of leadership and set aside special food items, ostensibly for their personal health. Napoleon takes the pups from the farm dogs and trains them privately. Napoleon and Snowball struggle for leadership. When Snowball announces his plans to build a windmill, Napoleon has his dogs chase Snowball away and declares himself leader. Napoleon enacts changes to the governance structure of the farm, replacing meetings with a committee of pigs, who will run the farm. Using a young pig named Squealer as a \"mouthpiece\", Napoleon claims credit for the windmill idea. The animals work harder with the promise of easier lives with the windmill. After a violent storm, the animals find the windmill annihilated. Napoleon and Squealer convince the animals that Snowball destroyed it, although the scorn of the neighbouring farmers suggests that its walls were too thin. Once Snowball becomes a scapegoat, Napoleon begins purging the farm with his dogs, killing animals he accuses of consorting with his old rival. He and the pigs abuse their power, imposing more control while reserving privileges for themselves and rewriting history, villainising Snowball and glorifying Napoleon. Squealer justifies every statement Napoleon makes, even the pigs' alteration of the Seven Commandments of Animalism to benefit themselves. 'Beasts of England' is replaced by an anthem glorifying Napoleon, who appears to be adopting the lifestyle of a man. The animals remain convinced that they are better off than they were when under Mr Jones. Squealer abuses the animals' poor memories and invents numbers to show their improvement. Mr Frederick, one of the neighbouring farmers, attacks the farm, using blasting powder to blow up the restored windmill. Though the animals win the battle, they do so at great cost, as many, including Boxer the workhorse, are wounded. Despite his injuries, Boxer continues working harder and harder, until he collapses while working on the windmill. Napoleon sends for a van to take Boxer to the veterinary surgeon's, explaining that better care can be given there. Benjamin, the cynical donkey, who \"could read as well as any pig\", notices that the van belongs to a knacker, and attempts to mount a rescue; but the animals' attempts are futile. Squealer reports that the van was purchased by the hospital and the writing from the previous owner had not been repainted. He recounts a tale of Boxer's death in the hands of the best medical care. Years pass, and the pigs learn to walk upright, carry whips and wear clothes. The Seven Commandments are reduced to a single phrase: \"All animals are equal, but some animals are more equal than others\". Napoleon holds a dinner party for the pigs and the humans of the area, who congratulate Napoleon on having the hardest-working but least fed animals in the country. Napoleon announces an alliance with the humans, against the labouring classes of both \"worlds\". He abolishes practices and traditions related to the Revolution, and changes the name of the farm to \"The Manor Farm\". The animals, overhearing the conversation, notice that the faces of the pigs have begun changing. During a poker match, an argument breaks out between Napoleon and Mr Pilkington, and the animals realise that the faces of the pigs look like the faces of humans, and no one can tell the difference between them. The pigs Snowball, Napoleon, and Squealer adapt Old Major's ideas into an actual philosophy, which they formally name Animalism. Soon after, Napoleon and Squealer indulge in the vices of humans (drinking alcohol, sleeping in beds, trading). Squealer is employed to alter the Seven Commandments to account for this humanisation, an allusion to the Soviet government's revising of history in order to exercise control of the people's beliefs about themselves and their society. The original commandments are: # Whatever goes upon two legs is an enemy. # Whatever goes upon four legs, or has wings, is a friend. # No animal shall wear clothes. # No animal shall sleep in a bed. # No animal shall drink alcohol. # No animal shall kill any other animal. # All animals are equal. Later, Napoleon and his pigs secretly revise some commandments to clear them of accusations of law-breaking (such as \"No animal shall drink alcohol\" having \"to excess\" appended to it and \"No animal shall sleep in a bed\" with \"with sheets\" added to it). The changed commandments are as follows, with the changes bolded: * 4 No animal shall sleep in a bed with sheets. * 5 No animal shall drink alcohol to excess. * 6 No animal shall kill any other animal without cause. Eventually these are replaced with the maxims, \"All animals are equal, but some animals are more equal than others\", and \"Four legs good, two legs better!\" as the pigs become more human. This is an ironic twist to the original purpose of the Seven Commandments, which were supposed to keep order within Animal Farm by uniting the animals together against the humans, and prevent animals from following the humans' evil habits. Through the revision of the commandments, Orwell demonstrates how simply political dogma can be turned into malleable propaganda.\n"
     ]
    }
   ]
  },
  {
   "cell_type": "markdown",
   "metadata": {
    "id": "v2S4V6erd6OU"
   },
   "source": [
    "タブ区切りなので、pandasの`read_csv`で読み込んでしまいましょう。"
   ]
  },
  {
   "cell_type": "code",
   "metadata": {
    "colab": {
     "base_uri": "https://localhost:8080/",
     "height": 204
    },
    "id": "PL7a_NGveBDC",
    "outputId": "8029bde4-ce34-4767-fecd-c086f87fcecd"
   },
   "source": [
    "df = pd.read_csv(\n",
    "    \"booksummaries/booksummaries.txt\",\n",
    "    sep=\"\\t\",\n",
    "    encoding=\"utf-8\",\n",
    "    names=[\"wikipediaId\", \"freebaseId\", \"title\", \"author\", \"date\", \"genres\", \"summary\"]\n",
    ")\n",
    "df.head()"
   ],
   "execution_count": 7,
   "outputs": [
    {
     "output_type": "execute_result",
     "data": {
      "text/html": [
       "<div>\n",
       "<style scoped>\n",
       "    .dataframe tbody tr th:only-of-type {\n",
       "        vertical-align: middle;\n",
       "    }\n",
       "\n",
       "    .dataframe tbody tr th {\n",
       "        vertical-align: top;\n",
       "    }\n",
       "\n",
       "    .dataframe thead th {\n",
       "        text-align: right;\n",
       "    }\n",
       "</style>\n",
       "<table border=\"1\" class=\"dataframe\">\n",
       "  <thead>\n",
       "    <tr style=\"text-align: right;\">\n",
       "      <th></th>\n",
       "      <th>wikipediaId</th>\n",
       "      <th>freebaseId</th>\n",
       "      <th>title</th>\n",
       "      <th>author</th>\n",
       "      <th>date</th>\n",
       "      <th>genres</th>\n",
       "      <th>summary</th>\n",
       "    </tr>\n",
       "  </thead>\n",
       "  <tbody>\n",
       "    <tr>\n",
       "      <th>0</th>\n",
       "      <td>620</td>\n",
       "      <td>/m/0hhy</td>\n",
       "      <td>Animal Farm</td>\n",
       "      <td>George Orwell</td>\n",
       "      <td>1945-08-17</td>\n",
       "      <td>{\"/m/016lj8\": \"Roman \\u00e0 clef\", \"/m/06nbt\":...</td>\n",
       "      <td>Old Major, the old boar on the Manor Farm, ca...</td>\n",
       "    </tr>\n",
       "    <tr>\n",
       "      <th>1</th>\n",
       "      <td>843</td>\n",
       "      <td>/m/0k36</td>\n",
       "      <td>A Clockwork Orange</td>\n",
       "      <td>Anthony Burgess</td>\n",
       "      <td>1962</td>\n",
       "      <td>{\"/m/06n90\": \"Science Fiction\", \"/m/0l67h\": \"N...</td>\n",
       "      <td>Alex, a teenager living in near-future Englan...</td>\n",
       "    </tr>\n",
       "    <tr>\n",
       "      <th>2</th>\n",
       "      <td>986</td>\n",
       "      <td>/m/0ldx</td>\n",
       "      <td>The Plague</td>\n",
       "      <td>Albert Camus</td>\n",
       "      <td>1947</td>\n",
       "      <td>{\"/m/02m4t\": \"Existentialism\", \"/m/02xlf\": \"Fi...</td>\n",
       "      <td>The text of The Plague is divided into five p...</td>\n",
       "    </tr>\n",
       "    <tr>\n",
       "      <th>3</th>\n",
       "      <td>1756</td>\n",
       "      <td>/m/0sww</td>\n",
       "      <td>An Enquiry Concerning Human Understanding</td>\n",
       "      <td>David Hume</td>\n",
       "      <td>NaN</td>\n",
       "      <td>NaN</td>\n",
       "      <td>The argument of the Enquiry proceeds by a ser...</td>\n",
       "    </tr>\n",
       "    <tr>\n",
       "      <th>4</th>\n",
       "      <td>2080</td>\n",
       "      <td>/m/0wkt</td>\n",
       "      <td>A Fire Upon the Deep</td>\n",
       "      <td>Vernor Vinge</td>\n",
       "      <td>NaN</td>\n",
       "      <td>{\"/m/03lrw\": \"Hard science fiction\", \"/m/06n90...</td>\n",
       "      <td>The novel posits that space around the Milky ...</td>\n",
       "    </tr>\n",
       "  </tbody>\n",
       "</table>\n",
       "</div>"
      ],
      "text/plain": [
       "   wikipediaId  ...                                            summary\n",
       "0          620  ...   Old Major, the old boar on the Manor Farm, ca...\n",
       "1          843  ...   Alex, a teenager living in near-future Englan...\n",
       "2          986  ...   The text of The Plague is divided into five p...\n",
       "3         1756  ...   The argument of the Enquiry proceeds by a ser...\n",
       "4         2080  ...   The novel posits that space around the Milky ...\n",
       "\n",
       "[5 rows x 7 columns]"
      ]
     },
     "metadata": {},
     "execution_count": 7
    }
   ]
  },
  {
   "cell_type": "markdown",
   "metadata": {
    "id": "PbExhmEfeS-G"
   },
   "source": [
    "## 前処理\n",
    "\n",
    "Doc2vecで学習するために、テキストを単語に分割し、`TaggedDocument`のリストを作成しましょう。`TaggedDocument`はDoc2vecのためのフォーマットで、単語のリストとタグから構成されています。今回は、タグとして、本のタイトルを使いましょう。"
   ]
  },
  {
   "cell_type": "code",
   "metadata": {
    "id": "cpx_1DO7hHLl"
   },
   "source": [
    "train_doc2vec = [\n",
    "    TaggedDocument((word_tokenize(row.summary)), tags=[row.title])\n",
    "    for index, row in df.iterrows()\n",
    "]"
   ],
   "execution_count": 10,
   "outputs": []
  },
  {
   "cell_type": "markdown",
   "metadata": {
    "id": "25QrS22jhqtu"
   },
   "source": [
    "## モデルの学習"
   ]
  },
  {
   "cell_type": "code",
   "metadata": {
    "id": "NFjycCd6cfUk"
   },
   "source": [
    "model = Doc2Vec(vector_size=50, alpha=0.025, min_count=10, dm=1, epochs=100)\n",
    "model.build_vocab(train_doc2vec)\n",
    "model.train(train_doc2vec, total_examples=model.corpus_count, epochs=model.epochs)\n",
    "model.save(\"d2v.model\")"
   ],
   "execution_count": 12,
   "outputs": []
  },
  {
   "cell_type": "markdown",
   "metadata": {
    "id": "2kc0l7_0h2ph"
   },
   "source": [
    "## 本の推薦\n",
    "\n",
    "では、学習したモデルを使って、本を推薦してみましょう。ここでは、与えた文に類似した本のタイトルを、その類似度とともに表示します。"
   ]
  },
  {
   "cell_type": "code",
   "metadata": {
    "id": "mDQmvByriFI7"
   },
   "source": [
    "# 学習したモデルの読み込み\n",
    "model = Doc2Vec.load(\"d2v.model\")"
   ],
   "execution_count": 14,
   "outputs": []
  },
  {
   "cell_type": "code",
   "metadata": {
    "colab": {
     "base_uri": "https://localhost:8080/"
    },
    "id": "i5BqXQ35cfUl",
    "outputId": "6dbcb5be-64cd-48fa-c4a7-59e6f9976ce5"
   },
   "source": [
    "# Wikipediaの『動物牧場』のサマリから抽出した文\n",
    "# https://en.wikipedia.org/wiki/Animal_Farm\n",
    "sample = \"\"\"\n",
    "Napoleon enacts changes to the governance structure of the farm, replacing meetings with a committee of pigs who will run the farm.\n",
    "\"\"\"\n",
    "new_vector = model.infer_vector(word_tokenize(sample))\n",
    "sims = model.dv.most_similar([new_vector])\n",
    "pprint(sims)"
   ],
   "execution_count": 17,
   "outputs": [
    {
     "output_type": "stream",
     "name": "stdout",
     "text": [
      "[('Animal Farm', 0.6877216100692749),\n",
      " ('The Wild Irish Girl', 0.6764125227928162),\n",
      " ('Ponni', 0.6193090677261353),\n",
      " ('Walk in My Soul', 0.5841655731201172),\n",
      " ('Sweet Thursday', 0.5803889036178589),\n",
      " ('Payback: Debt and the Shadow Side of Wealth', 0.5785144567489624),\n",
      " (\"Family Guy: Stewie's Guide to World Domination\", 0.5723893642425537),\n",
      " ('Ọba kò so', 0.5715106725692749),\n",
      " (\"Snowball's Chance\", 0.5708845853805542),\n",
      " ('The Evil Empire: 101 Ways That England Ruined the World',\n",
      "  0.5648933053016663)]\n"
     ]
    }
   ]
  },
  {
   "cell_type": "markdown",
   "metadata": {
    "id": "WomP6OMVnyd7"
   },
   "source": [
    "最近では、[Universal Sentence Encoder](https://tfhub.dev/google/universal-sentence-encoder-multilingual/3)や[LaBSE](https://tfhub.dev/google/LaBSE/2)など、多言語に対応した埋め込みを生成できるモデルもあるので、そのようなモデルを試してみるのも面白いでしょう。"
   ]
  },
  {
   "cell_type": "code",
   "metadata": {
    "id": "-xg2egbScfUm"
   },
   "source": [
    ""
   ],
   "execution_count": null,
   "outputs": []
  }
 ]
}