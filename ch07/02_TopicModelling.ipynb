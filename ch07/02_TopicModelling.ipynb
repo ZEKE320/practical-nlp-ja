{
 "nbformat": 4,
 "nbformat_minor": 0,
 "metadata": {
  "kernelspec": {
   "display_name": "Python 3",
   "language": "python",
   "name": "python3"
  },
  "language_info": {
   "codemirror_mode": {
    "name": "ipython",
    "version": 3
   },
   "file_extension": ".py",
   "mimetype": "text/x-python",
   "name": "python",
   "nbconvert_exporter": "python",
   "pygments_lexer": "ipython3",
   "version": "3.6.10"
  },
  "colab": {
   "name": "02_TopicModelling.ipynb",
   "provenance": []
  }
 },
 "cells": [
  {
   "cell_type": "markdown",
   "metadata": {
    "id": "blDqRZQE5bmN"
   },
   "source": [
    "# gensimを用いたトピックモデルの学習\n",
    "\n",
    "このノートブックでは、gensimを使ってLDAのデモをします。データセットのリンクは、第7章の`data`フォルダの下にある`BookSummaries_Link.md`をご確認ください。"
   ]
  },
  {
   "cell_type": "markdown",
   "metadata": {
    "id": "TgO68aXE6Qou"
   },
   "source": [
    "## 準備"
   ]
  },
  {
   "cell_type": "markdown",
   "metadata": {
    "id": "4gK5TWRy6Sx3"
   },
   "source": [
    "### パッケージのインストール"
   ]
  },
  {
   "cell_type": "code",
   "metadata": {
    "colab": {
     "base_uri": "https://localhost:8080/"
    },
    "id": "UPHO2Njl5bmT",
    "outputId": "ffd48065-3a9d-41f2-dd65-2d2d5b1911bf"
   },
   "source": [
    "!pip install -q nltk==3.2.5 gensim==4.1.2 pandas==1.1.5"
   ],
   "execution_count": 5,
   "outputs": [
    {
     "output_type": "stream",
     "name": "stdout",
     "text": [
      "Requirement already satisfied: nltk==3.2.5 in /usr/local/lib/python3.7/dist-packages (3.2.5)\n",
      "Requirement already satisfied: gensim in /usr/local/lib/python3.7/dist-packages (3.6.0)\n",
      "Collecting gensim\n",
      "  Downloading gensim-4.1.2-cp37-cp37m-manylinux_2_12_x86_64.manylinux2010_x86_64.whl (24.1 MB)\n",
      "\u001B[K     |████████████████████████████████| 24.1 MB 2.6 kB/s \n",
      "\u001B[?25hRequirement already satisfied: six in /usr/local/lib/python3.7/dist-packages (from nltk==3.2.5) (1.15.0)\n",
      "Requirement already satisfied: numpy>=1.17.0 in /usr/local/lib/python3.7/dist-packages (from gensim) (1.19.5)\n",
      "Requirement already satisfied: scipy>=0.18.1 in /usr/local/lib/python3.7/dist-packages (from gensim) (1.4.1)\n",
      "Requirement already satisfied: smart-open>=1.8.1 in /usr/local/lib/python3.7/dist-packages (from gensim) (5.2.1)\n",
      "Installing collected packages: gensim\n",
      "  Attempting uninstall: gensim\n",
      "    Found existing installation: gensim 3.6.0\n",
      "    Uninstalling gensim-3.6.0:\n",
      "      Successfully uninstalled gensim-3.6.0\n",
      "Successfully installed gensim-4.1.2\n"
     ]
    }
   ]
  },
  {
   "cell_type": "markdown",
   "metadata": {
    "id": "5HvWiOPR6Wdi"
   },
   "source": [
    "### インポート"
   ]
  },
  {
   "cell_type": "code",
   "metadata": {
    "colab": {
     "base_uri": "https://localhost:8080/"
    },
    "id": "nM4tCdE35bmW",
    "outputId": "37894896-bfa8-4eaa-a70c-fa17a87c111b"
   },
   "source": [
    "from pprint import pprint\n",
    "\n",
    "import nltk\n",
    "import pandas as pd\n",
    "import spacy\n",
    "from gensim.corpora import Dictionary\n",
    "from gensim.models import LdaModel, LsiModel\n",
    "from nltk.corpus import stopwords\n",
    "from nltk.tokenize import word_tokenize\n",
    "nltk.download(\"stopwords\")\n",
    "nltk.download(\"punkt\")"
   ],
   "execution_count": 53,
   "outputs": [
    {
     "output_type": "stream",
     "name": "stdout",
     "text": [
      "[nltk_data] Downloading package stopwords to /root/nltk_data...\n",
      "[nltk_data]   Package stopwords is already up-to-date!\n",
      "[nltk_data] Downloading package punkt to /root/nltk_data...\n",
      "[nltk_data]   Package punkt is already up-to-date!\n"
     ]
    },
    {
     "output_type": "execute_result",
     "data": {
      "text/plain": [
       "True"
      ]
     },
     "metadata": {},
     "execution_count": 53
    }
   ]
  },
  {
   "cell_type": "code",
   "metadata": {
    "colab": {
     "base_uri": "https://localhost:8080/"
    },
    "id": "8p5_nI_JlicH",
    "outputId": "7227b441-6f90-463e-ce47-a25077cbf90b"
   },
   "source": [
    "!python -m spacy download en_core_web_sm"
   ],
   "execution_count": 54,
   "outputs": [
    {
     "output_type": "stream",
     "name": "stdout",
     "text": [
      "Collecting en_core_web_sm==2.2.5\n",
      "  Downloading https://github.com/explosion/spacy-models/releases/download/en_core_web_sm-2.2.5/en_core_web_sm-2.2.5.tar.gz (12.0 MB)\n",
      "\u001B[K     |████████████████████████████████| 12.0 MB 3.7 MB/s \n",
      "\u001B[?25hRequirement already satisfied: spacy>=2.2.2 in /usr/local/lib/python3.7/dist-packages (from en_core_web_sm==2.2.5) (2.2.4)\n",
      "Requirement already satisfied: plac<1.2.0,>=0.9.6 in /usr/local/lib/python3.7/dist-packages (from spacy>=2.2.2->en_core_web_sm==2.2.5) (1.1.3)\n",
      "Requirement already satisfied: preshed<3.1.0,>=3.0.2 in /usr/local/lib/python3.7/dist-packages (from spacy>=2.2.2->en_core_web_sm==2.2.5) (3.0.5)\n",
      "Requirement already satisfied: requests<3.0.0,>=2.13.0 in /usr/local/lib/python3.7/dist-packages (from spacy>=2.2.2->en_core_web_sm==2.2.5) (2.23.0)\n",
      "Requirement already satisfied: cymem<2.1.0,>=2.0.2 in /usr/local/lib/python3.7/dist-packages (from spacy>=2.2.2->en_core_web_sm==2.2.5) (2.0.5)\n",
      "Requirement already satisfied: srsly<1.1.0,>=1.0.2 in /usr/local/lib/python3.7/dist-packages (from spacy>=2.2.2->en_core_web_sm==2.2.5) (1.0.5)\n",
      "Requirement already satisfied: murmurhash<1.1.0,>=0.28.0 in /usr/local/lib/python3.7/dist-packages (from spacy>=2.2.2->en_core_web_sm==2.2.5) (1.0.5)\n",
      "Requirement already satisfied: catalogue<1.1.0,>=0.0.7 in /usr/local/lib/python3.7/dist-packages (from spacy>=2.2.2->en_core_web_sm==2.2.5) (1.0.0)\n",
      "Requirement already satisfied: blis<0.5.0,>=0.4.0 in /usr/local/lib/python3.7/dist-packages (from spacy>=2.2.2->en_core_web_sm==2.2.5) (0.4.1)\n",
      "Requirement already satisfied: setuptools in /usr/local/lib/python3.7/dist-packages (from spacy>=2.2.2->en_core_web_sm==2.2.5) (57.4.0)\n",
      "Requirement already satisfied: numpy>=1.15.0 in /usr/local/lib/python3.7/dist-packages (from spacy>=2.2.2->en_core_web_sm==2.2.5) (1.19.5)\n",
      "Requirement already satisfied: tqdm<5.0.0,>=4.38.0 in /usr/local/lib/python3.7/dist-packages (from spacy>=2.2.2->en_core_web_sm==2.2.5) (4.62.2)\n",
      "Requirement already satisfied: thinc==7.4.0 in /usr/local/lib/python3.7/dist-packages (from spacy>=2.2.2->en_core_web_sm==2.2.5) (7.4.0)\n",
      "Requirement already satisfied: wasabi<1.1.0,>=0.4.0 in /usr/local/lib/python3.7/dist-packages (from spacy>=2.2.2->en_core_web_sm==2.2.5) (0.8.2)\n",
      "Requirement already satisfied: importlib-metadata>=0.20 in /usr/local/lib/python3.7/dist-packages (from catalogue<1.1.0,>=0.0.7->spacy>=2.2.2->en_core_web_sm==2.2.5) (4.8.1)\n",
      "Requirement already satisfied: zipp>=0.5 in /usr/local/lib/python3.7/dist-packages (from importlib-metadata>=0.20->catalogue<1.1.0,>=0.0.7->spacy>=2.2.2->en_core_web_sm==2.2.5) (3.5.0)\n",
      "Requirement already satisfied: typing-extensions>=3.6.4 in /usr/local/lib/python3.7/dist-packages (from importlib-metadata>=0.20->catalogue<1.1.0,>=0.0.7->spacy>=2.2.2->en_core_web_sm==2.2.5) (3.7.4.3)\n",
      "Requirement already satisfied: certifi>=2017.4.17 in /usr/local/lib/python3.7/dist-packages (from requests<3.0.0,>=2.13.0->spacy>=2.2.2->en_core_web_sm==2.2.5) (2021.5.30)\n",
      "Requirement already satisfied: idna<3,>=2.5 in /usr/local/lib/python3.7/dist-packages (from requests<3.0.0,>=2.13.0->spacy>=2.2.2->en_core_web_sm==2.2.5) (2.10)\n",
      "Requirement already satisfied: urllib3!=1.25.0,!=1.25.1,<1.26,>=1.21.1 in /usr/local/lib/python3.7/dist-packages (from requests<3.0.0,>=2.13.0->spacy>=2.2.2->en_core_web_sm==2.2.5) (1.24.3)\n",
      "Requirement already satisfied: chardet<4,>=3.0.2 in /usr/local/lib/python3.7/dist-packages (from requests<3.0.0,>=2.13.0->spacy>=2.2.2->en_core_web_sm==2.2.5) (3.0.4)\n",
      "\u001B[38;5;2m✔ Download and installation successful\u001B[0m\n",
      "You can now load the model via spacy.load('en_core_web_sm')\n"
     ]
    }
   ]
  },
  {
   "cell_type": "markdown",
   "metadata": {
    "id": "DRjA4x586jyz"
   },
   "source": [
    "### データセットの準備\n",
    "\n",
    "今回、トピックモデルを学習するためのデータセットとして「[CMU Book Summary Dataset](https://www.cs.cmu.edu/~dbamman/booksummaries.html)」を使います。このデータセットは、Wikipediaから16,559冊の本のあらすじを抽出して作成されています。タブ区切りで、以下の情報が格納されています。\n",
    "\n",
    "1. Wikipedia article ID\n",
    "2. Freebase ID\n",
    "3. Book title\n",
    "4. Author\n",
    "5. Publication date\n",
    "6. Book genres (Freebase ID:name tuples)\n",
    "7. Plot summary"
   ]
  },
  {
   "cell_type": "markdown",
   "metadata": {
    "id": "BxnZ8XlIR1Ba"
   },
   "source": [
    "まずはダウンロードして展開しましょう。"
   ]
  },
  {
   "cell_type": "code",
   "metadata": {
    "colab": {
     "base_uri": "https://localhost:8080/"
    },
    "id": "rqdEKc2KPt2j",
    "outputId": "6ee25aec-7e25-4fa3-d9ce-a2292abc4aa4"
   },
   "source": [
    "!wget https://www.cs.cmu.edu/~dbamman/data/booksummaries.tar.gz\n",
    "!tar xvfz booksummaries.tar.gz"
   ],
   "execution_count": 1,
   "outputs": [
    {
     "output_type": "stream",
     "name": "stdout",
     "text": [
      "--2021-09-23 10:41:50--  https://www.cs.cmu.edu/~dbamman/data/booksummaries.tar.gz\n",
      "Resolving www.cs.cmu.edu (www.cs.cmu.edu)... 128.2.42.95\n",
      "Connecting to www.cs.cmu.edu (www.cs.cmu.edu)|128.2.42.95|:443... connected.\n",
      "HTTP request sent, awaiting response... 200 OK\n",
      "Length: 16795330 (16M) [application/x-gzip]\n",
      "Saving to: ‘booksummaries.tar.gz’\n",
      "\n",
      "booksummaries.tar.g 100%[===================>]  16.02M   222KB/s    in 72s     \n",
      "\n",
      "2021-09-23 10:43:03 (226 KB/s) - ‘booksummaries.tar.gz’ saved [16795330/16795330]\n",
      "\n",
      "booksummaries/\n",
      "booksummaries/README\n",
      "booksummaries/booksummaries.txt\n"
     ]
    }
   ]
  },
  {
   "cell_type": "markdown",
   "metadata": {
    "id": "_21b6vvUR5xT"
   },
   "source": [
    "中身を確認します。"
   ]
  },
  {
   "cell_type": "code",
   "metadata": {
    "colab": {
     "base_uri": "https://localhost:8080/"
    },
    "id": "6Mj6znybQJq1",
    "outputId": "fc3580a4-2a88-48c6-c7f4-ea5266cdf0e9"
   },
   "source": [
    "!head -1 booksummaries/booksummaries.txt"
   ],
   "execution_count": 4,
   "outputs": [
    {
     "output_type": "stream",
     "name": "stdout",
     "text": [
      "620\t/m/0hhy\tAnimal Farm\tGeorge Orwell\t1945-08-17\t{\"/m/016lj8\": \"Roman \\u00e0 clef\", \"/m/06nbt\": \"Satire\", \"/m/0dwly\": \"Children's literature\", \"/m/014dfn\": \"Speculative fiction\", \"/m/02xlf\": \"Fiction\"}\t Old Major, the old boar on the Manor Farm, calls the animals on the farm for a meeting, where he compares the humans to parasites and teaches the animals a revolutionary song, 'Beasts of England'. When Major dies, two young pigs, Snowball and Napoleon, assume command and turn his dream into a philosophy. The animals revolt and drive the drunken and irresponsible Mr Jones from the farm, renaming it \"Animal Farm\". They adopt Seven Commandments of Animal-ism, the most important of which is, \"All animals are equal\". Snowball attempts to teach the animals reading and writing; food is plentiful, and the farm runs smoothly. The pigs elevate themselves to positions of leadership and set aside special food items, ostensibly for their personal health. Napoleon takes the pups from the farm dogs and trains them privately. Napoleon and Snowball struggle for leadership. When Snowball announces his plans to build a windmill, Napoleon has his dogs chase Snowball away and declares himself leader. Napoleon enacts changes to the governance structure of the farm, replacing meetings with a committee of pigs, who will run the farm. Using a young pig named Squealer as a \"mouthpiece\", Napoleon claims credit for the windmill idea. The animals work harder with the promise of easier lives with the windmill. After a violent storm, the animals find the windmill annihilated. Napoleon and Squealer convince the animals that Snowball destroyed it, although the scorn of the neighbouring farmers suggests that its walls were too thin. Once Snowball becomes a scapegoat, Napoleon begins purging the farm with his dogs, killing animals he accuses of consorting with his old rival. He and the pigs abuse their power, imposing more control while reserving privileges for themselves and rewriting history, villainising Snowball and glorifying Napoleon. Squealer justifies every statement Napoleon makes, even the pigs' alteration of the Seven Commandments of Animalism to benefit themselves. 'Beasts of England' is replaced by an anthem glorifying Napoleon, who appears to be adopting the lifestyle of a man. The animals remain convinced that they are better off than they were when under Mr Jones. Squealer abuses the animals' poor memories and invents numbers to show their improvement. Mr Frederick, one of the neighbouring farmers, attacks the farm, using blasting powder to blow up the restored windmill. Though the animals win the battle, they do so at great cost, as many, including Boxer the workhorse, are wounded. Despite his injuries, Boxer continues working harder and harder, until he collapses while working on the windmill. Napoleon sends for a van to take Boxer to the veterinary surgeon's, explaining that better care can be given there. Benjamin, the cynical donkey, who \"could read as well as any pig\", notices that the van belongs to a knacker, and attempts to mount a rescue; but the animals' attempts are futile. Squealer reports that the van was purchased by the hospital and the writing from the previous owner had not been repainted. He recounts a tale of Boxer's death in the hands of the best medical care. Years pass, and the pigs learn to walk upright, carry whips and wear clothes. The Seven Commandments are reduced to a single phrase: \"All animals are equal, but some animals are more equal than others\". Napoleon holds a dinner party for the pigs and the humans of the area, who congratulate Napoleon on having the hardest-working but least fed animals in the country. Napoleon announces an alliance with the humans, against the labouring classes of both \"worlds\". He abolishes practices and traditions related to the Revolution, and changes the name of the farm to \"The Manor Farm\". The animals, overhearing the conversation, notice that the faces of the pigs have begun changing. During a poker match, an argument breaks out between Napoleon and Mr Pilkington, and the animals realise that the faces of the pigs look like the faces of humans, and no one can tell the difference between them. The pigs Snowball, Napoleon, and Squealer adapt Old Major's ideas into an actual philosophy, which they formally name Animalism. Soon after, Napoleon and Squealer indulge in the vices of humans (drinking alcohol, sleeping in beds, trading). Squealer is employed to alter the Seven Commandments to account for this humanisation, an allusion to the Soviet government's revising of history in order to exercise control of the people's beliefs about themselves and their society. The original commandments are: # Whatever goes upon two legs is an enemy. # Whatever goes upon four legs, or has wings, is a friend. # No animal shall wear clothes. # No animal shall sleep in a bed. # No animal shall drink alcohol. # No animal shall kill any other animal. # All animals are equal. Later, Napoleon and his pigs secretly revise some commandments to clear them of accusations of law-breaking (such as \"No animal shall drink alcohol\" having \"to excess\" appended to it and \"No animal shall sleep in a bed\" with \"with sheets\" added to it). The changed commandments are as follows, with the changes bolded: * 4 No animal shall sleep in a bed with sheets. * 5 No animal shall drink alcohol to excess. * 6 No animal shall kill any other animal without cause. Eventually these are replaced with the maxims, \"All animals are equal, but some animals are more equal than others\", and \"Four legs good, two legs better!\" as the pigs become more human. This is an ironic twist to the original purpose of the Seven Commandments, which were supposed to keep order within Animal Farm by uniting the animals together against the humans, and prevent animals from following the humans' evil habits. Through the revision of the commandments, Orwell demonstrates how simply political dogma can be turned into malleable propaganda.\n"
     ]
    }
   ]
  },
  {
   "cell_type": "markdown",
   "metadata": {
    "id": "74Wr-Xx3R7cg"
   },
   "source": [
    "タブ区切りなので、`pandas`の`read_csv`で読み込んでしまいましょう。"
   ]
  },
  {
   "cell_type": "code",
   "metadata": {
    "colab": {
     "base_uri": "https://localhost:8080/",
     "height": 204
    },
    "id": "lVz9FAoKQRQb",
    "outputId": "c90285f8-d651-4263-9ee3-aaa6a46fe87b"
   },
   "source": [
    "df = pd.read_csv(\n",
    "    \"booksummaries/booksummaries.txt\",\n",
    "    sep=\"\\t\",\n",
    "    encoding=\"utf-8\",\n",
    "    names=[\"wikipediaId\", \"freebaseId\", \"title\", \"author\", \"date\", \"genres\", \"summary\"]\n",
    ")\n",
    "df.head()"
   ],
   "execution_count": 82,
   "outputs": [
    {
     "output_type": "execute_result",
     "data": {
      "text/html": [
       "<div>\n",
       "<style scoped>\n",
       "    .dataframe tbody tr th:only-of-type {\n",
       "        vertical-align: middle;\n",
       "    }\n",
       "\n",
       "    .dataframe tbody tr th {\n",
       "        vertical-align: top;\n",
       "    }\n",
       "\n",
       "    .dataframe thead th {\n",
       "        text-align: right;\n",
       "    }\n",
       "</style>\n",
       "<table border=\"1\" class=\"dataframe\">\n",
       "  <thead>\n",
       "    <tr style=\"text-align: right;\">\n",
       "      <th></th>\n",
       "      <th>wikipediaId</th>\n",
       "      <th>freebaseId</th>\n",
       "      <th>title</th>\n",
       "      <th>author</th>\n",
       "      <th>date</th>\n",
       "      <th>genres</th>\n",
       "      <th>summary</th>\n",
       "    </tr>\n",
       "  </thead>\n",
       "  <tbody>\n",
       "    <tr>\n",
       "      <th>0</th>\n",
       "      <td>620</td>\n",
       "      <td>/m/0hhy</td>\n",
       "      <td>Animal Farm</td>\n",
       "      <td>George Orwell</td>\n",
       "      <td>1945-08-17</td>\n",
       "      <td>{\"/m/016lj8\": \"Roman \\u00e0 clef\", \"/m/06nbt\":...</td>\n",
       "      <td>Old Major, the old boar on the Manor Farm, ca...</td>\n",
       "    </tr>\n",
       "    <tr>\n",
       "      <th>1</th>\n",
       "      <td>843</td>\n",
       "      <td>/m/0k36</td>\n",
       "      <td>A Clockwork Orange</td>\n",
       "      <td>Anthony Burgess</td>\n",
       "      <td>1962</td>\n",
       "      <td>{\"/m/06n90\": \"Science Fiction\", \"/m/0l67h\": \"N...</td>\n",
       "      <td>Alex, a teenager living in near-future Englan...</td>\n",
       "    </tr>\n",
       "    <tr>\n",
       "      <th>2</th>\n",
       "      <td>986</td>\n",
       "      <td>/m/0ldx</td>\n",
       "      <td>The Plague</td>\n",
       "      <td>Albert Camus</td>\n",
       "      <td>1947</td>\n",
       "      <td>{\"/m/02m4t\": \"Existentialism\", \"/m/02xlf\": \"Fi...</td>\n",
       "      <td>The text of The Plague is divided into five p...</td>\n",
       "    </tr>\n",
       "    <tr>\n",
       "      <th>3</th>\n",
       "      <td>1756</td>\n",
       "      <td>/m/0sww</td>\n",
       "      <td>An Enquiry Concerning Human Understanding</td>\n",
       "      <td>David Hume</td>\n",
       "      <td>NaN</td>\n",
       "      <td>NaN</td>\n",
       "      <td>The argument of the Enquiry proceeds by a ser...</td>\n",
       "    </tr>\n",
       "    <tr>\n",
       "      <th>4</th>\n",
       "      <td>2080</td>\n",
       "      <td>/m/0wkt</td>\n",
       "      <td>A Fire Upon the Deep</td>\n",
       "      <td>Vernor Vinge</td>\n",
       "      <td>NaN</td>\n",
       "      <td>{\"/m/03lrw\": \"Hard science fiction\", \"/m/06n90...</td>\n",
       "      <td>The novel posits that space around the Milky ...</td>\n",
       "    </tr>\n",
       "  </tbody>\n",
       "</table>\n",
       "</div>"
      ],
      "text/plain": [
       "   wikipediaId  ...                                            summary\n",
       "0          620  ...   Old Major, the old boar on the Manor Farm, ca...\n",
       "1          843  ...   Alex, a teenager living in near-future Englan...\n",
       "2          986  ...   The text of The Plague is divided into five p...\n",
       "3         1756  ...   The argument of the Enquiry proceeds by a ser...\n",
       "4         2080  ...   The novel posits that space around the Milky ...\n",
       "\n",
       "[5 rows x 7 columns]"
      ]
     },
     "metadata": {},
     "execution_count": 82
    }
   ]
  },
  {
   "cell_type": "markdown",
   "metadata": {
    "id": "zDglVm1P8hOP"
   },
   "source": [
    "## 前処理\n",
    "\n",
    "前処理では、テキストを変換し、gensimで学習できるような形式にします。テキストの前処理としては以下の3つを行います。\n",
    "\n",
    "- ストップワードの除去\n",
    "- 非アルファベット語の除去\n",
    "- 小文字化\n",
    "\n",
    "そのための関数を定義しましょう。"
   ]
  },
  {
   "cell_type": "code",
   "metadata": {
    "id": "t5NGw0mmSJnw"
   },
   "source": [
    "nlp = spacy.load(\"en_core_web_sm\", disable=['parser', 'ner'])\n",
    "\n",
    "def lemmatization(words, allowed_postags=['NOUN', 'ADJ', 'VERB', 'ADV']):\n",
    "    doc = nlp(\" \".join(words))\n",
    "    return [token.lemma_ for token in doc if token.pos_ in allowed_postags]\n",
    "\n",
    "\n",
    "def preprocess(textstring):\n",
    "    \"\"\"tokenize, remove stopwords, non-alphabetic words, lowercase\"\"\"\n",
    "    stops = set(stopwords.words(\"english\"))\n",
    "    tokens = word_tokenize(textstring)\n",
    "    return [token.lower() for token in tokens if token.isalpha() and token not in stops]"
   ],
   "execution_count": 83,
   "outputs": []
  },
  {
   "cell_type": "code",
   "metadata": {
    "colab": {
     "base_uri": "https://localhost:8080/",
     "height": 204
    },
    "id": "V13BqClOSJqh",
    "outputId": "63795c0d-012a-4818-a877-a7fd8cc80142"
   },
   "source": [
    "df.summary = df.summary.apply(preprocess).apply(lemmatization)\n",
    "df.head()"
   ],
   "execution_count": 84,
   "outputs": [
    {
     "output_type": "execute_result",
     "data": {
      "text/html": [
       "<div>\n",
       "<style scoped>\n",
       "    .dataframe tbody tr th:only-of-type {\n",
       "        vertical-align: middle;\n",
       "    }\n",
       "\n",
       "    .dataframe tbody tr th {\n",
       "        vertical-align: top;\n",
       "    }\n",
       "\n",
       "    .dataframe thead th {\n",
       "        text-align: right;\n",
       "    }\n",
       "</style>\n",
       "<table border=\"1\" class=\"dataframe\">\n",
       "  <thead>\n",
       "    <tr style=\"text-align: right;\">\n",
       "      <th></th>\n",
       "      <th>wikipediaId</th>\n",
       "      <th>freebaseId</th>\n",
       "      <th>title</th>\n",
       "      <th>author</th>\n",
       "      <th>date</th>\n",
       "      <th>genres</th>\n",
       "      <th>summary</th>\n",
       "    </tr>\n",
       "  </thead>\n",
       "  <tbody>\n",
       "    <tr>\n",
       "      <th>0</th>\n",
       "      <td>620</td>\n",
       "      <td>/m/0hhy</td>\n",
       "      <td>Animal Farm</td>\n",
       "      <td>George Orwell</td>\n",
       "      <td>1945-08-17</td>\n",
       "      <td>{\"/m/016lj8\": \"Roman \\u00e0 clef\", \"/m/06nbt\":...</td>\n",
       "      <td>[manor, farm, call, animal, farm, meeting, hum...</td>\n",
       "    </tr>\n",
       "    <tr>\n",
       "      <th>1</th>\n",
       "      <td>843</td>\n",
       "      <td>/m/0k36</td>\n",
       "      <td>A Clockwork Orange</td>\n",
       "      <td>Anthony Burgess</td>\n",
       "      <td>1962</td>\n",
       "      <td>{\"/m/06n90\": \"Science Fiction\", \"/m/0l67h\": \"N...</td>\n",
       "      <td>[gang, friend, droog, taste, music, novel, dro...</td>\n",
       "    </tr>\n",
       "    <tr>\n",
       "      <th>2</th>\n",
       "      <td>986</td>\n",
       "      <td>/m/0ldx</td>\n",
       "      <td>The Plague</td>\n",
       "      <td>Albert Camus</td>\n",
       "      <td>1947</td>\n",
       "      <td>{\"/m/02m4t\": \"Existentialism\", \"/m/02xlf\": \"Fi...</td>\n",
       "      <td>[text, plague, part, town, thousand, rat, popu...</td>\n",
       "    </tr>\n",
       "    <tr>\n",
       "      <th>3</th>\n",
       "      <td>1756</td>\n",
       "      <td>/m/0sww</td>\n",
       "      <td>An Enquiry Concerning Human Understanding</td>\n",
       "      <td>David Hume</td>\n",
       "      <td>NaN</td>\n",
       "      <td>NaN</td>\n",
       "      <td>[argument, step, chapter, one, epistemology, h...</td>\n",
       "    </tr>\n",
       "    <tr>\n",
       "      <th>4</th>\n",
       "      <td>2080</td>\n",
       "      <td>/m/0wkt</td>\n",
       "      <td>A Fire Upon the Deep</td>\n",
       "      <td>Vernor Vinge</td>\n",
       "      <td>NaN</td>\n",
       "      <td>{\"/m/03lrw\": \"Hard science fiction\", \"/m/06n90...</td>\n",
       "      <td>[novel, posit, space, way, layer, zone, law, p...</td>\n",
       "    </tr>\n",
       "  </tbody>\n",
       "</table>\n",
       "</div>"
      ],
      "text/plain": [
       "   wikipediaId  ...                                            summary\n",
       "0          620  ...  [manor, farm, call, animal, farm, meeting, hum...\n",
       "1          843  ...  [gang, friend, droog, taste, music, novel, dro...\n",
       "2          986  ...  [text, plague, part, town, thousand, rat, popu...\n",
       "3         1756  ...  [argument, step, chapter, one, epistemology, h...\n",
       "4         2080  ...  [novel, posit, space, way, layer, zone, law, p...\n",
       "\n",
       "[5 rows x 7 columns]"
      ]
     },
     "metadata": {},
     "execution_count": 84
    }
   ]
  },
  {
   "cell_type": "markdown",
   "metadata": {
    "id": "7-33ZAMITTd4"
   },
   "source": [
    "次に、テキストのリストからgensim用にコーパスを作成します。"
   ]
  },
  {
   "cell_type": "code",
   "metadata": {
    "id": "709LaaweTbGY"
   },
   "source": [
    "# テキストの辞書表現を作成\n",
    "dictionary = Dictionary(df.summary.values)\n",
    "# 低頻度語と高頻度語の除去\n",
    "dictionary.filter_extremes(no_below=5, no_above=0.5)\n",
    "corpus = [dictionary.doc2bow(summary) for summary in df.summary.values]"
   ],
   "execution_count": 91,
   "outputs": []
  },
  {
   "cell_type": "code",
   "metadata": {
    "colab": {
     "base_uri": "https://localhost:8080/"
    },
    "id": "liuzydrbTrQ8",
    "outputId": "c0eef5d7-237b-44d5-a4e0-99833071fd48"
   },
   "source": [
    "corpus[0][:10]"
   ],
   "execution_count": 92,
   "outputs": [
    {
     "output_type": "execute_result",
     "data": {
      "text/plain": [
       "[(0, 1),\n",
       " (1, 4),\n",
       " (2, 1),\n",
       " (3, 1),\n",
       " (4, 1),\n",
       " (5, 35),\n",
       " (6, 1),\n",
       " (7, 1),\n",
       " (8, 1),\n",
       " (9, 1)]"
      ]
     },
     "metadata": {},
     "execution_count": 92
    }
   ]
  },
  {
   "cell_type": "code",
   "metadata": {
    "id": "e0zzr96vWKrU"
   },
   "source": [
    "id2word = dict(dictionary.items())"
   ],
   "execution_count": 93,
   "outputs": []
  },
  {
   "cell_type": "markdown",
   "metadata": {
    "id": "F_GhpV1r87qQ"
   },
   "source": [
    "## モデルの学習"
   ]
  },
  {
   "cell_type": "markdown",
   "metadata": {
    "id": "A-HH4OoF8_Yn"
   },
   "source": [
    "### LDA\n",
    "\n",
    "それでは、構築したコーパスをgensimの`LdaModel`に渡して、モデルを学習しましょう。コーパス以外には以下を指定しています。\n",
    "\n",
    "- `iterations`: トピック分布を推測するときの、コーパス全体の最大反復回数\n",
    "- `num_topics`: トピック数\n",
    "- `id2word`: 単語IDから単語へのマッピング。トピックの表示用。"
   ]
  },
  {
   "cell_type": "code",
   "metadata": {
    "id": "oxTtqlBcRezZ"
   },
   "source": [
    "model = LdaModel(corpus=corpus, id2word=id2word, iterations=400, num_topics=10, random_state=2021)"
   ],
   "execution_count": 94,
   "outputs": []
  },
  {
   "cell_type": "code",
   "metadata": {
    "colab": {
     "base_uri": "https://localhost:8080/"
    },
    "id": "csn3hGH0X3ns",
    "outputId": "5fc26758-8603-4e01-a3a8-f28fb5e43fb5"
   },
   "source": [
    "model.show_topics()"
   ],
   "execution_count": 95,
   "outputs": [
    {
     "output_type": "execute_result",
     "data": {
      "text/plain": [
       "[(0,\n",
       "  '0.011*\"man\" + 0.009*\"time\" + 0.009*\"ship\" + 0.006*\"year\" + 0.006*\"group\" + 0.006*\"way\" + 0.006*\"story\" + 0.006*\"life\" + 0.006*\"people\" + 0.005*\"friend\"'),\n",
       " (1,\n",
       "  '0.035*\"family\" + 0.027*\"mother\" + 0.018*\"child\" + 0.014*\"life\" + 0.014*\"brother\" + 0.013*\"friend\" + 0.013*\"year\" + 0.011*\"man\" + 0.011*\"time\" + 0.011*\"love\"'),\n",
       " (2,\n",
       "  '0.011*\"day\" + 0.010*\"book\" + 0.010*\"story\" + 0.009*\"man\" + 0.009*\"time\" + 0.008*\"friend\" + 0.008*\"boy\" + 0.008*\"life\" + 0.007*\"job\" + 0.007*\"night\"'),\n",
       " (3,\n",
       "  '0.030*\"ship\" + 0.014*\"earth\" + 0.014*\"time\" + 0.012*\"crew\" + 0.010*\"world\" + 0.009*\"planet\" + 0.009*\"space\" + 0.007*\"human\" + 0.006*\"year\" + 0.006*\"race\"'),\n",
       " (4,\n",
       "  '0.013*\"world\" + 0.013*\"war\" + 0.011*\"force\" + 0.008*\"time\" + 0.008*\"people\" + 0.007*\"order\" + 0.007*\"power\" + 0.007*\"government\" + 0.006*\"story\" + 0.006*\"group\"'),\n",
       " (5,\n",
       "  '0.026*\"book\" + 0.019*\"story\" + 0.014*\"life\" + 0.013*\"novel\" + 0.011*\"character\" + 0.011*\"chapter\" + 0.011*\"woman\" + 0.009*\"man\" + 0.009*\"year\" + 0.008*\"author\"'),\n",
       " (6,\n",
       "  '0.013*\"power\" + 0.011*\"city\" + 0.010*\"boy\" + 0.009*\"dragon\" + 0.009*\"people\" + 0.008*\"world\" + 0.008*\"help\" + 0.008*\"animal\" + 0.008*\"group\" + 0.007*\"land\"'),\n",
       " (7,\n",
       "  '0.030*\"narrator\" + 0.011*\"soul\" + 0.009*\"dexter\" + 0.009*\"horse\" + 0.009*\"man\" + 0.008*\"bond\" + 0.007*\"vlad\" + 0.007*\"friend\" + 0.007*\"life\" + 0.007*\"love\"'),\n",
       " (8,\n",
       "  '0.015*\"man\" + 0.014*\"murder\" + 0.014*\"case\" + 0.012*\"police\" + 0.011*\"night\" + 0.011*\"day\" + 0.011*\"death\" + 0.010*\"body\" + 0.009*\"room\" + 0.008*\"friend\"'),\n",
       " (9,\n",
       "  '0.033*\"school\" + 0.020*\"time\" + 0.019*\"girl\" + 0.018*\"friend\" + 0.013*\"story\" + 0.012*\"year\" + 0.010*\"day\" + 0.008*\"murder\" + 0.008*\"summer\" + 0.007*\"life\"')]"
      ]
     },
     "metadata": {},
     "execution_count": 95
    }
   ]
  },
  {
   "cell_type": "code",
   "metadata": {
    "colab": {
     "base_uri": "https://localhost:8080/"
    },
    "id": "_UIuoSeYVMyM",
    "outputId": "2c911533-2016-4276-9fb6-6aa72d48b182"
   },
   "source": [
    "top_topics = list(model.top_topics(corpus))\n",
    "pprint(top_topics)"
   ],
   "execution_count": 96,
   "outputs": [
    {
     "output_type": "stream",
     "name": "stdout",
     "text": [
      "[([(0.03484744, 'family'),\n",
      "   (0.027079526, 'mother'),\n",
      "   (0.01845889, 'child'),\n",
      "   (0.014007284, 'life'),\n",
      "   (0.013950966, 'brother'),\n",
      "   (0.013115266, 'friend'),\n",
      "   (0.012610523, 'year'),\n",
      "   (0.011448137, 'man'),\n",
      "   (0.010960756, 'time'),\n",
      "   (0.010862761, 'love'),\n",
      "   (0.010634469, 'father'),\n",
      "   (0.010614914, 'woman'),\n",
      "   (0.010437573, 'son'),\n",
      "   (0.009884664, 'day'),\n",
      "   (0.009521468, 'wife'),\n",
      "   (0.00949569, 'daughter'),\n",
      "   (0.009491833, 'story'),\n",
      "   (0.0087956395, 'death'),\n",
      "   (0.008644367, 'girl'),\n",
      "   (0.008607693, 'sister')],\n",
      "  -1.2143685824930421),\n",
      " ([(0.011421871, 'man'),\n",
      "   (0.009466162, 'time'),\n",
      "   (0.009384962, 'ship'),\n",
      "   (0.0063382485, 'year'),\n",
      "   (0.006289876, 'group'),\n",
      "   (0.0062795454, 'way'),\n",
      "   (0.0062499307, 'story'),\n",
      "   (0.006032021, 'life'),\n",
      "   (0.0059705796, 'people'),\n",
      "   (0.0052855946, 'friend'),\n",
      "   (0.004933433, 'woman'),\n",
      "   (0.004860364, 'order'),\n",
      "   (0.004858799, 'day'),\n",
      "   (0.0048566605, 'village'),\n",
      "   (0.004849657, 'child'),\n",
      "   (0.004829891, 'book'),\n",
      "   (0.0046165604, 'family'),\n",
      "   (0.004473078, 'town'),\n",
      "   (0.004329394, 'return'),\n",
      "   (0.004207558, 'help')],\n",
      "  -1.3351564848573587),\n",
      " ([(0.014817347, 'man'),\n",
      "   (0.0137726385, 'murder'),\n",
      "   (0.013501052, 'case'),\n",
      "   (0.0124669755, 'police'),\n",
      "   (0.011137205, 'night'),\n",
      "   (0.011015412, 'day'),\n",
      "   (0.010548988, 'death'),\n",
      "   (0.009838406, 'body'),\n",
      "   (0.008953009, 'room'),\n",
      "   (0.008138681, 'friend'),\n",
      "   (0.0077116117, 'time'),\n",
      "   (0.005862846, 'woman'),\n",
      "   (0.005661267, 'year'),\n",
      "   (0.0051529594, 'life'),\n",
      "   (0.0050432608, 'crime'),\n",
      "   (0.0049006767, 'people'),\n",
      "   (0.004595706, 'victim'),\n",
      "   (0.0044438243, 'morning'),\n",
      "   (0.0043855994, 'story'),\n",
      "   (0.004338845, 'way')],\n",
      "  -1.347700297702296),\n",
      " ([(0.012825862, 'world'),\n",
      "   (0.012649498, 'war'),\n",
      "   (0.010646209, 'force'),\n",
      "   (0.008223723, 'time'),\n",
      "   (0.0075266697, 'people'),\n",
      "   (0.007225879, 'order'),\n",
      "   (0.006844503, 'power'),\n",
      "   (0.0065898974, 'government'),\n",
      "   (0.006439424, 'story'),\n",
      "   (0.006413555, 'group'),\n",
      "   (0.0062260604, 'year'),\n",
      "   (0.006003214, 'man'),\n",
      "   (0.0059446124, 'attack'),\n",
      "   (0.005905897, 'leader'),\n",
      "   (0.005846517, 'battle'),\n",
      "   (0.005697432, 'book'),\n",
      "   (0.005678138, 'novel'),\n",
      "   (0.0056448444, 'death'),\n",
      "   (0.0049514654, 'life'),\n",
      "   (0.0048766225, 'system')],\n",
      "  -1.390379353561376),\n",
      " ([(0.026176991, 'book'),\n",
      "   (0.019188782, 'story'),\n",
      "   (0.013959005, 'life'),\n",
      "   (0.012875538, 'novel'),\n",
      "   (0.011474305, 'character'),\n",
      "   (0.011458447, 'chapter'),\n",
      "   (0.010654958, 'woman'),\n",
      "   (0.009320765, 'man'),\n",
      "   (0.009013614, 'year'),\n",
      "   (0.008471635, 'author'),\n",
      "   (0.007910411, 'time'),\n",
      "   (0.0076943203, 'people'),\n",
      "   (0.0074687353, 'part'),\n",
      "   (0.0067017437, 'child'),\n",
      "   (0.0060190563, 'love'),\n",
      "   (0.0053824717, 'relationship'),\n",
      "   (0.0051020784, 'friend'),\n",
      "   (0.004985927, 'work'),\n",
      "   (0.004956961, 'family'),\n",
      "   (0.0048585385, 'history')],\n",
      "  -1.4541463730634663),\n",
      " ([(0.033256043, 'school'),\n",
      "   (0.020412415, 'time'),\n",
      "   (0.019152528, 'girl'),\n",
      "   (0.01771772, 'friend'),\n",
      "   (0.012620557, 'story'),\n",
      "   (0.011911381, 'year'),\n",
      "   (0.010446115, 'day'),\n",
      "   (0.008418022, 'murder'),\n",
      "   (0.007818885, 'summer'),\n",
      "   (0.0074049006, 'life'),\n",
      "   (0.006885262, 'town'),\n",
      "   (0.006419881, 'mother'),\n",
      "   (0.006114629, 'parent'),\n",
      "   (0.005924314, 'man'),\n",
      "   (0.005802596, 'boy'),\n",
      "   (0.0056703687, 'book'),\n",
      "   (0.0054150526, 'night'),\n",
      "   (0.00536917, 'student'),\n",
      "   (0.0046650637, 'teacher'),\n",
      "   (0.0046376684, 'death')],\n",
      "  -1.5210414493355244),\n",
      " ([(0.029939538, 'ship'),\n",
      "   (0.014134982, 'earth'),\n",
      "   (0.0138681615, 'time'),\n",
      "   (0.01198777, 'crew'),\n",
      "   (0.009777748, 'world'),\n",
      "   (0.009231965, 'planet'),\n",
      "   (0.008606584, 'space'),\n",
      "   (0.006956619, 'human'),\n",
      "   (0.0058626584, 'year'),\n",
      "   (0.005519376, 'race'),\n",
      "   (0.005453228, 'group'),\n",
      "   (0.005339207, 'doctor'),\n",
      "   (0.005034738, 'plan'),\n",
      "   (0.0050342754, 'way'),\n",
      "   (0.00497249, 'life'),\n",
      "   (0.0048036226, 'people'),\n",
      "   (0.004761662, 'story'),\n",
      "   (0.004490822, 'system'),\n",
      "   (0.004456172, 'computer'),\n",
      "   (0.0043797283, 'book')],\n",
      "  -1.5263065923106534),\n",
      " ([(0.011406296, 'day'),\n",
      "   (0.010170832, 'book'),\n",
      "   (0.010150038, 'story'),\n",
      "   (0.009295022, 'man'),\n",
      "   (0.0085226605, 'time'),\n",
      "   (0.0081879785, 'friend'),\n",
      "   (0.008132949, 'boy'),\n",
      "   (0.0075440467, 'life'),\n",
      "   (0.006581871, 'job'),\n",
      "   (0.0065646837, 'night'),\n",
      "   (0.006542259, 'money'),\n",
      "   (0.006465162, 'work'),\n",
      "   (0.00619953, 'game'),\n",
      "   (0.0056258272, 'year'),\n",
      "   (0.005426285, 'car'),\n",
      "   (0.0049702954, 'people'),\n",
      "   (0.0048226574, 'team'),\n",
      "   (0.00466452, 'thing'),\n",
      "   (0.0042976043, 'child'),\n",
      "   (0.0042827786, 'police')],\n",
      "  -1.6649230865821427),\n",
      " ([(0.029669367, 'narrator'),\n",
      "   (0.011462984, 'soul'),\n",
      "   (0.009344552, 'dexter'),\n",
      "   (0.008747691, 'horse'),\n",
      "   (0.008668692, 'man'),\n",
      "   (0.00767891, 'bond'),\n",
      "   (0.0074688504, 'vlad'),\n",
      "   (0.0072707133, 'friend'),\n",
      "   (0.007171566, 'life'),\n",
      "   (0.00652948, 'love'),\n",
      "   (0.0064176805, 'village'),\n",
      "   (0.005778176, 'death'),\n",
      "   (0.0056314166, 'thing'),\n",
      "   (0.0054313596, 'order'),\n",
      "   (0.0046718335, 'return'),\n",
      "   (0.004599596, 'time'),\n",
      "   (0.0045125997, 'way'),\n",
      "   (0.0043873065, 'world'),\n",
      "   (0.0042228824, 'hand'),\n",
      "   (0.0042029833, 'day')],\n",
      "  -1.8069976614130434),\n",
      " ([(0.013278809, 'power'),\n",
      "   (0.0108351335, 'city'),\n",
      "   (0.0100674685, 'boy'),\n",
      "   (0.009435173, 'dragon'),\n",
      "   (0.009170481, 'people'),\n",
      "   (0.008048857, 'world'),\n",
      "   (0.007869709, 'help'),\n",
      "   (0.007626359, 'animal'),\n",
      "   (0.0075658164, 'group'),\n",
      "   (0.0073790206, 'land'),\n",
      "   (0.0072162254, 'time'),\n",
      "   (0.0071900757, 'creature'),\n",
      "   (0.0065463684, 'way'),\n",
      "   (0.006544444, 'book'),\n",
      "   (0.0063070925, 'child'),\n",
      "   (0.0061620814, 'tree'),\n",
      "   (0.006111957, 'attack'),\n",
      "   (0.0058042635, 'blood'),\n",
      "   (0.0057521514, 'angel'),\n",
      "   (0.005746196, 'fire')],\n",
      "  -1.8957707691027366)]\n"
     ]
    }
   ]
  },
  {
   "cell_type": "code",
   "metadata": {
    "id": "oWx_u8Ue5bmX",
    "outputId": "990fbfb5-baac-4e0f-b1b0-41cb7cc03b2d"
   },
   "source": [
    "for idx in range(10):\n",
    "    print(\"Topic #%s:\" % idx, model.print_topic(idx, 10))\n",
    "print(\"=\" * 20)"
   ],
   "execution_count": null,
   "outputs": [
    {
     "name": "stdout",
     "output_type": "stream",
     "text": [
      "Topic #0: 0.013*\"jacky\" + 0.006*\"dahlia\" + 0.005*\"novel\" + 0.005*\"one\" + 0.004*\"story\" + 0.004*\"also\" + 0.004*\"book\" + 0.004*\"team\" + 0.004*\"narrator\" + 0.003*\"jeremy\"\n",
      "Topic #1: 0.010*\"book\" + 0.009*\"war\" + 0.006*\"in\" + 0.006*\"world\" + 0.005*\"novel\" + 0.005*\"states\" + 0.004*\"also\" + 0.004*\"new\" + 0.004*\"chapter\" + 0.004*\"story\"\n",
      "Topic #2: 0.008*\"he\" + 0.007*\"she\" + 0.006*\"mother\" + 0.006*\"one\" + 0.005*\"tells\" + 0.005*\"back\" + 0.005*\"house\" + 0.005*\"father\" + 0.005*\"school\" + 0.005*\"go\"\n",
      "Topic #3: 0.007*\"life\" + 0.006*\"love\" + 0.006*\"family\" + 0.006*\"father\" + 0.006*\"he\" + 0.006*\"novel\" + 0.005*\"young\" + 0.005*\"she\" + 0.004*\"story\" + 0.004*\"one\"\n",
      "Topic #4: 0.007*\"he\" + 0.006*\"one\" + 0.004*\"murder\" + 0.004*\"police\" + 0.004*\"man\" + 0.003*\"two\" + 0.003*\"case\" + 0.003*\"also\" + 0.003*\"would\" + 0.003*\"time\"\n",
      "Topic #5: 0.007*\"earth\" + 0.006*\"one\" + 0.005*\"time\" + 0.005*\"human\" + 0.005*\"world\" + 0.004*\"new\" + 0.004*\"planet\" + 0.004*\"life\" + 0.003*\"space\" + 0.003*\"he\"\n",
      "Topic #6: 0.006*\"he\" + 0.005*\"they\" + 0.005*\"one\" + 0.004*\"back\" + 0.004*\"find\" + 0.004*\"ship\" + 0.004*\"king\" + 0.003*\"two\" + 0.003*\"city\" + 0.003*\"help\"\n",
      "Topic #7: 0.006*\"alex\" + 0.005*\"one\" + 0.005*\"henry\" + 0.004*\"freddy\" + 0.004*\"time\" + 0.004*\"simon\" + 0.004*\"he\" + 0.004*\"luce\" + 0.004*\"new\" + 0.004*\"find\"\n",
      "Topic #8: 0.006*\"will\" + 0.006*\"jason\" + 0.005*\"he\" + 0.005*\"vampire\" + 0.005*\"king\" + 0.004*\"leo\" + 0.004*\"one\" + 0.004*\"new\" + 0.004*\"in\" + 0.003*\"world\"\n",
      "Topic #9: 0.005*\"jake\" + 0.005*\"charlie\" + 0.005*\"she\" + 0.004*\"he\" + 0.004*\"one\" + 0.004*\"roger\" + 0.004*\"back\" + 0.004*\"they\" + 0.004*\"luke\" + 0.004*\"new\"\n",
      "====================\n"
     ]
    }
   ]
  },
  {
   "cell_type": "markdown",
   "metadata": {
    "id": "0893SrTv9GoQ"
   },
   "source": [
    "## 参考資料\n",
    "\n",
    "- [Latent Dirichlet Allocation](https://radimrehurek.com/gensim/models/ldamodel.html)"
   ]
  }
 ]
}