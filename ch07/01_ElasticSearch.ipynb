{
 "nbformat": 4,
 "nbformat_minor": 0,
 "metadata": {
  "kernelspec": {
   "display_name": "Python 3",
   "language": "python",
   "name": "python3"
  },
  "language_info": {
   "codemirror_mode": {
    "name": "ipython",
    "version": 3
   },
   "file_extension": ".py",
   "mimetype": "text/x-python",
   "name": "python",
   "nbconvert_exporter": "python",
   "pygments_lexer": "ipython3",
   "version": "3.5.6"
  },
  "colab": {
   "name": "01_ElasticSearch.ipynb",
   "provenance": [],
   "collapsed_sections": []
  }
 },
 "cells": [
  {
   "cell_type": "markdown",
   "metadata": {
    "id": "GVXrddQRLrQU"
   },
   "source": [
    "# Elasticsearch\n",
    "\n",
    "このノートブックでは、Elasticsearchを使って、テキストをインデックスし、検索する方法を紹介します。\n",
    "\n",
    "ノートブックを動かすためには、Elasticsearchインスタンスを立ち上げている必要があります。ノートブックにはColabで動かす手順を書いていますが、そうでない場合は以下のステップを実行する必要があります。\n",
    "\n",
    "1. マシン上のelasticsearch-X.Y.Z/binフォルダへ移動\n",
    "2. `./elasticsearch`を実行\n"
   ]
  },
  {
   "cell_type": "markdown",
   "metadata": {
    "id": "iVavs0-8LLQL"
   },
   "source": [
    "## 準備"
   ]
  },
  {
   "cell_type": "markdown",
   "metadata": {
    "id": "BbhS9_x8LMr-"
   },
   "source": [
    "### パッケージのインストール"
   ]
  },
  {
   "cell_type": "code",
   "metadata": {
    "colab": {
     "base_uri": "https://localhost:8080/"
    },
    "id": "oj6FT_7jLQgX",
    "outputId": "5fc2ec5c-8c38-4dc2-9544-ae717f457a1a"
   },
   "source": [
    "!pip install -q elasticsearch==7.9.1"
   ],
   "execution_count": 1,
   "outputs": [
    {
     "output_type": "stream",
     "name": "stdout",
     "text": [
      "\u001B[?25l\r\u001B[K     |█▌                              | 10 kB 15.8 MB/s eta 0:00:01\r\u001B[K     |███                             | 20 kB 20.8 MB/s eta 0:00:01\r\u001B[K     |████▌                           | 30 kB 26.4 MB/s eta 0:00:01\r\u001B[K     |██████                          | 40 kB 19.2 MB/s eta 0:00:01\r\u001B[K     |███████▌                        | 51 kB 7.0 MB/s eta 0:00:01\r\u001B[K     |█████████                       | 61 kB 7.5 MB/s eta 0:00:01\r\u001B[K     |██████████▌                     | 71 kB 7.0 MB/s eta 0:00:01\r\u001B[K     |████████████                    | 81 kB 7.8 MB/s eta 0:00:01\r\u001B[K     |█████████████▌                  | 92 kB 7.9 MB/s eta 0:00:01\r\u001B[K     |███████████████                 | 102 kB 7.2 MB/s eta 0:00:01\r\u001B[K     |████████████████▌               | 112 kB 7.2 MB/s eta 0:00:01\r\u001B[K     |██████████████████              | 122 kB 7.2 MB/s eta 0:00:01\r\u001B[K     |███████████████████▍            | 133 kB 7.2 MB/s eta 0:00:01\r\u001B[K     |█████████████████████           | 143 kB 7.2 MB/s eta 0:00:01\r\u001B[K     |██████████████████████▍         | 153 kB 7.2 MB/s eta 0:00:01\r\u001B[K     |████████████████████████        | 163 kB 7.2 MB/s eta 0:00:01\r\u001B[K     |█████████████████████████▍      | 174 kB 7.2 MB/s eta 0:00:01\r\u001B[K     |███████████████████████████     | 184 kB 7.2 MB/s eta 0:00:01\r\u001B[K     |████████████████████████████▍   | 194 kB 7.2 MB/s eta 0:00:01\r\u001B[K     |██████████████████████████████  | 204 kB 7.2 MB/s eta 0:00:01\r\u001B[K     |███████████████████████████████▍| 215 kB 7.2 MB/s eta 0:00:01\r\u001B[K     |████████████████████████████████| 219 kB 7.2 MB/s \n",
      "\u001B[?25h"
     ]
    }
   ]
  },
  {
   "cell_type": "markdown",
   "metadata": {
    "id": "iiZy1TW6LOz4"
   },
   "source": [
    "### インポート"
   ]
  },
  {
   "cell_type": "code",
   "metadata": {
    "id": "ZbO4arQuLrQe"
   },
   "source": [
    "import time\n",
    "from datetime import datetime\n",
    "\n",
    "from elasticsearch import Elasticsearch"
   ],
   "execution_count": 2,
   "outputs": []
  },
  {
   "cell_type": "markdown",
   "metadata": {
    "id": "OJktUV1aLc4q"
   },
   "source": [
    "### データセットのダウンロード\n",
    "\n",
    "データセットとしては「CMU Book Summary Dataset」を使います。このデータセットは、Wikipediaから16,559冊の本のあらすじを抽出して作成されています。タブ区切りで、以下の情報が格納されています。\n",
    "\n",
    "1. Wikipedia article ID\n",
    "2. Freebase ID\n",
    "3. Book title\n",
    "4. Author\n",
    "5. Publication date\n",
    "6. Book genres (Freebase ID:name tuples)\n",
    "7. Plot summary"
   ]
  },
  {
   "cell_type": "markdown",
   "metadata": {
    "id": "tADHxN9PLxcx"
   },
   "source": [
    "データセットをダウンロードして展開します。"
   ]
  },
  {
   "cell_type": "code",
   "metadata": {
    "colab": {
     "base_uri": "https://localhost:8080/"
    },
    "id": "rzBwakK7LpsA",
    "outputId": "20988aad-07c2-4dea-a02d-f87c98cd901b"
   },
   "source": [
    "!wget https://www.cs.cmu.edu/~dbamman/data/booksummaries.tar.gz\n",
    "!tar xvfz booksummaries.tar.gz"
   ],
   "execution_count": 3,
   "outputs": [
    {
     "output_type": "stream",
     "name": "stdout",
     "text": [
      "--2021-09-26 22:00:33--  https://www.cs.cmu.edu/~dbamman/data/booksummaries.tar.gz\n",
      "Resolving www.cs.cmu.edu (www.cs.cmu.edu)... 128.2.42.95\n",
      "Connecting to www.cs.cmu.edu (www.cs.cmu.edu)|128.2.42.95|:443... connected.\n",
      "HTTP request sent, awaiting response... 200 OK\n",
      "Length: 16795330 (16M) [application/x-gzip]\n",
      "Saving to: ‘booksummaries.tar.gz’\n",
      "\n",
      "booksummaries.tar.g 100%[===================>]  16.02M   200KB/s    in 75s     \n",
      "\n",
      "2021-09-26 22:01:49 (218 KB/s) - ‘booksummaries.tar.gz’ saved [16795330/16795330]\n",
      "\n",
      "booksummaries/\n",
      "booksummaries/README\n",
      "booksummaries/booksummaries.txt\n"
     ]
    }
   ]
  },
  {
   "cell_type": "markdown",
   "metadata": {
    "id": "qex_Fwt4LYWX"
   },
   "source": [
    "### ElasticSearchインスタンスのセットアップ"
   ]
  },
  {
   "cell_type": "code",
   "metadata": {
    "colab": {
     "base_uri": "https://localhost:8080/"
    },
    "id": "AlcIkd7ZL5LH",
    "outputId": "92943a03-f944-42b6-9a99-8770ef549e20"
   },
   "source": [
    "%%bash\n",
    "wget -q https://artifacts.elastic.co/downloads/elasticsearch/elasticsearch-oss-7.9.2-linux-x86_64.tar.gz\n",
    "wget -q https://artifacts.elastic.co/downloads/elasticsearch/elasticsearch-oss-7.9.2-linux-x86_64.tar.gz.sha512\n",
    "tar -xzf elasticsearch-oss-7.9.2-linux-x86_64.tar.gz\n",
    "sudo chown -R daemon:daemon elasticsearch-7.9.2/\n",
    "shasum -a 512 -c elasticsearch-oss-7.9.2-linux-x86_64.tar.gz.sha512"
   ],
   "execution_count": 4,
   "outputs": [
    {
     "output_type": "stream",
     "name": "stdout",
     "text": [
      "elasticsearch-oss-7.9.2-linux-x86_64.tar.gz: OK\n"
     ]
    }
   ]
  },
  {
   "cell_type": "markdown",
   "metadata": {
    "id": "EGLdrWOeL7tg"
   },
   "source": [
    "インスタンスをデーモンのプロセスとして立ち上げます。"
   ]
  },
  {
   "cell_type": "code",
   "metadata": {
    "colab": {
     "base_uri": "https://localhost:8080/"
    },
    "id": "5l5-FFLWL-y4",
    "outputId": "2a0c431b-9c94-42e5-8f14-38b1ecdd1c87"
   },
   "source": [
    "%%bash --bg\n",
    "sudo -H -u daemon elasticsearch-7.9.2/bin/elasticsearch"
   ],
   "execution_count": 5,
   "outputs": [
    {
     "output_type": "stream",
     "name": "stdout",
     "text": [
      "Starting job # 0 in a separate thread.\n"
     ]
    }
   ]
  },
  {
   "cell_type": "markdown",
   "metadata": {
    "id": "BrCACm2dMBRk"
   },
   "source": [
    "インスタンスがスタートするまで待つため、何秒かスリープさせましょう。"
   ]
  },
  {
   "cell_type": "code",
   "metadata": {
    "id": "nUfbauwXMBi9"
   },
   "source": [
    "time.sleep(20)"
   ],
   "execution_count": 6,
   "outputs": []
  },
  {
   "cell_type": "markdown",
   "metadata": {
    "id": "b3DRDMd8MKl1"
   },
   "source": [
    "インスタンスが立ち上がったら、grepでプロセスリストから`elasticsearch`を検索して、利用可能な状態になっているか確認します。"
   ]
  },
  {
   "cell_type": "code",
   "metadata": {
    "colab": {
     "base_uri": "https://localhost:8080/"
    },
    "id": "VitAcAkkMKua",
    "outputId": "6ea2a9d8-600e-42c7-8077-f2ef651b9873"
   },
   "source": [
    "%%bash\n",
    "ps -ef | grep elasticsearch"
   ],
   "execution_count": 7,
   "outputs": [
    {
     "output_type": "stream",
     "name": "stdout",
     "text": [
      "root         124     122  0 22:02 ?        00:00:00 sudo -H -u daemon elasticsearch-7.9.2/bin/elasticsearch\n",
      "daemon       125     124 97 22:02 ?        00:00:20 /content/elasticsearch-7.9.2/jdk/bin/java -Xshare:auto -Des.networkaddress.cache.ttl=60 -Des.networkaddress.cache.negative.ttl=10 -XX:+AlwaysPreTouch -Xss1m -Djava.awt.headless=true -Dfile.encoding=UTF-8 -Djna.nosys=true -XX:-OmitStackTraceInFastThrow -XX:+ShowCodeDetailsInExceptionMessages -Dio.netty.noUnsafe=true -Dio.netty.noKeySetOptimization=true -Dio.netty.recycler.maxCapacityPerThread=0 -Dio.netty.allocator.numDirectArenas=0 -Dlog4j.shutdownHookEnabled=false -Dlog4j2.disable.jmx=true -Djava.locale.providers=SPI,COMPAT -Xms1g -Xmx1g -XX:+UseG1GC -XX:G1ReservePercent=25 -XX:InitiatingHeapOccupancyPercent=30 -Djava.io.tmpdir=/tmp/elasticsearch-3871509100367782608 -XX:+HeapDumpOnOutOfMemoryError -XX:HeapDumpPath=data -XX:ErrorFile=logs/hs_err_pid%p.log -Xlog:gc*,gc+age=trace,safepoint:file=logs/gc.log:utctime,pid,tags:filecount=32,filesize=64m -XX:MaxDirectMemorySize=536870912 -Des.path.home=/content/elasticsearch-7.9.2 -Des.path.conf=/content/elasticsearch-7.9.2/config -Des.distribution.flavor=oss -Des.distribution.type=tar -Des.bundled_jdk=true -cp /content/elasticsearch-7.9.2/lib/* org.elasticsearch.bootstrap.Elasticsearch\n",
      "root         357     355  0 22:02 ?        00:00:00 grep elasticsearch\n"
     ]
    }
   ]
  },
  {
   "cell_type": "markdown",
   "metadata": {
    "id": "ftHjJN67MXwZ"
   },
   "source": [
    "クラスタに関する情報を検索するため、エンドポイントにクエリを投げてみましょう。"
   ]
  },
  {
   "cell_type": "code",
   "metadata": {
    "colab": {
     "base_uri": "https://localhost:8080/"
    },
    "id": "Q4bcqmbSMaUN",
    "outputId": "20dc327e-c6c5-41fd-dd67-88f20bb48f04"
   },
   "source": [
    "%%bash\n",
    "curl -sX GET \"localhost:9200/\""
   ],
   "execution_count": 8,
   "outputs": [
    {
     "output_type": "stream",
     "name": "stdout",
     "text": [
      "{\n",
      "  \"name\" : \"e1c7fab4f5b5\",\n",
      "  \"cluster_name\" : \"elasticsearch\",\n",
      "  \"cluster_uuid\" : \"grvYFXa5SfqKUB9UnKf-Mw\",\n",
      "  \"version\" : {\n",
      "    \"number\" : \"7.9.2\",\n",
      "    \"build_flavor\" : \"oss\",\n",
      "    \"build_type\" : \"tar\",\n",
      "    \"build_hash\" : \"d34da0ea4a966c4e49417f2da2f244e3e97b4e6e\",\n",
      "    \"build_date\" : \"2020-09-23T00:45:33.626720Z\",\n",
      "    \"build_snapshot\" : false,\n",
      "    \"lucene_version\" : \"8.6.2\",\n",
      "    \"minimum_wire_compatibility_version\" : \"6.8.0\",\n",
      "    \"minimum_index_compatibility_version\" : \"6.0.0-beta1\"\n",
      "  },\n",
      "  \"tagline\" : \"You Know, for Search\"\n",
      "}\n"
     ]
    }
   ]
  },
  {
   "cell_type": "markdown",
   "metadata": {
    "id": "JozuyOiUEqpZ"
   },
   "source": [
    "## Elasticsearchの利用"
   ]
  },
  {
   "cell_type": "markdown",
   "metadata": {
    "id": "28FitP3QEvox"
   },
   "source": [
    "Elasticsearchのインスタンスが立ち上がったので、使ってみましょう。まずは、既に`myindex`という名のインデックスが存在する場合は削除します。"
   ]
  },
  {
   "cell_type": "code",
   "metadata": {
    "id": "G7gy5xXpLrQq"
   },
   "source": [
    "# 既にインデックスが存在する場合は削除\n",
    "es = Elasticsearch([{\"host\": \"localhost\", \"port\": 9200}])\n",
    "if es.indices.exists(index=\"myindex\"):\n",
    "    es.indices.delete(\n",
    "        index=\"myindex\", ignore=[400, 404]\n",
    "    )"
   ],
   "execution_count": 9,
   "outputs": []
  },
  {
   "cell_type": "markdown",
   "metadata": {
    "id": "5uk9ideoE8_C"
   },
   "source": [
    "次に、アップロードしたデータセットを一行ずつ読み取り、インデックスに登録します。`doc`の内容を登録しています。"
   ]
  },
  {
   "cell_type": "code",
   "metadata": {
    "id": "riA5ep9yLrQ1",
    "colab": {
     "base_uri": "https://localhost:8080/"
    },
    "outputId": "ef06e859-d1ca-4bdd-9290-c75b5cdbd50e"
   },
   "source": [
    "# 500件だけ使う\n",
    "path = \"booksummaries/booksummaries.txt\"  # Add your path.\n",
    "count = 1\n",
    "for line in open(path):\n",
    "    fields = line.split(\"\\t\")\n",
    "    doc = {\n",
    "        \"id\": fields[0],\n",
    "        \"title\": fields[2],\n",
    "        \"author\": fields[3],\n",
    "        \"summary\": fields[6],\n",
    "    }\n",
    "\n",
    "    res = es.index(index=\"myindex\", id=fields[0], body=doc)\n",
    "    count = count + 1\n",
    "    if count % 100 == 0:\n",
    "        print(\"indexed 100 documents\")\n",
    "    if count == 501:\n",
    "        break"
   ],
   "execution_count": 10,
   "outputs": [
    {
     "output_type": "stream",
     "name": "stdout",
     "text": [
      "indexed 100 documents\n",
      "indexed 100 documents\n",
      "indexed 100 documents\n",
      "indexed 100 documents\n",
      "indexed 100 documents\n"
     ]
    }
   ]
  },
  {
   "cell_type": "markdown",
   "metadata": {
    "id": "Fn0d8WyGFMxH"
   },
   "source": [
    "インデックスの大きさを確認してみましょう。"
   ]
  },
  {
   "cell_type": "code",
   "metadata": {
    "id": "RGZjVbWlLrRB",
    "colab": {
     "base_uri": "https://localhost:8080/"
    },
    "outputId": "cafb9991-da16-45cf-9525-33fc0e97ae06"
   },
   "source": [
    "res = es.search(index=\"myindex\", body={\"query\": {\"match_all\": {}}})\n",
    "print(\"Your index has %d entries\" % res[\"hits\"][\"total\"][\"value\"])"
   ],
   "execution_count": 11,
   "outputs": [
    {
     "output_type": "stream",
     "name": "stdout",
     "text": [
      "Your index has 425 entries\n"
     ]
    }
   ]
  },
  {
   "cell_type": "markdown",
   "metadata": {
    "id": "i4_UTKeSFQwk"
   },
   "source": [
    "テストクエリを投げてみます。このクエリでは、`summary`フィールドに対して`animal`が含まれているかを全文検索しています。"
   ]
  },
  {
   "cell_type": "code",
   "metadata": {
    "id": "Ajt1YhMbLrRI",
    "colab": {
     "base_uri": "https://localhost:8080/"
    },
    "outputId": "eb463138-79b4-4f52-c399-230cc60d343e"
   },
   "source": [
    "res = es.search(index=\"myindex\", body={\"query\": {\"match\": {\"summary\": \"animal\"}}})\n",
    "print(\"Your search returned %d results.\" % res[\"hits\"][\"total\"][\"value\"])"
   ],
   "execution_count": 12,
   "outputs": [
    {
     "output_type": "stream",
     "name": "stdout",
     "text": [
      "Your search returned 16 results.\n"
     ]
    }
   ]
  },
  {
   "cell_type": "markdown",
   "metadata": {
    "id": "RF5BSGO0Fd_Q"
   },
   "source": [
    "クエリした結果を表示してみましょう。タイトルとサマリの先頭100文字だけ表示しています。"
   ]
  },
  {
   "cell_type": "code",
   "metadata": {
    "id": "tZcEXsQYLrRP",
    "colab": {
     "base_uri": "https://localhost:8080/"
    },
    "outputId": "306a6c4e-645b-4db3-fe6f-c74b11b3c1c6"
   },
   "source": [
    "print(res[\"hits\"][\"hits\"][2][\"_source\"][\"title\"])\n",
    "print(res[\"hits\"][\"hits\"][2][\"_source\"][\"summary\"][:100])"
   ],
   "execution_count": 13,
   "outputs": [
    {
     "output_type": "stream",
     "name": "stdout",
     "text": [
      "Dead Air\n",
      " The first person narrative begins on 11 September 2001, and Banks uses the protagonist's conversati\n"
     ]
    }
   ]
  },
  {
   "cell_type": "markdown",
   "metadata": {
    "id": "wj23rOkCFkbP"
   },
   "source": [
    "最後に、本の検索をしてみましょう。「STOP」と入力するまで検索し続けることができます。"
   ]
  },
  {
   "cell_type": "code",
   "metadata": {
    "id": "nkYJBQaHLrRW",
    "colab": {
     "base_uri": "https://localhost:8080/"
    },
    "outputId": "ab534187-7f6a-4e5f-bed0-892d72a871a0"
   },
   "source": [
    "# match query considers both exact matches, and fuzzy matches and works as a OR query.\n",
    "# match_phrase looks for exact matches.\n",
    "while True:\n",
    "    query = input(\"Enter your search query: \")\n",
    "    if query == \"STOP\":\n",
    "        break\n",
    "    res = es.search(\n",
    "        index=\"myindex\", body={\"query\": {\"match_phrase\": {\"summary\": query}}}\n",
    "    )\n",
    "    print(\"Your search returned %d results:\" % res[\"hits\"][\"total\"][\"value\"])\n",
    "    for hit in res[\"hits\"][\"hits\"]:\n",
    "        print(hit[\"_source\"][\"title\"])\n",
    "        # to get a snippet 100 characters before and after the match\n",
    "        loc = hit[\"_source\"][\"summary\"].lower().index(query)\n",
    "        print(hit[\"_source\"][\"summary\"][:100])\n",
    "        print(hit[\"_source\"][\"summary\"][loc - 100 : loc + 100])"
   ],
   "execution_count": 14,
   "outputs": [
    {
     "name": "stdout",
     "output_type": "stream",
     "text": [
      "Enter your search query: countess\n",
      "Your search returned 7 results:\n",
      "All's Well That Ends Well\n",
      " Helena, the orphan daughter of a famous physician, is the ward of the Countess of Rousillon, and ho\n",
      "\n",
      "The Last Man\n",
      " Mary Shelley states in the introduction that in 1818 she discovered, in the Sibyl's cave near Naple\n",
      "ng leaves the throne, the monarchy come to an end and a republic is created. When the king dies the Countess attempts to raise their son, Adrian, to reclaim the throne, but Adrian opposes his mother a\n",
      "The Luck of Barry Lyndon\n",
      " Redmond Barry of Bally Barry, born to a genteel but ruined Irish family, fancies himself a gentlema\n",
      "chy, where they win considerable sums of money and Redmond cleverly sets up a plan to marry a young countess of some means. Again, fortune turns against him, and a series of circumstances undermines h\n",
      "Carmilla\n",
      " The story is presented by Le Fanu as part of the casebook of Dr Hesselius, whose departures from me\n",
      "ily heirloom restored portraits arrives at the castle, Laura finds one of her ancestors, \"Mircalla, Countess Karnstein\", dated 1698. The portrait resembles Carmilla exactly, down to the mole on her ne\n",
      "Anna Karenina\n",
      " The novel is divided into eight parts. Its epigraph is Vengeance is mine, I will repay, from Romans\n",
      " at the railway station to meet Anna, Stiva bumps into Vronsky; he is there to meet his mother, the Countess Vronskaya. Anna and Vronskaya have traveled and talked together in the same carriage. As th\n",
      "Murder on the Orient Express\n",
      " Hercule Poirot boards the Orient Express in Constantinople. The train is unusually crowded for the \n",
      "us tragic actress of the New York stage, and was Sonia Armstrong's mother and Daisy's grandmother; *Countess Andrenyi (née Helena Goldenberg) was Sonia Armstrong's sister; *Count Andryeni was the husb\n",
      "War and Peace\n",
      " War and Peace has a large cast of characters, the majority of whom are introduced in the first book\n",
      "is impetuous and eager to join the army when of age. The heads of the family, Count Ilya Rostov and Countess Natalya Rostova, are an affectionate couple but forever worried about their disordered fina\n",
      "Enter your search query: STOP\n"
     ]
    }
   ]
  },
  {
   "cell_type": "markdown",
   "metadata": {
    "id": "YXUmbCcGGv21"
   },
   "source": [
    "今回は、キーワードベースでの検索をしましたが、Elasticsearchはベクトルを使って類似文書を検索する機能も備えています。その機能を使うことで、たとえば、BERTのようなモデルを使って、文書とクエリを固定長のベクトルに変換し、類似文書を高速に検索できます。興味のある方は、キーワード検索との違いを理解するために試してみるとよいでしょう。\n",
    "\n",
    "ちなみに、TensorFlow-IOを使うことで、Elasticsearchのデータを使ってTensorFlowのモデルを学習することもできます。興味のある方は、以下のノートブックを参照してください。\n",
    "\n",
    "- [Streaming structured data from Elasticsearch using Tensorflow-IO](https://colab.research.google.com/github/tensorflow/io/blob/master/docs/tutorials/elasticsearch.ipynb#scrollTo=ILyohKWQ_XQS)"
   ]
  },
  {
   "cell_type": "code",
   "metadata": {
    "id": "XU7OUNXLLrRd"
   },
   "source": [
    ""
   ],
   "execution_count": 14,
   "outputs": []
  }
 ]
}