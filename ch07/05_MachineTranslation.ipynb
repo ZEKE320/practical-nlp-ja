{
 "nbformat": 4,
 "nbformat_minor": 0,
 "metadata": {
  "kernelspec": {
   "display_name": "Python 3",
   "language": "python",
   "name": "python3"
  },
  "language_info": {
   "codemirror_mode": {
    "name": "ipython",
    "version": 3
   },
   "file_extension": ".py",
   "mimetype": "text/x-python",
   "name": "python",
   "nbconvert_exporter": "python",
   "pygments_lexer": "ipython3",
   "version": "3.5.6"
  },
  "colab": {
   "name": "05_MachineTranslation.ipynb",
   "provenance": [],
   "collapsed_sections": []
  }
 },
 "cells": [
  {
   "cell_type": "markdown",
   "metadata": {
    "id": "LRwoYw7WJn46"
   },
   "source": [
    "# Azure Cognitive ServicesのAPIを用いた機械翻訳\n",
    "\n",
    "このノートブックでは、Azure Cognitive Servicesの提供しているAPIを用いて、機械翻訳をする方法を紹介します。前提条件として、AzureサブスクリプションとTranslatorリソースの作成があります。詳細は以下を御覧ください。\n",
    "\n",
    "- [クイックスタート: Translator を使ってみる](https://docs.microsoft.com/ja-jp/azure/cognitive-services/translator/quickstart-translator?tabs=python)"
   ]
  },
  {
   "cell_type": "markdown",
   "metadata": {
    "id": "Tj5g5e4TLf1O"
   },
   "source": [
    "## 準備"
   ]
  },
  {
   "cell_type": "markdown",
   "metadata": {
    "id": "Itz-9BDnLhUa"
   },
   "source": [
    "### パッケージのインストール"
   ]
  },
  {
   "cell_type": "code",
   "metadata": {
    "colab": {
     "base_uri": "https://localhost:8080/"
    },
    "id": "YPZiAkD6Jn4_",
    "outputId": "2882dbb9-21ce-4fc7-a185-4a427d9980f0"
   },
   "source": [
    "!pip install -q requests==2.23.0"
   ],
   "execution_count": 1,
   "outputs": [
    {
     "output_type": "stream",
     "name": "stdout",
     "text": [
      "Requirement already satisfied: requests==2.23.0 in /usr/local/lib/python3.7/dist-packages (2.23.0)\n",
      "Requirement already satisfied: urllib3!=1.25.0,!=1.25.1,<1.26,>=1.21.1 in /usr/local/lib/python3.7/dist-packages (from requests==2.23.0) (1.24.3)\n",
      "Requirement already satisfied: idna<3,>=2.5 in /usr/local/lib/python3.7/dist-packages (from requests==2.23.0) (2.10)\n",
      "Requirement already satisfied: certifi>=2017.4.17 in /usr/local/lib/python3.7/dist-packages (from requests==2.23.0) (2021.5.30)\n",
      "Requirement already satisfied: chardet<4,>=3.0.2 in /usr/local/lib/python3.7/dist-packages (from requests==2.23.0) (3.0.4)\n"
     ]
    }
   ]
  },
  {
   "cell_type": "markdown",
   "metadata": {
    "id": "0khLhgLCLm8i"
   },
   "source": [
    "### インポート"
   ]
  },
  {
   "cell_type": "code",
   "metadata": {
    "id": "z2WowgNeJn5B"
   },
   "source": [
    "import json\n",
    "import os\n",
    "import uuid\n",
    "\n",
    "import requests"
   ],
   "execution_count": 2,
   "outputs": []
  },
  {
   "cell_type": "markdown",
   "metadata": {
    "id": "IWn6DIZRSn0J"
   },
   "source": [
    "## 使い方"
   ]
  },
  {
   "cell_type": "code",
   "metadata": {
    "colab": {
     "base_uri": "https://localhost:8080/"
    },
    "id": "nmGwgRFKLuLv",
    "outputId": "a3a3f01d-aa01-4ae7-dfdf-28d70b282aed"
   },
   "source": [
    "# サブスクリプションキーを作成したリソースのものに置き換えます。\n",
    "subscription_key = \"YOUR_SUBSCRIPTION_KEY\"\n",
    "endpoint = \"https://api.cognitive.microsofttranslator.com\"\n",
    "\n",
    "# リソースのロケーションを設定します。\n",
    "location = \"YOUR_RESOURCE_LOCATION\"\n",
    "\n",
    "path = '/translate'\n",
    "constructed_url = endpoint + path\n",
    "\n",
    "# 英語からドイツ語と日本語に翻訳してみましょう。\n",
    "params = {\n",
    "    'api-version': '3.0',\n",
    "    'from': 'en',\n",
    "    'to': ['de', 'ja']\n",
    "}\n",
    "\n",
    "headers = {\n",
    "    'Ocp-Apim-Subscription-Key': subscription_key,\n",
    "    'Ocp-Apim-Subscription-Region': location,\n",
    "    'Content-type': 'application/json',\n",
    "    'X-ClientTraceId': str(uuid.uuid4())\n",
    "}\n",
    "\n",
    "# bodyには複数のオブジェクトを渡すことができます。\n",
    "body = [\n",
    "    {\n",
    "        'text': 'Hello, World!'\n",
    "    },\n",
    "    {\n",
    "        'text': 'The problems are solved, not by giving new information, but by arranging what we have known since long.'\n",
    "    }\n",
    "]\n",
    "\n",
    "request = requests.post(constructed_url, params=params, headers=headers, json=body)\n",
    "response = request.json()\n",
    "\n",
    "print(json.dumps(response, sort_keys=True, ensure_ascii=False, indent=4, separators=(',', ': ')))"
   ],
   "execution_count": 6,
   "outputs": [
    {
     "output_type": "stream",
     "name": "stdout",
     "text": [
      "[\n",
      "    {\n",
      "        \"translations\": [\n",
      "            {\n",
      "                \"text\": \"Hallo Welt!\",\n",
      "                \"to\": \"de\"\n",
      "            },\n",
      "            {\n",
      "                \"text\": \"ハローワールド！\",\n",
      "                \"to\": \"ja\"\n",
      "            }\n",
      "        ]\n",
      "    },\n",
      "    {\n",
      "        \"translations\": [\n",
      "            {\n",
      "                \"text\": \"Die Probleme werden gelöst, nicht indem wir neue Informationen geben, sondern indem wir das arrangieren, was wir seit langem wissen.\",\n",
      "                \"to\": \"de\"\n",
      "            },\n",
      "            {\n",
      "                \"text\": \"問題は、新しい情報を提供するのではなく、長い間知っていることを整理することによって解決されます。\",\n",
      "                \"to\": \"ja\"\n",
      "            }\n",
      "        ]\n",
      "    }\n",
      "]\n"
     ]
    }
   ]
  },
  {
   "cell_type": "markdown",
   "metadata": {
    "id": "zfPTyE8_Jn5D"
   },
   "source": [
    "Google CloudやAWSも同様の翻訳サービスを提供しています。それらについては皆様の演習としておきましょう。\n",
    "\n",
    "今回使ったテキスト翻訳の他に、ドキュメント翻訳の機能も提供しています。ドキュメント翻訳では、さまざまなファイル形式の文書を、元の構造や形式を維持したまま、文書全体を翻訳できます。WordやPowerPoint、Excel、PDFなどのリッチコンテンツを含むファイルを翻訳できます。また、カスタム用語集やカスタムモデルをサポートしているので、特定のドメイン向けに品質を上げることもできるでしょう。\n",
    "\n",
    "ドキュメント翻訳の概要と詳細については、以下の記事を参照してください。\n",
    "\n",
    "- [Translate full documents with Document Translation ― Now in General Availability](https://www.microsoft.com/en-us/translator/blog/2021/05/25/translate-full-documents-with-document-translation-%E2%80%95-now-in-general-availability/)\n",
    "- [What is Document Translation?](https://docs.microsoft.com/en-us/azure/cognitive-services/translator/document-translation/overview)"
   ]
  },
  {
   "cell_type": "markdown",
   "metadata": {
    "id": "L0X0APmhR8v8"
   },
   "source": [
    "## 参考資料\n",
    "\n",
    "サポートしている言語は以下のページから確認できます。\n",
    "\n",
    "- [Translator language support](https://docs.microsoft.com/en-us/azure/cognitive-services/translator/language-support)\n",
    "\n",
    "その他、ドキュメントです。\n",
    "\n",
    "- [Translator documentation](https://docs.microsoft.com/en-us/azure/cognitive-services/translator/)"
   ]
  },
  {
   "cell_type": "code",
   "metadata": {
    "id": "51_xiNv6Jn5G"
   },
   "source": [
    ""
   ],
   "execution_count": null,
   "outputs": []
  }
 ]
}