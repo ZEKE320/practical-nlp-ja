{
 "nbformat": 4,
 "nbformat_minor": 0,
 "metadata": {
  "colab": {
   "name": "08_Duckling.ipynb",
   "provenance": [],
   "collapsed_sections": []
  },
  "kernelspec": {
   "display_name": "Python 3",
   "language": "python",
   "name": "python3"
  },
  "language_info": {
   "codemirror_mode": {
    "name": "ipython",
    "version": 3
   },
   "file_extension": ".py",
   "mimetype": "text/x-python",
   "name": "python",
   "nbconvert_exporter": "python",
   "pygments_lexer": "ipython3",
   "version": "3.6.9"
  }
 },
 "cells": [
  {
   "cell_type": "markdown",
   "metadata": {
    "id": "9MiGmfrbNo9P"
   },
   "source": [
    "# Ducklingを用いた時間情報の抽出\n",
    "\n",
    "このノートブックでは、[duckling](https://github.com/FraBle/python-duckling)を用いて時間情報の抽出をします。ducklingはwit.aiの開発した[Duckling](https://github.com/facebookarchive/duckling_old)のPythonラッパーです。"
   ]
  },
  {
   "cell_type": "markdown",
   "metadata": {
    "id": "6UavATpPKC1m"
   },
   "source": [
    "## 準備\n",
    "\n",
    "### パッケージのインストール"
   ]
  },
  {
   "cell_type": "code",
   "metadata": {
    "colab": {
     "base_uri": "https://localhost:8080/"
    },
    "id": "kt0BWbCFMLP0",
    "outputId": "0206bafb-e2a9-4b52-b015-612225a355e7"
   },
   "source": [
    "!pip install JPype1==0.7.4 #This is required as duckling is not compatible with recent versions of JPype.\n",
    "!pip install duckling==1.8.0"
   ],
   "execution_count": 1,
   "outputs": [
    {
     "output_type": "stream",
     "name": "stdout",
     "text": [
      "Collecting JPype1==0.7.4\n",
      "  Downloading JPype1-0.7.4-cp37-cp37m-manylinux1_x86_64.whl (2.9 MB)\n",
      "\u001B[K     |████████████████████████████████| 2.9 MB 8.6 MB/s \n",
      "\u001B[?25hInstalling collected packages: JPype1\n",
      "Successfully installed JPype1-0.7.4\n",
      "Collecting duckling==1.8.0\n",
      "  Downloading duckling-1.8.0-py2.py3-none-any.whl (4.2 MB)\n",
      "\u001B[K     |████████████████████████████████| 4.2 MB 6.8 MB/s \n",
      "\u001B[?25hRequirement already satisfied: JPype1 in /usr/local/lib/python3.7/dist-packages (from duckling==1.8.0) (0.7.4)\n",
      "Requirement already satisfied: python-dateutil in /usr/local/lib/python3.7/dist-packages (from duckling==1.8.0) (2.8.2)\n",
      "Requirement already satisfied: six in /usr/local/lib/python3.7/dist-packages (from duckling==1.8.0) (1.15.0)\n",
      "Installing collected packages: duckling\n",
      "Successfully installed duckling-1.8.0\n"
     ]
    }
   ]
  },
  {
   "cell_type": "markdown",
   "metadata": {
    "id": "JLqS-i66KF3z"
   },
   "source": [
    "### インポート"
   ]
  },
  {
   "cell_type": "code",
   "metadata": {
    "id": "taFQDgC7NUOt"
   },
   "source": [
    "from pprint import pprint\n",
    "\n",
    "from duckling import DucklingWrapper"
   ],
   "execution_count": 2,
   "outputs": []
  },
  {
   "cell_type": "markdown",
   "metadata": {
    "id": "aM7LgvjGKPWE"
   },
   "source": [
    "## 時間情報の抽出"
   ]
  },
  {
   "cell_type": "code",
   "metadata": {
    "colab": {
     "base_uri": "https://localhost:8080/"
    },
    "id": "xDDNmWFQbFQF",
    "outputId": "7f088f8c-13db-4e86-94fd-cb8268d81192"
   },
   "source": [
    "d = DucklingWrapper()\n",
    "pprint(d.parse_time(u\"Let's meet at 11:45am\"))"
   ],
   "execution_count": 14,
   "outputs": [
    {
     "output_type": "stream",
     "name": "stdout",
     "text": [
      "[{'dim': 'time',\n",
      "  'end': 21,\n",
      "  'start': 11,\n",
      "  'text': 'at 11:45am',\n",
      "  'value': {'grain': 'minute',\n",
      "            'others': [{'grain': 'minute', 'value': '2021-09-20T11:45:00.000Z'},\n",
      "                       {'grain': 'minute', 'value': '2021-09-21T11:45:00.000Z'},\n",
      "                       {'grain': 'minute',\n",
      "                        'value': '2021-09-22T11:45:00.000Z'}],\n",
      "            'value': '2021-09-20T11:45:00.000Z'}}]\n"
     ]
    }
   ]
  },
  {
   "cell_type": "code",
   "metadata": {
    "colab": {
     "base_uri": "https://localhost:8080/"
    },
    "id": "anWMHSQAbHi-",
    "outputId": "c3afa020-a466-4931-f52b-a84b91a7be37"
   },
   "source": [
    "pprint(d.parse_time(u\"You owe me twenty bucks, please call me today\"))"
   ],
   "execution_count": 15,
   "outputs": [
    {
     "output_type": "stream",
     "name": "stdout",
     "text": [
      "[{'dim': 'time',\n",
      "  'end': 45,\n",
      "  'start': 40,\n",
      "  'text': 'today',\n",
      "  'value': {'grain': 'day',\n",
      "            'others': [{'grain': 'day', 'value': '2021-09-20T00:00:00.000Z'}],\n",
      "            'value': '2021-09-20T00:00:00.000Z'}},\n",
      " {'dim': 'time',\n",
      "  'end': 17,\n",
      "  'start': 11,\n",
      "  'text': 'twenty',\n",
      "  'value': {'grain': 'year',\n",
      "            'others': [],\n",
      "            'value': '2020-01-01T00:00:00.000Z'}}]\n"
     ]
    }
   ]
  },
  {
   "cell_type": "markdown",
   "metadata": {
    "id": "mTiNsnoG0BaK"
   },
   "source": [
    "## 気温の抽出"
   ]
  },
  {
   "cell_type": "code",
   "metadata": {
    "colab": {
     "base_uri": "https://localhost:8080/"
    },
    "id": "_ab9_gzGbab2",
    "outputId": "3ba05972-fc64-4628-c965-425e68b78b2e"
   },
   "source": [
    "pprint(\n",
    "    d.parse_temperature(\n",
    "        u\"Let's change the temperatur from thirty two celsius to 65 degrees\"\n",
    "    )\n",
    ")"
   ],
   "execution_count": 16,
   "outputs": [
    {
     "output_type": "stream",
     "name": "stdout",
     "text": [
      "[{'dim': 'temperature',\n",
      "  'end': 65,\n",
      "  'start': 55,\n",
      "  'text': '65 degrees',\n",
      "  'value': {'unit': 'degree', 'value': 65.0}},\n",
      " {'dim': 'temperature',\n",
      "  'end': 51,\n",
      "  'start': 33,\n",
      "  'text': 'thirty two celsius',\n",
      "  'value': {'unit': 'celsius', 'value': 32.0}}]\n"
     ]
    }
   ]
  },
  {
   "cell_type": "code",
   "metadata": {
    "colab": {
     "base_uri": "https://localhost:8080/"
    },
    "id": "EfemP87nKuqr",
    "outputId": "b517bb75-eb26-45e1-93b1-17d08af49dc7"
   },
   "source": [
    "pprint(\n",
    "    d.parse_temperature(\n",
    "        u\"It's getting hotter day by day, yesterday it was thirty-five degrees celcius today its 37 degrees \"\n",
    "    )\n",
    ")"
   ],
   "execution_count": 17,
   "outputs": [
    {
     "output_type": "stream",
     "name": "stdout",
     "text": [
      "[{'dim': 'temperature',\n",
      "  'end': 97,\n",
      "  'start': 87,\n",
      "  'text': '37 degrees',\n",
      "  'value': {'unit': 'degree', 'value': 37.0}},\n",
      " {'dim': 'temperature',\n",
      "  'end': 76,\n",
      "  'start': 49,\n",
      "  'text': 'thirty-five degrees celcius',\n",
      "  'value': {'unit': 'celsius', 'value': 35.0}}]\n"
     ]
    }
   ]
  },
  {
   "cell_type": "markdown",
   "metadata": {
    "id": "MIhGr8sD0EaK"
   },
   "source": [
    "## タイムゾーンの抽出"
   ]
  },
  {
   "cell_type": "code",
   "metadata": {
    "colab": {
     "base_uri": "https://localhost:8080/"
    },
    "id": "n80DX6jLbncT",
    "outputId": "6d1bca1c-8fb3-4baa-f03e-fd18b12904db"
   },
   "source": [
    "pprint(d.parse_timezone(u\"Let's meet at 10pm IST\"))"
   ],
   "execution_count": 18,
   "outputs": [
    {
     "output_type": "stream",
     "name": "stdout",
     "text": [
      "[{'dim': 'timezone',\n",
      "  'end': 22,\n",
      "  'start': 19,\n",
      "  'text': 'IST',\n",
      "  'value': {'value': 'IST'}}]\n"
     ]
    }
   ]
  },
  {
   "cell_type": "code",
   "metadata": {
    "colab": {
     "base_uri": "https://localhost:8080/"
    },
    "id": "1aoq67L6K0mZ",
    "outputId": "f068a343-e2ed-4854-bc31-d58aa961b4a0"
   },
   "source": [
    "pprint(d.parse_timezone(u\"Let's meet at 22:00 EST\"))"
   ],
   "execution_count": 19,
   "outputs": [
    {
     "output_type": "stream",
     "name": "stdout",
     "text": [
      "[{'dim': 'timezone',\n",
      "  'end': 23,\n",
      "  'start': 20,\n",
      "  'text': 'EST',\n",
      "  'value': {'value': 'EST'}}]\n"
     ]
    }
   ]
  },
  {
   "cell_type": "markdown",
   "metadata": {
    "id": "namYN2uV03r-"
   },
   "source": [
    "## 数値の抽出"
   ]
  },
  {
   "cell_type": "code",
   "metadata": {
    "colab": {
     "base_uri": "https://localhost:8080/"
    },
    "id": "TPUGDEUocLou",
    "outputId": "5741f50f-86a2-4a95-f829-8d5a8c54e319"
   },
   "source": [
    "d.parse_number(u\"Hey i am a 20 year old student from Alaska\")"
   ],
   "execution_count": 7,
   "outputs": [
    {
     "output_type": "execute_result",
     "data": {
      "text/plain": [
       "[{'dim': 'number',\n",
       "  'end': 13,\n",
       "  'start': 11,\n",
       "  'text': '20',\n",
       "  'value': {'value': 20.0}}]"
      ]
     },
     "metadata": {},
     "execution_count": 7
    }
   ]
  },
  {
   "cell_type": "markdown",
   "metadata": {
    "id": "O-5RYo3j07Rc"
   },
   "source": [
    "## 順序の抽出"
   ]
  },
  {
   "cell_type": "code",
   "metadata": {
    "colab": {
     "base_uri": "https://localhost:8080/"
    },
    "id": "N-lovNRKcUPA",
    "outputId": "61312807-09fe-427d-d87c-8c1ab7a4e2dd"
   },
   "source": [
    "d.parse_ordinal(u\"I came 2nd and u came 1st in a race\")"
   ],
   "execution_count": 8,
   "outputs": [
    {
     "output_type": "execute_result",
     "data": {
      "text/plain": [
       "[{'dim': 'ordinal',\n",
       "  'end': 10,\n",
       "  'start': 7,\n",
       "  'text': '2nd',\n",
       "  'value': {'value': 2}},\n",
       " {'dim': 'ordinal',\n",
       "  'end': 25,\n",
       "  'start': 22,\n",
       "  'text': '1st',\n",
       "  'value': {'value': 1}}]"
      ]
     },
     "metadata": {},
     "execution_count": 8
    }
   ]
  },
  {
   "cell_type": "markdown",
   "metadata": {
    "id": "dyNu2zVG0_lN"
   },
   "source": [
    "## 金額の抽出"
   ]
  },
  {
   "cell_type": "code",
   "metadata": {
    "colab": {
     "base_uri": "https://localhost:8080/"
    },
    "id": "RvEkCiBxcta4",
    "outputId": "2b9c36aa-0797-4bbb-e669-23ba27693dbf"
   },
   "source": [
    "d.parse_money(u\"This meal costs 3$\")"
   ],
   "execution_count": 9,
   "outputs": [
    {
     "output_type": "execute_result",
     "data": {
      "text/plain": [
       "[{'dim': 'amount-of-money',\n",
       "  'end': 18,\n",
       "  'start': 16,\n",
       "  'text': '3$',\n",
       "  'value': {'unit': '$', 'value': 3.0}}]"
      ]
     },
     "metadata": {},
     "execution_count": 9
    }
   ]
  },
  {
   "cell_type": "markdown",
   "metadata": {
    "id": "TtzDTHoy1GG2"
   },
   "source": [
    "## メールアドレスの抽出"
   ]
  },
  {
   "cell_type": "code",
   "metadata": {
    "colab": {
     "base_uri": "https://localhost:8080/"
    },
    "id": "HJG0t9Iyc1rI",
    "outputId": "4908876f-91ab-49a3-e591-264c39a1e453"
   },
   "source": [
    "d.parse_email(u\"my email is abcxyz@gmail.com\")"
   ],
   "execution_count": 10,
   "outputs": [
    {
     "output_type": "execute_result",
     "data": {
      "text/plain": [
       "[{'dim': 'email',\n",
       "  'end': 28,\n",
       "  'start': 12,\n",
       "  'text': 'abcxyz@gmail.com',\n",
       "  'value': {'value': 'abcxyz@gmail.com'}}]"
      ]
     },
     "metadata": {},
     "execution_count": 10
    }
   ]
  },
  {
   "cell_type": "markdown",
   "metadata": {
    "id": "ixVmrKBw1NPx"
   },
   "source": [
    "## 機関の抽出"
   ]
  },
  {
   "cell_type": "code",
   "metadata": {
    "colab": {
     "base_uri": "https://localhost:8080/"
    },
    "id": "DxmmN78bdHqK",
    "outputId": "ee669ce9-0d39-4a87-f8e9-d3f5d3839a1f"
   },
   "source": [
    "d.parse_duration(\n",
    "    u\"I have been working on this project for 4 hrs every month for almost 2 years.\"\n",
    ")"
   ],
   "execution_count": 11,
   "outputs": [
    {
     "output_type": "execute_result",
     "data": {
      "text/plain": [
       "[{'dim': 'duration',\n",
       "  'end': 45,\n",
       "  'start': 40,\n",
       "  'text': '4 hrs',\n",
       "  'value': {'day': None,\n",
       "   'hour': 4,\n",
       "   'minute': None,\n",
       "   'month': None,\n",
       "   'second': None,\n",
       "   'unit': 'hour',\n",
       "   'value': 4.0,\n",
       "   'year': None}},\n",
       " {'dim': 'duration',\n",
       "  'end': 76,\n",
       "  'start': 69,\n",
       "  'text': '2 years',\n",
       "  'value': {'day': None,\n",
       "   'hour': None,\n",
       "   'minute': None,\n",
       "   'month': None,\n",
       "   'second': None,\n",
       "   'unit': 'year',\n",
       "   'value': 2.0,\n",
       "   'year': 2}}]"
      ]
     },
     "metadata": {},
     "execution_count": 11
    }
   ]
  },
  {
   "cell_type": "markdown",
   "metadata": {
    "id": "ktDtLHCY1y_f"
   },
   "source": [
    "## URLの抽出"
   ]
  },
  {
   "cell_type": "code",
   "metadata": {
    "colab": {
     "base_uri": "https://localhost:8080/"
    },
    "id": "HEBKT4BT11sb",
    "outputId": "0768a006-147a-436f-a112-4b7cad5f2330"
   },
   "source": [
    "d.parse_url(\n",
    "    u\"The official website for the book Practical NLP is http://www.practicalnlp.ai/\"\n",
    ")"
   ],
   "execution_count": 20,
   "outputs": [
    {
     "output_type": "execute_result",
     "data": {
      "text/plain": [
       "[{'dim': 'url',\n",
       "  'end': 78,\n",
       "  'start': 51,\n",
       "  'text': 'http://www.practicalnlp.ai/',\n",
       "  'value': {'value': 'http://www.practicalnlp.ai/'}},\n",
       " {'dim': 'url',\n",
       "  'end': 78,\n",
       "  'start': 51,\n",
       "  'text': 'http://www.practicalnlp.ai/',\n",
       "  'value': {'value': 'http://www.practicalnlp.ai/'}}]"
      ]
     },
     "metadata": {},
     "execution_count": 20
    }
   ]
  },
  {
   "cell_type": "markdown",
   "metadata": {
    "id": "k0Ox-vvV2K7I"
   },
   "source": [
    "## 電話番号の抽出"
   ]
  },
  {
   "cell_type": "code",
   "metadata": {
    "colab": {
     "base_uri": "https://localhost:8080/"
    },
    "id": "gSRr-ae52Ryd",
    "outputId": "b25bab0f-9f1c-400c-c575-73f91c90bf87"
   },
   "source": [
    "d.parse_phone_number(u\"Enter text here\")  # didnt demo this due to privacy reasons"
   ],
   "execution_count": 13,
   "outputs": [
    {
     "output_type": "execute_result",
     "data": {
      "text/plain": [
       "[]"
      ]
     },
     "metadata": {},
     "execution_count": 13
    }
   ]
  },
  {
   "cell_type": "code",
   "metadata": {
    "id": "X0fn0XJ665BR"
   },
   "source": [
    ""
   ],
   "execution_count": 13,
   "outputs": []
  }
 ]
}