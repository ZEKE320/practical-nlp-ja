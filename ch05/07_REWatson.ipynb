{
 "nbformat": 4,
 "nbformat_minor": 0,
 "metadata": {
  "kernelspec": {
   "display_name": "Python 3",
   "language": "python",
   "name": "python3"
  },
  "language_info": {
   "codemirror_mode": {
    "name": "ipython",
    "version": 3
   },
   "file_extension": ".py",
   "mimetype": "text/x-python",
   "name": "python",
   "nbconvert_exporter": "python",
   "pygments_lexer": "ipython3",
   "version": "3.6.8"
  },
  "colab": {
   "name": "07_REWatson.ipynb",
   "provenance": [],
   "collapsed_sections": []
  }
 },
 "cells": [
  {
   "cell_type": "markdown",
   "metadata": {
    "id": "h1LvyMCvcnft"
   },
   "source": [
    "# Watsonを使った関係抽出\n",
    "\n",
    "このノートブックでは、IBM Watsonを用いて関係抽出をします。[無料枠](https://www.ibm.com/cloud/free)があるので、試すのには十分でしょう。\n",
    "\n",
    "1. アカウントを作成\n",
    "2. Natural Language Understandingを作成\n",
    "3. 「管理」ページで、 「表示」をクリックして資格情報を表示\n",
    "4. 「API キー」の値と「URL」の値をコピー\n"
   ]
  },
  {
   "cell_type": "markdown",
   "metadata": {
    "id": "hL6-RsoTnsIu"
   },
   "source": [
    "## パッケージのインストール"
   ]
  },
  {
   "cell_type": "code",
   "metadata": {
    "colab": {
     "base_uri": "https://localhost:8080/"
    },
    "id": "aORHwNTCnucq",
    "outputId": "3c7cbf90-57b3-4339-f8c0-e17eb2590acc"
   },
   "source": [
    "!pip install -q ibm-watson==5.3.0"
   ],
   "execution_count": 1,
   "outputs": [
    {
     "output_type": "stream",
     "name": "stdout",
     "text": [
      "Collecting ibm-watson\n",
      "  Downloading ibm-watson-5.3.0.tar.gz (412 kB)\n",
      "\u001B[?25l\r\u001B[K     |▉                               | 10 kB 17.9 MB/s eta 0:00:01\r\u001B[K     |█▋                              | 20 kB 24.3 MB/s eta 0:00:01\r\u001B[K     |██▍                             | 30 kB 27.9 MB/s eta 0:00:01\r\u001B[K     |███▏                            | 40 kB 18.4 MB/s eta 0:00:01\r\u001B[K     |████                            | 51 kB 9.1 MB/s eta 0:00:01\r\u001B[K     |████▊                           | 61 kB 7.5 MB/s eta 0:00:01\r\u001B[K     |█████▋                          | 71 kB 8.3 MB/s eta 0:00:01\r\u001B[K     |██████▍                         | 81 kB 9.3 MB/s eta 0:00:01\r\u001B[K     |███████▏                        | 92 kB 7.3 MB/s eta 0:00:01\r\u001B[K     |████████                        | 102 kB 8.0 MB/s eta 0:00:01\r\u001B[K     |████████▊                       | 112 kB 8.0 MB/s eta 0:00:01\r\u001B[K     |█████████▌                      | 122 kB 8.0 MB/s eta 0:00:01\r\u001B[K     |██████████▎                     | 133 kB 8.0 MB/s eta 0:00:01\r\u001B[K     |███████████▏                    | 143 kB 8.0 MB/s eta 0:00:01\r\u001B[K     |████████████                    | 153 kB 8.0 MB/s eta 0:00:01\r\u001B[K     |████████████▊                   | 163 kB 8.0 MB/s eta 0:00:01\r\u001B[K     |█████████████▌                  | 174 kB 8.0 MB/s eta 0:00:01\r\u001B[K     |██████████████▎                 | 184 kB 8.0 MB/s eta 0:00:01\r\u001B[K     |███████████████                 | 194 kB 8.0 MB/s eta 0:00:01\r\u001B[K     |████████████████                | 204 kB 8.0 MB/s eta 0:00:01\r\u001B[K     |████████████████▊               | 215 kB 8.0 MB/s eta 0:00:01\r\u001B[K     |█████████████████▌              | 225 kB 8.0 MB/s eta 0:00:01\r\u001B[K     |██████████████████▎             | 235 kB 8.0 MB/s eta 0:00:01\r\u001B[K     |███████████████████             | 245 kB 8.0 MB/s eta 0:00:01\r\u001B[K     |███████████████████▉            | 256 kB 8.0 MB/s eta 0:00:01\r\u001B[K     |████████████████████▋           | 266 kB 8.0 MB/s eta 0:00:01\r\u001B[K     |█████████████████████▌          | 276 kB 8.0 MB/s eta 0:00:01\r\u001B[K     |██████████████████████▎         | 286 kB 8.0 MB/s eta 0:00:01\r\u001B[K     |███████████████████████         | 296 kB 8.0 MB/s eta 0:00:01\r\u001B[K     |███████████████████████▉        | 307 kB 8.0 MB/s eta 0:00:01\r\u001B[K     |████████████████████████▋       | 317 kB 8.0 MB/s eta 0:00:01\r\u001B[K     |█████████████████████████▍      | 327 kB 8.0 MB/s eta 0:00:01\r\u001B[K     |██████████████████████████▏     | 337 kB 8.0 MB/s eta 0:00:01\r\u001B[K     |███████████████████████████     | 348 kB 8.0 MB/s eta 0:00:01\r\u001B[K     |███████████████████████████▉    | 358 kB 8.0 MB/s eta 0:00:01\r\u001B[K     |████████████████████████████▋   | 368 kB 8.0 MB/s eta 0:00:01\r\u001B[K     |█████████████████████████████▍  | 378 kB 8.0 MB/s eta 0:00:01\r\u001B[K     |██████████████████████████████▏ | 389 kB 8.0 MB/s eta 0:00:01\r\u001B[K     |███████████████████████████████ | 399 kB 8.0 MB/s eta 0:00:01\r\u001B[K     |███████████████████████████████▉| 409 kB 8.0 MB/s eta 0:00:01\r\u001B[K     |████████████████████████████████| 412 kB 8.0 MB/s \n",
      "\u001B[?25h  Installing build dependencies ... \u001B[?25l\u001B[?25hdone\n",
      "  Getting requirements to build wheel ... \u001B[?25l\u001B[?25hdone\n",
      "    Preparing wheel metadata ... \u001B[?25l\u001B[?25hdone\n",
      "Requirement already satisfied: python-dateutil>=2.5.3 in /usr/local/lib/python3.7/dist-packages (from ibm-watson) (2.8.2)\n",
      "Requirement already satisfied: requests<3.0,>=2.0 in /usr/local/lib/python3.7/dist-packages (from ibm-watson) (2.23.0)\n",
      "Collecting ibm-cloud-sdk-core==3.*,>=3.3.6\n",
      "  Downloading ibm-cloud-sdk-core-3.11.3.tar.gz (45 kB)\n",
      "\u001B[K     |████████████████████████████████| 45 kB 2.8 MB/s \n",
      "\u001B[?25hCollecting websocket-client==1.1.0\n",
      "  Downloading websocket_client-1.1.0-py2.py3-none-any.whl (68 kB)\n",
      "\u001B[K     |████████████████████████████████| 68 kB 7.0 MB/s \n",
      "\u001B[?25hCollecting PyJWT<3.0.0,>=2.0.1\n",
      "  Downloading PyJWT-2.1.0-py3-none-any.whl (16 kB)\n",
      "Requirement already satisfied: six>=1.5 in /usr/local/lib/python3.7/dist-packages (from python-dateutil>=2.5.3->ibm-watson) (1.15.0)\n",
      "Requirement already satisfied: idna<3,>=2.5 in /usr/local/lib/python3.7/dist-packages (from requests<3.0,>=2.0->ibm-watson) (2.10)\n",
      "Requirement already satisfied: certifi>=2017.4.17 in /usr/local/lib/python3.7/dist-packages (from requests<3.0,>=2.0->ibm-watson) (2021.5.30)\n",
      "Requirement already satisfied: chardet<4,>=3.0.2 in /usr/local/lib/python3.7/dist-packages (from requests<3.0,>=2.0->ibm-watson) (3.0.4)\n",
      "Requirement already satisfied: urllib3!=1.25.0,!=1.25.1,<1.26,>=1.21.1 in /usr/local/lib/python3.7/dist-packages (from requests<3.0,>=2.0->ibm-watson) (1.24.3)\n",
      "Building wheels for collected packages: ibm-watson, ibm-cloud-sdk-core\n",
      "  Building wheel for ibm-watson (PEP 517) ... \u001B[?25l\u001B[?25hdone\n",
      "  Created wheel for ibm-watson: filename=ibm_watson-5.3.0-py3-none-any.whl size=408872 sha256=2c145dd642bfa9801b534e9b8cf64253e21d067a2e4409fc8c4f0a9023b873cb\n",
      "  Stored in directory: /root/.cache/pip/wheels/21/d9/82/4ce5b94730bc4f1f7b4c6384f72964b9b8f79fcc125bb8085c\n",
      "  Building wheel for ibm-cloud-sdk-core (setup.py) ... \u001B[?25l\u001B[?25hdone\n",
      "  Created wheel for ibm-cloud-sdk-core: filename=ibm_cloud_sdk_core-3.11.3-py3-none-any.whl size=74751 sha256=1148cc6d0d1bfd31119e2ab2f029eb90e3502f1a4a84505fd798f04ca95d88df\n",
      "  Stored in directory: /root/.cache/pip/wheels/93/85/b2/7c2428617824a175293f7957d4a20b4975eb0ddbef52800006\n",
      "Successfully built ibm-watson ibm-cloud-sdk-core\n",
      "Installing collected packages: PyJWT, websocket-client, ibm-cloud-sdk-core, ibm-watson\n",
      "Successfully installed PyJWT-2.1.0 ibm-cloud-sdk-core-3.11.3 ibm-watson-5.3.0 websocket-client-1.1.0\n"
     ]
    }
   ]
  },
  {
   "cell_type": "markdown",
   "metadata": {
    "id": "yS9OtClxpJ5v"
   },
   "source": [
    "## 関係抽出\n",
    "\n",
    "コピーしたAPIキーとURLを以下のコードに貼り付けて実行してみましょう。"
   ]
  },
  {
   "cell_type": "code",
   "metadata": {
    "colab": {
     "base_uri": "https://localhost:8080/"
    },
    "id": "p_KSSRYPoH3X",
    "outputId": "59ece7c2-1f25-480e-b27e-37d0f745f577"
   },
   "source": [
    "import json\n",
    "from ibm_watson import NaturalLanguageUnderstandingV1\n",
    "from ibm_watson.natural_language_understanding_v1 import Features, RelationsOptions\n",
    "from ibm_cloud_sdk_core.authenticators import IAMAuthenticator\n",
    "\n",
    "# Authentication via IAM\n",
    "API_KEY = \"{API KEY}\"\n",
    "URL = \"{URL}\"\n",
    "authenticator = IAMAuthenticator(API_KEY)\n",
    "service = NaturalLanguageUnderstandingV1(\n",
    "    version=\"2018-03-16\",\n",
    "    authenticator=authenticator\n",
    ")\n",
    "service.set_service_url(URL)\n",
    "response = service.analyze(\n",
    "    text=\"Leonardo DiCaprio won Best Actor in a Leading Role for his performance.\",\n",
    "    features=Features(relations=RelationsOptions()),\n",
    ").get_result()\n",
    "print(json.dumps(response, indent=2))"
   ],
   "execution_count": 5,
   "outputs": [
    {
     "output_type": "stream",
     "name": "stdout",
     "text": [
      "{\n",
      "  \"usage\": {\n",
      "    \"text_units\": 1,\n",
      "    \"text_characters\": 71,\n",
      "    \"features\": 1\n",
      "  },\n",
      "  \"relations\": [\n",
      "    {\n",
      "      \"type\": \"awardedTo\",\n",
      "      \"sentence\": \"Leonardo DiCaprio won Best Actor in a Leading Role for his performance.\",\n",
      "      \"score\": 0.680715,\n",
      "      \"arguments\": [\n",
      "        {\n",
      "          \"text\": \"Best Actor\",\n",
      "          \"location\": [\n",
      "            22,\n",
      "            32\n",
      "          ],\n",
      "          \"entities\": [\n",
      "            {\n",
      "              \"type\": \"EntertainmentAward\",\n",
      "              \"text\": \"Best Actor\"\n",
      "            }\n",
      "          ]\n",
      "        },\n",
      "        {\n",
      "          \"text\": \"Leonardo DiCaprio\",\n",
      "          \"location\": [\n",
      "            0,\n",
      "            17\n",
      "          ],\n",
      "          \"entities\": [\n",
      "            {\n",
      "              \"type\": \"Person\",\n",
      "              \"text\": \"Leonardo DiCaprio\"\n",
      "            }\n",
      "          ]\n",
      "        }\n",
      "      ]\n",
      "    }\n",
      "  ],\n",
      "  \"language\": \"en\"\n",
      "}\n"
     ]
    }
   ]
  },
  {
   "cell_type": "code",
   "metadata": {
    "id": "W0C7khY9cnf0"
   },
   "source": [
    "mytext = \"Satya Narayana Nadella currently serves as the Chief Executive Officer (CEO) of Microsoft.\""
   ],
   "execution_count": 6,
   "outputs": []
  },
  {
   "cell_type": "code",
   "metadata": {
    "id": "ok9whBoIcnf7",
    "colab": {
     "base_uri": "https://localhost:8080/"
    },
    "outputId": "39e51cd6-7137-46be-9c57-a81cbd663f1c"
   },
   "source": [
    "response = service.analyze(\n",
    "    text=mytext, features=Features(relations=RelationsOptions())\n",
    ").get_result()\n",
    "print(json.dumps(response, indent=2))"
   ],
   "execution_count": 7,
   "outputs": [
    {
     "output_type": "stream",
     "name": "stdout",
     "text": [
      "{\n",
      "  \"usage\": {\n",
      "    \"text_units\": 1,\n",
      "    \"text_characters\": 90,\n",
      "    \"features\": 1\n",
      "  },\n",
      "  \"relations\": [\n",
      "    {\n",
      "      \"type\": \"employedBy\",\n",
      "      \"sentence\": \"Satya Narayana Nadella currently serves as the Chief Executive Officer (CEO) of Microsoft.\",\n",
      "      \"score\": 0.48706,\n",
      "      \"arguments\": [\n",
      "        {\n",
      "          \"text\": \"CEO\",\n",
      "          \"location\": [\n",
      "            72,\n",
      "            75\n",
      "          ],\n",
      "          \"entities\": [\n",
      "            {\n",
      "              \"type\": \"Person\",\n",
      "              \"text\": \"Satya Narayana Nadella\"\n",
      "            }\n",
      "          ]\n",
      "        },\n",
      "        {\n",
      "          \"text\": \"Microsoft\",\n",
      "          \"location\": [\n",
      "            80,\n",
      "            89\n",
      "          ],\n",
      "          \"entities\": [\n",
      "            {\n",
      "              \"type\": \"Organization\",\n",
      "              \"text\": \"Microsoft\",\n",
      "              \"disambiguation\": {\n",
      "                \"subtype\": [\n",
      "                  \"Commercial\"\n",
      "                ]\n",
      "              }\n",
      "            }\n",
      "          ]\n",
      "        }\n",
      "      ]\n",
      "    }\n",
      "  ],\n",
      "  \"language\": \"en\"\n",
      "}\n"
     ]
    }
   ]
  },
  {
   "cell_type": "code",
   "metadata": {
    "colab": {
     "base_uri": "https://localhost:8080/"
    },
    "id": "bvyt5PTRo-os",
    "outputId": "871ae384-f358-439b-fad4-4c65a94660e3"
   },
   "source": [
    "for item in response[\"relations\"]:\n",
    "    print(item[\"type\"])\n",
    "    for subitem in item[\"arguments\"]:\n",
    "        print(subitem[\"entities\"])"
   ],
   "execution_count": 8,
   "outputs": [
    {
     "output_type": "stream",
     "name": "stdout",
     "text": [
      "employedBy\n",
      "[{'type': 'Person', 'text': 'Satya Narayana Nadella'}]\n",
      "[{'type': 'Organization', 'text': 'Microsoft', 'disambiguation': {'subtype': ['Commercial']}}]\n"
     ]
    }
   ]
  },
  {
   "cell_type": "code",
   "metadata": {
    "id": "LPOOAWyzcngP",
    "colab": {
     "base_uri": "https://localhost:8080/"
    },
    "outputId": "46103c2b-527d-417f-bcb3-e72fb2369e4b"
   },
   "source": [
    "mytext2 = \"Nadella was born in Hyderabad. His father, Bukkapuram Nadella Yugandher, was a civil servant who worked for the Indian Administrative Service of the Government of India. His mother was a Sanskrit scholar. \"\n",
    "response = service.analyze(\n",
    "    text=mytext2, features=Features(relations=RelationsOptions())\n",
    ").get_result()\n",
    "for item in response[\"relations\"]:\n",
    "    print(item[\"type\"])\n",
    "    for subitem in item[\"arguments\"]:\n",
    "        print(subitem[\"entities\"])"
   ],
   "execution_count": 9,
   "outputs": [
    {
     "output_type": "stream",
     "name": "stdout",
     "text": [
      "bornAt\n",
      "[{'type': 'Person', 'text': 'Nadella'}]\n",
      "[{'type': 'GeopoliticalEntity', 'text': 'Hyderabad'}]\n",
      "parentOf\n",
      "[{'type': 'Person', 'text': 'Bukkapuram Nadella Yugandher'}]\n",
      "[{'type': 'Person', 'text': 'Nadella'}]\n",
      "employedBy\n",
      "[{'type': 'Person', 'text': 'Administrative'}]\n",
      "[{'type': 'GeopoliticalEntity', 'text': 'Indian', 'disambiguation': {'subtype': ['Country']}}]\n",
      "managerOf\n",
      "[{'type': 'Person', 'text': 'Administrative'}]\n",
      "[{'type': 'Organization', 'text': 'Service', 'disambiguation': {'subtype': ['Government']}}]\n",
      "parentOf\n",
      "[{'type': 'Person', 'text': 'scholar'}]\n",
      "[{'type': 'Person', 'text': 'Nadella'}]\n",
      "locatedAt\n",
      "[{'type': 'Person', 'text': 'scholar'}]\n",
      "[{'type': 'Facility', 'text': 'Sanskrit'}]\n",
      "locatedAt\n",
      "[{'type': 'Person', 'text': 'scholar'}]\n",
      "[{'type': 'Facility', 'text': 'Sanskrit'}]\n"
     ]
    }
   ]
  },
  {
   "cell_type": "code",
   "metadata": {
    "id": "e2zb76UAcngh",
    "colab": {
     "base_uri": "https://localhost:8080/"
    },
    "outputId": "063820c5-1aec-46f5-e118-85c4d56f4cc4"
   },
   "source": [
    "mytext3 = \"\"\"Nadella attended the Hyderabad Public School, Begumpet [12] before receiving\n",
    "a bachelor's in electrical engineering[13] from the Manipal Institute of Technology\n",
    "(then part of Mangalore University) in Karnataka in 1988.\"\"\"\n",
    "response = service.analyze(\n",
    "    text=mytext3, features=Features(relations=RelationsOptions())\n",
    ").get_result()\n",
    "for item in response[\"relations\"]:\n",
    "    print(item[\"type\"])\n",
    "    for subitem in item[\"arguments\"]:\n",
    "        print(subitem[\"entities\"])"
   ],
   "execution_count": 10,
   "outputs": [
    {
     "output_type": "stream",
     "name": "stdout",
     "text": [
      "employedBy\n",
      "[{'type': 'Person', 'text': 'Nadella'}]\n",
      "[{'type': 'Organization', 'text': 'Hyderabad Public School', 'disambiguation': {'subtype': ['Commercial']}}]\n",
      "awardedTo\n",
      "[{'type': 'Degree', 'text': 'bachelor'}]\n",
      "[{'type': 'Person', 'text': 'Nadella'}]\n",
      "educatedAt\n",
      "[{'type': 'Person', 'text': 'Nadella'}]\n",
      "[{'type': 'Organization', 'text': 'Manipal Institute of Technology', 'disambiguation': {'subtype': ['Educational']}}]\n",
      "educatedAt\n",
      "[{'type': 'Person', 'text': 'Nadella'}]\n",
      "[{'type': 'Organization', 'text': 'Mangalore University', 'disambiguation': {'subtype': ['Educational']}}]\n",
      "awardedBy\n",
      "[{'type': 'Degree', 'text': 'bachelor'}]\n",
      "[{'type': 'Organization', 'text': 'Manipal Institute of Technology', 'disambiguation': {'subtype': ['Educational']}}]\n",
      "basedIn\n",
      "[{'type': 'Organization', 'text': 'Mangalore University', 'disambiguation': {'subtype': ['Educational']}}]\n",
      "[{'type': 'GeopoliticalEntity', 'text': 'Karnataka'}]\n"
     ]
    }
   ]
  },
  {
   "cell_type": "code",
   "metadata": {
    "id": "5gwqG63Rcngk"
   },
   "source": [
    ""
   ],
   "execution_count": null,
   "outputs": []
  }
 ]
}