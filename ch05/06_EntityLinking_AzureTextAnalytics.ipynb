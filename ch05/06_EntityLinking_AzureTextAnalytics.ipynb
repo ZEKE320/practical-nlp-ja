{
  "nbformat": 4,
  "nbformat_minor": 0,
  "metadata": {
    "kernelspec": {
      "display_name": "Python 3",
      "language": "python",
      "name": "python3"
    },
    "language_info": {
      "codemirror_mode": {
        "name": "ipython",
        "version": 3
      },
      "file_extension": ".py",
      "mimetype": "text/x-python",
      "name": "python",
      "nbconvert_exporter": "python",
      "pygments_lexer": "ipython3",
      "version": "3.6.10"
    },
    "colab": {
      "name": "06_EntityLinking-AzureTextAnalytics.ipynb",
      "provenance": [],
      "collapsed_sections": []
    }
  },
  "cells": [
    {
      "cell_type": "markdown",
      "metadata": {
        "id": "YoSRPcikNPNP"
      },
      "source": [
        "# Azure Text Analyticsを用いたエンティティリンキング\n",
        "\n",
        "このノートブックでは、[Azure Text Analytics API](https://docs.microsoft.com/en-us/azure/cognitive-services/text-analytics/)を用いて、エンティティリンキングをする方法を紹介します。"
      ]
    },
    {
      "cell_type": "markdown",
      "metadata": {
        "id": "yArP-aUtOgb7"
      },
      "source": [
        "## 準備"
      ]
    },
    {
      "cell_type": "markdown",
      "metadata": {
        "id": "iwliwqkdOmPp"
      },
      "source": [
        "### パッケージのインストール"
      ]
    },
    {
      "cell_type": "code",
      "metadata": {
        "colab": {
          "base_uri": "https://localhost:8080/"
        },
        "id": "O4crGUbKOonh",
        "outputId": "b3dbf24f-c90f-46d8-e32e-1bbccba5cc67"
      },
      "source": [
        "!pip install requests==2.23.0 azure-cognitiveservices-language-textanalytics==0.2.0"
      ],
      "execution_count": 2,
      "outputs": [
        {
          "output_type": "stream",
          "name": "stdout",
          "text": [
            "Requirement already satisfied: requests==2.23.0 in /usr/local/lib/python3.7/dist-packages (2.23.0)\n",
            "Collecting azure-cognitiveservices-language-textanalytics\n",
            "  Downloading azure_cognitiveservices_language_textanalytics-0.2.0-py2.py3-none-any.whl (43 kB)\n",
            "\u001b[K     |████████████████████████████████| 43 kB 1.1 MB/s \n",
            "\u001b[?25hRequirement already satisfied: idna<3,>=2.5 in /usr/local/lib/python3.7/dist-packages (from requests==2.23.0) (2.10)\n",
            "Requirement already satisfied: chardet<4,>=3.0.2 in /usr/local/lib/python3.7/dist-packages (from requests==2.23.0) (3.0.4)\n",
            "Requirement already satisfied: certifi>=2017.4.17 in /usr/local/lib/python3.7/dist-packages (from requests==2.23.0) (2021.5.30)\n",
            "Requirement already satisfied: urllib3!=1.25.0,!=1.25.1,<1.26,>=1.21.1 in /usr/local/lib/python3.7/dist-packages (from requests==2.23.0) (1.24.3)\n",
            "Collecting azure-common~=1.1\n",
            "  Downloading azure_common-1.1.27-py2.py3-none-any.whl (12 kB)\n",
            "Collecting msrest>=0.5.0\n",
            "  Downloading msrest-0.6.21-py2.py3-none-any.whl (85 kB)\n",
            "\u001b[K     |████████████████████████████████| 85 kB 3.0 MB/s \n",
            "\u001b[?25hRequirement already satisfied: requests-oauthlib>=0.5.0 in /usr/local/lib/python3.7/dist-packages (from msrest>=0.5.0->azure-cognitiveservices-language-textanalytics) (1.3.0)\n",
            "Collecting isodate>=0.6.0\n",
            "  Downloading isodate-0.6.0-py2.py3-none-any.whl (45 kB)\n",
            "\u001b[K     |████████████████████████████████| 45 kB 3.0 MB/s \n",
            "\u001b[?25hRequirement already satisfied: six in /usr/local/lib/python3.7/dist-packages (from isodate>=0.6.0->msrest>=0.5.0->azure-cognitiveservices-language-textanalytics) (1.15.0)\n",
            "Requirement already satisfied: oauthlib>=3.0.0 in /usr/local/lib/python3.7/dist-packages (from requests-oauthlib>=0.5.0->msrest>=0.5.0->azure-cognitiveservices-language-textanalytics) (3.1.1)\n",
            "Installing collected packages: isodate, msrest, azure-common, azure-cognitiveservices-language-textanalytics\n",
            "Successfully installed azure-cognitiveservices-language-textanalytics-0.2.0 azure-common-1.1.27 isodate-0.6.0 msrest-0.6.21\n"
          ]
        }
      ]
    },
    {
      "cell_type": "markdown",
      "metadata": {
        "id": "Spiwa8b3OjXc"
      },
      "source": [
        "### インポート"
      ]
    },
    {
      "cell_type": "code",
      "metadata": {
        "id": "rOlwmlnDNPNU"
      },
      "source": [
        "import pprint\n",
        "\n",
        "import requests"
      ],
      "execution_count": 3,
      "outputs": []
    },
    {
      "cell_type": "markdown",
      "metadata": {
        "id": "ShsT2NeoO0QK"
      },
      "source": [
        "### テキストのアップロード\n",
        "\n",
        "まずはテキストをアップロードします。ノートブックと同じ階層にDataフォルダがあり、その下に`myarticle.txt`があるので、アップロードしましょう。Colabでない場合は、読み込むときに正しいパスを指定します。"
      ]
    },
    {
      "cell_type": "code",
      "metadata": {
        "colab": {
          "resources": {
            "http://localhost:8080/nbextensions/google.colab/files.js": {
              "data": "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",
              "ok": true,
              "headers": [
                [
                  "content-type",
                  "application/javascript"
                ]
              ],
              "status": 200,
              "status_text": ""
            }
          },
          "base_uri": "https://localhost:8080/",
          "height": 78
        },
        "id": "2Vu2PSnBO2_x",
        "outputId": "1b641588-7dee-4e49-82f2-62b10e37b26d"
      },
      "source": [
        "from google.colab import files\n",
        "uploaded = files.upload()"
      ],
      "execution_count": 4,
      "outputs": [
        {
          "output_type": "display_data",
          "data": {
            "text/html": [
              "\n",
              "     <input type=\"file\" id=\"files-0b25c4d2-4e28-429d-8460-57219f63941d\" name=\"files[]\" multiple disabled\n",
              "        style=\"border:none\" />\n",
              "     <output id=\"result-0b25c4d2-4e28-429d-8460-57219f63941d\">\n",
              "      Upload widget is only available when the cell has been executed in the\n",
              "      current browser session. Please rerun this cell to enable.\n",
              "      </output>\n",
              "      <script src=\"/nbextensions/google.colab/files.js\"></script> "
            ],
            "text/plain": [
              "<IPython.core.display.HTML object>"
            ]
          },
          "metadata": {}
        },
        {
          "output_type": "stream",
          "name": "stdout",
          "text": [
            "Saving myarticle.txt to myarticle.txt\n"
          ]
        }
      ]
    },
    {
      "cell_type": "markdown",
      "metadata": {
        "id": "BIaPtu5LPVfS"
      },
      "source": [
        "### テキストの読み込み"
      ]
    },
    {
      "cell_type": "code",
      "metadata": {
        "id": "zZp-GVosPXrc"
      },
      "source": [
        "with open(\"myarticle.txt\", encoding=\"utf-8\") as f:\n",
        "    mytext = f.read()"
      ],
      "execution_count": 5,
      "outputs": []
    },
    {
      "cell_type": "markdown",
      "metadata": {
        "id": "65N0ivCMPpu-"
      },
      "source": [
        "## エンティティリンキング"
      ]
    },
    {
      "cell_type": "markdown",
      "metadata": {
        "id": "-_I-z7yehY7H"
      },
      "source": [
        "では、エンティティリンキングをしてみましょう。作成済みのText Analyticsサービスのメニューから、発行されたAPIキーとエンドポイントのURLを確認し、以下のコードに貼り付けます。APIキーは外部に漏れないようにしてください。\n",
        "\n",
        "![azure_api.png](data:image/png;base64,iVBORw0KGgoAAAANSUhEUgAAArUAAAEkCAIAAAC+EF5tAAAKuWlDQ1BFVjI3MzZXAABIiZWXB1RT2RaGz703vdACSCf0JkivUkIPXTrYCEkgoYSYEFTsiDgCNlREQB3RQYqCYwFkLIgotkFRKdYBGRTUcbAgKirvAo8w895676237zr3fGtnn332Puuetf4AQAUsoTANlgMgXZApCvfzpMfGxdPxgwBCHzywB9YstljICAsLAqjNzH+3j91oLGr3zCdz/fvv/9XkOVwxGwAoDOVEjpidjvJpdDxnC0WZACDlqF9veaZwkltQVhShBaJ8f5KTp3lokhOn+etUTGS4FwAYtCsChcUSJQNA0UD99Cx2MpqHMh9lSwGHL0B5sl43No/FQfkYynPT0zMmuRdl48S/5En+W85EaU4WK1nK071MGcGbLxamsVb+n8fxvy09TTKzhyE6KDyRfzg6y6Bn1puaEShlQWJI6AzzOVPxU8yT+EfNMFvsFT/DHJZ3oHRtWkjQDCfxfZnSPJnMyBnmin0iZliUES7dK0nkxZhhlmh2X0lqlNTP4zKl+bN5kTEznMWPDplhcWpE4GyMl9QvkoRL6+cK/Dxn9/WV9p4u/ku/fKZ0bSYv0l/aO2u2fq6AMZtTHCutjcP19pmNiZLGCzM9pXsJ08Kk8dw0P6lfnBUhXZuJfpCza8OkZ5jCCgibYeADooE1cAA26K1DTySTuyJzsgmvDOFKET+Zl0lnoLeLS2cK2BZz6daW1lYATN7V6U/hfe/UHYSUCbM+fjEAtnEovJv18dQBaNUEQGHrrM/AAABiAQAXj7MloqxpH2byhQUkIAsUgSrQAnrAGJij9dkDF+CB1hoAQkEkiANLABvwQDoQgeVgNdgA8kAB2AH2gFJwEBwGVeA4OAkawTlwCVwFN8Ed0AUegT4wCF6BEfARjEMQhIeoEA1ShbQhA8gMsoYcITfIBwqCwqE4KAFKhgSQBFoNbYQKoCKoFDoEVUM/Q2ehS9B1qBN6APVDw9A76AuMwBRYEdaEDeF5sCPMgAPhSHgxnAwvg7PhXHgbXAJXwMfgBvgSfBPugvvgV/AoAhAyoozoIOaII+KFhCLxSBIiQtYi+UgxUoHUIc1IO3IP6UNeI58xOAwNQ8eYY1ww/pgoDBuzDLMWU4gpxVRhGjBtmHuYfswI5juWitXAmmGdsUxsLDYZuxybhy3GVmLPYK9gu7CD2I84HE4ZZ4RzwPnj4nApuFW4Qtx+XD2uBdeJG8CN4vF4VbwZ3hUfimfhM/F5+H34Y/iL+Lv4QfwnApmgTbAm+BLiCQJCDqGYUEO4QLhLeEEYJ8oRDYjOxFAih7iSuJ14hNhMvE0cJI6T5ElGJFdSJCmFtIFUQqojXSE9Jr0nk8m6ZCfyAjKfvJ5cQj5BvkbuJ3+mKFBMKV6URRQJZRvlKKWF8oDynkqlGlI9qPHUTOo2ajX1MvUp9ZMMTcZChinDkVknUybTIHNX5o0sUdZAliG7RDZbtlj2lOxt2ddyRDlDOS85ltxauTK5s3I9cqPyNHkr+VD5dPlC+Rr56/JDCngFQwUfBY5CrsJhhcsKAzSEpkfzorFpG2lHaFdog4o4RSNFpmKKYoHiccUOxRElBSVbpWilFUplSueV+pQRZUNlpnKa8nblk8rdyl/maM5hzOHO2TKnbs7dOWMq6ioeKlyVfJV6lS6VL6p0VR/VVNWdqo2qT9QwaqZqC9SWqx1Qu6L2Wl1R3UWdrZ6vflL9oQasYaoRrrFK47DGLY1RTS1NP02h5j7Ny5qvtZS1PLRStHZrXdAa1qZpu2nztXdrX9R+SVeiM+hp9BJ6G31ER0PHX0eic0inQ2dc10g3SjdHt173iR5Jz1EvSW+3XqveiL62frD+av1a/YcGRANHA57BXoN2gzFDI8MYw82GjYZDRipGTKNso1qjx8ZUY3fjZcYVxvdNcCaOJqkm+03umMKmdqY80zLT22awmb0Z32y/Wedc7FynuYK5FXN7zCnmDPMs81rzfgtliyCLHItGizfz9OfFz9s5r33ed0s7yzTLI5aPrBSsAqxyrJqt3lmbWrOty6zv21BtfG3W2TTZvLU1s+XaHrDttaPZBdtttmu1+2bvYC+yr7MfdtB3SHAod+hxVHQMcyx0vOaEdfJ0Wud0zumzs71zpvNJ5z9dzF1SXWpchuYbzefOPzJ/wFXXleV6yLXPje6W4PajW5+7jjvLvcL9mYeeB8ej0uMFw4SRwjjGeONp6SnyPOM55uXstcarxRvx9vPO9+7wUfCJ8in1eeqr65vsW+s74mfnt8qvxR/rH+i/07+HqclkM6uZIwEOAWsC2gIpgRGBpYHPgkyDREHNwXBwQPCu4MchBiGCkMZQEMoM3RX6JMwobFnYLwtwC8IWlC14Hm4Vvjq8PYIWsTSiJuJjpGfk9shHUcZRkqjWaNnoRdHV0WMx3jFFMX2x82LXxN6MU4vjxzXF4+Oj4yvjRxf6LNyzcHCR3aK8Rd2LjRavWHx9idqStCXnl8ouZS09lYBNiEmoSfjKCmVVsEYTmYnliSNsL/Ze9iuOB2c3Z5jryi3ivkhyTSpKGkp2Td6VPMxz5xXzXvO9+KX8tyn+KQdTxlJDU4+mTqTFpNWnE9IT0s8KFASpgrYMrYwVGZ1CM2GesG+Z87I9y0ZEgaJKMSReLG7KVERF0S2JsWSTpD/LLass69Py6OWnVsivEKy4tdJ05ZaVL7J9s39ahVnFXtW6Wmf1htX9axhrDq2F1iaubV2nty533eB6v/VVG0gbUjf8mmOZU5TzYWPMxuZczdz1uQOb/DbV5snkifJ6NrtsPvgD5gf+Dx1bbLbs2/I9n5N/o8CyoLjgayG78MZWq60lWye2JW3r2G6//cAO3A7Bju6d7juriuSLsosGdgXvathN352/+8OepXuuF9sWH9xL2ivZ21cSVNK0T3/fjn1fS3mlXWWeZfXlGuVbysf2c/bfPeBxoO6g5sGCg19+5P/Ye8jvUEOFYUXxYdzhrMPPj0Qfaf/J8afqSrXKgspvRwVH+6rCq9qqHaqrazRqttfCtZLa4WOLjt057n28qc687lC9cn3BCXBCcuLlzwk/d58MPNl6yvFU3WmD0+VnaGfyG6CGlQ0jjbzGvqa4ps6zAWdbm12az/xi8cvRczrnys4rnd9+gXQh98LExeyLoy3ClteXki8NtC5tfXQ59vL9tgVtHVcCr1y76nv1cjuj/eI112vnrjtfP3vD8UbjTfubDbfsbp351e7XMx32HQ23HW433XG609w5v/PCXfe7l+5537t6n3n/ZldIV2d3VHdvz6Kevl5O79CDtAdvH2Y9HH+0/jH2cf4TuSfFTzWeVvxm8lt9n33f+X7v/lvPIp49GmAPvPpd/PvXwdzn1OfFL7RfVA9ZD50b9h2+83Lhy8FXwlfjr/P+kP+j/I3xm9N/evx5ayR2ZPCt6O3Eu8L3qu+PfrD90DoaNvr0Y/rH8bH8T6qfqj47fm7/EvPlxfjyr/ivJd9MvjV/D/z+eCJ9YkLIErGmpACCDjgpCZURRwGgonqCdgcA0sJpLT1l0LT+nyLwn3hab0+ZPQDV6BS5HoBQDwAOtKBSFmUSymHoiPQAsI2NdPzTxEk21tO5yI2oNCmemHiPqiS8CQDfeiYmxhsnJr5VosU+BKDl47SGnzSly+jfhxykrVf3dsx18K/2DwgMD6eQZJwOAAAgAElEQVR42u3deVxUVf8H8O+ZYRtAkC2QVUBNQVNBczfR1NxafKwsNctWeyorc8unRSurp189LdrTA6aVpeaWpZW7KWaLouC+gYiigrIJMwzDzJzfHwPDnTt3Zu4wiICf9+ulzty529wZ53zuueecyzjnBAAAACCgwCEAAAAA5AMAAABAPgAAAADkAwAAAEA+AAAAAOQDAAAAQD4AAAAA5AMAAABAPgAAAIAmxk3OTGkHip/6OZ+qjTheTnNXpI6KeDIpEEcCAACaESZnfGX21mGEA1ciAn+tCw4DAAA0I7LqD0zhgM/viuPldP56PQvRCgAAWmg+EJZ2IBsSFQAANFM3TftEdwUFeJA72mMCAAA45tbI23umd/Dc/iGf/l30we7CxsgEtXX7aaMinkgKHLcmb+2hktq3zkjPTbOtHRddVmXQW14HcFOQn6dy3KpzZMAtsAEAAPngemJEkX4ed8a2qssHrT2oVFefdfm4bbgvqluYV6iPu5FTXplucWbJv3cVmF+3bhW4Zlw0jYuu25k3D5GRkzsb28nf5laUDPkAAACQD64nBSvQGIhoYIxP5rMdov09WnspNdVG37cPO7umB7sFLLsnyl3JOCfGyMipfZDn+0PChsX53vl1Dhk5EaUdKDYYa4r2lLa+twZ77jhbcaqoyjTF042ZZiONweezk5oqgzgHKFlrLzfSoXUhAAAgH1wfWc926BDs5eXGTE+93FjXMJXeyK9qDKeLq5ze6WCvFfdFM0YvbLro66FYMDhsWVbxo5suFU/rOCTW96t7Ix9dd56ILpfrX7vjFlP/TcaIiAbH+qa09TU9/fjPq0QUF+H9/oCQKj03csk8Q76eirnpV47mqfFdAQAA5IMG1lqlVDDKLdWdLtYNiPbxcmOx/zudm6+RKJCN3E71A3FOnLLGxzBGc3cWfLb3ysZJsUS0PVdNGn3gpyf4rMRh8a1Ms/+QXR7io9QbORENifXtFOK1/WzF8StaInJTsG+OlRFR/zCvcQmt7e/87jw18gEAACAfNLyYT07UNAYk2v1EuwHRPgPDvHI1+gdjfAbH+ET7e4z4Jicx2ufIE+2ISHLEJlMFQIfUM6cvqDsEe1Yb+IKdl4moX5QPES07U05EpNaXVBratHInd8WK+6IeTGwtWnxwW9/BbX1NU55ODlp+uGTiTxf2X6m6UmVMCfNal185Oc5n8ejIbTkVIzbm3x2u2ne1ykfJThRV4YsCAADIB9eBUtGxjdfQKO8+Ed6dQ7yI6Ot7or622BFWaeDVBnujOTKi0moj+bi5Kdipq1VE5Bbs1dpLWVChp2vVpnk8TZcwGP10ujzAS6muNob4uA2I9iEirZ57ubE/L2jKtIah8a32nlf/dLqcdMZjeerZg0LfHRz2v4yi5cevEVGpVj+1Q6tP7wr/9K+r037Ox7cEAACQD64L7axEz9rGByZGTn/naw4VVP5+QfPT+UrS85x8jce8Q47XxcjIKUDlRkRb7o4gotXHSk2vhISqvN0VOgMnnXHFweIVx8reHxR6b0d/Isq4WNl7TZ7u+Vsj/dxiW3soGFXq+aqsmr6O03uHENHLe6/2CPAwTflsf9HHw8On9giatv0yaQ34ogAAAPJBw9t2ttxTqdh3UfNbnmbLZQ1/OaGy2tgn9XR91sXpdFHVrcGeJ17oeGuwp87An996mYgo0DPv6fZEtP5EGREtHB35bM8gVtueIe+aTn9Vu/5k2X0d/Ylox9mKYV9nm9Y3f0ibYG/lyatVmitaqs0HpDMuyyqe3C3w78lxt//vNL4oAABwU2mk8QRHLzs79KvsV7dc2nKijEqrNdVGHw9FvUcznJ9eSES3BnsS0dM/58/rf8vvT7Y3TOvo5cauagwPrjtPRMtPlOmNfOWR0vapp4koUOX2WM8gP09lhc5IRLeFqvrGtyKiIbf6mfo4JK3IFW3l0R8vXNUYekZ4p94bhS8KAAAgH1x3F8qqiWhInG/9Fl9+sLhD6pl39xSyj459tb9o4m3+faO8FYx+OFEW8u+jpjET954p95h3KMrfff8jcUR0R4zPkjGRQ2J9h6/MPXS5Mthb+fsjcbseb/dHsa5IY5i+9eITHVpdnpm4bmw0EdUMpGjgMV+e0VQblx0txRcFAABuKm43ZKsZlyr9vZStPZX1XsPpC+pXL9T0ORy15vzItt4fHSyhCr1otshW7j4eigvXdEcKq37NLv/0cCldq+56pnx0YusloyNfSy/UXNEGv3+EOCVE+yzwUCgV7KrGMOf3K6bFNVe0Pm8fJgyfCAAAyAeN4OHV5xpwbSfOq0+clx6foO3HJyQHVNh4tPQWc60AJyI6lqeWHsYR4QAAAG4+Lf1+hkYU7wAAAMgHAAAAgHwAAAAADc659gd8flccMgAAAOQDIiJyV1C1kb2eheNVH+6opAEAgGZGVtGVOioChVy9w0HqqAgcBgAAaF4Y52jhDwAAABZQKwAAAADIBwAAAIB8AAAAAMgHAAAAgHwAAAAAyAcAAACAfAAAAADIBwAAAIB8AAAAAMgHAAAAgHwAAAAAyAcAAABw0+WD6urqRYsWVlRU4NgBAAAgH9Rwd3ffvGnzuXPnGnY/9u7de+3aNXweAAAATYFbPZbpcluXjP37tVrt+by8nJycoOCgyZMfrfceHD9+fOmSL7dv375u3Q9+fn74SAAAAJpNPjh27Nj+ffvy8y+cPnMmKzNz06+/Jvfo0S6+XUzbmISExHpvvqCgYOKEhydOnIRPAgAAoPnlg+KioqKioq7duo25++4LF/LXrF6dmprm+uaDg4N/27Xb29v722+X4cMAAABoZvmg/4AB/QcMqC3UQ+a+OsdoNCoUCp1OdzYnp0KtTk5OJqIPPvg3ESmYRLMGIzcqmGL6K68IJyqVylatWhkMBnwSAAAAzS8fmKjV6ry8vLNnc4joxWkv5Oaey8+/EBMTk5Iy2JQP2oS1MRqNjDHrZTnnSjcljjgAAEDLyQeL09K+/35lcXFxx46d2ndoHxER2b59h5denh4REeHh4WGebeIktCQAAAC4afLB8LvuGjlqVFhYmEKhIKKPPvzQy8srNjYWRxAAAODmzQdRUVHCp+3bt9+1axcOHwAAQItUz/GV4+Ljs7IycfgAAABaJLf6LRYVGTlixEidTidsfFBvSqUy48BBfBgAAABNBOOc4ygAAACAEO7fCAAAAMgHAAAAgHwAAAAAyAcAAACAfAAAAADIBwAAAIB8AAAAAMgHAAAAcKPJGj+xurpaV6XFSEoAAAA3EGPMw9PL3d3dPCXtQPFTWy6SxlDPNXorU4eFP5kUKLEtOaW+uqIc4QAAAKApRAQf31Z1T987Uv9wUBsR+OzO1pNlXV9AOAAAAGgKxCWyi+HA9hrccKwBAABaQnSY39V64uIDxU+uP1+PtSEfAAAAtBDdlmRn5VbUPfdUHpgSn3ZvVD0iAvovAAAAtFBVhqQl2cltVGn3Rjm7KOoPAAAAWpoP7gpPaqMyPeZETyQFJrVRbT9bMXPTReQDAACAm1RyuCqnRPfZwRLzlL5hXp+PjAjwUsq81oB8AAAA0ALllFZbtEUg2plbwRjJbI6A9gcAAAA3hbb+HtklunEJ/nKaIyAfAAAAtHxZpVWLM0sYYx/8cfUJqQETRRrg+sKpkyePHz8WFBTUf8BAIiosLNz391/u7u79Bwz09vauqtLu3rVLW1XVs2fPsLA2RPTH3r2FhQUdOtzaKSGhHvO7uDnR4o28OdHijbw568Vd3BwAADQbpdULdl42PXwnJfS61x9wzo8ePWIwGAoLCwsKCojo0KGsqqqqioqKUydPEtGpk6fKy8urdbpDWVlEVFRUdOnSRYPBcOLEcaPR6Oz8Lm7OevFG3pxo8UbenGhx1z87AABoqVzNB4wxlaqmB0Xr1v5EFNA6wPQ0MCiIiIKCg2tfbU1Efn5+jDEi8vDwUCgUzs7v4uasF2/kzYkWb+TNiRZ3/bMDAICWStb9mSrKr9l5Va/X5+WdCw0N9fHxNU3Jv3DBw9MzJCTE9LSoqEijVkdGRZlKF41Gc/nSpajoaPMdqJya38XNWS/eyJsTLd7ImxMt7vpnBwAAjcy3lV9dKf56lvkxn9/VPH7ijinx286qzRcURPj8rqIFr0s+AAAAgKaQD6b+kr/3kpaIlo4MX3vimiv5AOMfAAAAtAQ7cyseSPB/IMGfiOIDPFxcG/IBAABASzB4Sbb58Y4p8S6uDa3MAAAAQAz1BwAAAC3QOymhcsY5QD4AAAC4WQivNdQPri8AAABAvfKBqe87AAAA3FjiEtlb6eoabaxBVj7w8PRCRAAAALjh4cDD00s4JXVYuEsRwVuZOixceltyxkcCAACAmwraHwAAAADyAQAAACAfAAAAAPIBAAAAIB8AAAAA8gEAAAAgHwAAAADyAQAAACAfAAAAAPIBAAAAIB8AAAAA8gEAAAAgHwAAAADyAQAAACAfAAAAAPIBAAAAIB8AAAAAuJgPqqurFy1aWFFRgWMHAACAfFDD3d1986bN586da6g9yM+/sGPH9t9//12r1eLzAAAAaArc6rFMl9u6ZOzfr9Vqz+fl5eTkBAUHTZ78aP02v2XL5rfeemtA//6nT5+uqtJ9+913fn5++FQAAACaRz44duzY/n378vMvnD5zJiszc9Ovvyb36NEuvl1M25iEhMR6b97Hx/ennzYEBATo9fqx9923fdu2+8aOxacCAADQPPJBcVFRUVFR127dxtx994UL+WtWr05NTXN98/369avZDze3tm1jysvL8ZEAAADccIxz7uwyly9fHjVyxL79GQqFQqfTnc3JqVCrk5OTieiDD/5NRAom0azByI0Kppj+yiuS6ywouDxyxIglS5Z27dYNnwoAAEDzqD8wUavVeXl5Z8/mENGL017IzT2Xn38hJiYmJWWwKR+0CWtjNBoZY9bLcs6VbkrJ1Z4/f37aC89PmDAR4QAAAKA51R8sTkv7/vuVxcXFHTt2at+h/YGMA0OHDh09ZkxERISHh4cre7AnPX3Oq3Oee+65Bx8cj88DAACgOeWD8+fPK5XKsLAwhUJBRB99+GGrVq2efOopFzefkZHx4ovTPv/8v126dMGHAQAA0ETIvb4QFRUlfNq+fftdu3a5vvmlS5ZMmjgpJjr6WlkZETGFolWrVvhUAAAAmkf9gcjRo0dfnPbC1m3bXdz83WPG5OdfMD+NiIj8acMGfCoAAADNo/5AJCoycsSIkTqdzsXGB0gDAAAATVA96w8AAACgBcP9GwEAAAD5AAAAAJAPAAAAAPkAAAAAkA8AAAAA+QAAAACQDwAAAAD5AAAAAG40WeMnVldX66q0GEkJAADgBmKMeXh6ubu7m6ekHSh+astF0hjquUZvZeqw8CeTAiW2JafUV1eUIxwAAAA0hYjg41t3I0P23pH6h4PaiMBnd7aeLOv6AsIBAABAUyAukV0MB7bX4IZjDQAA0BKiw/yu1hMXHyh+cv35eqwN+QAAAKCF6LYkOyu3ou65p/LAlPi0e6PqERHQfwEAAKCFqjIkLclObqNKuzfK2UVRfwAAANDSfHBXeFIblekxJ3oiKTCpjWr72YqZmy4iHwAAANykksNVOSW6zw6WmKf0DfP6fGREgJdS5rUG5AMAAIAWKKe02qItAtHO3ArGSGZzBLQ/AAAAuCm09ffILtGNS/CX0xwB+QAAAKDlyyqtWpxZwhj74I+rT0gNmCjSANcXTp08efz4saCgoP4DBhJRYWHhvr//cnd37z9goLe3d1WVdveuXdqqqp49e4aFtSGiP/buLSws6NDh1k4JCfWY38XNiRZv5M2JFm/kzVkv7uLmAACg2SitXrDzsunhOymh173+gHN+9OgRg8FQWFhYUFBARIcOZVVVVVVUVJw6eZKITp08VV5eXq3THcrKIqKioqJLly4aDIYTJ44bjUZn53dxc9aLN/LmRIs38uZEi7v+2QEAQEvlaj5gjKlUNT0oWrf2J6KA1gGmp4FBQUQUFBxc+2prIvLz82OMEZGHh4dCoXB2fhc3Z714I29OtHgjb060uOufHQAAtFSy7s9UUX7Nzqt6vT4v71xoaKiPj69pSv6FCx6eniEhIaanRUVFGrU6MirKVLpoNJrLly5FRUeb70Dl1Pwubs568UbenGjxRt6caHHXPzsAAGhkvq386krx17PMj/n8rubxE3dMid92Vm2+oCDC53cVLXhd8gEAAAA0hXww9Zf8vZe0RLR0ZPjaE9dcyQcY/wAAAKAl2Jlb8UCC/wMJ/kQUH+Dh4tqQDwAAAFqCwUuyzY93TIl3cW1oZQYAAABiqD8AAABogd5JCZUzzgHyAQAAwM1CeK2hfnB9AQAAAOqVD0x93wEAAODGEpfI3kpX12hjDbLygYenFyICAADADQ8HHp5ewimpw8JdigjeytRh4dLbkjM+EgAAANxU0P4AAAAAkA8AAAAA+QAAAACQDwAAAAD5AAAAAJAPAAAAAPkAAAAAkA8AAAAA+QAAAACQDwAAAAD5AAAAAJAPAAAAAPkAAAAAkA8AAAAA+QAAAACQDwAAAAD5AAAAAMCSm/xZ5859dcKEiQkJCatXrSovLzdP11XrxowZExERqdVqjxw+7KXyMk3nnIKCgsLDw4mooKDgjz/+2Lhhw7z58yIiIiVXPmXK4/Hx8bXL8okTJqQtXuzt7W2ex2g0Tpo48cslS7y8vMwTf/3ll8ysTIPB8MQTT4aFheETBQAAaNR8UFZaxo1GIvr5543j7n8gICDANH3pkiX9+vWPiIgsLy9fuXKlt7fKNF2v1/fu02f9+vWnT5+Ojoru3bv3c88/FxbWRrjOI0cOx8e3U6lU+RcuMMaIaNk33yQkJiYnJ584cdzT01M4s0KhOHHiuLu7u3Ci0k3p7e3du3efmTNe+errbxQKxzUie9LTt27ZzIlrNBofb5/+Awb06z9AGEQAAACQD+RSuimVbkrT4xXLl3t61RTep0+fNj0ICQl5+513qqqqlEol51yv1/v7+897880//vzLw8PDeoWnTp2aOnXq1q3biEihVCoVCiLKzT0bHhFBRN4+PgqFQqPR7Prtt+F33WUq+L19fJRK5bPPTtVqtQqmIKLCwsLKSs3hQ4crKirOnDnToUMHO28hL+/c8u++7dix06w5r5oCgUaj2bJ50+uvzX1h2ovR0TH4QgAAAMjNB1mZmRs3bjx29OjitMUpg1OMRuOUxx8PCgo0vZqammqec+XKFau+//6WW24hosOHD/+9bz8RmcOBwWAwGo3mCoB169beP+7+wsLCjP37r165unXb1uTkZDc3N6VSqVarNWr17Nmzjh87np9/YcTIkWfPns3KzNSo1evXr5/y2JSYtm1NiSEzM3Prli2vzJhRVVUVFBRk/40s/+7bhydMFOYAb2/ve+8bm5ScvDgtdf5b7+ALAQAAIDcfhLUJGzZ82MmTJ/r07ZOY2HnkqNE52dlnc3JMr952222BgTVZwc3N7ZHJj44fP56IBgzobzAYiGjonUO0VVUatdrbx2fChAnPPDOViCoqKlavWvXD+h+rdbpKbaVeX12pqSy6WnS5oODTTz42tW8YP358YmLnIUMGE1FVlfbatWtEdK2s7LRG8/rrrwUEBBYWFixcuKi6Wufp6fnTjz9OefxxO+9iT3p6x46dzOFgT3o6EfUfMICIoqNjkpKS96Snm54CAAAgHzgWGhoWGhoWEBiYmJi4ds2ak6dOEpGpet/kzz/+mPTI5CFDhhgMBje3uvYBarU6NDT0l183VVVV3XnnkPT0PeaXNm/e1KdP3+joaCKKb9du27ZtPXv2nDFzhpen5+TJjz708MODBt3RrVv3ioqKgNYBRNSxY6eOHTulLU57ZPLkP//4Y+jQYS+9/PIjkyaGhoVduXLlwIEDZ86ctv8utmzZNHvOXPPTjp06CV8dNvyuTz/5D/IBAAAAOdX+gIiMRv7Agw+ey82dN+/NTz9b6OZWs7hWq42NjSUivV7//cqvtm3dSkQatfrq1athbdpIrmrlihX/fO554ZQ2bdps377jw//7IDIqSqmsaehQWlpq6gEhUqWrUqvVBoNRqVTqdLrVq1ZNffZZh/svbIS4J303Ed1731jzSxqNBl8IAAAA5/JBlbbqlekv/2PcuJ83bry9V6+JEx7u16/f8ePHY2LaHjx4YOvWbeTrW1FR8dTTz6SkpBCRwWD4fc+eqKgo61VlZWaWlpYOsDxZ50SXLl4UTlmzevXatWuGDRsunJidnX3q1KmcnJzpL7+sUqmUCkWbNuHl5eWJiYkuHgvkAwAAABNZ4yMdP358/IMP6PX6zp07r12zZt78t6Kjo0ePGTNj5qxWrVotXLSIiFoHBBDRpYuX4uPj/f39/f39AwMDDx48mJSUZL3CtWvXjH/oIXMlgU6n06jVTz7x+KbNm+pKa7V68JAhny1cNGDgwCtXrhDRyRMnNGr17Fkze/Xq9eGHH02YOOHWWzvs/G3nuXO5vXv31uv11dXV9U4AGo0GXRwBAACcqD8IDAycMWNmco8eubm5VVptWlqaQsFmzJw1/eWXXn55uq6qKjQ0VKFQcM4zMvbPnDnTtNSlS5e2btv6wrRporUVFxf//PPPmzZvMT3dsWP7uwsW3N6r17x582/t2PHdBTWdCL5csqR169ZKpXLt2jWBgYG6Kt26dWvfevvt2Ni4OXNm6/WGPn16d+vWfcWK5Z07d/7pp5/6D+j/w7p1c16da+tdDBt215bNm8wXFIKDQ4Svbtm8qX9/ND4AAACQnQ9CQ0NDQ0OJqG3btm+++cYdd9zRoUOH55/75x2DBkXHxOxOT7/ttq5EtHfv3vj4doFBQabT8VkzZzz26GOtW7cmIs65eW0/b9x459ChISE1xXNCQuJ3y1eYukQSkaen14/r1+urq93c3dN37y4uKf7pxx/f//cHMTExDz38sKm1wWcLF0VERBw5cvj1115LSRn8/AsvvDJ9+mv/+tfQocPsvIv+Awa8/trcpORkUxcGYVPEvLxzBw5kCFsvAgAA3MyYsOSWSafTPfPM05MmTQoODvnPfz7yVnk//cwzXbp0+f3335UKRe8+fYjoXG7u8uXfzZo9xzRKwbVr16Y+88x3y5cbjcbRo0bOmz+/Z8/bJVdeUlKydeuWoqtF2iqtu7u7l5dX165dJWdetGhhQkJCSspg01JffPHfRx99rI2N5pDmHLA4LTU5ucfQYcPN4yNt3bI5I2P/E08+hfGRAAAA6p8PXFFSUrJxw4aJkyaZRlNufBqNZk/67j170is1Gm9vH5W3qn//gejWCAAAcCPzAQAAADR9uL8zAAAAIB8AAAAA8gEAAAAgHwAAAADyAQAAACAfAAAAAPIBAAAANDZZ4ysfOXzot507KisrcbwAAACaOJVKNShlcOcut133fPDbzh2DBg8JCgrGQQcAAGjiioqu/rZju4v5QNb1hcrKSoQDAACAZiEoKNj1Kn+0PwAAAADkAwAAAEA+AAAAAOQDAAAAcJVbM93v6urqkydOlJSUtI2NjYqKwgcJAAAtUk5O9prVqwICAkxPS0pK7rxzaFJyj5siH+zZk96hw6233HKLzPkNBsO0F5739PIKvSX0/fffe2bqs6NHj8Z3CAAAWqTk5B5D7hxqeqytrExL/YKIrndEaBL54JOPP57/1tvy8wER3f/AAykpg4lo585eny9ahHwAAAAt26WLF3/euIGIiLE1q1cdyMgYNXpMm/DwJpoPvvnm6+Tk5MTEzkT03bffJnZO7NatOxF98cV/77n7njbh4ZmZBzf9ukmrrezTp++w4cMZY2fP5vywbt2VK1fbtm075fHHP/98UWVl5fcrV8TEtL1v7Nivv/7q+edfUCgURLRy5Ypu3bp37NixrKxs9apV2dnZoaGhEyZODAkJMYUDIoqIiKisrDQajaZFAAAAWqRKbWVsXJy5IiEt9Ytly76eNGnydYoIrpap6gr1jh07iKisrGzFiuVbNm8hogsXLmzcsCEwKOjggQP/mju3Xft2vfv0Wbw4LSsrs7q6euaMGRGRkWP/MdbN3U2hUHS9rSsRtWvfvlOnTpUazdYtW4xGo2nlf/31V0HBZSL65JOPr169On78+LCwsOrqauEO7Nq1q3v37ggHAABwswkPD09L+19JSUlTzAc9b7/9rz//5JwfOJCRmNh5376/DQbD4cOHevfu7enpuXLlyvvGjr3vvrFDhw4bOWrU33/9rVarKysrY2Pjeva8/fHHn1AqlYNSUlQqVXJyj959+tjayuVLl8LCwm7r2nX8Qw+F1wYlzvn336/csnnz089MxbcEAABuKqNH3923X/+EhISSkuKmmA+6dOlSWlp6/vz5v/78a9z94/z9/bOzzxzIONCrV28iysnJ/mHdunvuHnPP3WPWrllz6PCh1q1bP/bYlPnz3pwze/bRo0dkbuWpp5/etm3rk088vm3rVs45EWkrKxe8886ff/656PP/RkZG4osCAAA3lTbh4XFx8QEBgddp/a62P/D09OzTp+9ff/2ZkbH/pZdf7tevf0ZGxh9/7J367FQi6ty5S+cunceO/YdwkX+MG3fn0KE//rh+1syZXy5ZGhoaaqoMICIvlYqISkpKQkJCDAbDhfPnTYt069Z9ydKv9qSnf/TRhx6eHgMGDHznnbeDgoJnzZ7t5uaGbwkAAEDTqj8gol69e3391VdJSUmenp7dk7p/9+238fHtAgODiKhv375bNm/OycnR6/X79u3Lzs6uqKj4+++/VSrVqFGjiai8vJyIQkJCzufl6fX6gICA6Ojo7du36XS6LZs3m28v8fvvv2u12oF33BEdHV1SUnLy5MmDBw8+MvmRysrK8vLy8vJyvV6PzxIAAKCp1B8QUVJSMhGZWg8kJCQSUd9+fU0v9e3Xb+/evdNeeJ6IEsSjkywAABYvSURBVBM7P/7E41qt9tNPPi4tLSWikaNGxcXFEdGo0aM/++zT1atXLf5yycMTJny1dOm3y5YlJSVHR0czxojox/U/vLvgHdNKUlIGZ2VmEtEjkyaZ92HmrFkDB96BjxMAAFoYlZcqJyc7JzVbW1mZkNi50bbLTBX79n3w/rsTH3m03ttQq9WMMW9vb/OU4uJib5XKdDXBRKvVKhQKDw8PIuKcV1SUt2rlJ1xJRUWF0Wj08/PDdwUAAG5COTnZZ3NyzP0bTbZv2xobFxcXFy+a+dtvvpoxa84Nrj9wyMfHRzQlMFDcnsLLy6suszAmCgdE5Ovriy8HAADczA5k7D+bkyOcUlJSHBsXdz22hcZ9AAAAzUBcXLyLVQJOwbBCAAAAgHwAAAAADZIPVCpVUdFVHCwAAICmr6joqkrQA6B+ZLU/GJQy+Lcd282jEQAAAECTpVKpBtXexbDeZPVvBAAAgJsK2h8AAAAA8gEAAAAgHwAAAADyAQAAACAfAAAAAPIBAAAAIB8AAAAA8gEAAAAgHwAAAADyAQAAACAfAAAAAPIBAAAAIB8AAAAA8gEAAAAgHwAAAADyAQAAACAfNENGo3FPevrmzZvx+QEAALS0fFBUVPTV0qVGo9E85Vxu7po1ayRnvnbtmvml3bt3Hzx4MDf37J70dDvrz8rMVKvV9du3bVu3ZmVm4vsBAADIBw3jXG6uwWCQM6dGo/nss08Vipp9eP21fxUUFq5Zverw4cPWM5eXl3/yycemx25Kpa+vr6+vb2lZmc1wkJU1Zcpje/bsMU/R6/Xnz5+X+S7S96RL7gYAAMDNwE3+rPeP+4fBYFAqlcKJpimr16w1PTUajbNmzfT28Zk//63IyEjhnEaj0RwFarKJggmfPjbl8ZkzXnnp5enHjh3t0qULER0+fNi8VGFhoUatNpXZrfz8Tpw84evjM3vOq5K7unPnjlemT3/zzXnDhw83T9yTnj59+sszZs568MEHGWP2902pUCqUaJwBAADIB46899777h4ejLG8vLzZs2ctX76CiDjnwgsECoUiNTVt5syZDz00fuHCRV27djW/tGzZN0Q0efKjttYfGxv77D//2bVr1759+5qmbNzwU37+RVOM0GgqiSgt9X+1JTqPjIh0d3e3rmZYuPCzX3755ZNPPu0/YIDwpUEpKe++996c2bOPHT3y2utvmJctLy//57NTP/rPx8HBwfhCAAAAOJcP4tu1Mz2orq4moqioKMnZ/Pz9Fy5a9J+PPty4YYM5HxQUXP70k0/mv/WW9fxLvvzy7nvuMZXNKSmDhS/NeXUuEV25ciUkJOTy5cv33z/u088Wcs5LSkoCAwOtV7Vjx/Z3FywoLi5es3ZdbGys9QzDhg2PioqeNXPmxfz8mLZtTRPTUlMrKir8/PxEM2/ZvDkuNu72Xr1EVQsAAAAt3nUp+dzc3GbMnDXn1brK/48++qhrt24jRoy0nvnUqVPDhw2dO/fV7Oxs61cLCgruGj6spKTEPCUrK/PRyZOF85SVla1Zs2bCww+/u2DBI49MJqKIiAhb+9apU6f1P/5oDgenT5/+7rtvZ82e4+HhIZrTy0v12mv/Gj1q5OpVq3Q6Hb4rAACAfNAQq6497V6/fv22rVtnz54jeSL+3vvv/7D+R2+V9wP3j3vzzTcuXrwofHXfvn3duycFBASYp9x2W1ciysw8aHr6yy8/D04Z9P3KFfeNHbvx519GjR4tf8eKiorefOON4cOH9+rVy3q2gXcM/OXXTf987rkVK5bfe8/dv/zys/BKCgAAAPJBPZWXl8+d++pb8+elpqZ16NDB1mzR0dFz//Wvtet+KCwsXLdurXk65/zbZd+M/cdYUek+YeKEpUuXmp727z9gxcrvV69ZO27cOE9PT/n7tic9/d5774mICH9z3nxb87i7u48aNfr7Vasfeujh/3z0UamgGgMAAKAFk9v+IDPzoLubOzFGRKZegkePHjUX40bOTT0OzIxG499//TV//rzq6upl336XkJDgcBNt27ZdtOhzvV5vnrJz546ioqJBg1JEc44YMXLhwoUZ+/cn9+jh5+dn3XTAvuKiosWLF3///cpx48bNnDVb1CNDMiVMeuSRB8ePt74GAQAAcFPng88/tyi527dv/+GH/1e3Fje31NQ0U4XBbzt3nj59+tdffykuLp767LMPP/Swt4+PzK0wxszdCgoKLr/xxhtvv/2Ot7e3aDY/P7+XXnpp9uxZP23YqFKpLF7j3NbKs7KyDmVl7c/Yvyc9vXv3pCVLvxJ2r7DGLVeFcAAAAMgHYqbi3yFuNKalpQ0aNOjtdxZ0797dfpmqr9bbeTUk5JYP/v1B7z59TE9FYy7de+99ISEh4nBAZDAarWc22bv39+PHjg0ceMfMmTMjIiLtvxG9vtpoQGsDAAC4STFu+4T7ertWVpa+J33EiJFyOhBeuXJl+fLvpk170f5sFRUV6bt3Dx02zM3NzZV9279vn5+/v502EwAAAMgHAAAAcBPByD8AAACAfAAAAADIBwAAAOAsuY34yspKOSde84c456aGC8K/BT0COXGy0a6Bm/8S/GtjTk4OG0cwwR/HE6WmWy7FJJ8yew8E67a9cvMLXHIOZvMJOTqMzaL9CKv/fKyF/ZeT/JJYT2zVqhV+ngCgGeQDUyio/SMIBxIxgYisRg8Q5QFZ+UCiAOTWxS2r+SOnRGU1/3DJgocTMc7NmUD4lHNu+gW3eEBEjJneufCxVCIh81aJOLcu87jNJ002KzDr59xmac5llvRc1qTmlwkEf4RfEmY5UZRQAQCaQT4wpwNTJqC6lCCIBoL6A86l6wNMpYjzP/kSgYILAoJza6kpn7l1dYLprZh/pmue1gQCYsTrAgEjTsx0KISPheUBr3m3zKqca/Ay77pHBGan3Ba+Py5riWZaxvP6Hbear4cgFtT+EcUC0dcPAKB51B/UBQJzOKhLBZb5wCIecItyq55lBJeoCuAW9QJWNQF1QUByBmEiEF2PEPxMC37ERYGgNpcIHwtqNYTlQSOUi41UhcCceKG5lnBMftWG7aNt/t6JkkFNzqj9etRUO0mlUvw2AUCzqT8QBQVzIrDKB4J00GCjK1jVH3DhL7HE9QJhHGES1dtWM9f+qYsFFulB+jqCdTgQ1Go0miZzfcHmKXfzyArMYQ2I7AoRXvdtsJjJVrUTM6cERi2vyQUANMuTJTkl+JHDh8IjIrklEv8RNUKwXrFUowMm44eayz5dq3si6xfW4oo5s1HkCZsfkmUDRstFmDObbshw0ARaKcrLCs2q2oA5zg/Sx53ZXqVUU1aJB0TE2JLFqfh5AoD6UalUg1IGd+5y23WvP/ht546HJkyyCAck/MdBHYK9Bgdc8peaO1vgcanaAPu/1SSq/bdeyrJy2OJsz/Sqdc0BZ41bUnNBQmh6Ba1TLRhv9D5z6efM9pfVMrdK1JUwcc2B1TUpVtecRdDAhYhxPvGRR/EbBwD1U1R09bcd2xsjH1RWVloWphYVCFbXGuqqECyLLlkn/w17KsxtrpTbLtKYMDHUZQXzj7tVFGjy4YDLP21u4JQgEQmu7xa5K3srXoucD9TWlS+LZW2HA2G/GMZrwjFD6wMAcEVQUHBlZaWLK3G2faL5b4uGCBaXGaw7O3L79QHcuo7efokop/STUV1cV3xxW3UPTNiAQViLQMLGCrw+VR4NkQ/sXVmwfZhYYwQFJl3cNsxRYo7eMJdXtjPhskz0yMVdtWqQaCMcCIJBTe8Y9F0AgKbAmfaJ3B6p/o5k1QqBS/4+S/QmcP5E2MGc3M5cXKJIq2ufSMIODtxRMmCu7bZEeLHfDI67mA8apCy0cR7PxKVkA6/ccXZy9CVhkk8aMueJGyHW9ZKtvaZQEwya6qUXAEA+cFx/4Cgl2K5CsFWMccm2gfUfHYEEtdmyfm4tqr+51T/m/bJfZyDcfW4/IXC7QclyklXzCOljaDciSJXKnLkcXaSOIBOtkbk26JNUPUTdmBVcXg8RRxdWZO8hs/pyOd5tqxEOuLDRQW1EqEkHdR9W022lAQDIB9IBoSYD1Pw82qo/qMsI5n/snMwJBiySGK3I8U+/ZOsGLrdIMp3WWZRjzKpiw3yBQVyvwK16QpL0mbOM0ktieEFuL2RwqUPB5RaQXGYpKG5zJ5W9uM16H04OM5BoExLFIpMaNqNBRpXgNrOIdSqx952S7sAg7hxLJL6QIBzPUxxna1IEfp4AoDnUH4hSAhfXJZCNOgTxWEk2fpAtBz9mjvdF7gjNjt8Ut1UciUdMEjZeZIKJ3E5x4sw+Ozn0oESrDgcDITi87wO3ym3k8IHVPjIb5S23/6alC30utZuuZAB7q+Nk6/2LA4zd6z4WtWIWg3YLg4EoFzCLYIkhFAHALCcne83qVQEBAaanJSUld945NCm5R5OpP6jt0ChZl1A3qKJ4yCSpfMCF5ZFVRCByVL/aYPnAToFieXosvCODeM8FkUZ0IiwoRJwcooA7eu/iWCDzcruNSUzydblDSIg/L+uKHCZ9+wUnRk+SeR1AbhsHiwojbivU2E+T3NHqGRf8sU6+wgaLFs8Z55xQewAAAsnJPYbcOdT0WFtZmZb6BRFd74jgzP2ZqLbOgASPhX0ZpMdTtGqiaOMqrqCXIMntV3Z9hgZiohKkfjdMEv7dMPspmQNs3OpCxomz7VRkdY7MbDctlaoft14/I+tr65JFLbOOZfWId84uYlkrdB17YEpd1RC2XrR4AAAgdOnixZ83bjD9bqxZvepARsao0WPahIff8PoDsjxzNdcf1FUhCG/wKLrGIC7YrM4xbQ0hwGQVAPUcQ9BW53zhoMwOujtaPZMIBzbP++tVlllVHsjOBzaDjnTDfWb7ZJk7VywzUaMMi54Cdj7hxigjLYbDlt90RM5Xy+I7bfqrpu1BXRUB55zqHlk+AACwUKmtjI2LM1ckpKV+sWzZ15MmTb5OEcG5fCDRQI7z2mBQe5mhrm2W6AKDVBluu9Gf7SLC4fUFO2e+THR5g8hecGEWoYFZdXcUTiTrbnfciWLeXnCxbmRgXSUjvzmkzTzk1Mm4M+0PuLizgNMhwOn2B1zuSu3sGyNHnQm43dVa3taLCTos1P5TEw0EkaDmtZZxV2sAuN7Cw8PT0v73/Asvmlsn3Lj6A9s/jFwiRJBFScalyxRzK666st3i1otWRTuXkxtknPkybn9AXBJXPotbJlJdvwaHnTOdu8rAbcQC8XiU3Gb7RDulq3UeYpKLWTct4DbqHKw7fVg+sn2NX25lfkP0lLS1Ui4a98IyiDm/xbovhqnAJ8teC4IAwMwRmzHR8UA8AABHRo++u1Jb6eXlVVJSfOPzQW0RLbhCyuqKci49s+OfU8atIgI1wJ3/uI0mcFzUnt5qy5LrkXOF3WHpJncsI+uxkRy0SbRbJyHMWozbGdCaSb4nh30kuSh4MHsHUDx8MJdfceBCjmUOvyfWLREaIoAw87+WrS+kMgEAgDNMlxXO5uRcp/U7WX8guOdAXbvr2h9Xc0NtYdW+eT5idWfs4p9/6RshWv+y14URJnGqzES1Dqb9sS62JLubOxh22Ork0s5dH+0dNVt3pJLYgQYrNBy2zWd26gzkjKXkaAMWB4/Vp/7A9bfuzOysgbfOav7DUF2nRWbzC97AHz4AwHXOB4JG1rUNCgQPLftwU90l19rmWMSJE6vJEjZu8CyvxLX8zRW3TGQS8zI5BYdUycBsz8rIwTVxJjyrFxwfiX22XyCY3y9nFjUEjBhn3PKN185jY61MTu6Rsy/Ol7Mur9Hm0W3A2CTvvhQSHVftHtm6oQwYWSYE80fLGAkfIyAAQHPKByTV3Frwc2a+wkrCjt81I8eazuPrGtax+tYfWFeoM0HJa/sk12adsYOxbJms8MDsF0FMsLuCGhcbV/1t7HxttYnlYTTnLS5OIXbfi5xwZHNPHBWhTN5puagfo+gTknVdgDm9ow4+dCbzcDBydLAtQiRjopxQ+7+GCdKA4DH6LgCAkMpLlZOTnZOara2sTEjs3FTrD8TNrc2FnvlaglVrAhnjHjE7ZYjFqHWC02OJX2dunkdWSSLeoqPTRzt7aK+kqNsrzqx3mDkesNfinXLijJPw2jVxbg4KlmuWXf7ZKzCtaiO4g+Mj70Rc8uBzi/EDpRe235tAanGpUZuZ4zRDcu4Byh2sRxQRLP62eGAODpYJAgCA2oSHP/nUM0SUk5N9/VobuFx/IOyUZS6umKyTTwcngg5K3watcGXOtz+Qs4f12EUuUfXBZM7toLy0kw8kyj1mHQjs1kNwe6Wn/HzgRJ2A1b6KMoHFab2tayxyrh+R3StLcr7Lll8P8V9MkASYRSSweAkAwNqBjP2iiFBSUhwbF3eD6w9MbQiYsP+X9Zmr9ZgwFi0ZOZO8amvncr6w7GK1rSBttvKzN9K/xZzyfvrlXV8gRw0muOAv24Utt1nwiVbFrFohkKPWDMz+cWaiI8OlGnNaXNxhju7l4GAr4nTD64ILc6ZdgY0mJszRjRtlpChRYpLVjMVB/YFFPpCoRRC+gN9BABCJi4ufMWtOU6w/sCpVa54rTKMnMiIjCbtAmseEEbRkrCl+mP1fZ5uFrmUrP7LV4b8+v63yTxmZo1NPLjFCc01ByyRbUzJzkcslCj7rRUQtEyXWbK/mQ0ayYQ4KYebswXRYXcBc/PikVszlr9NuLVF9v05yA4LoX8L1BQBoCuTXH1iPg8tIQWSsLQw5IwWn2jvc87reC3Wjy1s0o3P+XNxGoWtZoyz3xFFUmtev5JAuC1ltrQlZl+7CeMStbyzNbFeLiFs4MoshEJhgNmav+t9xFYJtsoYqYLIOP5OoPrDelORcTN7uyM0EzJmZbRwPBzVLTLoZgv1/cAcGAGgG+UClUlnlg5paA1IYa2+aUNtMkZm7NtYNKWsaOFaiXt/JX23rKCB1Lu7cmZ6MforOVSFYN3BngrKdC3aV2S/pLN6onf4LwqzBuPBN2Wsz4fwZKnNyLpkdAchee0Q7czGnIwy5mAWdOh4yqhBIdEFB+IRjDEUAqK+ioqsqlaox8sGglMHMZomiECQD4lyYC2rDgUR/B7mnnqIr1dwqCtgoJJjDcYadKOrk9I+XaO0oqj9g1t0dyda9DyQyj7n+gJG4/4JF1mD1qTa4jrXZzEEFAkl/WLILx3rflNqpt+9a/QHZb6poHROI6Nuvl+I3DgDqR6VSDUoZ7Oqvt8w7yZaWlvAaxK3U3bLR+r7OFveDllH979yprUQDBMeXnZ3pv2A3B9hct/295XLfmp1bTnBnTzDtdRIhsnm3C/lltiv9OG60Bk9LTCIhOKxIsHjtlltuwW8cANxAzvRvJOl6YF5zMwYuuLggulUdyb++QPZ6MliXk8y6t7z8U0hm41Rdzmocd22wLMvJYowjqVJXXP5LXqQgG2MeODN0ESN5fSKt7rfEZH92jZQVuOM8xshGkwzZFxoc3lvD4QUqi0GVHVUkEBEaJwJAUzhx4mgHBQAAAJYUOAQAAACAfAAAAADIBwAAAIB8AAAAAMgHAAAAgHwAAAAAyAcAAACAfAAAAAA32P8DSOV03DZ5BNMAAAAASUVORK5CYII=)"
      ]
    },
    {
      "cell_type": "code",
      "metadata": {
        "id": "aNf3fc-WZXJG"
      },
      "source": [
        "from azure.cognitiveservices.language.textanalytics import TextAnalyticsClient\n",
        "from msrest.authentication import CognitiveServicesCredentials\n",
        "\n",
        "subscription_key = \"{API Key}\"\n",
        "credentials = CognitiveServicesCredentials(subscription_key)\n",
        "\n",
        "text_analytics_url = \"{APIのエンドポイントURL}\"\n",
        "text_analytics = TextAnalyticsClient(endpoint=text_analytics_url, credentials=credentials)"
      ],
      "execution_count": 6,
      "outputs": []
    },
    {
      "cell_type": "code",
      "metadata": {
        "id": "2kw_S6X3ZkhV"
      },
      "source": [
        "documents = [\n",
        "    {\n",
        "        \"id\": \"1\",\n",
        "        \"language\": \"en\",\n",
        "        \"text\": mytext\n",
        "    }\n",
        "]\n",
        "\n",
        "response = text_analytics.entities(documents=documents)"
      ],
      "execution_count": 30,
      "outputs": []
    },
    {
      "cell_type": "code",
      "metadata": {
        "colab": {
          "base_uri": "https://localhost:8080/"
        },
        "id": "QDuaGYegZ7Cw",
        "outputId": "0246fd68-a2ae-4653-9378-8209c8252156"
      },
      "source": [
        "for document in response.documents:\n",
        "    for entity in document.entities:\n",
        "        pprint.pprint(entity.as_dict())"
      ],
      "execution_count": 31,
      "outputs": [
        {
          "output_type": "stream",
          "name": "stdout",
          "text": [
            "{'bing_id': '37181124-e096-403d-a455-576a61b83525',\n",
            " 'matches': [{'length': 13,\n",
            "              'offset': 0,\n",
            "              'text': 'SAN FRANCISCO',\n",
            "              'wikipedia_score': 0.16991371426775936}],\n",
            " 'name': 'San Francisco',\n",
            " 'type': 'Location',\n",
            " 'wikipedia_id': 'San Francisco',\n",
            " 'wikipedia_language': 'en',\n",
            " 'wikipedia_url': 'https://en.wikipedia.org/wiki/San_Francisco'}\n",
            "{'bing_id': '44615f38-159f-8476-17fb-f9f0ef482ff9',\n",
            " 'matches': [{'length': 5,\n",
            "              'offset': 16,\n",
            "              'text': 'After',\n",
            "              'wikipedia_score': 0.04428016463078621}],\n",
            " 'name': 'After (2019 film)',\n",
            " 'type': 'Other',\n",
            " 'wikipedia_id': 'After (2019 film)',\n",
            " 'wikipedia_language': 'en',\n",
            " 'wikipedia_url': 'https://en.wikipedia.org/wiki/After_(2019_film)'}\n",
            "{'bing_id': '4bc8f781-7083-d1a0-f781-9466e0eb62e7',\n",
            " 'matches': [{'length': 8,\n",
            "              'offset': 104,\n",
            "              'text': 'Facebook',\n",
            "              'wikipedia_score': 0.4486030317344518},\n",
            "             {'length': 8,\n",
            "              'offset': 677,\n",
            "              'text': 'Facebook',\n",
            "              'wikipedia_score': 0.4486030317344518},\n",
            "             {'length': 8,\n",
            "              'offset': 893,\n",
            "              'text': 'Facebook',\n",
            "              'wikipedia_score': 0.4486030317344518},\n",
            "             {'length': 8,\n",
            "              'offset': 1068,\n",
            "              'text': 'Facebook',\n",
            "              'wikipedia_score': 0.4486030317344518}],\n",
            " 'name': 'Facebook',\n",
            " 'type': 'Organization',\n",
            " 'wikipedia_id': 'Facebook',\n",
            " 'wikipedia_language': 'en',\n",
            " 'wikipedia_url': 'https://en.wikipedia.org/wiki/Facebook'}\n",
            "{'bing_id': '6b6e0f90-78b7-7e6a-1e29-cf4d9dee9f0b',\n",
            " 'matches': [{'length': 8,\n",
            "              'offset': 116,\n",
            "              'text': 'Thursday',\n",
            "              'wikipedia_score': 0.08160772114710735}],\n",
            " 'name': 'Thursday (band)',\n",
            " 'type': 'Person',\n",
            " 'wikipedia_id': 'Thursday (band)',\n",
            " 'wikipedia_language': 'en',\n",
            " 'wikipedia_url': 'https://en.wikipedia.org/wiki/Thursday_(band)'}\n",
            "{'matches': [{'entity_type_score': 0.8,\n",
            "              'length': 8,\n",
            "              'offset': 116,\n",
            "              'text': 'Thursday'}],\n",
            " 'name': 'Thursday',\n",
            " 'sub_type': 'Date',\n",
            " 'type': 'DateTime'}\n",
            "{'matches': [{'entity_type_score': 0.8,\n",
            "              'length': 5,\n",
            "              'offset': 133,\n",
            "              'text': 'seven'}],\n",
            " 'name': 'seven',\n",
            " 'sub_type': 'Number',\n",
            " 'type': 'Quantity'}\n",
            "{'bing_id': 'ec26940f-36fe-6869-badb-b69d2a15444d',\n",
            " 'matches': [{'entity_type_score': 0.99,\n",
            "              'length': 10,\n",
            "              'offset': 344,\n",
            "              'text': 'Alex Jones',\n",
            "              'wikipedia_score': 0.5186885596052337}],\n",
            " 'name': 'Alex Jones',\n",
            " 'type': 'Person',\n",
            " 'wikipedia_id': 'Alex Jones',\n",
            " 'wikipedia_language': 'en',\n",
            " 'wikipedia_url': 'https://en.wikipedia.org/wiki/Alex_Jones'}\n",
            "{'bing_id': '610c3ea5-a709-4896-8b74-3287a57b7cf2',\n",
            " 'matches': [{'entity_type_score': 0.88,\n",
            "              'length': 8,\n",
            "              'offset': 395,\n",
            "              'text': 'Infowars',\n",
            "              'wikipedia_score': 0.8920698718740385}],\n",
            " 'name': 'InfoWars',\n",
            " 'type': 'Organization',\n",
            " 'wikipedia_id': 'InfoWars',\n",
            " 'wikipedia_language': 'en',\n",
            " 'wikipedia_url': 'https://en.wikipedia.org/wiki/InfoWars'}\n",
            "{'bing_id': 'a1071308-9128-5833-a9f0-03e8f6699723',\n",
            " 'matches': [{'entity_type_score': 1.0,\n",
            "              'length': 15,\n",
            "              'offset': 466,\n",
            "              'text': 'Louis Farrakhan',\n",
            "              'wikipedia_score': 0.8046198552713082}],\n",
            " 'name': 'Louis Farrakhan',\n",
            " 'type': 'Person',\n",
            " 'wikipedia_id': 'Louis Farrakhan',\n",
            " 'wikipedia_language': 'en',\n",
            " 'wikipedia_url': 'https://en.wikipedia.org/wiki/Louis_Farrakhan'}\n",
            "{'bing_id': 'f2412135-efa1-e09f-3471-09f0b1b9982f',\n",
            " 'matches': [{'length': 12,\n",
            "              'offset': 567,\n",
            "              'text': 'anti-Semitic',\n",
            "              'wikipedia_score': 0.49871995059263163}],\n",
            " 'name': 'Antisemitism',\n",
            " 'type': 'Other',\n",
            " 'wikipedia_id': 'Antisemitism',\n",
            " 'wikipedia_language': 'en',\n",
            " 'wikipedia_url': 'https://en.wikipedia.org/wiki/Antisemitism'}\n",
            "{'bing_id': 'a71a2b45-2e78-de38-9fde-548c008c91b0',\n",
            " 'matches': [{'entity_type_score': 0.88,\n",
            "              'length': 14,\n",
            "              'offset': 610,\n",
            "              'text': 'Silicon Valley',\n",
            "              'wikipedia_score': 0.2030572271924722}],\n",
            " 'name': 'Silicon Valley',\n",
            " 'sub_type': 'GPE',\n",
            " 'type': 'Location',\n",
            " 'wikipedia_id': 'Silicon Valley',\n",
            " 'wikipedia_language': 'en',\n",
            " 'wikipedia_url': 'https://en.wikipedia.org/wiki/Silicon_Valley'}\n",
            "{'bing_id': 'a2113d26-7976-df57-241f-77b7bbb1b4f7',\n",
            " 'matches': [{'entity_type_score': 0.52,\n",
            "              'length': 9,\n",
            "              'offset': 690,\n",
            "              'text': 'Instagram',\n",
            "              'wikipedia_score': 0.6309897328870981}],\n",
            " 'name': 'Instagram',\n",
            " 'type': 'Organization',\n",
            " 'wikipedia_id': 'Instagram',\n",
            " 'wikipedia_language': 'en',\n",
            " 'wikipedia_url': 'https://en.wikipedia.org/wiki/Instagram'}\n",
            "{'matches': [{'entity_type_score': 0.8,\n",
            "              'length': 5,\n",
            "              'offset': 1059,\n",
            "              'text': 'today'}],\n",
            " 'name': 'today',\n",
            " 'sub_type': 'Date',\n",
            " 'type': 'DateTime'}\n",
            "{'matches': [{'entity_type_score': 0.8,\n",
            "              'length': 3,\n",
            "              'offset': 1087,\n",
            "              'text': 'one'}],\n",
            " 'name': 'one',\n",
            " 'sub_type': 'Number',\n",
            " 'type': 'Quantity'}\n"
          ]
        }
      ]
    },
    {
      "cell_type": "code",
      "metadata": {
        "colab": {
          "base_uri": "https://localhost:8080/"
        },
        "id": "5WHXe3jLbWWX",
        "outputId": "0f977b52-2ddd-417d-ead6-2ee921a607ae"
      },
      "source": [
        "# Let us clean up a little bit, and not print the whole lot of messy stuff it gives us?\n",
        "for document in response.documents:\n",
        "    print(\"Entities in this document: \")\n",
        "    for entity in document.entities:\n",
        "        if entity.type in [\"Person\", \"Location\", \"Organization\"]:\n",
        "            print(entity.name, \"\\t\", entity.type)\n",
        "            if entity.wikipedia_url:\n",
        "                print(entity.wikipedia_url)"
      ],
      "execution_count": 32,
      "outputs": [
        {
          "output_type": "stream",
          "name": "stdout",
          "text": [
            "Entities in this document: \n",
            "San Francisco \t Location\n",
            "https://en.wikipedia.org/wiki/San_Francisco\n",
            "Facebook \t Organization\n",
            "https://en.wikipedia.org/wiki/Facebook\n",
            "Thursday (band) \t Person\n",
            "https://en.wikipedia.org/wiki/Thursday_(band)\n",
            "Alex Jones \t Person\n",
            "https://en.wikipedia.org/wiki/Alex_Jones\n",
            "InfoWars \t Organization\n",
            "https://en.wikipedia.org/wiki/InfoWars\n",
            "Louis Farrakhan \t Person\n",
            "https://en.wikipedia.org/wiki/Louis_Farrakhan\n",
            "Silicon Valley \t Location\n",
            "https://en.wikipedia.org/wiki/Silicon_Valley\n",
            "Instagram \t Organization\n",
            "https://en.wikipedia.org/wiki/Instagram\n"
          ]
        }
      ]
    },
    {
      "cell_type": "code",
      "metadata": {
        "id": "B33dB-bCNPNZ"
      },
      "source": [
        ""
      ],
      "execution_count": null,
      "outputs": []
    }
  ]
}