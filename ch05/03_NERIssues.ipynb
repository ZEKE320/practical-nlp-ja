{
  "nbformat": 4,
  "nbformat_minor": 0,
  "metadata": {
    "colab": {
      "name": "03_NERIssues.ipynb",
      "provenance": [],
      "collapsed_sections": []
    },
    "kernelspec": {
      "name": "python3",
      "display_name": "Python 3"
    },
    "language_info": {
      "name": "python"
    }
  },
  "cells": [
    {
      "cell_type": "markdown",
      "metadata": {
        "id": "wgIxTF2qeFXF"
      },
      "source": [
        "# spaCyにおける固有表現認識の課題\n",
        "\n",
        "このノートブックでは、spaCnに組み込まれた固有表現認識モデルの課題とテキスト構造への敏感さについて説明します。"
      ]
    },
    {
      "cell_type": "markdown",
      "metadata": {
        "id": "Yf0tmNBnqc6n"
      },
      "source": [
        "## 準備\n",
        "### パッケージのインストール"
      ]
    },
    {
      "cell_type": "code",
      "metadata": {
        "colab": {
          "base_uri": "https://localhost:8080/"
        },
        "id": "uZj0nn9rqfCe",
        "outputId": "f40a2101-f7d9-4895-c064-e2541373f76b"
      },
      "source": [
        "!pip install -q spacy==3.1.2"
      ],
      "execution_count": 2,
      "outputs": [
        {
          "output_type": "stream",
          "name": "stdout",
          "text": [
            "\u001b[K     |████████████████████████████████| 5.8 MB 13.8 MB/s \n",
            "\u001b[K     |████████████████████████████████| 456 kB 52.8 MB/s \n",
            "\u001b[K     |████████████████████████████████| 623 kB 72.8 MB/s \n",
            "\u001b[K     |████████████████████████████████| 42 kB 916 kB/s \n",
            "\u001b[K     |████████████████████████████████| 10.1 MB 67.7 MB/s \n",
            "\u001b[?25h"
          ]
        }
      ]
    },
    {
      "cell_type": "markdown",
      "metadata": {
        "id": "in8IDh_8quIl"
      },
      "source": [
        "### モデルのダウンロード"
      ]
    },
    {
      "cell_type": "code",
      "metadata": {
        "colab": {
          "base_uri": "https://localhost:8080/"
        },
        "id": "BzUn_XBLq1eD",
        "outputId": "cbb4370c-6967-48eb-8d49-c00592807c8a"
      },
      "source": [
        "!python -m spacy download en_core_web_lg"
      ],
      "execution_count": 3,
      "outputs": [
        {
          "output_type": "stream",
          "name": "stdout",
          "text": [
            "Collecting en-core-web-lg==3.1.0\n",
            "  Downloading https://github.com/explosion/spacy-models/releases/download/en_core_web_lg-3.1.0/en_core_web_lg-3.1.0-py3-none-any.whl (777.1 MB)\n",
            "\u001b[K     |████████████████████████████████| 777.1 MB 18 kB/s \n",
            "\u001b[?25hRequirement already satisfied: spacy<3.2.0,>=3.1.0 in /usr/local/lib/python3.7/dist-packages (from en-core-web-lg==3.1.0) (3.1.2)\n",
            "Requirement already satisfied: thinc<8.1.0,>=8.0.8 in /usr/local/lib/python3.7/dist-packages (from spacy<3.2.0,>=3.1.0->en-core-web-lg==3.1.0) (8.0.10)\n",
            "Requirement already satisfied: requests<3.0.0,>=2.13.0 in /usr/local/lib/python3.7/dist-packages (from spacy<3.2.0,>=3.1.0->en-core-web-lg==3.1.0) (2.23.0)\n",
            "Requirement already satisfied: tqdm<5.0.0,>=4.38.0 in /usr/local/lib/python3.7/dist-packages (from spacy<3.2.0,>=3.1.0->en-core-web-lg==3.1.0) (4.62.2)\n",
            "Requirement already satisfied: pydantic!=1.8,!=1.8.1,<1.9.0,>=1.7.4 in /usr/local/lib/python3.7/dist-packages (from spacy<3.2.0,>=3.1.0->en-core-web-lg==3.1.0) (1.8.2)\n",
            "Requirement already satisfied: wasabi<1.1.0,>=0.8.1 in /usr/local/lib/python3.7/dist-packages (from spacy<3.2.0,>=3.1.0->en-core-web-lg==3.1.0) (0.8.2)\n",
            "Requirement already satisfied: catalogue<2.1.0,>=2.0.4 in /usr/local/lib/python3.7/dist-packages (from spacy<3.2.0,>=3.1.0->en-core-web-lg==3.1.0) (2.0.6)\n",
            "Requirement already satisfied: setuptools in /usr/local/lib/python3.7/dist-packages (from spacy<3.2.0,>=3.1.0->en-core-web-lg==3.1.0) (57.4.0)\n",
            "Requirement already satisfied: preshed<3.1.0,>=3.0.2 in /usr/local/lib/python3.7/dist-packages (from spacy<3.2.0,>=3.1.0->en-core-web-lg==3.1.0) (3.0.5)\n",
            "Requirement already satisfied: typing-extensions<4.0.0.0,>=3.7.4 in /usr/local/lib/python3.7/dist-packages (from spacy<3.2.0,>=3.1.0->en-core-web-lg==3.1.0) (3.7.4.3)\n",
            "Requirement already satisfied: typer<0.4.0,>=0.3.0 in /usr/local/lib/python3.7/dist-packages (from spacy<3.2.0,>=3.1.0->en-core-web-lg==3.1.0) (0.3.2)\n",
            "Requirement already satisfied: jinja2 in /usr/local/lib/python3.7/dist-packages (from spacy<3.2.0,>=3.1.0->en-core-web-lg==3.1.0) (2.11.3)\n",
            "Requirement already satisfied: numpy>=1.15.0 in /usr/local/lib/python3.7/dist-packages (from spacy<3.2.0,>=3.1.0->en-core-web-lg==3.1.0) (1.19.5)\n",
            "Requirement already satisfied: murmurhash<1.1.0,>=0.28.0 in /usr/local/lib/python3.7/dist-packages (from spacy<3.2.0,>=3.1.0->en-core-web-lg==3.1.0) (1.0.5)\n",
            "Requirement already satisfied: cymem<2.1.0,>=2.0.2 in /usr/local/lib/python3.7/dist-packages (from spacy<3.2.0,>=3.1.0->en-core-web-lg==3.1.0) (2.0.5)\n",
            "Requirement already satisfied: spacy-legacy<3.1.0,>=3.0.7 in /usr/local/lib/python3.7/dist-packages (from spacy<3.2.0,>=3.1.0->en-core-web-lg==3.1.0) (3.0.8)\n",
            "Requirement already satisfied: pathy>=0.3.5 in /usr/local/lib/python3.7/dist-packages (from spacy<3.2.0,>=3.1.0->en-core-web-lg==3.1.0) (0.6.0)\n",
            "Requirement already satisfied: srsly<3.0.0,>=2.4.1 in /usr/local/lib/python3.7/dist-packages (from spacy<3.2.0,>=3.1.0->en-core-web-lg==3.1.0) (2.4.1)\n",
            "Requirement already satisfied: blis<0.8.0,>=0.4.0 in /usr/local/lib/python3.7/dist-packages (from spacy<3.2.0,>=3.1.0->en-core-web-lg==3.1.0) (0.4.1)\n",
            "Requirement already satisfied: packaging>=20.0 in /usr/local/lib/python3.7/dist-packages (from spacy<3.2.0,>=3.1.0->en-core-web-lg==3.1.0) (21.0)\n",
            "Requirement already satisfied: zipp>=0.5 in /usr/local/lib/python3.7/dist-packages (from catalogue<2.1.0,>=2.0.4->spacy<3.2.0,>=3.1.0->en-core-web-lg==3.1.0) (3.5.0)\n",
            "Requirement already satisfied: pyparsing>=2.0.2 in /usr/local/lib/python3.7/dist-packages (from packaging>=20.0->spacy<3.2.0,>=3.1.0->en-core-web-lg==3.1.0) (2.4.7)\n",
            "Requirement already satisfied: smart-open<6.0.0,>=5.0.0 in /usr/local/lib/python3.7/dist-packages (from pathy>=0.3.5->spacy<3.2.0,>=3.1.0->en-core-web-lg==3.1.0) (5.2.1)\n",
            "Requirement already satisfied: urllib3!=1.25.0,!=1.25.1,<1.26,>=1.21.1 in /usr/local/lib/python3.7/dist-packages (from requests<3.0.0,>=2.13.0->spacy<3.2.0,>=3.1.0->en-core-web-lg==3.1.0) (1.24.3)\n",
            "Requirement already satisfied: chardet<4,>=3.0.2 in /usr/local/lib/python3.7/dist-packages (from requests<3.0.0,>=2.13.0->spacy<3.2.0,>=3.1.0->en-core-web-lg==3.1.0) (3.0.4)\n",
            "Requirement already satisfied: idna<3,>=2.5 in /usr/local/lib/python3.7/dist-packages (from requests<3.0.0,>=2.13.0->spacy<3.2.0,>=3.1.0->en-core-web-lg==3.1.0) (2.10)\n",
            "Requirement already satisfied: certifi>=2017.4.17 in /usr/local/lib/python3.7/dist-packages (from requests<3.0.0,>=2.13.0->spacy<3.2.0,>=3.1.0->en-core-web-lg==3.1.0) (2021.5.30)\n",
            "Requirement already satisfied: click<7.2.0,>=7.1.1 in /usr/local/lib/python3.7/dist-packages (from typer<0.4.0,>=0.3.0->spacy<3.2.0,>=3.1.0->en-core-web-lg==3.1.0) (7.1.2)\n",
            "Requirement already satisfied: MarkupSafe>=0.23 in /usr/local/lib/python3.7/dist-packages (from jinja2->spacy<3.2.0,>=3.1.0->en-core-web-lg==3.1.0) (2.0.1)\n",
            "Installing collected packages: en-core-web-lg\n",
            "Successfully installed en-core-web-lg-3.1.0\n",
            "\u001b[38;5;2m✔ Download and installation successful\u001b[0m\n",
            "You can now load the package via spacy.load('en_core_web_lg')\n"
          ]
        }
      ]
    },
    {
      "cell_type": "markdown",
      "metadata": {
        "id": "b4eknXk1q3ZG"
      },
      "source": [
        "### インポート"
      ]
    },
    {
      "cell_type": "code",
      "metadata": {
        "id": "ZasTMu7Dq5kL"
      },
      "source": [
        "import spacy"
      ],
      "execution_count": 4,
      "outputs": []
    },
    {
      "cell_type": "markdown",
      "metadata": {
        "id": "_lPdmmISrXUt"
      },
      "source": [
        "### モデルの読み込み"
      ]
    },
    {
      "cell_type": "code",
      "metadata": {
        "id": "Df1vvv3hrZkL"
      },
      "source": [
        "nlp = spacy.load(\"en_core_web_lg\")"
      ],
      "execution_count": 5,
      "outputs": []
    },
    {
      "cell_type": "markdown",
      "metadata": {
        "id": "P8bjTEhCrbjD"
      },
      "source": [
        "## 固有表現を認識する\n",
        "\n",
        "では、spaCyのモデルを使って、固有表現認識をしてみましょう。やり方は簡単です。テキストを渡して`Doc`オブジェクトを作成したら、`ents`プロパティへアクセスするだけです。そうすることで、固有表現とそのタイプを取得できます。"
      ]
    },
    {
      "cell_type": "code",
      "metadata": {
        "colab": {
          "base_uri": "https://localhost:8080/"
        },
        "id": "S-RUTmkacmyy",
        "outputId": "714e7110-e50f-4360-c91a-87e60d6d90a5"
      },
      "source": [
        "mytext = \"\"\"SAN FRANCISCO — Shortly after Apple used a new tax law last year to bring back most of the $252 billion it had held abroad, the company said it would buy back $100 billion of its stock.\n",
        "\n",
        "On Tuesday, Apple announced its plans for another major chunk of the money: It will buy back a further $75 billion in stock.\n",
        "\n",
        "“Our first priority is always looking after the business and making sure we continue to grow and invest,” Luca Maestri, Apple’s finance chief, said in an interview. “If there is excess cash, then obviously we want to return it to investors.”\n",
        "\n",
        "Apple’s record buybacks should be welcome news to shareholders, as the stock price is likely to climb. But the buybacks could also expose the company to more criticism that the tax cuts it received have mostly benefited investors and executives.\n",
        "\"\"\"\n",
        "doc = nlp(mytext)\n",
        "for ent in doc.ents:\n",
        "    print(ent.text, \"\\t\", ent.label_)"
      ],
      "execution_count": 6,
      "outputs": [
        {
          "output_type": "stream",
          "name": "stdout",
          "text": [
            "SAN FRANCISCO \t GPE\n",
            "Apple \t ORG\n",
            "last year \t DATE\n",
            "$252 billion \t MONEY\n",
            "$100 billion \t MONEY\n",
            "Tuesday \t DATE\n",
            "Apple \t ORG\n",
            "$75 billion \t MONEY\n",
            "first \t ORDINAL\n",
            "Luca Maestri \t PERSON\n",
            "Apple \t ORG\n",
            "Apple \t ORG\n"
          ]
        }
      ]
    },
    {
      "cell_type": "markdown",
      "metadata": {
        "id": "iIVcoO1rM55Y"
      },
      "source": [
        "`sents`プロパティへアクセスすることで、文を抽出してみましょう。今回のテキストであれば、人間であれば6つの文を抽出できるはずです。"
      ]
    },
    {
      "cell_type": "code",
      "metadata": {
        "colab": {
          "base_uri": "https://localhost:8080/"
        },
        "id": "Y26qfij2cmzS",
        "outputId": "5b4f1eb2-a1f9-455e-9fad-3ff13fde6bac"
      },
      "source": [
        "for sent in doc.sents:\n",
        "    print(sent.text)\n",
        "    print(\"***End of sent****\")\n",
        "print(\"Total sentences: \", len(list(doc.sents)))"
      ],
      "execution_count": 8,
      "outputs": [
        {
          "output_type": "stream",
          "name": "stdout",
          "text": [
            "SAN FRANCISCO — Shortly after Apple used a new tax law last year to bring back most of the $252 billion it had held abroad, the company said it would buy back $100 billion of its stock.\n",
            "***End of sent****\n",
            "\n",
            "\n",
            "On Tuesday, Apple announced its plans for another major chunk of the money: It will buy back a further $75 billion in stock.\n",
            "***End of sent****\n",
            "\n",
            "\n",
            "\n",
            "***End of sent****\n",
            "“Our first priority is always looking after the business and making sure we continue to grow and invest,” Luca Maestri, Apple’s finance chief, said in an interview.\n",
            "***End of sent****\n",
            "“If there is excess cash, then obviously we want to return it to investors.”\n",
            "***End of sent****\n",
            "\n",
            "\n",
            "Apple’s record buybacks should be welcome news to shareholders, as the stock price is likely to climb.\n",
            "***End of sent****\n",
            "But the buybacks could also expose the company to more criticism that the tax cuts it received have mostly benefited investors and executives.\n",
            "***End of sent****\n",
            "\n",
            "\n",
            "***End of sent****\n",
            "Total sentences:  8\n"
          ]
        }
      ]
    },
    {
      "cell_type": "markdown",
      "metadata": {
        "id": "HjReMbSsQ1Z1"
      },
      "source": [
        "8つの文が抽出されました。改行が影響を及ぼしている箇所があるようです。"
      ]
    },
    {
      "cell_type": "markdown",
      "metadata": {
        "id": "lN2xj4ZMRV84"
      },
      "source": [
        "では、もし固有表現の途中で改行が入った場合はどうなるのでしょうか？試してみましょう。"
      ]
    },
    {
      "cell_type": "code",
      "metadata": {
        "colab": {
          "base_uri": "https://localhost:8080/"
        },
        "id": "gWsvwrirOLTs",
        "outputId": "0d5a2a5b-a05a-458c-bfb0-234efbc50467"
      },
      "source": [
        "# 改行なし\n",
        "doc = nlp('The United States Army is the land service branch of the United States Armed Forces.')\n",
        "for ent in doc.ents:\n",
        "    print(ent.text, \"\\t\", ent.label_)"
      ],
      "execution_count": 20,
      "outputs": [
        {
          "output_type": "stream",
          "name": "stdout",
          "text": [
            "The United States Army \t GPE\n",
            "the United States Armed Forces \t GPE\n"
          ]
        }
      ]
    },
    {
      "cell_type": "code",
      "metadata": {
        "colab": {
          "base_uri": "https://localhost:8080/"
        },
        "id": "6XVTwSXTRflJ",
        "outputId": "a44ee8ab-5ea7-499b-9421-cbb0a3bdc984"
      },
      "source": [
        "# 改行あり\n",
        "doc = nlp('The United States\\nArmy is the land service branch of the United States Armed Forces.')\n",
        "for ent in doc.ents:\n",
        "    print(ent.text, \"\\t\", ent.label_)"
      ],
      "execution_count": 21,
      "outputs": [
        {
          "output_type": "stream",
          "name": "stdout",
          "text": [
            "The United States \t GPE\n",
            "Army \t ORG\n",
            "the United States Armed Forces \t GPE\n"
          ]
        }
      ]
    },
    {
      "cell_type": "markdown",
      "metadata": {
        "id": "LbpPjzFkrPPw"
      },
      "source": [
        "抽出結果が変わってしまいました。\n",
        "\n",
        "今回の例では、認識結果が変わるように意図的に改行を入れましたが、実際、企業内の文章（業務文書、メールなど）であれば、画面内におさめるために、文の途中で改行することはよくあるかと思います。そういった場合、単に学習済みのモデルを適用するだけではなく、文境界の認識などの前処理をする必要があります。"
      ]
    },
    {
      "cell_type": "code",
      "metadata": {
        "id": "K8E2mrUGTNkd"
      },
      "source": [
        ""
      ],
      "execution_count": null,
      "outputs": []
    }
  ]
}