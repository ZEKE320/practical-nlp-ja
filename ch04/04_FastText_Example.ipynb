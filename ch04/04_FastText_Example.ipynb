{
  "nbformat": 4,
  "nbformat_minor": 0,
  "metadata": {
    "colab": {
      "name": "04_FastText_Example.ipynb",
      "provenance": [],
      "collapsed_sections": []
    },
    "kernelspec": {
      "display_name": "Python 3",
      "language": "python",
      "name": "python3"
    },
    "language_info": {
      "codemirror_mode": {
        "name": "ipython",
        "version": 3
      },
      "file_extension": ".py",
      "mimetype": "text/x-python",
      "name": "python",
      "nbconvert_exporter": "python",
      "pygments_lexer": "ipython3",
      "version": "3.6.10"
    }
  },
  "cells": [
    {
      "cell_type": "markdown",
      "metadata": {
        "id": "6FIToZHAhz2O"
      },
      "source": [
        "# fastTextを用いたテキスト分類\n",
        "\n",
        "このノートブックでは、fastTextライブラリを使ってテキスト分類をする方法を紹介します。\n",
        "データセットとしては、dbpediaを使います。以下のリンクからダウンロードできます。\n",
        "\n",
        "- [dbpedia_csv.tar.gz](https://github.com/le-scientifique/torchDatasets/raw/master/dbpedia_csv.tar.gz)\n",
        "\n",
        "今回使うfastTextは単語埋め込みの学習とテキスト分類をするためのライブラリで、Facebook AI Research(FAIR)が作成しました。教師なしまたは教師ありで単語のベクトル表現を学習できます。\n",
        "以下のページから、157言語に対する事前学習済みモデルをダウンロードできます。\n",
        "\n",
        "- [Word vectors for 157 languages](https://fasttext.cc/docs/en/crawl-vectors.html)"
      ]
    },
    {
      "cell_type": "markdown",
      "metadata": {
        "id": "qbTNq_49wJW9"
      },
      "source": [
        "## 準備\n",
        "\n",
        "### パッケージのインストール"
      ]
    },
    {
      "cell_type": "code",
      "metadata": {
        "id": "xC9f1uA-OX8J",
        "colab": {
          "base_uri": "https://localhost:8080/"
        },
        "outputId": "d0d831b7-093c-4700-bd10-b44eb80d693b"
      },
      "source": [
        "!pip install fasttext==0.9.2"
      ],
      "execution_count": 1,
      "outputs": [
        {
          "output_type": "stream",
          "name": "stdout",
          "text": [
            "Collecting fasttext==0.9.2\n",
            "  Downloading fasttext-0.9.2.tar.gz (68 kB)\n",
            "\u001b[?25l\r\u001b[K     |████▊                           | 10 kB 27.2 MB/s eta 0:00:01\r\u001b[K     |█████████▌                      | 20 kB 28.4 MB/s eta 0:00:01\r\u001b[K     |██████████████▎                 | 30 kB 21.4 MB/s eta 0:00:01\r\u001b[K     |███████████████████             | 40 kB 17.9 MB/s eta 0:00:01\r\u001b[K     |███████████████████████▉        | 51 kB 7.6 MB/s eta 0:00:01\r\u001b[K     |████████████████████████████▋   | 61 kB 8.8 MB/s eta 0:00:01\r\u001b[K     |████████████████████████████████| 68 kB 3.7 MB/s \n",
            "\u001b[?25hCollecting pybind11>=2.2\n",
            "  Using cached pybind11-2.7.1-py2.py3-none-any.whl (200 kB)\n",
            "Requirement already satisfied: setuptools>=0.7.0 in /usr/local/lib/python3.7/dist-packages (from fasttext==0.9.2) (57.4.0)\n",
            "Requirement already satisfied: numpy in /usr/local/lib/python3.7/dist-packages (from fasttext==0.9.2) (1.19.5)\n",
            "Building wheels for collected packages: fasttext\n",
            "  Building wheel for fasttext (setup.py) ... \u001b[?25l\u001b[?25hdone\n",
            "  Created wheel for fasttext: filename=fasttext-0.9.2-cp37-cp37m-linux_x86_64.whl size=3095023 sha256=1cdf3cbbfeebe4ac37f99f7146763a0df75fdc45f8a3eca964a7988dd4eff22a\n",
            "  Stored in directory: /root/.cache/pip/wheels/4e/ca/bf/b020d2be95f7641801a6597a29c8f4f19e38f9c02a345bab9b\n",
            "Successfully built fasttext\n",
            "Installing collected packages: pybind11, fasttext\n",
            "Successfully installed fasttext-0.9.2 pybind11-2.7.1\n"
          ]
        }
      ]
    },
    {
      "cell_type": "markdown",
      "metadata": {
        "id": "AVBcNzrBwNbQ"
      },
      "source": [
        "### インポート"
      ]
    },
    {
      "cell_type": "code",
      "metadata": {
        "id": "YKgZXvTGb61z"
      },
      "source": [
        "import pandas as pd"
      ],
      "execution_count": 2,
      "outputs": []
    },
    {
      "cell_type": "markdown",
      "metadata": {
        "id": "NunIXcrHwO93"
      },
      "source": [
        "### データセットのダウンロード\n",
        "\n",
        "まずは、データセットをダウンロードして展開します。"
      ]
    },
    {
      "cell_type": "code",
      "metadata": {
        "id": "l6CfW7C3L4EB",
        "colab": {
          "base_uri": "https://localhost:8080/"
        },
        "outputId": "e3831ad0-c1b2-4f83-d41c-7a9478d5be69"
      },
      "source": [
        "# データセットのダウンロード\n",
        "!wget -P DATAPATH https://github.com/le-scientifique/torchDatasets/raw/master/dbpedia_csv.tar.gz\n",
        "\n",
        "# 展開\n",
        "!tar -xvf DATAPATH/dbpedia_csv.tar.gz -C DATAPATH\n",
        "\n",
        "# フォルダ構造の確認\n",
        "!ls -lah DATAPATH"
      ],
      "execution_count": 3,
      "outputs": [
        {
          "output_type": "stream",
          "name": "stdout",
          "text": [
            "--2021-09-08 05:06:13--  https://github.com/le-scientifique/torchDatasets/raw/master/dbpedia_csv.tar.gz\n",
            "Resolving github.com (github.com)... 192.30.255.112\n",
            "Connecting to github.com (github.com)|192.30.255.112|:443... connected.\n",
            "HTTP request sent, awaiting response... 301 Moved Permanently\n",
            "Location: https://github.com/srhrshr/torchDatasets/raw/master/dbpedia_csv.tar.gz [following]\n",
            "--2021-09-08 05:06:13--  https://github.com/srhrshr/torchDatasets/raw/master/dbpedia_csv.tar.gz\n",
            "Reusing existing connection to github.com:443.\n",
            "HTTP request sent, awaiting response... 302 Found\n",
            "Location: https://raw.githubusercontent.com/srhrshr/torchDatasets/master/dbpedia_csv.tar.gz [following]\n",
            "--2021-09-08 05:06:13--  https://raw.githubusercontent.com/srhrshr/torchDatasets/master/dbpedia_csv.tar.gz\n",
            "Resolving raw.githubusercontent.com (raw.githubusercontent.com)... 185.199.108.133, 185.199.110.133, 185.199.109.133, ...\n",
            "Connecting to raw.githubusercontent.com (raw.githubusercontent.com)|185.199.108.133|:443... connected.\n",
            "HTTP request sent, awaiting response... 200 OK\n",
            "Length: 68431223 (65M) [application/octet-stream]\n",
            "Saving to: ‘DATAPATH/dbpedia_csv.tar.gz’\n",
            "\n",
            "dbpedia_csv.tar.gz  100%[===================>]  65.26M  70.3MB/s    in 0.9s    \n",
            "\n",
            "2021-09-08 05:06:16 (70.3 MB/s) - ‘DATAPATH/dbpedia_csv.tar.gz’ saved [68431223/68431223]\n",
            "\n",
            "dbpedia_csv/\n",
            "dbpedia_csv/test.csv\n",
            "dbpedia_csv/classes.txt\n",
            "dbpedia_csv/train.csv\n",
            "dbpedia_csv/readme.txt\n",
            "total 66M\n",
            "drwxr-xr-x 3 root root 4.0K Sep  8 05:06 .\n",
            "drwxr-xr-x 1 root root 4.0K Sep  8 05:06 ..\n",
            "drwxrwxr-x 2 1000 1000 4.0K Mar 29  2015 dbpedia_csv\n",
            "-rw-r--r-- 1 root root  66M Sep  8 05:06 dbpedia_csv.tar.gz\n"
          ]
        }
      ]
    },
    {
      "cell_type": "markdown",
      "metadata": {
        "id": "732Lggr2wVdd"
      },
      "source": [
        "### データセットの読み込み\n",
        "\n",
        "データセットを展開したら、pandasを使って読み込みます。"
      ]
    },
    {
      "cell_type": "code",
      "metadata": {
        "id": "lMoRw3oQb62I",
        "colab": {
          "base_uri": "https://localhost:8080/"
        },
        "outputId": "68f9f868-a42e-4978-8ead-445608446b80"
      },
      "source": [
        "data_path = 'DATAPATH'\n",
        "\n",
        "# 学習データの読み込み\n",
        "train_file = data_path + '/dbpedia_csv/train.csv'\n",
        "df = pd.read_csv(train_file, header=None, names=['class', 'name', 'description'])\n",
        "\n",
        "# テストデータの読み込み\n",
        "test_file = data_path + '/dbpedia_csv/test.csv'\n",
        "df_test = pd.read_csv(test_file, header=None, names=['class', 'name', 'description'])\n",
        "\n",
        "# データ量の確認\n",
        "print(\"Train:{} Test:{}\".format(df.shape, df_test.shape))"
      ],
      "execution_count": 4,
      "outputs": [
        {
          "output_type": "stream",
          "name": "stdout",
          "text": [
            "Train:(560000, 3) Test:(70000, 3)\n"
          ]
        }
      ]
    },
    {
      "cell_type": "markdown",
      "metadata": {
        "id": "4WHwiR0pweLM"
      },
      "source": [
        "## 前処理"
      ]
    },
    {
      "cell_type": "code",
      "metadata": {
        "id": "gaz226vXb62W",
        "colab": {
          "base_uri": "https://localhost:8080/",
          "height": 204
        },
        "outputId": "f1f1eff3-6373-4b55-cb19-99864e2eee34"
      },
      "source": [
        "# クラスに関する手がかりがないのでマッピングを作成\n",
        "# クラスを表す数値からクラス名へのマッピング\n",
        "class_dict={\n",
        "    1: 'Company',\n",
        "    2: 'EducationalInstitution',\n",
        "    3: 'Artist',\n",
        "    4: 'Athlete',\n",
        "    5: 'OfficeHolder',\n",
        "    6: 'MeanOfTransportation',\n",
        "    7: 'Building',\n",
        "    8: 'NaturalPlace',\n",
        "    9: 'Village',\n",
        "    10: 'Animal',\n",
        "    11: 'Plant',\n",
        "    12: 'Album',\n",
        "    13: 'Film',\n",
        "    14: 'WrittenWork'\n",
        "}\n",
        "\n",
        "# 数値からクラス名への変換\n",
        "df['class_name'] = df['class'].map(class_dict)\n",
        "df.head()"
      ],
      "execution_count": 5,
      "outputs": [
        {
          "output_type": "execute_result",
          "data": {
            "text/html": [
              "<div>\n",
              "<style scoped>\n",
              "    .dataframe tbody tr th:only-of-type {\n",
              "        vertical-align: middle;\n",
              "    }\n",
              "\n",
              "    .dataframe tbody tr th {\n",
              "        vertical-align: top;\n",
              "    }\n",
              "\n",
              "    .dataframe thead th {\n",
              "        text-align: right;\n",
              "    }\n",
              "</style>\n",
              "<table border=\"1\" class=\"dataframe\">\n",
              "  <thead>\n",
              "    <tr style=\"text-align: right;\">\n",
              "      <th></th>\n",
              "      <th>class</th>\n",
              "      <th>name</th>\n",
              "      <th>description</th>\n",
              "      <th>class_name</th>\n",
              "    </tr>\n",
              "  </thead>\n",
              "  <tbody>\n",
              "    <tr>\n",
              "      <th>0</th>\n",
              "      <td>1</td>\n",
              "      <td>E. D. Abbott Ltd</td>\n",
              "      <td>Abbott of Farnham E D Abbott Limited was a Br...</td>\n",
              "      <td>Company</td>\n",
              "    </tr>\n",
              "    <tr>\n",
              "      <th>1</th>\n",
              "      <td>1</td>\n",
              "      <td>Schwan-Stabilo</td>\n",
              "      <td>Schwan-STABILO is a German maker of pens for ...</td>\n",
              "      <td>Company</td>\n",
              "    </tr>\n",
              "    <tr>\n",
              "      <th>2</th>\n",
              "      <td>1</td>\n",
              "      <td>Q-workshop</td>\n",
              "      <td>Q-workshop is a Polish company located in Poz...</td>\n",
              "      <td>Company</td>\n",
              "    </tr>\n",
              "    <tr>\n",
              "      <th>3</th>\n",
              "      <td>1</td>\n",
              "      <td>Marvell Software Solutions Israel</td>\n",
              "      <td>Marvell Software Solutions Israel known as RA...</td>\n",
              "      <td>Company</td>\n",
              "    </tr>\n",
              "    <tr>\n",
              "      <th>4</th>\n",
              "      <td>1</td>\n",
              "      <td>Bergan Mercy Medical Center</td>\n",
              "      <td>Bergan Mercy Medical Center is a hospital loc...</td>\n",
              "      <td>Company</td>\n",
              "    </tr>\n",
              "  </tbody>\n",
              "</table>\n",
              "</div>"
            ],
            "text/plain": [
              "   class  ... class_name\n",
              "0      1  ...    Company\n",
              "1      1  ...    Company\n",
              "2      1  ...    Company\n",
              "3      1  ...    Company\n",
              "4      1  ...    Company\n",
              "\n",
              "[5 rows x 4 columns]"
            ]
          },
          "metadata": {},
          "execution_count": 5
        }
      ]
    },
    {
      "cell_type": "code",
      "metadata": {
        "id": "si7VC_Rub62a",
        "colab": {
          "base_uri": "https://localhost:8080/"
        },
        "outputId": "b847d884-b3a9-4802-a0fe-0499f7379f34"
      },
      "source": [
        "df[\"class_name\"].value_counts()"
      ],
      "execution_count": 6,
      "outputs": [
        {
          "output_type": "execute_result",
          "data": {
            "text/plain": [
              "Company                   40000\n",
              "WrittenWork               40000\n",
              "MeanOfTransportation      40000\n",
              "Village                   40000\n",
              "Animal                    40000\n",
              "Artist                    40000\n",
              "NaturalPlace              40000\n",
              "Athlete                   40000\n",
              "Film                      40000\n",
              "Album                     40000\n",
              "Plant                     40000\n",
              "Building                  40000\n",
              "EducationalInstitution    40000\n",
              "OfficeHolder              40000\n",
              "Name: class_name, dtype: int64"
            ]
          },
          "metadata": {},
          "execution_count": 6
        }
      ]
    },
    {
      "cell_type": "markdown",
      "metadata": {
        "id": "LVK1a5crJjRN"
      },
      "source": [
        "次にテキストのクリーニングをします。ここでは主に以下の2つを行います。\n",
        "\n",
        "- 文字の置き換え\n",
        "- 正規化\n",
        "\n",
        "さらに、ラベルをfastTextの形式（`__class__ラベル名`）に変換します。"
      ]
    },
    {
      "cell_type": "code",
      "metadata": {
        "id": "Sn-3kIqMb62d"
      },
      "source": [
        "def clean_it(text, normalize=True):\n",
        "    # 文字の置き換え\n",
        "    s = str(text)\\\n",
        "            .replace(',', ' ')\\\n",
        "            .replace('\"', '')\\\n",
        "            .replace('\\'', ' \\' ')\\\n",
        "            .replace('.', ' . ')\\\n",
        "            .replace('(', ' ( ')\\\n",
        "            .replace(')', ' ) ')\\\n",
        "            .replace('!', ' ! ')\\\n",
        "            .replace('?', ' ? ')\\\n",
        "            .replace(':', ' ')\\\n",
        "            .replace(';', ' ')\\\n",
        "            .lower()\n",
        "    \n",
        "    # 正規化とテキストのエンコーディング\n",
        "    if normalize:\n",
        "        s = s.normalize('NFKD').str.encode('ascii', 'ignore').str.decode('utf-8')\n",
        "    \n",
        "    return s\n",
        "\n",
        "\n",
        "def clean_df(data, cleanit=False, shuffleit=False, encodeit=False, label_prefix='__class__'):\n",
        "    # 新しいデータを用意\n",
        "    df = data[['name','description']].copy(deep=True)\n",
        "    df['class'] = label_prefix + data['class'].astype(str) + ' '\n",
        "    \n",
        "    # 用意したデータをクリーニング\n",
        "    if cleanit:\n",
        "        df['name'] = df['name'].apply(lambda x: clean_it(x, encodeit))\n",
        "        df['description'] = df['description'].apply(lambda x: clean_it(x, encodeit))\n",
        "    \n",
        "    # シャッフル\n",
        "    if shuffleit:\n",
        "        df.sample(frac=1).reset_index(drop=True)\n",
        "            \n",
        "    return df"
      ],
      "execution_count": 7,
      "outputs": []
    },
    {
      "cell_type": "markdown",
      "metadata": {
        "id": "zeM2q_HfKMEi"
      },
      "source": [
        "定義した関数を使って、データセットをきれいにしましょう。"
      ]
    },
    {
      "cell_type": "code",
      "metadata": {
        "id": "r_DRvdFcb62m",
        "colab": {
          "base_uri": "https://localhost:8080/"
        },
        "outputId": "9b268b0a-d204-4217-b6b0-4ac1505cc16b"
      },
      "source": [
        "%%time\n",
        "df_train_cleaned = clean_df(df, True, True)\n",
        "df_test_cleaned = clean_df(df_test, True, True)"
      ],
      "execution_count": 8,
      "outputs": [
        {
          "output_type": "stream",
          "name": "stdout",
          "text": [
            "CPU times: user 5.29 s, sys: 287 ms, total: 5.58 s\n",
            "Wall time: 5.6 s\n"
          ]
        }
      ]
    },
    {
      "cell_type": "markdown",
      "metadata": {
        "id": "H9E9P7XhKQ4_"
      },
      "source": [
        "クリーニングを終えたら、ディスクへ書き込みます。書き込んだデータは、後ほどfastTextの分類器から利用します。"
      ]
    },
    {
      "cell_type": "code",
      "metadata": {
        "id": "imMZ9-Bkb62t"
      },
      "source": [
        "# Write files to disk as fastText classifier API reads files from disk.\n",
        "train_file = data_path + '/dbpedia_train.csv'\n",
        "test_file = data_path + '/dbpedia_test.csv'\n",
        "\n",
        "columns = ['class', 'name', 'description']\n",
        "df_train_cleaned.to_csv(\n",
        "    train_file,\n",
        "    header=None,\n",
        "    index=False,\n",
        "    columns=columns\n",
        ")\n",
        "df_test_cleaned.to_csv(\n",
        "    test_file,\n",
        "    header=None,\n",
        "    index=False,\n",
        "    columns=columns\n",
        ")"
      ],
      "execution_count": 9,
      "outputs": []
    },
    {
      "cell_type": "markdown",
      "metadata": {
        "id": "5UCeqRFzwhl2"
      },
      "source": [
        "## モデルの学習と評価"
      ]
    },
    {
      "cell_type": "markdown",
      "metadata": {
        "id": "bWZTSzd9b62x"
      },
      "source": [
        "データを用意できたので、分類器を学習しましょう。\n",
        "\n",
        "fastTextには、学習用のファイル（csv）やラベル名の前にプレフィックスを指定する必要があります。\n",
        "プレフィックスは、デフォルトでは`__label__`ですが、今回は`__class__`を用いています。\n",
        "その他のパラメータについて知りたい場合、以下のページを参照してください。\n",
        "\n",
        "- [train_supervised parameters](https://github.com/facebookresearch/fastText/tree/master/python#train_supervised-parameters)"
      ]
    },
    {
      "cell_type": "code",
      "metadata": {
        "id": "a-H1wouCb62x",
        "colab": {
          "base_uri": "https://localhost:8080/"
        },
        "outputId": "3baf8c83-8698-44de-de30-e00a00a44b7c"
      },
      "source": [
        "%%time\n",
        "from fasttext import train_supervised \n",
        "\n",
        "model = train_supervised(\n",
        "    input=train_file,\n",
        "    label=\"__class__\",\n",
        "    lr=1.0,\n",
        "    epoch=75,\n",
        "    loss='ova',\n",
        "    wordNgrams=2,\n",
        "    dim=200,\n",
        "    thread=2,\n",
        "    verbose=100\n",
        ")"
      ],
      "execution_count": 10,
      "outputs": [
        {
          "output_type": "stream",
          "name": "stdout",
          "text": [
            "CPU times: user 1h 8min 41s, sys: 16.8 s, total: 1h 8min 58s\n",
            "Wall time: 35min 11s\n"
          ]
        }
      ]
    },
    {
      "cell_type": "code",
      "metadata": {
        "id": "sAyN3ZDbQFq-",
        "colab": {
          "base_uri": "https://localhost:8080/"
        },
        "outputId": "041e540f-7b96-4bf1-c126-683dadd51e80"
      },
      "source": [
        "for k in range(1,6):\n",
        "    results = model.test(test_file,k=k)\n",
        "    print(f\"Test Samples: {results[0]} Precision@{k} : {results[1]*100:2.4f} Recall@{k} : {results[2]*100:2.4f}\")"
      ],
      "execution_count": 11,
      "outputs": [
        {
          "output_type": "stream",
          "name": "stdout",
          "text": [
            "Test Samples: 70000 Precision@1 : 90.9114 Recall@1 : 90.9114\n",
            "Test Samples: 70000 Precision@2 : 47.6550 Recall@2 : 95.3100\n",
            "Test Samples: 70000 Precision@3 : 31.9110 Recall@3 : 95.7329\n",
            "Test Samples: 70000 Precision@4 : 24.2754 Recall@4 : 97.1014\n",
            "Test Samples: 70000 Precision@5 : 19.4869 Recall@5 : 97.4343\n"
          ]
        }
      ]
    },
    {
      "cell_type": "markdown",
      "metadata": {
        "id": "nrxSYRs3b621"
      },
      "source": [
        "このデータセットをLogisticRegressionなどで学習してみると、fastTextがいかに優れているかがわかります。打ち負かすのはなかなか難しいでしょう。"
      ]
    },
    {
      "cell_type": "code",
      "metadata": {
        "id": "Bp9w8RScruz7"
      },
      "source": [
        ""
      ],
      "execution_count": 11,
      "outputs": []
    }
  ]
}