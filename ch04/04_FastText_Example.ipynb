{
  "nbformat": 4,
  "nbformat_minor": 0,
  "metadata": {
    "colab": {
      "name": "04_FastText_Example.ipynb",
      "provenance": [],
      "collapsed_sections": []
    },
    "kernelspec": {
      "display_name": "Python 3",
      "language": "python",
      "name": "python3"
    },
    "language_info": {
      "codemirror_mode": {
        "name": "ipython",
        "version": 3
      },
      "file_extension": ".py",
      "mimetype": "text/x-python",
      "name": "python",
      "nbconvert_exporter": "python",
      "pygments_lexer": "ipython3",
      "version": "3.6.10"
    }
  },
  "cells": [
    {
      "cell_type": "markdown",
      "metadata": {
        "id": "6FIToZHAhz2O"
      },
      "source": [
        "# fastTextを用いたテキスト分類\n",
        "\n",
        "このノートブックでは、fastTextライブラリを使ってテキスト分類をする方法を紹介します。\n",
        "データセットとしては、dbpediaを使います。以下のリンクからダウンロードできます。\n",
        "\n",
        "- [dbpedia_csv.tar.gz](https://github.com/le-scientifique/torchDatasets/raw/master/dbpedia_csv.tar.gz)\n",
        "\n",
        "今回使うfastTextは単語埋め込みの学習とテキスト分類をするためのライブラリで、Facebook AI Research(FAIR)が作成しました。教師なしまたは教師ありで単語のベクトル表現を学習できます。\n",
        "以下のページから、157言語に対する事前学習済みモデルをダウンロードできます。\n",
        "\n",
        "- [Word vectors for 157 languages](https://fasttext.cc/docs/en/crawl-vectors.html)"
      ]
    },
    {
      "cell_type": "markdown",
      "metadata": {
        "id": "qbTNq_49wJW9"
      },
      "source": [
        "## 準備\n",
        "\n",
        "### パッケージのインストール"
      ]
    },
    {
      "cell_type": "code",
      "metadata": {
        "id": "xC9f1uA-OX8J",
        "colab": {
          "base_uri": "https://localhost:8080/"
        },
        "outputId": "42937c06-bf33-4d01-8466-d7fa7092a3be"
      },
      "source": [
        "!pip -q install fasttext==0.9.2"
      ],
      "execution_count": 1,
      "outputs": [
        {
          "output_type": "stream",
          "name": "stdout",
          "text": [
            "\u001b[?25l\r\u001b[K     |████▊                           | 10 kB 13.6 MB/s eta 0:00:01\r\u001b[K     |█████████▌                      | 20 kB 15.8 MB/s eta 0:00:01\r\u001b[K     |██████████████▎                 | 30 kB 17.5 MB/s eta 0:00:01\r\u001b[K     |███████████████████             | 40 kB 16.5 MB/s eta 0:00:01\r\u001b[K     |███████████████████████▉        | 51 kB 9.1 MB/s eta 0:00:01\r\u001b[K     |████████████████████████████▋   | 61 kB 7.6 MB/s eta 0:00:01\r\u001b[K     |████████████████████████████████| 68 kB 2.7 MB/s \n",
            "\u001b[?25h  Building wheel for fasttext (setup.py) ... \u001b[?25l\u001b[?25hdone\n"
          ]
        }
      ]
    },
    {
      "cell_type": "markdown",
      "metadata": {
        "id": "AVBcNzrBwNbQ"
      },
      "source": [
        "### インポート"
      ]
    },
    {
      "cell_type": "code",
      "metadata": {
        "id": "YKgZXvTGb61z"
      },
      "source": [
        "import pandas as pd\n",
        "from fasttext import train_supervised "
      ],
      "execution_count": 2,
      "outputs": []
    },
    {
      "cell_type": "markdown",
      "metadata": {
        "id": "NunIXcrHwO93"
      },
      "source": [
        "### データセットのダウンロード\n",
        "\n",
        "まずは、データセットをダウンロードして展開します。"
      ]
    },
    {
      "cell_type": "code",
      "metadata": {
        "id": "l6CfW7C3L4EB",
        "colab": {
          "base_uri": "https://localhost:8080/"
        },
        "outputId": "360bedc9-fdd9-4a34-f971-5b2964010d2b"
      },
      "source": [
        "# データセットのダウンロード\n",
        "!wget -P DATAPATH https://github.com/le-scientifique/torchDatasets/raw/master/dbpedia_csv.tar.gz\n",
        "\n",
        "# 展開\n",
        "!tar -xvf DATAPATH/dbpedia_csv.tar.gz -C DATAPATH\n",
        "\n",
        "# フォルダ構造の確認\n",
        "!ls -lah DATAPATH"
      ],
      "execution_count": 3,
      "outputs": [
        {
          "output_type": "stream",
          "name": "stdout",
          "text": [
            "--2021-11-25 11:22:09--  https://github.com/le-scientifique/torchDatasets/raw/master/dbpedia_csv.tar.gz\n",
            "Resolving github.com (github.com)... 192.30.255.113\n",
            "Connecting to github.com (github.com)|192.30.255.113|:443... connected.\n",
            "HTTP request sent, awaiting response... 301 Moved Permanently\n",
            "Location: https://github.com/srhrshr/torchDatasets/raw/master/dbpedia_csv.tar.gz [following]\n",
            "--2021-11-25 11:22:09--  https://github.com/srhrshr/torchDatasets/raw/master/dbpedia_csv.tar.gz\n",
            "Reusing existing connection to github.com:443.\n",
            "HTTP request sent, awaiting response... 302 Found\n",
            "Location: https://raw.githubusercontent.com/srhrshr/torchDatasets/master/dbpedia_csv.tar.gz [following]\n",
            "--2021-11-25 11:22:09--  https://raw.githubusercontent.com/srhrshr/torchDatasets/master/dbpedia_csv.tar.gz\n",
            "Resolving raw.githubusercontent.com (raw.githubusercontent.com)... 185.199.108.133, 185.199.109.133, 185.199.110.133, ...\n",
            "Connecting to raw.githubusercontent.com (raw.githubusercontent.com)|185.199.108.133|:443... connected.\n",
            "HTTP request sent, awaiting response... 200 OK\n",
            "Length: 68431223 (65M) [application/octet-stream]\n",
            "Saving to: ‘DATAPATH/dbpedia_csv.tar.gz’\n",
            "\n",
            "dbpedia_csv.tar.gz  100%[===================>]  65.26M   190MB/s    in 0.3s    \n",
            "\n",
            "2021-11-25 11:22:12 (190 MB/s) - ‘DATAPATH/dbpedia_csv.tar.gz’ saved [68431223/68431223]\n",
            "\n",
            "dbpedia_csv/\n",
            "dbpedia_csv/test.csv\n",
            "dbpedia_csv/classes.txt\n",
            "dbpedia_csv/train.csv\n",
            "dbpedia_csv/readme.txt\n",
            "total 66M\n",
            "drwxr-xr-x 3 root root 4.0K Nov 25 11:22 .\n",
            "drwxr-xr-x 1 root root 4.0K Nov 25 11:22 ..\n",
            "drwxrwxr-x 2 1000 1000 4.0K Mar 29  2015 dbpedia_csv\n",
            "-rw-r--r-- 1 root root  66M Nov 25 11:22 dbpedia_csv.tar.gz\n"
          ]
        }
      ]
    },
    {
      "cell_type": "markdown",
      "metadata": {
        "id": "732Lggr2wVdd"
      },
      "source": [
        "### データセットの読み込み\n",
        "\n",
        "データセットを展開したら、pandasを使って読み込みます。"
      ]
    },
    {
      "cell_type": "code",
      "metadata": {
        "id": "lMoRw3oQb62I",
        "colab": {
          "base_uri": "https://localhost:8080/"
        },
        "outputId": "950694ae-d07b-4cfa-923e-3741bafdcf65"
      },
      "source": [
        "data_path = 'DATAPATH'\n",
        "\n",
        "# 学習データの読み込み\n",
        "train_file = data_path + '/dbpedia_csv/train.csv'\n",
        "df = pd.read_csv(train_file, header=None, names=['class', 'name', 'description'])\n",
        "\n",
        "# テストデータの読み込み\n",
        "test_file = data_path + '/dbpedia_csv/test.csv'\n",
        "df_test = pd.read_csv(test_file, header=None, names=['class', 'name', 'description'])\n",
        "\n",
        "# データ量の確認\n",
        "print(\"Train:{} Test:{}\".format(df.shape, df_test.shape))"
      ],
      "execution_count": 4,
      "outputs": [
        {
          "output_type": "stream",
          "name": "stdout",
          "text": [
            "Train:(560000, 3) Test:(70000, 3)\n"
          ]
        }
      ]
    },
    {
      "cell_type": "markdown",
      "metadata": {
        "id": "4WHwiR0pweLM"
      },
      "source": [
        "## 前処理"
      ]
    },
    {
      "cell_type": "code",
      "metadata": {
        "id": "gaz226vXb62W",
        "colab": {
          "base_uri": "https://localhost:8080/",
          "height": 204
        },
        "outputId": "3836659f-5d67-4cfe-fd66-2f89d7221cab"
      },
      "source": [
        "# クラスに関する手がかりがないのでマッピングを作成\n",
        "# クラスを表す数値からクラス名へのマッピング\n",
        "class_dict={\n",
        "    1: 'Company',\n",
        "    2: 'EducationalInstitution',\n",
        "    3: 'Artist',\n",
        "    4: 'Athlete',\n",
        "    5: 'OfficeHolder',\n",
        "    6: 'MeanOfTransportation',\n",
        "    7: 'Building',\n",
        "    8: 'NaturalPlace',\n",
        "    9: 'Village',\n",
        "    10: 'Animal',\n",
        "    11: 'Plant',\n",
        "    12: 'Album',\n",
        "    13: 'Film',\n",
        "    14: 'WrittenWork'\n",
        "}\n",
        "\n",
        "# 数値からクラス名への変換\n",
        "df['class_name'] = df['class'].map(class_dict)\n",
        "df.head()"
      ],
      "execution_count": 5,
      "outputs": [
        {
          "output_type": "execute_result",
          "data": {
            "text/html": [
              "<div>\n",
              "<style scoped>\n",
              "    .dataframe tbody tr th:only-of-type {\n",
              "        vertical-align: middle;\n",
              "    }\n",
              "\n",
              "    .dataframe tbody tr th {\n",
              "        vertical-align: top;\n",
              "    }\n",
              "\n",
              "    .dataframe thead th {\n",
              "        text-align: right;\n",
              "    }\n",
              "</style>\n",
              "<table border=\"1\" class=\"dataframe\">\n",
              "  <thead>\n",
              "    <tr style=\"text-align: right;\">\n",
              "      <th></th>\n",
              "      <th>class</th>\n",
              "      <th>name</th>\n",
              "      <th>description</th>\n",
              "      <th>class_name</th>\n",
              "    </tr>\n",
              "  </thead>\n",
              "  <tbody>\n",
              "    <tr>\n",
              "      <th>0</th>\n",
              "      <td>1</td>\n",
              "      <td>E. D. Abbott Ltd</td>\n",
              "      <td>Abbott of Farnham E D Abbott Limited was a Br...</td>\n",
              "      <td>Company</td>\n",
              "    </tr>\n",
              "    <tr>\n",
              "      <th>1</th>\n",
              "      <td>1</td>\n",
              "      <td>Schwan-Stabilo</td>\n",
              "      <td>Schwan-STABILO is a German maker of pens for ...</td>\n",
              "      <td>Company</td>\n",
              "    </tr>\n",
              "    <tr>\n",
              "      <th>2</th>\n",
              "      <td>1</td>\n",
              "      <td>Q-workshop</td>\n",
              "      <td>Q-workshop is a Polish company located in Poz...</td>\n",
              "      <td>Company</td>\n",
              "    </tr>\n",
              "    <tr>\n",
              "      <th>3</th>\n",
              "      <td>1</td>\n",
              "      <td>Marvell Software Solutions Israel</td>\n",
              "      <td>Marvell Software Solutions Israel known as RA...</td>\n",
              "      <td>Company</td>\n",
              "    </tr>\n",
              "    <tr>\n",
              "      <th>4</th>\n",
              "      <td>1</td>\n",
              "      <td>Bergan Mercy Medical Center</td>\n",
              "      <td>Bergan Mercy Medical Center is a hospital loc...</td>\n",
              "      <td>Company</td>\n",
              "    </tr>\n",
              "  </tbody>\n",
              "</table>\n",
              "</div>"
            ],
            "text/plain": [
              "   class  ... class_name\n",
              "0      1  ...    Company\n",
              "1      1  ...    Company\n",
              "2      1  ...    Company\n",
              "3      1  ...    Company\n",
              "4      1  ...    Company\n",
              "\n",
              "[5 rows x 4 columns]"
            ]
          },
          "metadata": {},
          "execution_count": 5
        }
      ]
    },
    {
      "cell_type": "code",
      "metadata": {
        "id": "si7VC_Rub62a",
        "colab": {
          "base_uri": "https://localhost:8080/"
        },
        "outputId": "7fd137b6-f3e5-4739-ec5c-3e7ad771aaaf"
      },
      "source": [
        "df[\"class_name\"].value_counts()"
      ],
      "execution_count": 6,
      "outputs": [
        {
          "output_type": "execute_result",
          "data": {
            "text/plain": [
              "MeanOfTransportation      40000\n",
              "Village                   40000\n",
              "Company                   40000\n",
              "Animal                    40000\n",
              "Album                     40000\n",
              "Plant                     40000\n",
              "Athlete                   40000\n",
              "Building                  40000\n",
              "EducationalInstitution    40000\n",
              "NaturalPlace              40000\n",
              "Film                      40000\n",
              "WrittenWork               40000\n",
              "OfficeHolder              40000\n",
              "Artist                    40000\n",
              "Name: class_name, dtype: int64"
            ]
          },
          "metadata": {},
          "execution_count": 6
        }
      ]
    },
    {
      "cell_type": "markdown",
      "metadata": {
        "id": "LVK1a5crJjRN"
      },
      "source": [
        "次にテキストのクリーニングをします。ここでは主に以下の2つを行います。\n",
        "\n",
        "- 文字の置き換え\n",
        "- 正規化\n",
        "\n",
        "さらに、ラベルをfastTextの形式（`__class__ラベル名`）に変換します。"
      ]
    },
    {
      "cell_type": "code",
      "metadata": {
        "id": "Sn-3kIqMb62d"
      },
      "source": [
        "def clean_it(text, normalize=True):\n",
        "    # 文字の置き換え\n",
        "    s = str(text)\\\n",
        "            .replace(',', ' ')\\\n",
        "            .replace('\"', '')\\\n",
        "            .replace('\\'', ' \\' ')\\\n",
        "            .replace('.', ' . ')\\\n",
        "            .replace('(', ' ( ')\\\n",
        "            .replace(')', ' ) ')\\\n",
        "            .replace('!', ' ! ')\\\n",
        "            .replace('?', ' ? ')\\\n",
        "            .replace(':', ' ')\\\n",
        "            .replace(';', ' ')\\\n",
        "            .lower()\n",
        "    \n",
        "    # 正規化とテキストのエンコーディング\n",
        "    if normalize:\n",
        "        s = s.normalize('NFKD').str.encode('ascii', 'ignore').str.decode('utf-8')\n",
        "    \n",
        "    return s\n",
        "\n",
        "\n",
        "def clean_df(data, cleanit=False, shuffleit=False, encodeit=False, label_prefix='__class__'):\n",
        "    # 新しいデータを用意\n",
        "    df = data[['name','description']].copy(deep=True)\n",
        "    df['class'] = label_prefix + data['class'].astype(str) + ' '\n",
        "    \n",
        "    # 用意したデータをクリーニング\n",
        "    if cleanit:\n",
        "        df['name'] = df['name'].apply(lambda x: clean_it(x, encodeit))\n",
        "        df['description'] = df['description'].apply(lambda x: clean_it(x, encodeit))\n",
        "    \n",
        "    # シャッフル\n",
        "    if shuffleit:\n",
        "        df.sample(frac=1).reset_index(drop=True)\n",
        "            \n",
        "    return df"
      ],
      "execution_count": 7,
      "outputs": []
    },
    {
      "cell_type": "markdown",
      "metadata": {
        "id": "zeM2q_HfKMEi"
      },
      "source": [
        "定義した関数を使って、データセットをきれいにしましょう。"
      ]
    },
    {
      "cell_type": "code",
      "metadata": {
        "id": "r_DRvdFcb62m",
        "colab": {
          "base_uri": "https://localhost:8080/"
        },
        "outputId": "bbdc5fbd-78ef-4d58-d8e4-e73108e49275"
      },
      "source": [
        "%%time\n",
        "df_train_cleaned = clean_df(df, True, True)\n",
        "df_test_cleaned = clean_df(df_test, True, True)"
      ],
      "execution_count": 8,
      "outputs": [
        {
          "output_type": "stream",
          "name": "stdout",
          "text": [
            "CPU times: user 4.99 s, sys: 242 ms, total: 5.23 s\n",
            "Wall time: 5.26 s\n"
          ]
        }
      ]
    },
    {
      "cell_type": "code",
      "metadata": {
        "id": "o-22Q03lN84y"
      },
      "source": [
        "df_train_cleaned = df_train_cleaned.sample(frac=1, random_state=0)\n",
        "df_test_cleaned = df_test_cleaned.sample(frac=1, random_state=0)"
      ],
      "execution_count": 71,
      "outputs": []
    },
    {
      "cell_type": "markdown",
      "metadata": {
        "id": "H9E9P7XhKQ4_"
      },
      "source": [
        "クリーニングを終えたら、ディスクへ書き込みます。書き込んだデータは、後ほどfastTextの分類器から利用します。"
      ]
    },
    {
      "cell_type": "code",
      "metadata": {
        "id": "imMZ9-Bkb62t"
      },
      "source": [
        "# Write files to disk as fastText classifier API reads files from disk.\n",
        "train_file = data_path + '/dbpedia_train.csv'\n",
        "test_file = data_path + '/dbpedia_test.csv'\n",
        "\n",
        "columns = ['class', 'name', 'description']\n",
        "df_train_cleaned.to_csv(\n",
        "    train_file,\n",
        "    header=None,\n",
        "    index=False,\n",
        "    columns=columns\n",
        ")\n",
        "df_test_cleaned.to_csv(\n",
        "    test_file,\n",
        "    header=None,\n",
        "    index=False,\n",
        "    columns=columns\n",
        ")"
      ],
      "execution_count": 72,
      "outputs": []
    },
    {
      "cell_type": "code",
      "metadata": {
        "colab": {
          "base_uri": "https://localhost:8080/"
        },
        "id": "CpDSORi1HSBX",
        "outputId": "6ba6ebe0-0996-4559-a445-ecd0c6960018"
      },
      "source": [
        "!head DATAPATH/dbpedia_train.csv"
      ],
      "execution_count": 73,
      "outputs": [
        {
          "output_type": "stream",
          "name": "stdout",
          "text": [
            "__class__7 ,waterways experiment station, the waterways experiment station also known as wes-original cantonment in vicksburg mississippi is a sprawling 673-acre  ( 272 ha )  complex built in 1930 as an united states army corps of engineers research facility .  its campus is the site of the headquarters of the engineer research and development center  ( erdc )  of the corps of engineers .  wes is the largest of the four corps of engineers '  research and development laboratories .  the facility was listed on the u . s . \n",
            "__class__7 ,ibm building  ( seattle ) , the ibm building is a 20-story skyscraper in the metropolitan tract at 1200 fifth avenue seattle washington .  the building was designed by minoru yamasaki who also was architect of rainier tower on the corner diagonally opposite and the world trade center in new york city . \n",
            "__class__6 ,royal enfield fury, the royal enfield fury is a british motorcycle made by royal enfield at their factory in redditch .  the fury name has also been used by royal enfield motors in india for a 175 cc motorcycle and for a new 499 cc single in their range for 2011 . \n",
            "__class__4 ,andrés gómez, andrés gómez santos  ( born february 27 1960 in guayaquil ecuador )  is an ecuadorian former professional tennis player best known for winning the men ' s singles title at the french open in 1990 . \n",
            "__class__5 ,nita deerpalsing, kumaree rajeshree deerpalsing mp  ( born नीता दीरपालसिंग on 27 january 1965 )  also known as nita deerpalsing is the 3rd member of parliament elected serving for constituency no 18 belle rose & quatre bornes since 2005 . \n",
            "__class__10 ,stoplight loosejaw, the stoplight loosejaws are small deep-sea dragonfishes of the genus malacosteus classified either within the subfamily malacosteinae of the family stomiidae or in the separate family malacosteidae .  they are found worldwide outside of the arctic and subantarctic in the mesopelagic zone below a depth of 500 meters  ( 1600 feet )  .  this genus once contained three nominal species  m .  niger  ( the type )  m .  choristodactylus and m . \n",
            "__class__5 ,j .  c .  gilbert, jess carr gilbert ii known as sonny gilbert  ( born march 6 1922 )  is a retired cotton farmer and a former democratic member of both houses of the louisiana state legislature from the town of sicily island in catahoula parish in northeastern louisiana .  gilbert served three consecutive terms in the louisiana state senate from 1960 to 1972 having represented franklin richland and catahoula parishes . \n",
            "__class__13 ,andha yudh, andha yudh is a 1987 indian film directed by dayal nihalani . \n",
            "__class__4 ,alfredo marcos da silva junior, alfredo marcos da silva junior known as marcão  ( born 2 april 1986 )  is a brazilian professional footballer who most recently played for belgian club westerlo as a striker . \n",
            "__class__1 ,first hawaiian bank, first hawaiian bank is a regional commercial bank headquartered in honolulu hawaii at the first hawaiian center .  it is a subsidiary of bancwest corporation which itself is a subsidiary of the french banking company bnp paribas .  founded in 1858 first hawaiian is the oldest and largest  ( by deposits loans and total assets )  bank in the state of hawaii and claims to be the second oldest bank west of the rockies . \n"
          ]
        }
      ]
    },
    {
      "cell_type": "markdown",
      "metadata": {
        "id": "5UCeqRFzwhl2"
      },
      "source": [
        "## モデルの学習と評価"
      ]
    },
    {
      "cell_type": "markdown",
      "metadata": {
        "id": "bWZTSzd9b62x"
      },
      "source": [
        "データを用意できたので、分類器を学習しましょう。\n",
        "\n",
        "fastTextには、学習用のファイル（csv）やラベル名の前にプレフィックスを指定する必要があります。\n",
        "プレフィックスは、デフォルトでは`__label__`ですが、今回は`__class__`を用いています。\n",
        "その他のパラメータについて知りたい場合、以下のページを参照してください。\n",
        "\n",
        "- [train_supervised parameters](https://github.com/facebookresearch/fastText/tree/master/python#train_supervised-parameters)"
      ]
    },
    {
      "cell_type": "code",
      "metadata": {
        "colab": {
          "base_uri": "https://localhost:8080/"
        },
        "id": "uMmhdU9GCXue",
        "outputId": "5570ee20-105c-486c-ccfb-ef537c5f3c92"
      },
      "source": [
        "%%time\n",
        "model = train_supervised(\n",
        "    input=train_file,\n",
        "    label=\"__class__\",\n",
        "    lr=0.1,\n",
        "    dim=10,\n",
        "    epoch=5,\n",
        "    wordNgrams=2,\n",
        "    seed=0\n",
        ")"
      ],
      "execution_count": 93,
      "outputs": [
        {
          "output_type": "stream",
          "name": "stdout",
          "text": [
            "CPU times: user 53.1 s, sys: 578 ms, total: 53.6 s\n",
            "Wall time: 53.4 s\n"
          ]
        }
      ]
    },
    {
      "cell_type": "code",
      "metadata": {
        "colab": {
          "base_uri": "https://localhost:8080/"
        },
        "id": "RqlgNL51DLJ2",
        "outputId": "19498876-84d8-4cb6-d7f0-c6709e96174b"
      },
      "source": [
        "for k in range(1,6):\n",
        "    results = model.test(test_file, k=k)\n",
        "    print(f\"Test Samples: {results[0]} Precision@{k} : {results[1]*100:2.4f} Recall@{k} : {results[2]*100:2.4f}\")"
      ],
      "execution_count": 94,
      "outputs": [
        {
          "output_type": "stream",
          "name": "stdout",
          "text": [
            "Test Samples: 70000 Precision@1 : 98.4529 Recall@1 : 98.4529\n",
            "Test Samples: 70000 Precision@2 : 49.8171 Recall@2 : 99.6343\n",
            "Test Samples: 70000 Precision@3 : 33.2819 Recall@3 : 99.8457\n",
            "Test Samples: 70000 Precision@4 : 24.9754 Recall@4 : 99.9014\n",
            "Test Samples: 70000 Precision@5 : 19.9871 Recall@5 : 99.9357\n"
          ]
        }
      ]
    },
    {
      "cell_type": "markdown",
      "metadata": {
        "id": "nrxSYRs3b621"
      },
      "source": [
        "このデータセットをLogisticRegressionなどで学習してみると、fastTextがいかに優れているかがわかります。打ち負かすのはなかなか難しいでしょう。"
      ]
    },
    {
      "cell_type": "markdown",
      "metadata": {
        "id": "LKPkTKe9RapI"
      },
      "source": [
        "`save_model`メソッドでモデルを保存できます。"
      ]
    },
    {
      "cell_type": "code",
      "metadata": {
        "id": "Bp9w8RScruz7"
      },
      "source": [
        "model.save_model(\"model.bin\")"
      ],
      "execution_count": 95,
      "outputs": []
    },
    {
      "cell_type": "code",
      "metadata": {
        "colab": {
          "base_uri": "https://localhost:8080/"
        },
        "id": "_D55ypRrCMbt",
        "outputId": "3e545e29-dd29-4dde-ba4d-551648be2a92"
      },
      "source": [
        "!ls -lh model.bin"
      ],
      "execution_count": 96,
      "outputs": [
        {
          "output_type": "stream",
          "name": "stdout",
          "text": [
            "-rw-r--r-- 1 root root 140M Nov 25 13:39 model.bin\n"
          ]
        }
      ]
    },
    {
      "cell_type": "markdown",
      "metadata": {
        "id": "1AThzX3STr4f"
      },
      "source": [
        "## 量子化によるモデル容量の削減"
      ]
    },
    {
      "cell_type": "code",
      "metadata": {
        "id": "I_u7CRTbTu5i"
      },
      "source": [
        "# 学習したモデルのquantizeメソッドを呼ぶ\n",
        "model.quantize(input=train_file, retrain=True)"
      ],
      "execution_count": 97,
      "outputs": []
    },
    {
      "cell_type": "code",
      "metadata": {
        "colab": {
          "base_uri": "https://localhost:8080/"
        },
        "id": "pzP9pF1uUIoK",
        "outputId": "1c5ff627-9016-4ccb-d6d1-1312c6e22644"
      },
      "source": [
        "# 結果の表示\n",
        "print(model.test(test_file))"
      ],
      "execution_count": 98,
      "outputs": [
        {
          "output_type": "stream",
          "name": "stdout",
          "text": [
            "(70000, 0.9529428571428571, 0.9529428571428571)\n"
          ]
        }
      ]
    },
    {
      "cell_type": "code",
      "metadata": {
        "id": "cIeWdQ2aUSQl"
      },
      "source": [
        "# モデルの保存\n",
        "model.save_model(\"model.ftz\")"
      ],
      "execution_count": 99,
      "outputs": []
    },
    {
      "cell_type": "code",
      "metadata": {
        "colab": {
          "base_uri": "https://localhost:8080/"
        },
        "id": "QEmLccS0T-fN",
        "outputId": "93b7f2c2-90db-48a7-cee1-1e711afb2c25"
      },
      "source": [
        "!ls -lh model.ftz"
      ],
      "execution_count": 100,
      "outputs": [
        {
          "output_type": "stream",
          "name": "stdout",
          "text": [
            "-rw-r--r-- 1 root root 36M Nov 25 13:40 model.ftz\n"
          ]
        }
      ]
    },
    {
      "cell_type": "markdown",
      "metadata": {
        "id": "MnTsTlHKSJPQ"
      },
      "source": [
        "## 参考資料\n",
        "\n",
        "- [fastText/classification-example.sh](https://github.com/facebookresearch/fastText/blob/a20c0d27cd0ee88a25ea0433b7f03038cd728459/classification-example.sh)\n",
        "- [Supervised models](https://fasttext.cc/docs/en/supervised-models.html)\n",
        "- [fasttext 0.9.2](https://pypi.org/project/fasttext/)"
      ]
    },
    {
      "cell_type": "code",
      "metadata": {
        "id": "KJmSs_F-NJsD"
      },
      "source": [
        ""
      ],
      "execution_count": null,
      "outputs": []
    }
  ]
}