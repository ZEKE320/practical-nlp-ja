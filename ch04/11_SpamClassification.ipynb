{
 "nbformat": 4,
 "nbformat_minor": 0,
 "metadata": {
  "colab": {
   "name": "11_SpamClassification.ipynb",
   "provenance": [],
   "collapsed_sections": []
  },
  "kernelspec": {
   "display_name": "Python 3",
   "language": "python",
   "name": "python3"
  },
  "language_info": {
   "codemirror_mode": {
    "name": "ipython",
    "version": 3
   },
   "file_extension": ".py",
   "mimetype": "text/x-python",
   "name": "python",
   "nbconvert_exporter": "python",
   "pygments_lexer": "ipython3",
   "version": "3.6.10"
  },
  "accelerator": "GPU"
 },
 "cells": [
  {
   "cell_type": "markdown",
   "metadata": {
    "id": "8Skr49zlgwe5"
   },
   "source": [
    "# fastaiを用いた事前学習済み言語モデルのチューニングとスパム分類\n",
    "\n",
    "このノートブックでは、fastaiを使って、分類器を構築する方法を紹介します。データセットとしては、[SMSスパムコレクションデータセット](https://www.kaggle.com/uciml/sms-spam-collection-dataset#spam.csv)を使います。まず最初に、通常の分類器の構築方法を紹介します。その後、学習データセットを用いて、事前学習済み言語モデルをチューニングする方法を説明します。\n"
   ]
  },
  {
   "cell_type": "markdown",
   "metadata": {
    "id": "ENwyuD6k-NH_"
   },
   "source": [
    "## 準備"
   ]
  },
  {
   "cell_type": "markdown",
   "metadata": {
    "id": "69RxNp5c4bzG"
   },
   "source": [
    "### パッケージのインストール"
   ]
  },
  {
   "cell_type": "code",
   "metadata": {
    "colab": {
     "base_uri": "https://localhost:8080/"
    },
    "id": "uBpvqPjQ9Pqf",
    "outputId": "01666a81-c226-4f66-a762-de6731f2d6b9"
   },
   "source": [
    "!pip install -U fastai==2.5.2 pandas==1.1.5"
   ],
   "execution_count": 1,
   "outputs": [
    {
     "output_type": "stream",
     "name": "stdout",
     "text": [
      "Collecting fastai==2.5.2\n",
      "  Downloading fastai-2.5.2-py3-none-any.whl (186 kB)\n",
      "\u001B[K     |████████████████████████████████| 186 kB 5.3 MB/s \n",
      "\u001B[?25hRequirement already satisfied: torch<1.10,>=1.7.0 in /usr/local/lib/python3.7/dist-packages (from fastai==2.5.2) (1.9.0+cu102)\n",
      "Requirement already satisfied: scipy in /usr/local/lib/python3.7/dist-packages (from fastai==2.5.2) (1.4.1)\n",
      "Requirement already satisfied: packaging in /usr/local/lib/python3.7/dist-packages (from fastai==2.5.2) (21.0)\n",
      "Requirement already satisfied: pyyaml in /usr/local/lib/python3.7/dist-packages (from fastai==2.5.2) (3.13)\n",
      "Requirement already satisfied: spacy<4 in /usr/local/lib/python3.7/dist-packages (from fastai==2.5.2) (2.2.4)\n",
      "Requirement already satisfied: fastprogress>=0.2.4 in /usr/local/lib/python3.7/dist-packages (from fastai==2.5.2) (1.0.0)\n",
      "Requirement already satisfied: requests in /usr/local/lib/python3.7/dist-packages (from fastai==2.5.2) (2.23.0)\n",
      "Collecting fastcore<1.4,>=1.3.8\n",
      "  Downloading fastcore-1.3.26-py3-none-any.whl (56 kB)\n",
      "\u001B[K     |████████████████████████████████| 56 kB 3.6 MB/s \n",
      "\u001B[?25hRequirement already satisfied: pillow>6.0.0 in /usr/local/lib/python3.7/dist-packages (from fastai==2.5.2) (7.1.2)\n",
      "Requirement already satisfied: scikit-learn in /usr/local/lib/python3.7/dist-packages (from fastai==2.5.2) (0.22.2.post1)\n",
      "Requirement already satisfied: matplotlib in /usr/local/lib/python3.7/dist-packages (from fastai==2.5.2) (3.2.2)\n",
      "Requirement already satisfied: pandas in /usr/local/lib/python3.7/dist-packages (from fastai==2.5.2) (1.1.5)\n",
      "Requirement already satisfied: pip in /usr/local/lib/python3.7/dist-packages (from fastai==2.5.2) (21.1.3)\n",
      "Requirement already satisfied: torchvision>=0.8.2 in /usr/local/lib/python3.7/dist-packages (from fastai==2.5.2) (0.10.0+cu102)\n",
      "Collecting fastdownload<2,>=0.0.5\n",
      "  Downloading fastdownload-0.0.5-py3-none-any.whl (13 kB)\n",
      "Requirement already satisfied: numpy in /usr/local/lib/python3.7/dist-packages (from fastprogress>=0.2.4->fastai==2.5.2) (1.19.5)\n",
      "Requirement already satisfied: thinc==7.4.0 in /usr/local/lib/python3.7/dist-packages (from spacy<4->fastai==2.5.2) (7.4.0)\n",
      "Requirement already satisfied: catalogue<1.1.0,>=0.0.7 in /usr/local/lib/python3.7/dist-packages (from spacy<4->fastai==2.5.2) (1.0.0)\n",
      "Requirement already satisfied: tqdm<5.0.0,>=4.38.0 in /usr/local/lib/python3.7/dist-packages (from spacy<4->fastai==2.5.2) (4.62.0)\n",
      "Requirement already satisfied: blis<0.5.0,>=0.4.0 in /usr/local/lib/python3.7/dist-packages (from spacy<4->fastai==2.5.2) (0.4.1)\n",
      "Requirement already satisfied: preshed<3.1.0,>=3.0.2 in /usr/local/lib/python3.7/dist-packages (from spacy<4->fastai==2.5.2) (3.0.5)\n",
      "Requirement already satisfied: murmurhash<1.1.0,>=0.28.0 in /usr/local/lib/python3.7/dist-packages (from spacy<4->fastai==2.5.2) (1.0.5)\n",
      "Requirement already satisfied: plac<1.2.0,>=0.9.6 in /usr/local/lib/python3.7/dist-packages (from spacy<4->fastai==2.5.2) (1.1.3)\n",
      "Requirement already satisfied: cymem<2.1.0,>=2.0.2 in /usr/local/lib/python3.7/dist-packages (from spacy<4->fastai==2.5.2) (2.0.5)\n",
      "Requirement already satisfied: srsly<1.1.0,>=1.0.2 in /usr/local/lib/python3.7/dist-packages (from spacy<4->fastai==2.5.2) (1.0.5)\n",
      "Requirement already satisfied: wasabi<1.1.0,>=0.4.0 in /usr/local/lib/python3.7/dist-packages (from spacy<4->fastai==2.5.2) (0.8.2)\n",
      "Requirement already satisfied: setuptools in /usr/local/lib/python3.7/dist-packages (from spacy<4->fastai==2.5.2) (57.4.0)\n",
      "Requirement already satisfied: importlib-metadata>=0.20 in /usr/local/lib/python3.7/dist-packages (from catalogue<1.1.0,>=0.0.7->spacy<4->fastai==2.5.2) (4.6.4)\n",
      "Requirement already satisfied: zipp>=0.5 in /usr/local/lib/python3.7/dist-packages (from importlib-metadata>=0.20->catalogue<1.1.0,>=0.0.7->spacy<4->fastai==2.5.2) (3.5.0)\n",
      "Requirement already satisfied: typing-extensions>=3.6.4 in /usr/local/lib/python3.7/dist-packages (from importlib-metadata>=0.20->catalogue<1.1.0,>=0.0.7->spacy<4->fastai==2.5.2) (3.7.4.3)\n",
      "Requirement already satisfied: urllib3!=1.25.0,!=1.25.1,<1.26,>=1.21.1 in /usr/local/lib/python3.7/dist-packages (from requests->fastai==2.5.2) (1.24.3)\n",
      "Requirement already satisfied: certifi>=2017.4.17 in /usr/local/lib/python3.7/dist-packages (from requests->fastai==2.5.2) (2021.5.30)\n",
      "Requirement already satisfied: chardet<4,>=3.0.2 in /usr/local/lib/python3.7/dist-packages (from requests->fastai==2.5.2) (3.0.4)\n",
      "Requirement already satisfied: idna<3,>=2.5 in /usr/local/lib/python3.7/dist-packages (from requests->fastai==2.5.2) (2.10)\n",
      "Requirement already satisfied: pyparsing!=2.0.4,!=2.1.2,!=2.1.6,>=2.0.1 in /usr/local/lib/python3.7/dist-packages (from matplotlib->fastai==2.5.2) (2.4.7)\n",
      "Requirement already satisfied: kiwisolver>=1.0.1 in /usr/local/lib/python3.7/dist-packages (from matplotlib->fastai==2.5.2) (1.3.1)\n",
      "Requirement already satisfied: cycler>=0.10 in /usr/local/lib/python3.7/dist-packages (from matplotlib->fastai==2.5.2) (0.10.0)\n",
      "Requirement already satisfied: python-dateutil>=2.1 in /usr/local/lib/python3.7/dist-packages (from matplotlib->fastai==2.5.2) (2.8.2)\n",
      "Requirement already satisfied: six in /usr/local/lib/python3.7/dist-packages (from cycler>=0.10->matplotlib->fastai==2.5.2) (1.15.0)\n",
      "Requirement already satisfied: pytz>=2017.2 in /usr/local/lib/python3.7/dist-packages (from pandas->fastai==2.5.2) (2018.9)\n",
      "Requirement already satisfied: joblib>=0.11 in /usr/local/lib/python3.7/dist-packages (from scikit-learn->fastai==2.5.2) (1.0.1)\n",
      "Installing collected packages: fastcore, fastdownload, fastai\n",
      "  Attempting uninstall: fastai\n",
      "    Found existing installation: fastai 1.0.61\n",
      "    Uninstalling fastai-1.0.61:\n",
      "      Successfully uninstalled fastai-1.0.61\n",
      "Successfully installed fastai-2.5.2 fastcore-1.3.26 fastdownload-0.0.5\n"
     ]
    }
   ]
  },
  {
   "cell_type": "markdown",
   "metadata": {
    "id": "7g3QGNMZ-Pbh"
   },
   "source": [
    "### インポート"
   ]
  },
  {
   "cell_type": "code",
   "metadata": {
    "id": "Z2q9_ymJg4Ge"
   },
   "source": [
    "import fastai\n",
    "import pandas as pd\n",
    "from fastai import *\n",
    "from fastai.text import *\n",
    "from fastai.text.all import *"
   ],
   "execution_count": 2,
   "outputs": []
  },
  {
   "cell_type": "markdown",
   "metadata": {
    "id": "6kLpA6oW-WW7"
   },
   "source": [
    "### データセットのダウンロード"
   ]
  },
  {
   "cell_type": "code",
   "metadata": {
    "colab": {
     "base_uri": "https://localhost:8080/"
    },
    "id": "DmxHMGIEeNAl",
    "outputId": "0c502595-2d78-4f7d-d17d-a95b0fee5a95"
   },
   "source": [
    "!wget https://archive.ics.uci.edu/ml/machine-learning-databases/00228/smsspamcollection.zip\n",
    "!unzip smsspamcollection.zip"
   ],
   "execution_count": 3,
   "outputs": [
    {
     "output_type": "stream",
     "name": "stdout",
     "text": [
      "--2021-09-13 13:00:09--  https://archive.ics.uci.edu/ml/machine-learning-databases/00228/smsspamcollection.zip\n",
      "Resolving archive.ics.uci.edu (archive.ics.uci.edu)... 128.195.10.252\n",
      "Connecting to archive.ics.uci.edu (archive.ics.uci.edu)|128.195.10.252|:443... connected.\n",
      "HTTP request sent, awaiting response... 200 OK\n",
      "Length: 203415 (199K) [application/x-httpd-php]\n",
      "Saving to: ‘smsspamcollection.zip’\n",
      "\n",
      "smsspamcollection.z 100%[===================>] 198.65K   983KB/s    in 0.2s    \n",
      "\n",
      "2021-09-13 13:00:09 (983 KB/s) - ‘smsspamcollection.zip’ saved [203415/203415]\n",
      "\n",
      "Archive:  smsspamcollection.zip\n",
      "  inflating: SMSSpamCollection       \n",
      "  inflating: readme                  \n"
     ]
    }
   ]
  },
  {
   "cell_type": "markdown",
   "metadata": {
    "id": "XCSEevF2-ZFE"
   },
   "source": [
    "### データセットの読み込み"
   ]
  },
  {
   "cell_type": "code",
   "metadata": {
    "id": "dB9p-mTGg1UM"
   },
   "source": [
    "df = pd.read_csv(\"SMSSpamCollection\", sep=\"\\t\", header=None, names=[\"target\", \"text\"])"
   ],
   "execution_count": 4,
   "outputs": []
  },
  {
   "cell_type": "code",
   "metadata": {
    "colab": {
     "base_uri": "https://localhost:8080/",
     "height": 204
    },
    "id": "hPwGRB3ghm7y",
    "outputId": "2ae7a104-d330-4ebf-e826-6445cb00407c"
   },
   "source": [
    "df.head()"
   ],
   "execution_count": 5,
   "outputs": [
    {
     "output_type": "execute_result",
     "data": {
      "text/html": [
       "<div>\n",
       "<style scoped>\n",
       "    .dataframe tbody tr th:only-of-type {\n",
       "        vertical-align: middle;\n",
       "    }\n",
       "\n",
       "    .dataframe tbody tr th {\n",
       "        vertical-align: top;\n",
       "    }\n",
       "\n",
       "    .dataframe thead th {\n",
       "        text-align: right;\n",
       "    }\n",
       "</style>\n",
       "<table border=\"1\" class=\"dataframe\">\n",
       "  <thead>\n",
       "    <tr style=\"text-align: right;\">\n",
       "      <th></th>\n",
       "      <th>target</th>\n",
       "      <th>text</th>\n",
       "    </tr>\n",
       "  </thead>\n",
       "  <tbody>\n",
       "    <tr>\n",
       "      <th>0</th>\n",
       "      <td>ham</td>\n",
       "      <td>Go until jurong point, crazy.. Available only in bugis n great world la e buffet... Cine there got amore wat...</td>\n",
       "    </tr>\n",
       "    <tr>\n",
       "      <th>1</th>\n",
       "      <td>ham</td>\n",
       "      <td>Ok lar... Joking wif u oni...</td>\n",
       "    </tr>\n",
       "    <tr>\n",
       "      <th>2</th>\n",
       "      <td>spam</td>\n",
       "      <td>Free entry in 2 a wkly comp to win FA Cup final tkts 21st May 2005. Text FA to 87121 to receive entry question(std txt rate)T&amp;C's apply 08452810075over18's</td>\n",
       "    </tr>\n",
       "    <tr>\n",
       "      <th>3</th>\n",
       "      <td>ham</td>\n",
       "      <td>U dun say so early hor... U c already then say...</td>\n",
       "    </tr>\n",
       "    <tr>\n",
       "      <th>4</th>\n",
       "      <td>ham</td>\n",
       "      <td>Nah I don't think he goes to usf, he lives around here though</td>\n",
       "    </tr>\n",
       "  </tbody>\n",
       "</table>\n",
       "</div>"
      ],
      "text/plain": [
       "  target                                                                                                                                                         text\n",
       "0    ham                                              Go until jurong point, crazy.. Available only in bugis n great world la e buffet... Cine there got amore wat...\n",
       "1    ham                                                                                                                                Ok lar... Joking wif u oni...\n",
       "2   spam  Free entry in 2 a wkly comp to win FA Cup final tkts 21st May 2005. Text FA to 87121 to receive entry question(std txt rate)T&C's apply 08452810075over18's\n",
       "3    ham                                                                                                            U dun say so early hor... U c already then say...\n",
       "4    ham                                                                                                Nah I don't think he goes to usf, he lives around here though"
      ]
     },
     "metadata": {},
     "execution_count": 5
    }
   ]
  },
  {
   "cell_type": "markdown",
   "metadata": {
    "id": "XEZ5cubl5yKB"
   },
   "source": [
    "データセットのクラス分布を表示してみましょう。分布を見ると、おおよそ10%程度がスパムで、残りの90%は非スパムです。したがって、不均衡データの分類問題を解くことになります。"
   ]
  },
  {
   "cell_type": "code",
   "metadata": {
    "colab": {
     "base_uri": "https://localhost:8080/",
     "height": 85
    },
    "id": "rKpOnNz9hq-x",
    "outputId": "edeaee30-b37d-42a5-c644-1af1da9acb38"
   },
   "source": [
    "display(df.shape)  # データセットの行数と列数を表示\n",
    "df[\"target\"].value_counts() / df.shape[0]  # クラス分布を表示"
   ],
   "execution_count": 6,
   "outputs": [
    {
     "output_type": "display_data",
     "data": {
      "text/plain": [
       "(5572, 2)"
      ]
     },
     "metadata": {}
    },
    {
     "output_type": "execute_result",
     "data": {
      "text/plain": [
       "ham     0.865937\n",
       "spam    0.134063\n",
       "Name: target, dtype: float64"
      ]
     },
     "metadata": {},
     "execution_count": 6
    }
   ]
  },
  {
   "cell_type": "markdown",
   "metadata": {
    "id": "Y7yYDDQ6FrT7"
   },
   "source": [
    "## テキスト分類モデルの学習\n",
    "\n",
    "これまでに、pandasでデータを読み込むことはできました。次に、fastaiの[TextDataLoaders.from_df](https://docs.fast.ai/text.data.html#TextDataLoaders.from_df)を用いて、分類用にデータフレームを読み込みます。`text_col`と`label_col`でテキストとラベルのカラム名を指定しています。"
   ]
  },
  {
   "cell_type": "code",
   "metadata": {
    "colab": {
     "base_uri": "https://localhost:8080/",
     "height": 71
    },
    "id": "f5ZIonDBko6f",
    "outputId": "fa8d5ead-d0ea-4de6-b177-e7e47ff02938"
   },
   "source": [
    "seed = 2021\n",
    "data_class = TextDataLoaders.from_df(\n",
    "    df,\n",
    "    seed=seed,\n",
    "    text_col='text',\n",
    "    label_col='target',\n",
    ")"
   ],
   "execution_count": 7,
   "outputs": [
    {
     "output_type": "display_data",
     "data": {
      "text/html": [
       ""
      ],
      "text/plain": [
       "<IPython.core.display.HTML object>"
      ]
     },
     "metadata": {}
    },
    {
     "output_type": "stream",
     "name": "stderr",
     "text": [
      "/usr/local/lib/python3.7/dist-packages/numpy/core/_asarray.py:83: VisibleDeprecationWarning: Creating an ndarray from ragged nested sequences (which is a list-or-tuple of lists-or-tuples-or ndarrays with different lengths or shapes) is deprecated. If you meant to do this, you must specify 'dtype=object' when creating the ndarray\n",
      "  return array(a, dtype, copy=False, order=order)\n"
     ]
    }
   ]
  },
  {
   "cell_type": "markdown",
   "metadata": {
    "id": "qxaU3VOd5hZb"
   },
   "source": [
    "`show_batch`メソッドを使って、読み込んだデータを見てみましょう。"
   ]
  },
  {
   "cell_type": "code",
   "metadata": {
    "colab": {
     "base_uri": "https://localhost:8080/",
     "height": 702
    },
    "id": "_7OYK7f05UW2",
    "outputId": "7b03cdcd-5cdc-4903-8588-460c0e4e9a02"
   },
   "source": [
    "data_class.show_batch()"
   ],
   "execution_count": 8,
   "outputs": [
    {
     "output_type": "display_data",
     "data": {
      "text/html": [
       "<table border=\"1\" class=\"dataframe\">\n",
       "  <thead>\n",
       "    <tr style=\"text-align: right;\">\n",
       "      <th></th>\n",
       "      <th>text</th>\n",
       "      <th>category</th>\n",
       "    </tr>\n",
       "  </thead>\n",
       "  <tbody>\n",
       "    <tr>\n",
       "      <th>0</th>\n",
       "      <td>xxbos xxmaj the last thing i ever wanted to do was hurt you . xxmaj and i did n't think it would have . xxmaj you 'd laugh , be embarassed , xxunk the xxunk and keep going . xxmaj but as far as i knew , it was n't even up . xxmaj the fact that you even felt like i would do it to hurt you shows you really do n't know me at all . xxmaj it was xxunk wednesday , but it was n't bad . xxmaj the problem i have with it is you xxup have the time to clean it , but you choose not to . xxmaj you skype , you take pictures , you sleep , you want to go out . i do n't mind a few things here and there , but when you do n't make the bed ,</td>\n",
       "      <td>ham</td>\n",
       "    </tr>\n",
       "    <tr>\n",
       "      <th>1</th>\n",
       "      <td>xxbos xxmaj sad story of a xxmaj man - xxmaj last week was my b'day . xxmaj my xxmaj wife did'nt wish me . xxmaj my xxmaj parents forgot n so did my xxmaj kids . i went to work . xxmaj even my xxmaj colleagues did not wish . xxmaj as i entered my cabin my xxup pa said , '' xxmaj happy xxmaj b'day xxmaj boss ! ! '' . i felt special . xxmaj she askd me 4 lunch . xxmaj after lunch she invited me to her apartment . xxmaj we went there . xxmaj she said , ' ' do u mind if i go into the bedroom for a minute ? '' ' ' ok ' ' , i sed in a sexy mood . xxmaj she came out 5 minuts latr wid a cake … n xxmaj my xxmaj wife , xxmaj my</td>\n",
       "      <td>ham</td>\n",
       "    </tr>\n",
       "    <tr>\n",
       "      <th>2</th>\n",
       "      <td>xxbos a xxmaj boy loved a gal . xxmaj he xxunk bt she did nt mind . xxmaj he xxunk xxunk xxunk , xxmaj bt her frnds xxunk thm . xxmaj again d boy decided 2 xxunk d gal , xxunk time a xxunk was xxunk towards d gal . xxmaj wn it was about 2 hit d girl , d boy ran like hell n saved her . xxmaj she asked ' hw cn u run so fast ? ' d boy replied \" boost is d secret of my energy \" n instantly d girl shouted \" our energy \" n xxmaj xxunk xxunk xxunk xxunk drinking boost xxunk xxmaj moral of d xxunk i hv free msgs : d ; ) : gud ni8</td>\n",
       "      <td>ham</td>\n",
       "    </tr>\n",
       "    <tr>\n",
       "      <th>3</th>\n",
       "      <td>xxbos xxmaj solve d xxmaj case : a xxmaj man xxmaj was xxmaj found xxmaj murdered xxmaj on &lt; decimal &gt; . &lt; # &gt; afternoon . 1,his wife called xxmaj police . 2,police questioned everyone . 3,wife : sir , i was sleeping , when the murder took place . 4.cook : i was cooking . 5.gardener : i was picking vegetables . 6.house - maid : i went 2 d post office . 7.children : xxmaj we went 2 play . 8.neighbour : xxmaj we went 2 a marriage . xxmaj police arrested d murderer xxmaj immediately . xxmaj who 's xxmaj it ? xxmaj reply xxmaj with xxmaj reason , xxmaj if u r xxmaj brilliant .</td>\n",
       "      <td>ham</td>\n",
       "    </tr>\n",
       "    <tr>\n",
       "      <th>4</th>\n",
       "      <td>xxbos xxmaj good evening xxmaj sir , hope you are having a nice day . i wanted to bring it to your notice that i have been late in paying rent for the past few months and have had to pay a $ &lt; # &gt; charge . i felt it would be xxunk of me to xxunk about something you give at great cost to yourself and that 's why i did nt speak up . i however am in a xxunk and wo nt be able to pay the charge this month xxunk my askin well ahead of month 's end . xxmaj can you please help . xxmaj thank you for everything .</td>\n",
       "      <td>ham</td>\n",
       "    </tr>\n",
       "    <tr>\n",
       "      <th>5</th>\n",
       "      <td>xxbos i ca n't keep going through this . xxmaj it was never my xxunk to run you out , but if you choose to do that rather than keep the room clean so * i * do n't have to say no to xxunk , then maybe that 's the best choice . xxmaj yes , i wanted you to be embarassed , so maybe you 'd feel for once how i feel when i have a friend who wants to drop buy and i have to say no , as happened this morning . xxmaj i 've tried everything . i do n't know what else to do .</td>\n",
       "      <td>ham</td>\n",
       "    </tr>\n",
       "    <tr>\n",
       "      <th>6</th>\n",
       "      <td>xxbos xxmaj storming msg : xxmaj wen u lift d phne , u say \" hello \" xxmaj do u knw wt is d real meaning of xxup hello ? ? . . . xxmaj it 's d name of a girl .. ! . . . xxmaj yes .. xxmaj and u knw who is dat girl ? ? \" margaret xxmaj hello \" xxmaj she is d girlfrnd f xxmaj grahmbell who invnted telphone … . . . . moral : one can 4get d name of a person , bt not his girlfrnd … g o o d n i g h t . . .@</td>\n",
       "      <td>ham</td>\n",
       "    </tr>\n",
       "    <tr>\n",
       "      <th>7</th>\n",
       "      <td>xxbos xxmaj storming msg : xxmaj wen u lift d phne , u say \" hello \" xxmaj do u knw wt is d real meaning of xxup hello ? ? . . . xxmaj it 's d name of a girl .. ! . . . xxmaj yes .. xxmaj and u knw who is dat girl ? ? \" margaret xxmaj hello \" xxmaj she is d girlfrnd f xxmaj grahmbell who invnted telphone … . . . . moral : one can 4get d name of a person , bt not his girlfrnd … g o o d n i g h t . . .@</td>\n",
       "      <td>ham</td>\n",
       "    </tr>\n",
       "    <tr>\n",
       "      <th>8</th>\n",
       "      <td>xxbos xxmaj xxunk xxmaj xxunk : xxmaj if one xxmaj can do it , u too xxmaj can do it , xxmaj if none xxmaj can do it , u must do it xxmaj indian version : xxmaj if one xxmaj can do it , xxup let xxup him xxup do it .. xxmaj if none xxmaj can do it , leave it ! ! xxmaj and finally xxmaj kerala version : xxmaj if one can do it , xxmaj stop him doing it .. xxmaj if none can do it , xxmaj make a strike against it …</td>\n",
       "      <td>ham</td>\n",
       "    </tr>\n",
       "  </tbody>\n",
       "</table>"
      ],
      "text/plain": [
       "<IPython.core.display.HTML object>"
      ]
     },
     "metadata": {}
    }
   ]
  },
  {
   "cell_type": "markdown",
   "metadata": {
    "id": "HHjoywAl5o-a"
   },
   "source": [
    "データを見ると、`xxmaj`、`xxbos`、`xxup`などの見慣れぬトークンがあることがわかります。これらのトークンはニューラルネットワーク用の特別なトークンです。`xxbos`は文の始まりを意味します。`xxmaj`は次の単語が大文字で始まることを示し、`xxup`は次の単語がすべて大文字から成ることを示しています。"
   ]
  },
  {
   "cell_type": "markdown",
   "metadata": {
    "id": "TGP63CMu7WZC"
   },
   "source": [
    "データを用意できたので、分類器を学習しましょう。\n",
    "[text_classifier_learner](https://docs.fast.ai/text.learner.html#text_classifier_learner)に引数を渡して呼び出すことで、分類用の学習器（Learner）を作成します。学習器というのは、モデルやデータ、損失関数などが一体となったクラスのことです。第1引数にデータ、第2引数にアーキテクチャを渡します。今回は、[AWD LSTM](https://arxiv.org/abs/1708.02182)を指定しています。その他、デフォルトで`pretrained=True`となっており、事前学習済みモデルが利用可能であれば利用します。\n"
   ]
  },
  {
   "cell_type": "markdown",
   "metadata": {
    "id": "FQ5hVodg-pMe"
   },
   "source": [
    "学習器を定義したら、[fine_tune](https://docs.fast.ai/callback.schedule.html#Learner.fine_tune)メソッドを呼び出して、学習をしましょう。以下ではエポック数と学習率を渡しています。それ以外にも、デフォルトで`freeze_epochs=1`が設定されています。`fine_tune`メソッドを使うことで、最初は`freeze_epochs`数分だけ最終層以外を固定して学習し、その後、モデル全体を学習できます。"
   ]
  },
  {
   "cell_type": "code",
   "metadata": {
    "colab": {
     "base_uri": "https://localhost:8080/",
     "height": 236
    },
    "id": "q6nE4p9RH9x8",
    "outputId": "ba86c980-89da-4cab-ee88-a6a012b1f6bf"
   },
   "source": [
    "learn = text_classifier_learner(data_class, AWD_LSTM, drop_mult=0.5, metrics=accuracy)\n",
    "learn.fine_tune(4, 1e-2)"
   ],
   "execution_count": 10,
   "outputs": [
    {
     "output_type": "display_data",
     "data": {
      "text/html": [
       "<table border=\"1\" class=\"dataframe\">\n",
       "  <thead>\n",
       "    <tr style=\"text-align: left;\">\n",
       "      <th>epoch</th>\n",
       "      <th>train_loss</th>\n",
       "      <th>valid_loss</th>\n",
       "      <th>accuracy</th>\n",
       "      <th>time</th>\n",
       "    </tr>\n",
       "  </thead>\n",
       "  <tbody>\n",
       "    <tr>\n",
       "      <td>0</td>\n",
       "      <td>0.520585</td>\n",
       "      <td>0.117429</td>\n",
       "      <td>0.955117</td>\n",
       "      <td>00:11</td>\n",
       "    </tr>\n",
       "  </tbody>\n",
       "</table>"
      ],
      "text/plain": [
       "<IPython.core.display.HTML object>"
      ]
     },
     "metadata": {}
    },
    {
     "output_type": "display_data",
     "data": {
      "text/html": [
       "<table border=\"1\" class=\"dataframe\">\n",
       "  <thead>\n",
       "    <tr style=\"text-align: left;\">\n",
       "      <th>epoch</th>\n",
       "      <th>train_loss</th>\n",
       "      <th>valid_loss</th>\n",
       "      <th>accuracy</th>\n",
       "      <th>time</th>\n",
       "    </tr>\n",
       "  </thead>\n",
       "  <tbody>\n",
       "    <tr>\n",
       "      <td>0</td>\n",
       "      <td>0.232960</td>\n",
       "      <td>0.047314</td>\n",
       "      <td>0.978456</td>\n",
       "      <td>00:14</td>\n",
       "    </tr>\n",
       "    <tr>\n",
       "      <td>1</td>\n",
       "      <td>0.147409</td>\n",
       "      <td>0.033671</td>\n",
       "      <td>0.987433</td>\n",
       "      <td>00:14</td>\n",
       "    </tr>\n",
       "    <tr>\n",
       "      <td>2</td>\n",
       "      <td>0.089685</td>\n",
       "      <td>0.036065</td>\n",
       "      <td>0.987433</td>\n",
       "      <td>00:14</td>\n",
       "    </tr>\n",
       "    <tr>\n",
       "      <td>3</td>\n",
       "      <td>0.053341</td>\n",
       "      <td>0.039771</td>\n",
       "      <td>0.985637</td>\n",
       "      <td>00:14</td>\n",
       "    </tr>\n",
       "  </tbody>\n",
       "</table>"
      ],
      "text/plain": [
       "<IPython.core.display.HTML object>"
      ]
     },
     "metadata": {}
    }
   ]
  },
  {
   "cell_type": "markdown",
   "metadata": {
    "id": "IoNxvtxw_nbE"
   },
   "source": [
    "悪くない性能です。`show_results`メソッドを使って、モデルの予測結果を見てみましょう。"
   ]
  },
  {
   "cell_type": "code",
   "metadata": {
    "colab": {
     "base_uri": "https://localhost:8080/",
     "height": 719
    },
    "id": "kqgSEo3t_zb2",
    "outputId": "27936d6d-5245-48a9-9047-5a5f0069576f"
   },
   "source": [
    "learn.show_results()"
   ],
   "execution_count": 11,
   "outputs": [
    {
     "output_type": "display_data",
     "data": {
      "text/html": [
       ""
      ],
      "text/plain": [
       "<IPython.core.display.HTML object>"
      ]
     },
     "metadata": {}
    },
    {
     "output_type": "display_data",
     "data": {
      "text/html": [
       "<table border=\"1\" class=\"dataframe\">\n",
       "  <thead>\n",
       "    <tr style=\"text-align: right;\">\n",
       "      <th></th>\n",
       "      <th>text</th>\n",
       "      <th>category</th>\n",
       "      <th>category_</th>\n",
       "    </tr>\n",
       "  </thead>\n",
       "  <tbody>\n",
       "    <tr>\n",
       "      <th>0</th>\n",
       "      <td>xxbos xxmaj for me the love should start with xxunk should feel that i need her every time around xxunk should be the first thing which comes in my xxunk would start the day and end it with xxunk should be there every time i xxunk will be then when my every xxunk has her xxunk life should happen around xxunk life will be xxunk to xxunk would cry for xxunk give all my happiness and take all her xxunk will be ready to fight with anyone for xxunk will be in love when i will be doing the xxunk things for xxunk will be when i do n't have to xxunk anyone that my girl is the most beautiful lady on the whole xxunk will always be xxunk xxunk for xxunk will be when i start up making chicken xxunk and end up xxunk xxunk will be the most</td>\n",
       "      <td>ham</td>\n",
       "      <td>ham</td>\n",
       "    </tr>\n",
       "    <tr>\n",
       "      <th>1</th>\n",
       "      <td>xxbos &lt; # &gt; is fast xxunk . xxmaj so , xxmaj wish u a very xxmaj happy xxmaj new xxmaj year xxmaj happy xxmaj xxunk xxmaj happy xxunk day xxmaj happy xxmaj valentines xxmaj day xxmaj happy xxmaj xxunk xxmaj happy xxmaj xxunk xxmaj happy xxmaj xxunk day xxmaj happy xxmaj may xxmaj day xxmaj happy xxmaj xxunk xxmaj day , xxmaj happy friendship , mother , father , xxunk , xxunk xxmaj day , &amp; &amp; xxup happy xxup birthday 4 xxup u. xxmaj happy xxmaj xxunk xxunk xxmaj happy xxmaj xxunk xxmaj happy xxmaj xxunk xxmaj happy xxmaj christmas &lt; # &gt; xxmaj good xxmaj xxunk xxmaj xxunk , xxmaj xxunk xxmaj nights . xxunk xxup am the first to xxup wishing u xxup all xxup these … your 's xxmaj xxunk</td>\n",
       "      <td>ham</td>\n",
       "      <td>spam</td>\n",
       "    </tr>\n",
       "    <tr>\n",
       "      <th>2</th>\n",
       "      <td>xxbos no , i * did n't * mean to post it . i xxunk it , and like so many other times i 've xxunk stuff to you , i let it sit there . it xxup was what i was feeling at the time . i was angry . xxmaj before i left , i hit send , then stop . xxmaj it was n't there . i checked on my phone when i got to my car . xxmaj it was n't there . xxmaj you said you did n't sleep , you were bored . xxmaj so why would n't xxup that be the time to clean , xxunk xxunk , etc . ? xxmaj at least make the bed ?</td>\n",
       "      <td>ham</td>\n",
       "      <td>ham</td>\n",
       "    </tr>\n",
       "    <tr>\n",
       "      <th>3</th>\n",
       "      <td>xxbos xxmaj solve d xxmaj case : a xxmaj man xxmaj was xxmaj found xxmaj murdered xxmaj on &lt; decimal &gt; . &lt; # &gt; afternoon . 1,his wife called xxmaj police . 2,police questioned everyone . 3,wife : sir , i was sleeping , when the murder took place . 4.cook : i was cooking . 5.gardener : i was picking vegetables . 6.house - maid : i went 2 d post office . 7.children : xxmaj we went 2 play . 8.neighbour : xxmaj we went 2 a marriage . xxmaj police arrested d murderer xxmaj immediately . xxmaj who 's xxmaj it ? xxmaj reply xxmaj with xxmaj reason , xxmaj if u r xxmaj brilliant .</td>\n",
       "      <td>ham</td>\n",
       "      <td>ham</td>\n",
       "    </tr>\n",
       "    <tr>\n",
       "      <th>4</th>\n",
       "      <td>xxbos xxmaj storming msg : xxmaj wen u lift d phne , u say \" hello \" xxmaj do u knw wt is d real meaning of xxup hello ? ? . . . xxmaj it 's d name of a girl .. ! . . . xxmaj yes .. xxmaj and u knw who is dat girl ? ? \" margaret xxmaj hello \" xxmaj she is d girlfrnd f xxmaj grahmbell who invnted telphone … . . . . moral : one can 4get d name of a person , bt not his girlfrnd … g o o d n i g h t . . .@</td>\n",
       "      <td>ham</td>\n",
       "      <td>ham</td>\n",
       "    </tr>\n",
       "    <tr>\n",
       "      <th>5</th>\n",
       "      <td>xxbos xxmaj no i 'm not . i ca n't give you everything you want and need . xxmaj you actually could do better for yourself on yor own -- xxunk got more money than i do . i ca n't get work , i ca n't get a man , i ca n't pay the rent , i ca n't even fill my fucking gas xxunk . yes , i 'm xxunk and xxunk . i did n't even call home for thanksgiving cuz i 'll have to tell them i , m up to nothing .</td>\n",
       "      <td>ham</td>\n",
       "      <td>ham</td>\n",
       "    </tr>\n",
       "    <tr>\n",
       "      <th>6</th>\n",
       "      <td>xxbos xxmaj sir , i have been late in paying rent for the past few months and had to pay a $ &lt; # &gt; charge . i felt it would be xxunk of me to xxunk about something you give at great cost to yourself and that 's why i did nt speak up . i however am in a xxunk and wo nt be able to pay the charge this month xxunk my askin well ahead of month 's end . xxmaj can you please help . xxmaj thanks</td>\n",
       "      <td>ham</td>\n",
       "      <td>ham</td>\n",
       "    </tr>\n",
       "    <tr>\n",
       "      <th>7</th>\n",
       "      <td>xxbos xxmaj rose for red , red for blood , blood for heart , heart for u. xxmaj but u for me … . xxmaj send tis to all ur friends .. xxmaj including me .. xxmaj if u like me .. xxmaj if u get back , xxunk r poor in relation ! xxunk need some 1 to support xxunk r frnd 2 many xxunk xxunk u 5 + - some1 is xxunk god to marry xxunk ) try it … .</td>\n",
       "      <td>ham</td>\n",
       "      <td>ham</td>\n",
       "    </tr>\n",
       "    <tr>\n",
       "      <th>8</th>\n",
       "      <td>xxbos i guess that 's why you re worried . xxmaj you must know that there 's a way the body xxunk itself . xxmaj and i 'm quite sure you should n't worry . xxmaj we 'll take it slow . xxmaj first the tests , they will guide when your xxunk is then just relax . xxmaj nothing you 've said is a reason to worry but i.ll keep on xxunk you up .</td>\n",
       "      <td>ham</td>\n",
       "      <td>ham</td>\n",
       "    </tr>\n",
       "  </tbody>\n",
       "</table>"
      ],
      "text/plain": [
       "<IPython.core.display.HTML object>"
      ]
     },
     "metadata": {}
    }
   ]
  },
  {
   "cell_type": "markdown",
   "metadata": {
    "id": "NN93K8xhvJP6"
   },
   "source": [
    "## 言語モデルのチューニング\n",
    "\n",
    "前節で使用した事前学習済みのモデルは、言語モデルと呼ばれています。このモデルは、Wikipediaのテキストを用いて学習されています。この言語モデルをスパム分類の分類器に使うことで良い性能を得られましたが、もう一歩工夫することで、更に良い結果を得られる可能性があります。Wikipediaのテキストとスパムのテキストは若干異なるので、事前学習済みの言語モデルをスパムのデータセットを用いてチューニングし、それを使って分類器を構築するのです。\n",
    "\n",
    "全体のプロセスは以下の図のようになります。\n",
    "\n",
    "![ulmfit.png](data:image/png;base64,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)"
   ]
  },
  {
   "cell_type": "markdown",
   "metadata": {
    "id": "DCuQTAkKCnkK"
   },
   "source": [
    "### 言語モデルのチューニング\n",
    "\n",
    "まずは言語モデルのチューニング用にデータを読み込むことにします。`is_lm=True`を設定することで、言語モデルを学習するためのデータを用意できます。"
   ]
  },
  {
   "cell_type": "code",
   "metadata": {
    "colab": {
     "base_uri": "https://localhost:8080/",
     "height": 71
    },
    "id": "TPp7Yhna8XIx",
    "outputId": "89a36b74-33d7-4b7d-a023-6aeceb8d38b4"
   },
   "source": [
    "data_lm = TextDataLoaders.from_df(\n",
    "    df,\n",
    "    seed=seed,\n",
    "    text_col='text',\n",
    "    is_lm=True\n",
    ")"
   ],
   "execution_count": 12,
   "outputs": [
    {
     "output_type": "display_data",
     "data": {
      "text/html": [
       ""
      ],
      "text/plain": [
       "<IPython.core.display.HTML object>"
      ]
     },
     "metadata": {}
    },
    {
     "output_type": "stream",
     "name": "stderr",
     "text": [
      "/usr/local/lib/python3.7/dist-packages/numpy/core/_asarray.py:83: VisibleDeprecationWarning: Creating an ndarray from ragged nested sequences (which is a list-or-tuple of lists-or-tuples-or ndarrays with different lengths or shapes) is deprecated. If you meant to do this, you must specify 'dtype=object' when creating the ndarray\n",
      "  return array(a, dtype, copy=False, order=order)\n"
     ]
    }
   ]
  },
  {
   "cell_type": "code",
   "metadata": {
    "colab": {
     "base_uri": "https://localhost:8080/",
     "height": 804
    },
    "id": "PhKYLSrfk8C2",
    "outputId": "ebdb9103-2737-4778-ba8c-983121f4298d"
   },
   "source": [
    "data_lm.show_batch()"
   ],
   "execution_count": 13,
   "outputs": [
    {
     "output_type": "display_data",
     "data": {
      "text/html": [
       "<table border=\"1\" class=\"dataframe\">\n",
       "  <thead>\n",
       "    <tr style=\"text-align: right;\">\n",
       "      <th></th>\n",
       "      <th>text</th>\n",
       "      <th>text_</th>\n",
       "    </tr>\n",
       "  </thead>\n",
       "  <tbody>\n",
       "    <tr>\n",
       "      <th>0</th>\n",
       "      <td>xxbos xxmaj much better now thanks lol xxbos xxmaj dear xxunk xxrep 7 x xxmaj u've been invited to xxup xchat . xxmaj this is our final attempt to contact u ! xxmaj txt xxup chat to 86688 150p / msgrcvdhg / xxmaj suite342 / 2lands / xxmaj row / xxup w1j6hl xxup ldn 18yrs xxbos xxmaj yes .. he is really great .. xxunk told kallis best xxunk after xxunk in</td>\n",
       "      <td>xxmaj much better now thanks lol xxbos xxmaj dear xxunk xxrep 7 x xxmaj u've been invited to xxup xchat . xxmaj this is our final attempt to contact u ! xxmaj txt xxup chat to 86688 150p / msgrcvdhg / xxmaj suite342 / 2lands / xxmaj row / xxup w1j6hl xxup ldn 18yrs xxbos xxmaj yes .. he is really great .. xxunk told kallis best xxunk after xxunk in xxunk</td>\n",
       "    </tr>\n",
       "    <tr>\n",
       "      <th>1</th>\n",
       "      <td>xxbos xxmaj talk to g and x about that xxbos xxmaj we can make a baby in yo tho xxbos xxmaj i 'm eatin now lor , but goin back to work soon … e xxunk xxunk show huh … i watch b4 liao , very nice … xxbos xxmaj your daily text from me – a favour this time xxbos xxmaj moji i love you more than words . xxmaj have</td>\n",
       "      <td>xxmaj talk to g and x about that xxbos xxmaj we can make a baby in yo tho xxbos xxmaj i 'm eatin now lor , but goin back to work soon … e xxunk xxunk show huh … i watch b4 liao , very nice … xxbos xxmaj your daily text from me – a favour this time xxbos xxmaj moji i love you more than words . xxmaj have a</td>\n",
       "    </tr>\n",
       "    <tr>\n",
       "      <th>2</th>\n",
       "      <td>the money but that he 's definitely buying before the end of the week xxbos xxmaj we spend our days waiting for the xxunk xxunk to xxunk in xxunk of us .. xxmaj but what we forget is .. \" xxunk are made by walking .. not by waiting .. \" xxmaj goodnight ! xxbos xxmaj actually i decided i was too hungry so i have n't left yet : v xxbos</td>\n",
       "      <td>money but that he 's definitely buying before the end of the week xxbos xxmaj we spend our days waiting for the xxunk xxunk to xxunk in xxunk of us .. xxmaj but what we forget is .. \" xxunk are made by walking .. not by waiting .. \" xxmaj goodnight ! xxbos xxmaj actually i decided i was too hungry so i have n't left yet : v xxbos xxmaj</td>\n",
       "    </tr>\n",
       "    <tr>\n",
       "      <th>3</th>\n",
       "      <td>.. xxbos xxmaj hey mr what s the name of that bill xxunk book the one about xxunk and words xxbos xxmaj sorry , xxmaj i 'll call later xxbos xxmaj well its not like you actually called someone a xxunk . xxmaj that xxunk been worse . xxbos xxmaj you also did nt get na xxwrep 5 hi xxbos xxmaj xxunk so yummy babe … xxmaj nice xxunk to the xxunk</td>\n",
       "      <td>xxbos xxmaj hey mr what s the name of that bill xxunk book the one about xxunk and words xxbos xxmaj sorry , xxmaj i 'll call later xxbos xxmaj well its not like you actually called someone a xxunk . xxmaj that xxunk been worse . xxbos xxmaj you also did nt get na xxwrep 5 hi xxbos xxmaj xxunk so yummy babe … xxmaj nice xxunk to the xxunk xxbos</td>\n",
       "    </tr>\n",
       "    <tr>\n",
       "      <th>4</th>\n",
       "      <td>'ll call later in meeting . xxbos xxmaj i 'll pick you up at about xxunk to go to taunton if you still want to come . xxbos i have 2 sleeping bags , 1 xxunk and paper and phone details . xxmaj anything else ? xxbos xxmaj cool , xxmaj i 'll text you in a few xxbos xxmaj she said , ' ' do u mind if i go into</td>\n",
       "      <td>call later in meeting . xxbos xxmaj i 'll pick you up at about xxunk to go to taunton if you still want to come . xxbos i have 2 sleeping bags , 1 xxunk and paper and phone details . xxmaj anything else ? xxbos xxmaj cool , xxmaj i 'll text you in a few xxbos xxmaj she said , ' ' do u mind if i go into the</td>\n",
       "    </tr>\n",
       "    <tr>\n",
       "      <th>5</th>\n",
       "      <td>m8s . xxmaj txt xxmaj tone charity to 8007 for xxmaj nokias or xxmaj poly charity for polys : zed 08701417012 profit 2 charity . xxbos xxmaj finally the match xxunk towards draw as your xxunk . xxbos xxmaj as usual u can call me ard 10 smth . xxbos xxmaj hi .. i got the money da : ) xxbos xxmaj prabha .. i'm soryda .. realy .. frm heart i</td>\n",
       "      <td>. xxmaj txt xxmaj tone charity to 8007 for xxmaj nokias or xxmaj poly charity for polys : zed 08701417012 profit 2 charity . xxbos xxmaj finally the match xxunk towards draw as your xxunk . xxbos xxmaj as usual u can call me ard 10 smth . xxbos xxmaj hi .. i got the money da : ) xxbos xxmaj prabha .. i'm soryda .. realy .. frm heart i 'm</td>\n",
       "    </tr>\n",
       "    <tr>\n",
       "      <th>6</th>\n",
       "      <td>i go home first lar ü wait 4 me lor .. i put down my stuff first .. xxbos xxmaj that 's the trouble with xxunk that go well - you 're due a xxunk one … xxmaj expecting mine tomo ! xxmaj see you for xxunk , same time , same place xxbos xxmaj eh den sat u book e kb liao huh … xxbos xxmaj i‘m going to try for</td>\n",
       "      <td>go home first lar ü wait 4 me lor .. i put down my stuff first .. xxbos xxmaj that 's the trouble with xxunk that go well - you 're due a xxunk one … xxmaj expecting mine tomo ! xxmaj see you for xxunk , same time , same place xxbos xxmaj eh den sat u book e kb liao huh … xxbos xxmaj i‘m going to try for 2</td>\n",
       "    </tr>\n",
       "    <tr>\n",
       "      <th>7</th>\n",
       "      <td>rose up &amp; &amp; he found out tht those r nt xxunk , those were xxunk . xxunk wake up early in d mrng ' ' xxup good night xxbos i dun thk i 'll quit yet … h xxrep 3 m , can go jazz ? xxmaj yogasana oso can … xxmaj we can go meet em after our lessons den … xxbos xxmaj aight , see you in a bit</td>\n",
       "      <td>up &amp; &amp; he found out tht those r nt xxunk , those were xxunk . xxunk wake up early in d mrng ' ' xxup good night xxbos i dun thk i 'll quit yet … h xxrep 3 m , can go jazz ? xxmaj yogasana oso can … xxmaj we can go meet em after our lessons den … xxbos xxmaj aight , see you in a bit xxbos</td>\n",
       "    </tr>\n",
       "    <tr>\n",
       "      <th>8</th>\n",
       "      <td>so i can go to the place i sent it to get the xxunk number xxbos xxmaj height of xxunk : xxmaj read xxunk xxmaj people spend time for xxunk money and the same money is spent for spending xxunk ) xxmaj good morning .. keep xxunk ) xxbos xxmaj ok.ok ok .. then .. whats ur todays plan xxbos xxmaj great . xxmaj so should i send you my account number</td>\n",
       "      <td>i can go to the place i sent it to get the xxunk number xxbos xxmaj height of xxunk : xxmaj read xxunk xxmaj people spend time for xxunk money and the same money is spent for spending xxunk ) xxmaj good morning .. keep xxunk ) xxbos xxmaj ok.ok ok .. then .. whats ur todays plan xxbos xxmaj great . xxmaj so should i send you my account number .</td>\n",
       "    </tr>\n",
       "  </tbody>\n",
       "</table>"
      ],
      "text/plain": [
       "<IPython.core.display.HTML object>"
      ]
     },
     "metadata": {}
    }
   ]
  },
  {
   "cell_type": "markdown",
   "metadata": {
    "id": "hdYcvu3iwIUn"
   },
   "source": [
    "次に、用意したデータを用いて、言語モデルをチューニングします。"
   ]
  },
  {
   "cell_type": "code",
   "metadata": {
    "id": "mVtOXet8leLm"
   },
   "source": [
    "learn = language_model_learner(data_lm, arch=AWD_LSTM, metrics=[accuracy, Perplexity()], drop_mult=0.5)"
   ],
   "execution_count": 14,
   "outputs": []
  },
  {
   "cell_type": "markdown",
   "metadata": {
    "id": "P6lKSxnfx0q4"
   },
   "source": [
    "Wikipediaで事前学習済みの言語モデルを使って、テキストを生成してみましょう。\n"
   ]
  },
  {
   "cell_type": "code",
   "metadata": {
    "colab": {
     "base_uri": "https://localhost:8080/",
     "height": 187
    },
    "id": "YqskXXmixJ3y",
    "outputId": "f0026679-647e-41d9-ab2c-4e6f19811683"
   },
   "source": [
    "for i in range(10):\n",
    "    print(learn.predict(\"The food is\", n_words=15))"
   ],
   "execution_count": 15,
   "outputs": [
    {
     "output_type": "display_data",
     "data": {
      "text/html": [
       ""
      ],
      "text/plain": [
       "<IPython.core.display.HTML object>"
      ]
     },
     "metadata": {}
    },
    {
     "output_type": "stream",
     "name": "stdout",
     "text": [
      "The food is a double fine and a soft food is usually made up of purity - rich\n"
     ]
    },
    {
     "output_type": "display_data",
     "data": {
      "text/html": [
       ""
      ],
      "text/plain": [
       "<IPython.core.display.HTML object>"
      ]
     },
     "metadata": {}
    },
    {
     "output_type": "stream",
     "name": "stdout",
     "text": [
      "The food is their \" drink \" , and ate it out to eat . The food\n"
     ]
    },
    {
     "output_type": "display_data",
     "data": {
      "text/html": [
       ""
      ],
      "text/plain": [
       "<IPython.core.display.HTML object>"
      ]
     },
     "metadata": {}
    },
    {
     "output_type": "stream",
     "name": "stdout",
     "text": [
      "The food is moved from its within , to the back and inside , by food and food\n"
     ]
    },
    {
     "output_type": "display_data",
     "data": {
      "text/html": [
       ""
      ],
      "text/plain": [
       "<IPython.core.display.HTML object>"
      ]
     },
     "metadata": {}
    },
    {
     "output_type": "stream",
     "name": "stdout",
     "text": [
      "The food is the food source for many of its heard and spoken names . It is\n"
     ]
    },
    {
     "output_type": "display_data",
     "data": {
      "text/html": [
       ""
      ],
      "text/plain": [
       "<IPython.core.display.HTML object>"
      ]
     },
     "metadata": {}
    },
    {
     "output_type": "stream",
     "name": "stdout",
     "text": [
      "The food is released in South Germany by Ha ' L ' Ran\n"
     ]
    },
    {
     "output_type": "display_data",
     "data": {
      "text/html": [
       ""
      ],
      "text/plain": [
       "<IPython.core.display.HTML object>"
      ]
     },
     "metadata": {}
    },
    {
     "output_type": "stream",
     "name": "stdout",
     "text": [
      "The food is taken part in fight and is seen as a present - day only touch at\n"
     ]
    },
    {
     "output_type": "display_data",
     "data": {
      "text/html": [
       ""
      ],
      "text/plain": [
       "<IPython.core.display.HTML object>"
      ]
     },
     "metadata": {}
    },
    {
     "output_type": "stream",
     "name": "stdout",
     "text": [
      "The food is faster than it is available for food and waste and is more expensive . a\n"
     ]
    },
    {
     "output_type": "display_data",
     "data": {
      "text/html": [
       ""
      ],
      "text/plain": [
       "<IPython.core.display.HTML object>"
      ]
     },
     "metadata": {}
    },
    {
     "output_type": "stream",
     "name": "stdout",
     "text": [
      "The food is family , the food is the food , and the food is the largest food\n"
     ]
    },
    {
     "output_type": "display_data",
     "data": {
      "text/html": [
       ""
      ],
      "text/plain": [
       "<IPython.core.display.HTML object>"
      ]
     },
     "metadata": {}
    },
    {
     "output_type": "stream",
     "name": "stdout",
     "text": [
      "The food is World 's Best Food Flower Sub - Top\n"
     ]
    },
    {
     "output_type": "display_data",
     "data": {
      "text/html": [
       ""
      ],
      "text/plain": [
       "<IPython.core.display.HTML object>"
      ]
     },
     "metadata": {}
    },
    {
     "output_type": "stream",
     "name": "stdout",
     "text": [
      "The food is spent on a food source , but some access of the food has been taken\n"
     ]
    }
   ]
  },
  {
   "cell_type": "markdown",
   "metadata": {
    "id": "735wqog9ya1k"
   },
   "source": [
    "では、言語モデルのチューニングをします。"
   ]
  },
  {
   "cell_type": "code",
   "metadata": {
    "colab": {
     "base_uri": "https://localhost:8080/",
     "height": 422
    },
    "id": "_JMDl4Nfy79g",
    "outputId": "04c6d0a5-3ce1-428d-f49a-8d5e351dac70"
   },
   "source": [
    "learn.fine_tune(10, 1e-2)"
   ],
   "execution_count": 16,
   "outputs": [
    {
     "output_type": "display_data",
     "data": {
      "text/html": [
       "<table border=\"1\" class=\"dataframe\">\n",
       "  <thead>\n",
       "    <tr style=\"text-align: left;\">\n",
       "      <th>epoch</th>\n",
       "      <th>train_loss</th>\n",
       "      <th>valid_loss</th>\n",
       "      <th>accuracy</th>\n",
       "      <th>perplexity</th>\n",
       "      <th>time</th>\n",
       "    </tr>\n",
       "  </thead>\n",
       "  <tbody>\n",
       "    <tr>\n",
       "      <td>0</td>\n",
       "      <td>5.463169</td>\n",
       "      <td>4.697680</td>\n",
       "      <td>0.213028</td>\n",
       "      <td>109.692337</td>\n",
       "      <td>00:13</td>\n",
       "    </tr>\n",
       "  </tbody>\n",
       "</table>"
      ],
      "text/plain": [
       "<IPython.core.display.HTML object>"
      ]
     },
     "metadata": {}
    },
    {
     "output_type": "display_data",
     "data": {
      "text/html": [
       "<table border=\"1\" class=\"dataframe\">\n",
       "  <thead>\n",
       "    <tr style=\"text-align: left;\">\n",
       "      <th>epoch</th>\n",
       "      <th>train_loss</th>\n",
       "      <th>valid_loss</th>\n",
       "      <th>accuracy</th>\n",
       "      <th>perplexity</th>\n",
       "      <th>time</th>\n",
       "    </tr>\n",
       "  </thead>\n",
       "  <tbody>\n",
       "    <tr>\n",
       "      <td>0</td>\n",
       "      <td>4.511391</td>\n",
       "      <td>4.391461</td>\n",
       "      <td>0.230281</td>\n",
       "      <td>80.758354</td>\n",
       "      <td>00:16</td>\n",
       "    </tr>\n",
       "    <tr>\n",
       "      <td>1</td>\n",
       "      <td>4.326864</td>\n",
       "      <td>4.151281</td>\n",
       "      <td>0.247823</td>\n",
       "      <td>63.515305</td>\n",
       "      <td>00:16</td>\n",
       "    </tr>\n",
       "    <tr>\n",
       "      <td>2</td>\n",
       "      <td>4.124585</td>\n",
       "      <td>3.936426</td>\n",
       "      <td>0.273459</td>\n",
       "      <td>51.235180</td>\n",
       "      <td>00:16</td>\n",
       "    </tr>\n",
       "    <tr>\n",
       "      <td>3</td>\n",
       "      <td>3.901989</td>\n",
       "      <td>3.782596</td>\n",
       "      <td>0.295978</td>\n",
       "      <td>43.929951</td>\n",
       "      <td>00:16</td>\n",
       "    </tr>\n",
       "    <tr>\n",
       "      <td>4</td>\n",
       "      <td>3.684459</td>\n",
       "      <td>3.697097</td>\n",
       "      <td>0.310945</td>\n",
       "      <td>40.330059</td>\n",
       "      <td>00:16</td>\n",
       "    </tr>\n",
       "    <tr>\n",
       "      <td>5</td>\n",
       "      <td>3.474119</td>\n",
       "      <td>3.638900</td>\n",
       "      <td>0.322164</td>\n",
       "      <td>38.049942</td>\n",
       "      <td>00:16</td>\n",
       "    </tr>\n",
       "    <tr>\n",
       "      <td>6</td>\n",
       "      <td>3.298987</td>\n",
       "      <td>3.600320</td>\n",
       "      <td>0.332784</td>\n",
       "      <td>36.609943</td>\n",
       "      <td>00:16</td>\n",
       "    </tr>\n",
       "    <tr>\n",
       "      <td>7</td>\n",
       "      <td>3.164621</td>\n",
       "      <td>3.582423</td>\n",
       "      <td>0.336856</td>\n",
       "      <td>35.960575</td>\n",
       "      <td>00:16</td>\n",
       "    </tr>\n",
       "    <tr>\n",
       "      <td>8</td>\n",
       "      <td>3.035943</td>\n",
       "      <td>3.584741</td>\n",
       "      <td>0.338563</td>\n",
       "      <td>36.044018</td>\n",
       "      <td>00:16</td>\n",
       "    </tr>\n",
       "    <tr>\n",
       "      <td>9</td>\n",
       "      <td>2.954062</td>\n",
       "      <td>3.583881</td>\n",
       "      <td>0.339171</td>\n",
       "      <td>36.013042</td>\n",
       "      <td>00:16</td>\n",
       "    </tr>\n",
       "  </tbody>\n",
       "</table>"
      ],
      "text/plain": [
       "<IPython.core.display.HTML object>"
      ]
     },
     "metadata": {}
    }
   ]
  },
  {
   "cell_type": "markdown",
   "metadata": {
    "id": "eNtvmy69FZx3"
   },
   "source": [
    "学習を終えたら、`save_encoder`メソッドを用いて、最終層を除いたモデル（エンコーダー）を保存しましょう。"
   ]
  },
  {
   "cell_type": "code",
   "metadata": {
    "id": "Prxu_05QLOq5"
   },
   "source": [
    "learn.save_encoder('finetuned')"
   ],
   "execution_count": 18,
   "outputs": []
  },
  {
   "cell_type": "markdown",
   "metadata": {
    "id": "RmzG9V75G_0q"
   },
   "source": [
    "分類器を学習する前に、チューニングした言語モデルを使って、テキストを生成してみましょう。"
   ]
  },
  {
   "cell_type": "code",
   "metadata": {
    "colab": {
     "base_uri": "https://localhost:8080/",
     "height": 187
    },
    "id": "n7SeTM-w0T4N",
    "outputId": "d0dbf04d-c6b3-42d1-eef4-b839cbc7be4c"
   },
   "source": [
    "for i in range(10):\n",
    "    print(learn.predict(\"The food is\", n_words=15))"
   ],
   "execution_count": 19,
   "outputs": [
    {
     "output_type": "display_data",
     "data": {
      "text/html": [
       ""
      ],
      "text/plain": [
       "<IPython.core.display.HTML object>"
      ]
     },
     "metadata": {}
    },
    {
     "output_type": "stream",
     "name": "stdout",
     "text": [
      "The food is essential : ) . Is the paper next to my frnds content .\n"
     ]
    },
    {
     "output_type": "display_data",
     "data": {
      "text/html": [
       ""
      ],
      "text/plain": [
       "<IPython.core.display.HTML object>"
      ]
     },
     "metadata": {}
    },
    {
     "output_type": "stream",
     "name": "stdout",
     "text": [
      "The food is made .. else Ya fine but not from one bout dear ..\n"
     ]
    },
    {
     "output_type": "display_data",
     "data": {
      "text/html": [
       ""
      ],
      "text/plain": [
       "<IPython.core.display.HTML object>"
      ]
     },
     "metadata": {}
    },
    {
     "output_type": "stream",
     "name": "stdout",
     "text": [
      "The food is available for a £ 10 thing in price . It remains very small :\n"
     ]
    },
    {
     "output_type": "display_data",
     "data": {
      "text/html": [
       ""
      ],
      "text/plain": [
       "<IPython.core.display.HTML object>"
      ]
     },
     "metadata": {}
    },
    {
     "output_type": "stream",
     "name": "stdout",
     "text": [
      "The food is good .. Have ur egg 2 measure 6 m & it 's today\n"
     ]
    },
    {
     "output_type": "display_data",
     "data": {
      "text/html": [
       ""
      ],
      "text/plain": [
       "<IPython.core.display.HTML object>"
      ]
     },
     "metadata": {}
    },
    {
     "output_type": "stream",
     "name": "stdout",
     "text": [
      "The food is common legal . Customer services apply for a new food service . As\n"
     ]
    },
    {
     "output_type": "display_data",
     "data": {
      "text/html": [
       ""
      ],
      "text/plain": [
       "<IPython.core.display.HTML object>"
      ]
     },
     "metadata": {}
    },
    {
     "output_type": "stream",
     "name": "stdout",
     "text": [
      "The food is our food . You should pay a price to make it !\n"
     ]
    },
    {
     "output_type": "display_data",
     "data": {
      "text/html": [
       ""
      ],
      "text/plain": [
       "<IPython.core.display.HTML object>"
      ]
     },
     "metadata": {}
    },
    {
     "output_type": "stream",
     "name": "stdout",
     "text": [
      "The food is nice but it will never be ? Tickets to saturday and sunday ?\n"
     ]
    },
    {
     "output_type": "display_data",
     "data": {
      "text/html": [
       ""
      ],
      "text/plain": [
       "<IPython.core.display.HTML object>"
      ]
     },
     "metadata": {}
    },
    {
     "output_type": "stream",
     "name": "stdout",
     "text": [
      "The food is fixed to i.ll get lots . Hi meeting u call later ?\n"
     ]
    },
    {
     "output_type": "display_data",
     "data": {
      "text/html": [
       ""
      ],
      "text/plain": [
       "<IPython.core.display.HTML object>"
      ]
     },
     "metadata": {}
    },
    {
     "output_type": "stream",
     "name": "stdout",
     "text": [
      "The food is self food : ) so telling me 2 make them laugh … Tell\n"
     ]
    },
    {
     "output_type": "display_data",
     "data": {
      "text/html": [
       ""
      ],
      "text/plain": [
       "<IPython.core.display.HTML object>"
      ]
     },
     "metadata": {}
    },
    {
     "output_type": "stream",
     "name": "stdout",
     "text": [
      "The food is little you got yet ? We are all free u too .\n"
     ]
    }
   ]
  },
  {
   "cell_type": "markdown",
   "metadata": {
    "id": "8b84ZcR141It"
   },
   "source": [
    "面白いことに、モデルは':)'やSMSに特有な文字列を生成していることがわかります。"
   ]
  },
  {
   "cell_type": "markdown",
   "metadata": {
    "id": "Jev6OgaBF4BL"
   },
   "source": [
    "### 分類器の学習\n",
    "\n",
    "では、分類機の学習に移りましょう。まずはデータを用意します。主な違いは、言語モデルをチューニングしたときとまったく同じ語彙を使う必要があることです。そうしないと、学習した重みが意味をなさなくなります。その語彙を`text_vocab`で渡します。"
   ]
  },
  {
   "cell_type": "code",
   "metadata": {
    "colab": {
     "base_uri": "https://localhost:8080/",
     "height": 71
    },
    "id": "yZasfhgk8f4H",
    "outputId": "a426a365-aa63-43ca-e17c-a1d965350ae3"
   },
   "source": [
    "data_class = TextDataLoaders.from_df(\n",
    "    df,\n",
    "    seed=seed,\n",
    "    text_col='text',\n",
    "    label_col='target',\n",
    "    vocab=data_lm.train_ds.vocab\n",
    ")"
   ],
   "execution_count": 20,
   "outputs": [
    {
     "output_type": "display_data",
     "data": {
      "text/html": [
       ""
      ],
      "text/plain": [
       "<IPython.core.display.HTML object>"
      ]
     },
     "metadata": {}
    },
    {
     "output_type": "stream",
     "name": "stderr",
     "text": [
      "/usr/local/lib/python3.7/dist-packages/numpy/core/_asarray.py:83: VisibleDeprecationWarning: Creating an ndarray from ragged nested sequences (which is a list-or-tuple of lists-or-tuples-or ndarrays with different lengths or shapes) is deprecated. If you meant to do this, you must specify 'dtype=object' when creating the ndarray\n",
      "  return array(a, dtype, copy=False, order=order)\n"
     ]
    }
   ]
  },
  {
   "cell_type": "markdown",
   "metadata": {
    "id": "-c5fmXUfHk0f"
   },
   "source": [
    "次に、学習器を用意します。違いは、学習する前に、保存しておいたエンコーダーを読み込むことです。"
   ]
  },
  {
   "cell_type": "code",
   "metadata": {
    "colab": {
     "base_uri": "https://localhost:8080/",
     "height": 80
    },
    "id": "MN2eRhChf7FD",
    "outputId": "8c5c90c4-f2ee-48cf-b6b6-871dc70b94af"
   },
   "source": [
    "learn = text_classifier_learner(data_class, AWD_LSTM, drop_mult=0.5, metrics=accuracy)\n",
    "learn = learn.load_encoder('finetuned')\n",
    "learn.fit_one_cycle(\n",
    "    1, lr_max=2e-02\n",
    ")"
   ],
   "execution_count": 21,
   "outputs": [
    {
     "output_type": "display_data",
     "data": {
      "text/html": [
       "<table border=\"1\" class=\"dataframe\">\n",
       "  <thead>\n",
       "    <tr style=\"text-align: left;\">\n",
       "      <th>epoch</th>\n",
       "      <th>train_loss</th>\n",
       "      <th>valid_loss</th>\n",
       "      <th>accuracy</th>\n",
       "      <th>time</th>\n",
       "    </tr>\n",
       "  </thead>\n",
       "  <tbody>\n",
       "    <tr>\n",
       "      <td>0</td>\n",
       "      <td>0.288857</td>\n",
       "      <td>0.048168</td>\n",
       "      <td>0.985637</td>\n",
       "      <td>00:11</td>\n",
       "    </tr>\n",
       "  </tbody>\n",
       "</table>"
      ],
      "text/plain": [
       "<IPython.core.display.HTML object>"
      ]
     },
     "metadata": {}
    }
   ]
  },
  {
   "cell_type": "markdown",
   "metadata": {
    "id": "3RjaQWgEH9-9"
   },
   "source": [
    "最後に学習をします。方針としては、入力層へ向けて、学習する層を段階的に拡張していくことです。最初は最終層だけ学習し、徐々に学習する層を拡大していきましょう。"
   ]
  },
  {
   "cell_type": "code",
   "metadata": {
    "colab": {
     "base_uri": "https://localhost:8080/",
     "height": 80
    },
    "id": "Sb3TSAPrHsPA",
    "outputId": "d31a3a5d-b235-4d27-d872-05874e0a3cb7"
   },
   "source": [
    "learn.fit_one_cycle(\n",
    "    1, lr_max=2e-02\n",
    ")"
   ],
   "execution_count": 22,
   "outputs": [
    {
     "output_type": "display_data",
     "data": {
      "text/html": [
       "<table border=\"1\" class=\"dataframe\">\n",
       "  <thead>\n",
       "    <tr style=\"text-align: left;\">\n",
       "      <th>epoch</th>\n",
       "      <th>train_loss</th>\n",
       "      <th>valid_loss</th>\n",
       "      <th>accuracy</th>\n",
       "      <th>time</th>\n",
       "    </tr>\n",
       "  </thead>\n",
       "  <tbody>\n",
       "    <tr>\n",
       "      <td>0</td>\n",
       "      <td>0.133658</td>\n",
       "      <td>0.042962</td>\n",
       "      <td>0.987433</td>\n",
       "      <td>00:11</td>\n",
       "    </tr>\n",
       "  </tbody>\n",
       "</table>"
      ],
      "text/plain": [
       "<IPython.core.display.HTML object>"
      ]
     },
     "metadata": {}
    }
   ]
  },
  {
   "cell_type": "markdown",
   "metadata": {
    "id": "Ck7kjlddIU6T"
   },
   "source": [
    "次に、`freeze_to`に-2を渡し、最後から2つのパラメータのグループだけ学習します。"
   ]
  },
  {
   "cell_type": "code",
   "metadata": {
    "colab": {
     "base_uri": "https://localhost:8080/",
     "height": 80
    },
    "id": "3cuzqZf2gEI8",
    "outputId": "caf44695-b10e-4ae4-96ec-40c4a3301ac9"
   },
   "source": [
    "learn.freeze_to(-2)\n",
    "learn.fit_one_cycle(1, slice(1e-2/(2.6**4),1e-2))"
   ],
   "execution_count": 23,
   "outputs": [
    {
     "output_type": "display_data",
     "data": {
      "text/html": [
       "<table border=\"1\" class=\"dataframe\">\n",
       "  <thead>\n",
       "    <tr style=\"text-align: left;\">\n",
       "      <th>epoch</th>\n",
       "      <th>train_loss</th>\n",
       "      <th>valid_loss</th>\n",
       "      <th>accuracy</th>\n",
       "      <th>time</th>\n",
       "    </tr>\n",
       "  </thead>\n",
       "  <tbody>\n",
       "    <tr>\n",
       "      <td>0</td>\n",
       "      <td>0.106191</td>\n",
       "      <td>0.036917</td>\n",
       "      <td>0.986535</td>\n",
       "      <td>00:11</td>\n",
       "    </tr>\n",
       "  </tbody>\n",
       "</table>"
      ],
      "text/plain": [
       "<IPython.core.display.HTML object>"
      ]
     },
     "metadata": {}
    }
   ]
  },
  {
   "cell_type": "markdown",
   "metadata": {
    "id": "QuRAkiJDIoUD"
   },
   "source": [
    "同様のことを繰り返し、"
   ]
  },
  {
   "cell_type": "code",
   "metadata": {
    "colab": {
     "base_uri": "https://localhost:8080/",
     "height": 80
    },
    "id": "mNd96mKCgGdI",
    "outputId": "d91705ef-d866-4080-b3f5-1393511b8ca8"
   },
   "source": [
    "learn.freeze_to(-3)\n",
    "learn.fit_one_cycle(1, slice(5e-3/(2.6**4),5e-3))"
   ],
   "execution_count": 24,
   "outputs": [
    {
     "output_type": "display_data",
     "data": {
      "text/html": [
       "<table border=\"1\" class=\"dataframe\">\n",
       "  <thead>\n",
       "    <tr style=\"text-align: left;\">\n",
       "      <th>epoch</th>\n",
       "      <th>train_loss</th>\n",
       "      <th>valid_loss</th>\n",
       "      <th>accuracy</th>\n",
       "      <th>time</th>\n",
       "    </tr>\n",
       "  </thead>\n",
       "  <tbody>\n",
       "    <tr>\n",
       "      <td>0</td>\n",
       "      <td>0.064317</td>\n",
       "      <td>0.020082</td>\n",
       "      <td>0.991023</td>\n",
       "      <td>00:12</td>\n",
       "    </tr>\n",
       "  </tbody>\n",
       "</table>"
      ],
      "text/plain": [
       "<IPython.core.display.HTML object>"
      ]
     },
     "metadata": {}
    }
   ]
  },
  {
   "cell_type": "markdown",
   "metadata": {
    "id": "CM2LLAcqIp8d"
   },
   "source": [
    "最後にモデル全体を学習します。"
   ]
  },
  {
   "cell_type": "code",
   "metadata": {
    "colab": {
     "base_uri": "https://localhost:8080/",
     "height": 111
    },
    "id": "_mpd9PJLgIqV",
    "outputId": "515a67ed-08cd-4261-89cd-8384fd321fcf"
   },
   "source": [
    "learn.unfreeze()\n",
    "learn.fit_one_cycle(2, slice(1e-3/(2.6**4),1e-3))"
   ],
   "execution_count": 25,
   "outputs": [
    {
     "output_type": "display_data",
     "data": {
      "text/html": [
       "<table border=\"1\" class=\"dataframe\">\n",
       "  <thead>\n",
       "    <tr style=\"text-align: left;\">\n",
       "      <th>epoch</th>\n",
       "      <th>train_loss</th>\n",
       "      <th>valid_loss</th>\n",
       "      <th>accuracy</th>\n",
       "      <th>time</th>\n",
       "    </tr>\n",
       "  </thead>\n",
       "  <tbody>\n",
       "    <tr>\n",
       "      <td>0</td>\n",
       "      <td>0.038626</td>\n",
       "      <td>0.016032</td>\n",
       "      <td>0.996409</td>\n",
       "      <td>00:14</td>\n",
       "    </tr>\n",
       "    <tr>\n",
       "      <td>1</td>\n",
       "      <td>0.027398</td>\n",
       "      <td>0.018559</td>\n",
       "      <td>0.994614</td>\n",
       "      <td>00:14</td>\n",
       "    </tr>\n",
       "  </tbody>\n",
       "</table>"
      ],
      "text/plain": [
       "<IPython.core.display.HTML object>"
      ]
     },
     "metadata": {}
    }
   ]
  },
  {
   "cell_type": "code",
   "metadata": {
    "id": "-cr_v5134yp1"
   },
   "source": [
    ""
   ],
   "execution_count": 25,
   "outputs": []
  }
 ]
}