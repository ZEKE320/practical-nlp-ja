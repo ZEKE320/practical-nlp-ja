{
  "nbformat": 4,
  "nbformat_minor": 0,
  "metadata": {
    "colab": {
      "name": "07_BERT_Sentiment_Classification_IMDB_ktrain.ipynb",
      "provenance": [],
      "collapsed_sections": []
    },
    "kernelspec": {
      "name": "python3",
      "display_name": "Python 3"
    },
    "accelerator": "GPU"
  },
  "cells": [
    {
      "cell_type": "markdown",
      "metadata": {
        "id": "ypR4NNY7oyEV"
      },
      "source": [
        "# ktrainから使うBERT\n",
        "\n",
        "ktrainはKerasのラッパーであり、ニューラルネットワークを簡単に学習できます。わずか数行のコードを書くだけでモデルを構築し、最適な学習率を推定し、テキストの読み込みや前処理を行い、モデルを学習できます。\n",
        "\n",
        "- https://github.com/amaiya/ktrain"
      ]
    },
    {
      "cell_type": "markdown",
      "metadata": {
        "id": "LezMFAkaROCc"
      },
      "source": [
        "## 準備\n",
        "\n",
        "### パッケージのインストール"
      ]
    },
    {
      "cell_type": "code",
      "metadata": {
        "id": "58WB13Jx3rQm",
        "colab": {
          "base_uri": "https://localhost:8080/"
        },
        "outputId": "0ed32638-22b3-4337-8565-eaf8d30c438f"
      },
      "source": [
        "!pip install -q ktrain==0.27.3"
      ],
      "execution_count": 1,
      "outputs": [
        {
          "output_type": "stream",
          "name": "stdout",
          "text": [
            "\u001b[K     |████████████████████████████████| 25.3 MB 49.8 MB/s \n",
            "\u001b[K     |████████████████████████████████| 6.8 MB 20.6 MB/s \n",
            "\u001b[K     |████████████████████████████████| 981 kB 37.2 MB/s \n",
            "\u001b[K     |████████████████████████████████| 263 kB 45.7 MB/s \n",
            "\u001b[K     |████████████████████████████████| 1.9 MB 34.0 MB/s \n",
            "\u001b[K     |████████████████████████████████| 1.2 MB 39.2 MB/s \n",
            "\u001b[K     |████████████████████████████████| 468 kB 47.3 MB/s \n",
            "\u001b[K     |████████████████████████████████| 895 kB 45.6 MB/s \n",
            "\u001b[K     |████████████████████████████████| 3.3 MB 36.8 MB/s \n",
            "\u001b[?25h  Building wheel for ktrain (setup.py) ... \u001b[?25l\u001b[?25hdone\n",
            "  Building wheel for seqeval (setup.py) ... \u001b[?25l\u001b[?25hdone\n",
            "  Building wheel for keras-bert (setup.py) ... \u001b[?25l\u001b[?25hdone\n",
            "  Building wheel for keras-transformer (setup.py) ... \u001b[?25l\u001b[?25hdone\n",
            "  Building wheel for keras-embed-sim (setup.py) ... \u001b[?25l\u001b[?25hdone\n",
            "  Building wheel for keras-layer-normalization (setup.py) ... \u001b[?25l\u001b[?25hdone\n",
            "  Building wheel for keras-multi-head (setup.py) ... \u001b[?25l\u001b[?25hdone\n",
            "  Building wheel for keras-pos-embd (setup.py) ... \u001b[?25l\u001b[?25hdone\n",
            "  Building wheel for keras-position-wise-feed-forward (setup.py) ... \u001b[?25l\u001b[?25hdone\n",
            "  Building wheel for keras-self-attention (setup.py) ... \u001b[?25l\u001b[?25hdone\n",
            "  Building wheel for langdetect (setup.py) ... \u001b[?25l\u001b[?25hdone\n",
            "  Building wheel for syntok (setup.py) ... \u001b[?25l\u001b[?25hdone\n",
            "\u001b[31mERROR: pip's dependency resolver does not currently take into account all the packages that are installed. This behaviour is the source of the following dependency conflicts.\n",
            "imbalanced-learn 0.8.1 requires scikit-learn>=0.24, but you have scikit-learn 0.23.2 which is incompatible.\u001b[0m\n"
          ]
        }
      ]
    },
    {
      "cell_type": "markdown",
      "metadata": {
        "id": "xPe9aJ4ZRSWO"
      },
      "source": [
        "### インポート"
      ]
    },
    {
      "cell_type": "code",
      "metadata": {
        "id": "KN6N85ah8VXf"
      },
      "source": [
        "import os.path\n",
        "\n",
        "import ktrain\n",
        "import tensorflow as tf\n",
        "from ktrain import text"
      ],
      "execution_count": 2,
      "outputs": []
    },
    {
      "cell_type": "markdown",
      "metadata": {
        "id": "S326wZCORYuw"
      },
      "source": [
        "### データセットのダウンロード\n",
        "\n",
        "データセットは以前にも使ったIMDB映画レビューデータセットを使います。"
      ]
    },
    {
      "cell_type": "code",
      "metadata": {
        "id": "Mr1YXudk8Vti",
        "colab": {
          "base_uri": "https://localhost:8080/"
        },
        "outputId": "ac3dbf21-536b-4872-c37d-0eeb40c783af"
      },
      "source": [
        "dataset = tf.keras.utils.get_file(\n",
        "    fname=\"aclImdb.tar.gz\",\n",
        "    origin=\"http://ai.stanford.edu/~amaas/data/sentiment/aclImdb_v1.tar.gz\",\n",
        "    extract=True,\n",
        ")"
      ],
      "execution_count": 3,
      "outputs": [
        {
          "output_type": "stream",
          "name": "stdout",
          "text": [
            "Downloading data from http://ai.stanford.edu/~amaas/data/sentiment/aclImdb_v1.tar.gz\n",
            "84131840/84125825 [==============================] - 2s 0us/step\n",
            "84140032/84125825 [==============================] - 2s 0us/step\n"
          ]
        }
      ]
    },
    {
      "cell_type": "markdown",
      "metadata": {
        "id": "MSOtBCMXUF5G"
      },
      "source": [
        "読み込むときのために、フォルダの構造を確認しておきましょう。\n",
        "`train`と`test`の下に`pos`と`neg`フォルダがあり、その中にプレーンテキストでレビューが格納されています。おおよそ、以下の構造になります。\n",
        "\n",
        "```bash\n",
        "├── datadir\n",
        "│   ├── train\n",
        "│   │   ├── pos       # 肯定的なレビューのテキストを含むフォルダ\n",
        "│   │   └── neg       # 否定的なレビューのテキストを含むフォルダ\n",
        "│   └── test \n",
        "│        ├── pos       # 肯定的なレビューのテキストを含むフォルダ\n",
        "│        └── neg       # 否定的なレビューのテキストを含むフォルダ\n",
        "```"
      ]
    },
    {
      "cell_type": "code",
      "metadata": {
        "id": "qnXQ-lcL8d6O",
        "colab": {
          "base_uri": "https://localhost:8080/"
        },
        "outputId": "f146b4fd-64e7-4d31-fb7e-4e397f85f78c"
      },
      "source": [
        "IMDB_DATADIR = os.path.join(os.path.dirname(dataset), \"aclImdb\")\n",
        "print(IMDB_DATADIR)"
      ],
      "execution_count": 4,
      "outputs": [
        {
          "output_type": "stream",
          "name": "stdout",
          "text": [
            "/root/.keras/datasets/aclImdb\n"
          ]
        }
      ]
    },
    {
      "cell_type": "markdown",
      "metadata": {
        "id": "ugopbOABrmne"
      },
      "source": [
        "## 前処理\n",
        "\n",
        "`texts_from_folder`関数を使うと、学習用と検証用のデータを指定したフォルダから読み込み、BERTに必要な形式へ自動的に変換してくれます。この関数は、以下のようなフォルダ構造でコーパスが格納されていることを仮定しています。\n",
        "\n",
        "```bash\n",
        "├── datadir\n",
        "│   ├── train\n",
        "│   │   ├── class0       # folder containing documents of class 0\n",
        "│   │   ├── class1       # folder containing documents of class 1\n",
        "│   │   ├── class2       # folder containing documents of class 2\n",
        "│   │   └── classN       # folder containing documents of class N\n",
        "│   └── test \n",
        "│       ├── class0       # folder containing documents of class 0\n",
        "│       ├── class1       # folder containing documents of class 1\n",
        "│       ├── class2       # folder containing documents of class 2\n",
        "│       └── classN       # folder containing documents of class N\n",
        "```\n",
        "\n",
        "各サブフォルダは、プレーンテキスト形式で文書を格納していなければなりません。今回の場合、サブフォルダ名は`pos`と`neg`なので、それを`classes`引数に指定します。"
      ]
    },
    {
      "cell_type": "code",
      "metadata": {
        "id": "jELdxonN9J8v",
        "colab": {
          "base_uri": "https://localhost:8080/",
          "height": 289
        },
        "outputId": "d0292e59-b429-4ab6-8913-58b434616db4"
      },
      "source": [
        "(x_train, y_train), (x_test, y_test), preproc = text.texts_from_folder(\n",
        "    IMDB_DATADIR,\n",
        "    maxlen=128,\n",
        "    preprocess_mode=\"bert\",\n",
        "    train_test_names=[\"train\", \"test\"],\n",
        "    classes=[\"pos\", \"neg\"],\n",
        ")"
      ],
      "execution_count": 5,
      "outputs": [
        {
          "output_type": "stream",
          "name": "stdout",
          "text": [
            "detected encoding: utf-8\n",
            "downloading pretrained BERT model (uncased_L-12_H-768_A-12.zip)...\n",
            "[██████████████████████████████████████████████████]\n",
            "extracting pretrained BERT model...\n",
            "done.\n",
            "\n",
            "cleanup downloaded zip...\n",
            "done.\n",
            "\n",
            "preprocessing train...\n",
            "language: en\n"
          ]
        },
        {
          "output_type": "display_data",
          "data": {
            "text/html": [
              "done."
            ],
            "text/plain": [
              "<IPython.core.display.HTML object>"
            ]
          },
          "metadata": {}
        },
        {
          "output_type": "stream",
          "name": "stdout",
          "text": [
            "Is Multi-Label? False\n",
            "preprocessing test...\n",
            "language: en\n"
          ]
        },
        {
          "output_type": "display_data",
          "data": {
            "text/html": [
              "done."
            ],
            "text/plain": [
              "<IPython.core.display.HTML object>"
            ]
          },
          "metadata": {}
        }
      ]
    },
    {
      "cell_type": "markdown",
      "metadata": {
        "id": "a0SIaqHcslLZ"
      },
      "source": [
        "## 事前学習済みBERTの読み込み\n",
        "\n",
        "まずは、`text_classifier`関数を使って、テキスト分類モデルを構築します。今回はBERTを使いたいため、関数の第一引数に`bert`と渡しています。それ以外に以下の文字列を渡せます。\n",
        "\n",
        "- fasttext: FastTextモデル\n",
        "- nbsvm: NBSVM（ナイーブベイズとSVMの組み合わせ）\n",
        "- logreg: 埋め込み層を使ったロジスティック回帰\n",
        "- bigru: 事前学習済み単語埋め込みを使った双方向GRU\n",
        "- distilbert: DistilBertモデル\n",
        "\n",
        "その後、`get_learner`関数を呼び出して、モデルを学習するための`Learner`インスタンスを作成します。"
      ]
    },
    {
      "cell_type": "code",
      "metadata": {
        "id": "90ftQ6MgAJy4",
        "colab": {
          "base_uri": "https://localhost:8080/"
        },
        "outputId": "16c46e33-7482-449e-884e-9b2dbaf6bd9a"
      },
      "source": [
        "model = text.text_classifier(\n",
        "    name=\"bert\",\n",
        "    train_data=(x_train, y_train),\n",
        "    preproc=preproc\n",
        ")\n",
        "learner = ktrain.get_learner(\n",
        "    model,\n",
        "    train_data=(x_train, y_train),\n",
        "    val_data=(x_test, y_test),\n",
        "    batch_size=6\n",
        ")"
      ],
      "execution_count": 6,
      "outputs": [
        {
          "output_type": "stream",
          "name": "stdout",
          "text": [
            "Is Multi-Label? False\n",
            "maxlen is 128\n",
            "done.\n"
          ]
        }
      ]
    },
    {
      "cell_type": "markdown",
      "metadata": {
        "id": "nN6zWQgys0c_"
      },
      "source": [
        "## モデルの学習\n",
        "\n",
        "次に、`lr_find`と`lr_plot`メソッドを用いて、良さそうな学習率を探索します。"
      ]
    },
    {
      "cell_type": "code",
      "metadata": {
        "colab": {
          "base_uri": "https://localhost:8080/"
        },
        "id": "VT9JGsWmo9PB",
        "outputId": "ef3c7c11-4f70-4671-f035-6f6409e6383f"
      },
      "source": [
        "learner.lr_find()"
      ],
      "execution_count": 7,
      "outputs": [
        {
          "output_type": "stream",
          "name": "stdout",
          "text": [
            "simulating training for different learning rates... this may take a few moments...\n"
          ]
        },
        {
          "output_type": "stream",
          "name": "stderr",
          "text": [
            "/usr/local/lib/python3.7/dist-packages/keras/engine/functional.py:1410: CustomMaskWarning: Custom mask layers require a config and must override get_config. When loading, the custom mask layer must be passed to the custom_objects argument.\n",
            "  layer_config = serialize_layer_fn(layer)\n"
          ]
        },
        {
          "output_type": "stream",
          "name": "stdout",
          "text": [
            "Epoch 1/1024\n",
            "4167/4167 [==============================] - 539s 123ms/step - loss: 3.0832 - accuracy: 0.5975\n",
            "\n",
            "\n",
            "done.\n",
            "Please invoke the Learner.lr_plot() method to visually inspect the loss plot to help identify the maximal learning rate associated with falling loss.\n"
          ]
        }
      ]
    },
    {
      "cell_type": "code",
      "metadata": {
        "colab": {
          "base_uri": "https://localhost:8080/",
          "height": 283
        },
        "id": "Of9nmOp0pG7D",
        "outputId": "d0eaee6d-9cd4-4c28-f5ed-4f323e6b6c37"
      },
      "source": [
        "learner.lr_plot()"
      ],
      "execution_count": 8,
      "outputs": [
        {
          "output_type": "display_data",
          "data": {
            "image/png": "[encoded data removed]",
            "text/plain": [
              "<Figure size 432x288 with 1 Axes>"
            ]
          },
          "metadata": {
            "needs_background": "light"
          }
        }
      ]
    },
    {
      "cell_type": "markdown",
      "metadata": {
        "id": "4LctGz3FpASM"
      },
      "source": [
        "ここまで来たら、あとは`fit_onecycle`メソッドを呼び出して、モデルを学習します。\n",
        "第1引数に学習率、第２引数にエポック数を指定しています。"
      ]
    },
    {
      "cell_type": "code",
      "metadata": {
        "id": "Fxdw88YjAfvF",
        "colab": {
          "base_uri": "https://localhost:8080/"
        },
        "outputId": "3b5768a3-8256-426e-92c9-e8927912bf4e"
      },
      "source": [
        "learner.fit_onecycle(2e-5, 1)"
      ],
      "execution_count": 9,
      "outputs": [
        {
          "output_type": "stream",
          "name": "stdout",
          "text": [
            "\n",
            "\n",
            "begin training using onecycle policy with max lr of 2e-05...\n",
            "4167/4167 [==============================] - 1952s 463ms/step - loss: 0.3440 - accuracy: 0.8438 - val_loss: 0.2608 - val_accuracy: 0.8902\n"
          ]
        },
        {
          "output_type": "execute_result",
          "data": {
            "text/plain": [
              "<keras.callbacks.History at 0x7f3abb7398d0>"
            ]
          },
          "metadata": {},
          "execution_count": 9
        }
      ]
    },
    {
      "cell_type": "markdown",
      "metadata": {
        "id": "GE-W8Uh85bqh"
      },
      "source": [
        "## モデルを用いた予測\n",
        "\n",
        "学習したモデルを用いて、新しい映画レビューに対して予測をしてみましょう。その際、`texts_from_folder`によって返された`preproc`オブジェクトが重要になります。このオブジェクトを用いて、データをモデルが期待する形式に前処理します。"
      ]
    },
    {
      "cell_type": "code",
      "metadata": {
        "id": "mPVhsfj3TwHf"
      },
      "source": [
        "predictor = ktrain.get_predictor(learner.model, preproc)"
      ],
      "execution_count": 11,
      "outputs": []
    },
    {
      "cell_type": "code",
      "metadata": {
        "id": "ZEL3dOn64_tj"
      },
      "source": [
        "data = [\n",
        "    \"This movie was horrible! The plot was boring. Acting was okay, though.\",\n",
        "    \"The film really sucked. I want my money back.\",\n",
        "    \"What a beautiful romantic comedy. 10/10 would see again!\"\n",
        "]"
      ],
      "execution_count": 12,
      "outputs": []
    },
    {
      "cell_type": "code",
      "metadata": {
        "colab": {
          "base_uri": "https://localhost:8080/"
        },
        "id": "6PZrUlWX6ARN",
        "outputId": "35f856c7-5cdd-4c2d-d3d0-2694734fd78a"
      },
      "source": [
        "predictor.predict(data)"
      ],
      "execution_count": 13,
      "outputs": [
        {
          "output_type": "execute_result",
          "data": {
            "text/plain": [
              "['neg', 'neg', 'pos']"
            ]
          },
          "metadata": {},
          "execution_count": 13
        }
      ]
    },
    {
      "cell_type": "markdown",
      "metadata": {
        "id": "DUNa3RzW6Mc9"
      },
      "source": [
        "ご覧のように、モデルは正しいと思われる予測を返しています。上ではクラスそのものを返していますが、`predictor`インスタンスは、各クラスに対する予測値の確率を返すこともできます。まず、クラスとその順番を表示してみましょう。クラスposはポジティブなセンチメント、negはネガティブなセンチメントを表しています。そして、その確率を見るために、`predictor.predict`を`return_proba=True`で再実行します。\n"
      ]
    },
    {
      "cell_type": "code",
      "metadata": {
        "colab": {
          "base_uri": "https://localhost:8080/"
        },
        "id": "NjT-gH5w6Axs",
        "outputId": "2f99178f-c05d-4e61-8d9b-af699c6464b0"
      },
      "source": [
        "predictor.get_classes()"
      ],
      "execution_count": 14,
      "outputs": [
        {
          "output_type": "execute_result",
          "data": {
            "text/plain": [
              "['neg', 'pos']"
            ]
          },
          "metadata": {},
          "execution_count": 14
        }
      ]
    },
    {
      "cell_type": "code",
      "metadata": {
        "colab": {
          "base_uri": "https://localhost:8080/"
        },
        "id": "UksZ4IuN6ffp",
        "outputId": "7fb2330d-14a4-43a8-dc09-48cf81215003"
      },
      "source": [
        "predictor.predict(data, return_proba=True)"
      ],
      "execution_count": 15,
      "outputs": [
        {
          "output_type": "execute_result",
          "data": {
            "text/plain": [
              "array([[0.9987012 , 0.00129881],\n",
              "       [0.9957632 , 0.00423682],\n",
              "       [0.00199427, 0.9980057 ]], dtype=float32)"
            ]
          },
          "metadata": {},
          "execution_count": 15
        }
      ]
    },
    {
      "cell_type": "markdown",
      "metadata": {
        "id": "QLiww2cK6lrX"
      },
      "source": [
        "## モデルの保存と読み込み\n",
        "\n",
        "では最後に、モデルを保存し読み込んでみましょう。`save`メソッドで保存したモデルは、`load_predictor`を呼び出すことで読み込むことができます。"
      ]
    },
    {
      "cell_type": "code",
      "metadata": {
        "colab": {
          "base_uri": "https://localhost:8080/"
        },
        "id": "-PgST5Os6g0B",
        "outputId": "4a7e1470-9d0f-4702-a274-78527a15a48d"
      },
      "source": [
        "filepath = \"/tmp/imdb_predictor\"\n",
        "predictor.save(filepath)"
      ],
      "execution_count": 17,
      "outputs": [
        {
          "output_type": "stream",
          "name": "stderr",
          "text": [
            "/usr/local/lib/python3.7/dist-packages/keras/engine/functional.py:1410: CustomMaskWarning: Custom mask layers require a config and must override get_config. When loading, the custom mask layer must be passed to the custom_objects argument.\n",
            "  layer_config = serialize_layer_fn(layer)\n"
          ]
        }
      ]
    },
    {
      "cell_type": "code",
      "metadata": {
        "id": "qXgkJxDt6t3V"
      },
      "source": [
        "predictor = ktrain.load_predictor(filepath)"
      ],
      "execution_count": 18,
      "outputs": []
    },
    {
      "cell_type": "code",
      "metadata": {
        "colab": {
          "base_uri": "https://localhost:8080/"
        },
        "id": "KWrZzliK64jE",
        "outputId": "80c47165-6837-4a8b-de32-24dc19419800"
      },
      "source": [
        "predictor.predict([\"Groundhog Day is my favorite movie of all time!\"])"
      ],
      "execution_count": 19,
      "outputs": [
        {
          "output_type": "execute_result",
          "data": {
            "text/plain": [
              "['pos']"
            ]
          },
          "metadata": {},
          "execution_count": 19
        }
      ]
    },
    {
      "cell_type": "markdown",
      "metadata": {
        "id": "hlVlIu5T7KNd"
      },
      "source": [
        "## 参考資料\n",
        "\n",
        "- [ktrain/examples/text/IMDb-BERT.ipynb](https://github.com/amaiya/ktrain/blob/master/examples/text/IMDb-BERT.ipynb)\n",
        "- [Text Classification Example: Sentiment Analysis with IMDb Movie Reviews](https://nbviewer.org/github/amaiya/ktrain/blob/master/tutorials/tutorial-04-text-classification.ipynb)"
      ]
    },
    {
      "cell_type": "code",
      "metadata": {
        "id": "KxqnM1L0678f"
      },
      "source": [
        ""
      ],
      "execution_count": null,
      "outputs": []
    }
  ]
}