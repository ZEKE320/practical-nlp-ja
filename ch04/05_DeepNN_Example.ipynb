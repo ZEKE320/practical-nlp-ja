{
  "nbformat": 4,
  "nbformat_minor": 0,
  "metadata": {
    "kernelspec": {
      "display_name": "Python 3",
      "language": "python",
      "name": "python3"
    },
    "language_info": {
      "codemirror_mode": {
        "name": "ipython",
        "version": 3
      },
      "file_extension": ".py",
      "mimetype": "text/x-python",
      "name": "python",
      "nbconvert_exporter": "python",
      "pygments_lexer": "ipython3",
      "version": "3.6.5"
    },
    "colab": {
      "name": "05_DeepNN_Example.ipynb",
      "provenance": [],
      "collapsed_sections": []
    }
  },
  "cells": [
    {
      "cell_type": "markdown",
      "metadata": {
        "id": "aLNg_Puse6EX"
      },
      "source": [
        "# ニューラルネットワークを用いたテキスト分類\n",
        "\n",
        "このノートブックでは、IMDBのレビューデータセットを用いて、いくつかのテキスト分類モデルを構築します。"
      ]
    },
    {
      "cell_type": "markdown",
      "metadata": {
        "id": "G5hxI_AEEAwr"
      },
      "source": [
        "## 準備\n",
        "\n",
        "### インポート"
      ]
    },
    {
      "cell_type": "code",
      "metadata": {
        "id": "xqUcb7NBb5--"
      },
      "source": [
        "import os\n",
        "import re\n",
        "import string\n",
        "\n",
        "import numpy as np\n",
        "import tensorflow as tf\n",
        "import tensorflow_datasets as tfds\n",
        "from tensorflow.keras.layers import Dense, Input, GlobalMaxPooling1D\n",
        "from tensorflow.keras.layers import Conv1D, MaxPooling1D, Embedding, LSTM, TextVectorization\n",
        "from tensorflow.keras.models import Model, Sequential\n",
        "from tensorflow.keras.initializers import Constant"
      ],
      "execution_count": 30,
      "outputs": []
    },
    {
      "cell_type": "markdown",
      "metadata": {
        "id": "wrGuy2uBEGzr"
      },
      "source": [
        "## データセットの用意\n",
        "\n",
        "まずは、事前学習済み単語埋め込みとして[GloVe](https://nlp.stanford.edu/projects/glove/)、分類のデータセットとして[IMDBレビューデータセット](http://ai.stanford.edu/~amaas/data/sentiment/)をダウンロードしましょう。\n",
        "このデータセットは、50,000本の映画レビューのテキストを含んでいます。学習用とテスト用で各25,000件ずつに分けられています。学習データとテストデータは均衡しており、否定的なレビューと肯定的なレビューが同数含まれています。\n"
      ]
    },
    {
      "cell_type": "code",
      "metadata": {
        "colab": {
          "base_uri": "https://localhost:8080/"
        },
        "id": "jiF9pw8tGW73",
        "outputId": "1aedca63-5771-4130-932e-6e2228956b75"
      },
      "source": [
        "# GloVeのダウンロードと展開\n",
        "!wget  https://nlp.stanford.edu/data/glove.6B.zip\n",
        "!unzip glove.6B.zip -d DATAPATH"
      ],
      "execution_count": 31,
      "outputs": [
        {
          "output_type": "stream",
          "name": "stdout",
          "text": [
            "--2021-09-09 03:18:58--  https://nlp.stanford.edu/data/glove.6B.zip\n",
            "Resolving nlp.stanford.edu (nlp.stanford.edu)... 171.64.67.140\n",
            "Connecting to nlp.stanford.edu (nlp.stanford.edu)|171.64.67.140|:443... connected.\n",
            "HTTP request sent, awaiting response... 301 Moved Permanently\n",
            "Location: http://downloads.cs.stanford.edu/nlp/data/glove.6B.zip [following]\n",
            "--2021-09-09 03:18:58--  http://downloads.cs.stanford.edu/nlp/data/glove.6B.zip\n",
            "Resolving downloads.cs.stanford.edu (downloads.cs.stanford.edu)... 171.64.64.22\n",
            "Connecting to downloads.cs.stanford.edu (downloads.cs.stanford.edu)|171.64.64.22|:80... connected.\n",
            "HTTP request sent, awaiting response... 200 OK\n",
            "Length: 862182613 (822M) [application/zip]\n",
            "Saving to: ‘glove.6B.zip.1’\n",
            "\n",
            "glove.6B.zip.1      100%[===================>] 822.24M  4.73MB/s    in 2m 41s  \n",
            "\n",
            "2021-09-09 03:21:39 (5.12 MB/s) - ‘glove.6B.zip.1’ saved [862182613/862182613]\n",
            "\n",
            "Archive:  glove.6B.zip\n",
            "replace DATAPATH/glove.6B.50d.txt? [y]es, [n]o, [A]ll, [N]one, [r]ename: A\n",
            "  inflating: DATAPATH/glove.6B.50d.txt  \n",
            "  inflating: DATAPATH/glove.6B.100d.txt  \n",
            "  inflating: DATAPATH/glove.6B.200d.txt  \n",
            "  inflating: DATAPATH/glove.6B.300d.txt  \n"
          ]
        }
      ]
    },
    {
      "cell_type": "markdown",
      "metadata": {
        "id": "BH00T3aOfqAI"
      },
      "source": [
        "IMDBデータセットについてですが、ダウンロードして展開し、読み込むためのコードを書いてもよいのですが、今回はデータセットを簡単に使い始められるパッケージである[TensorFlow Datasets](https://www.tensorflow.org/datasets)から利用します。TensorFlow Datasetsを使ったほうが、シンプルに書けるからです。学習データの80%を学習用に使い、残りの20%を検証用に使うことにしましょう。"
      ]
    },
    {
      "cell_type": "code",
      "metadata": {
        "id": "DVfVrRa7IY7h"
      },
      "source": [
        "train_data, validation_data, test_data = tfds.load(\n",
        "    name=\"imdb_reviews\", \n",
        "    split=('train[:80%]', 'train[80%:]', 'test'),\n",
        "    as_supervised=True\n",
        ")"
      ],
      "execution_count": 32,
      "outputs": []
    },
    {
      "cell_type": "markdown",
      "metadata": {
        "id": "uO3gO-R8hjvV"
      },
      "source": [
        "データの中身を見てみましょう。各例は、映画のレビューを表すテキストと、それに対応するラベルから構成されています。テキストは前処理されていません。ラベルは、0または1の整数値で、0は否定的なレビュー、1は肯定的なレビューを表しています。\n"
      ]
    },
    {
      "cell_type": "code",
      "metadata": {
        "colab": {
          "base_uri": "https://localhost:8080/"
        },
        "id": "0-GhcO62hwpg",
        "outputId": "6d42de2a-1610-4d05-9c30-83b839628354"
      },
      "source": [
        "train_examples_batch, train_labels_batch = next(iter(train_data.batch(10)))\n",
        "train_examples_batch"
      ],
      "execution_count": 33,
      "outputs": [
        {
          "output_type": "execute_result",
          "data": {
            "text/plain": [
              "<tf.Tensor: shape=(10,), dtype=string, numpy=\n",
              "array([b\"This was an absolutely terrible movie. Don't be lured in by Christopher Walken or Michael Ironside. Both are great actors, but this must simply be their worst role in history. Even their great acting could not redeem this movie's ridiculous storyline. This movie is an early nineties US propaganda piece. The most pathetic scenes were those when the Columbian rebels were making their cases for revolutions. Maria Conchita Alonso appeared phony, and her pseudo-love affair with Walken was nothing but a pathetic emotional plug in a movie that was devoid of any real meaning. I am disappointed that there are movies like this, ruining actor's like Christopher Walken's good name. I could barely sit through it.\",\n",
              "       b'I have been known to fall asleep during films, but this is usually due to a combination of things including, really tired, being warm and comfortable on the sette and having just eaten a lot. However on this occasion I fell asleep because the film was rubbish. The plot development was constant. Constantly slow and boring. Things seemed to happen, but with no explanation of what was causing them or why. I admit, I may have missed part of the film, but i watched the majority of it and everything just seemed to happen of its own accord without any real concern for anything else. I cant recommend this film at all.',\n",
              "       b'Mann photographs the Alberta Rocky Mountains in a superb fashion, and Jimmy Stewart and Walter Brennan give enjoyable performances as they always seem to do. <br /><br />But come on Hollywood - a Mountie telling the people of Dawson City, Yukon to elect themselves a marshal (yes a marshal!) and to enforce the law themselves, then gunfighters battling it out on the streets for control of the town? <br /><br />Nothing even remotely resembling that happened on the Canadian side of the border during the Klondike gold rush. Mr. Mann and company appear to have mistaken Dawson City for Deadwood, the Canadian North for the American Wild West.<br /><br />Canadian viewers be prepared for a Reefer Madness type of enjoyable howl with this ludicrous plot, or, to shake your head in disgust.',\n",
              "       b'This is the kind of film for a snowy Sunday afternoon when the rest of the world can go ahead with its own business as you descend into a big arm-chair and mellow for a couple of hours. Wonderful performances from Cher and Nicolas Cage (as always) gently row the plot along. There are no rapids to cross, no dangerous waters, just a warm and witty paddle through New York life at its best. A family film in every sense and one that deserves the praise it received.',\n",
              "       b'As others have mentioned, all the women that go nude in this film are mostly absolutely gorgeous. The plot very ably shows the hypocrisy of the female libido. When men are around they want to be pursued, but when no \"men\" are around, they become the pursuers of a 14 year old boy. And the boy becomes a man really fast (we should all be so lucky at this age!). He then gets up the courage to pursue his true love.',\n",
              "       b\"This is a film which should be seen by anybody interested in, effected by, or suffering from an eating disorder. It is an amazingly accurate and sensitive portrayal of bulimia in a teenage girl, its causes and its symptoms. The girl is played by one of the most brilliant young actresses working in cinema today, Alison Lohman, who was later so spectacular in 'Where the Truth Lies'. I would recommend that this film be shown in all schools, as you will never see a better on this subject. Alison Lohman is absolutely outstanding, and one marvels at her ability to convey the anguish of a girl suffering from this compulsive disorder. If barometers tell us the air pressure, Alison Lohman tells us the emotional pressure with the same degree of accuracy. Her emotional range is so precise, each scene could be measured microscopically for its gradations of trauma, on a scale of rising hysteria and desperation which reaches unbearable intensity. Mare Winningham is the perfect choice to play her mother, and does so with immense sympathy and a range of emotions just as finely tuned as Lohman's. Together, they make a pair of sensitive emotional oscillators vibrating in resonance with one another. This film is really an astonishing achievement, and director Katt Shea should be proud of it. The only reason for not seeing it is if you are not interested in people. But even if you like nature films best, this is after all animal behaviour at the sharp edge. Bulimia is an extreme version of how a tormented soul can destroy her own body in a frenzy of despair. And if we don't sympathise with people suffering from the depths of despair, then we are dead inside.\",\n",
              "       b'Okay, you have:<br /><br />Penelope Keith as Miss Herringbone-Tweed, B.B.E. (Backbone of England.) She\\'s killed off in the first scene - that\\'s right, folks; this show has no backbone!<br /><br />Peter O\\'Toole as Ol\\' Colonel Cricket from The First War and now the emblazered Lord of the Manor.<br /><br />Joanna Lumley as the ensweatered Lady of the Manor, 20 years younger than the colonel and 20 years past her own prime but still glamourous (Brit spelling, not mine) enough to have a toy-boy on the side. It\\'s alright, they have Col. Cricket\\'s full knowledge and consent (they guy even comes \\'round for Christmas!) Still, she\\'s considerate of the colonel enough to have said toy-boy her own age (what a gal!)<br /><br />David McCallum as said toy-boy, equally as pointlessly glamourous as his squeeze. Pilcher couldn\\'t come up with any cover for him within the story, so she gave him a hush-hush job at the Circus.<br /><br />and finally:<br /><br />Susan Hampshire as Miss Polonia Teacups, Venerable Headmistress of the Venerable Girls\\' Boarding-School, serving tea in her office with a dash of deep, poignant advice for life in the outside world just before graduation. Her best bit of advice: \"I\\'ve only been to Nancherrow (the local Stately Home of England) once. I thought it was very beautiful but, somehow, not part of the real world.\" Well, we can\\'t say they didn\\'t warn us.<br /><br />Ah, Susan - time was, your character would have been running the whole show. They don\\'t write \\'em like that any more. Our loss, not yours.<br /><br />So - with a cast and setting like this, you have the re-makings of \"Brideshead Revisited,\" right?<br /><br />Wrong! They took these 1-dimensional supporting roles because they paid so well. After all, acting is one of the oldest temp-jobs there is (YOU name another!)<br /><br />First warning sign: lots and lots of backlighting. They get around it by shooting outdoors - \"hey, it\\'s just the sunlight!\"<br /><br />Second warning sign: Leading Lady cries a lot. When not crying, her eyes are moist. That\\'s the law of romance novels: Leading Lady is \"dewy-eyed.\"<br /><br />Henceforth, Leading Lady shall be known as L.L.<br /><br />Third warning sign: L.L. actually has stars in her eyes when she\\'s in love. Still, I\\'ll give Emily Mortimer an award just for having to act with that spotlight in her eyes (I wonder . did they use contacts?)<br /><br />And lastly, fourth warning sign: no on-screen female character is \"Mrs.\" She\\'s either \"Miss\" or \"Lady.\"<br /><br />When all was said and done, I still couldn\\'t tell you who was pursuing whom and why. I couldn\\'t even tell you what was said and done.<br /><br />To sum up: they all live through World War II without anything happening to them at all.<br /><br />OK, at the end, L.L. finds she\\'s lost her parents to the Japanese prison camps and baby sis comes home catatonic. Meanwhile (there\\'s always a \"meanwhile,\") some young guy L.L. had a crush on (when, I don\\'t know) comes home from some wartime tough spot and is found living on the street by Lady of the Manor (must be some street if SHE\\'s going to find him there.) Both war casualties are whisked away to recover at Nancherrow (SOMEBODY has to be \"whisked away\" SOMEWHERE in these romance stories!)<br /><br />Great drama.',\n",
              "       b'The film is based on a genuine 1950s novel.<br /><br />Journalist Colin McInnes wrote a set of three \"London novels\": \"Absolute Beginners\", \"City of Spades\" and \"Mr Love and Justice\". I have read all three. The first two are excellent. The last, perhaps an experiment that did not come off. But McInnes\\'s work is highly acclaimed; and rightly so. This musical is the novelist\\'s ultimate nightmare - to see the fruits of one\\'s mind being turned into a glitzy, badly-acted, soporific one-dimensional apology of a film that says it captures the spirit of 1950s London, and does nothing of the sort.<br /><br />Thank goodness Colin McInnes wasn\\'t alive to witness it.',\n",
              "       b'I really love the sexy action and sci-fi films of the sixties and its because of the actress\\'s that appeared in them. They found the sexiest women to be in these films and it didn\\'t matter if they could act (Remember \"Candy\"?). The reason I was disappointed by this film was because it wasn\\'t nostalgic enough. The story here has a European sci-fi film called \"Dragonfly\" being made and the director is fired. So the producers decide to let a young aspiring filmmaker (Jeremy Davies) to complete the picture. They\\'re is one real beautiful woman in the film who plays Dragonfly but she\\'s barely in it. Film is written and directed by Roman Coppola who uses some of his fathers exploits from his early days and puts it into the script. I wish the film could have been an homage to those early films. They could have lots of cameos by actors who appeared in them. There is one actor in this film who was popular from the sixties and its John Phillip Law (Barbarella). Gerard Depardieu, Giancarlo Giannini and Dean Stockwell appear as well. I guess I\\'m going to have to continue waiting for a director to make a good homage to the films of the sixties. If any are reading this, \"Make it as sexy as you can\"! I\\'ll be waiting!',\n",
              "       b'Sure, this one isn\\'t really a blockbuster, nor does it target such a position. \"Dieter\" is the first name of a quite popular German musician, who is either loved or hated for his kind of acting and thats exactly what this movie is about. It is based on the autobiography \"Dieter Bohlen\" wrote a few years ago but isn\\'t meant to be accurate on that. The movie is filled with some sexual offensive content (at least for American standard) which is either amusing (not for the other \"actors\" of course) or dumb - it depends on your individual kind of humor or on you being a \"Bohlen\"-Fan or not. Technically speaking there isn\\'t much to criticize. Speaking of me I find this movie to be an OK-movie.'],\n",
              "      dtype=object)>"
            ]
          },
          "metadata": {},
          "execution_count": 33
        }
      ]
    },
    {
      "cell_type": "code",
      "metadata": {
        "colab": {
          "base_uri": "https://localhost:8080/"
        },
        "id": "gtpGNcMnh0LF",
        "outputId": "bcd8251f-105a-436d-c56a-dc4a11eb9c00"
      },
      "source": [
        "train_labels_batch"
      ],
      "execution_count": 34,
      "outputs": [
        {
          "output_type": "execute_result",
          "data": {
            "text/plain": [
              "<tf.Tensor: shape=(10,), dtype=int64, numpy=array([0, 0, 0, 1, 1, 1, 0, 0, 0, 0])>"
            ]
          },
          "metadata": {},
          "execution_count": 34
        }
      ]
    },
    {
      "cell_type": "markdown",
      "metadata": {
        "id": "0MqW5vWwfiCP"
      },
      "source": [
        "次に、各種定数を定義します。"
      ]
    },
    {
      "cell_type": "code",
      "metadata": {
        "id": "k6SeU1jIb5_E"
      },
      "source": [
        "BASE_DIR = 'DATAPATH'\n",
        "GLOVE_PATH = os.path.join(BASE_DIR, 'glove.6B.100d.txt')\n",
        "\n",
        "# モデルの学習に関わるハイパーパラメータ\n",
        "MAX_SEQUENCE_LENGTH = 250\n",
        "MAX_NUM_WORDS = 20000 \n",
        "EMBEDDING_DIM = 100 "
      ],
      "execution_count": 35,
      "outputs": []
    },
    {
      "cell_type": "markdown",
      "metadata": {
        "id": "Y82ylPxQESr8"
      },
      "source": [
        "## 前処理\n",
        "\n",
        "では次に、[TextVectorization](https://www.tensorflow.org/api_docs/python/tf/keras/layers/TextVectorization)レイヤーを使って、データの標準化、トークン化、ベクトル化を行います。\n",
        "\n",
        "標準化は、テキストを前処理することであり、句読点やHTML要素の削除などが該当します。トークン化では、文字列をトークンに分割します。ベクトル化では、トークンを数値に変換して、ニューラルネットワークに入力できるようにします。これらの作業はすべてこのレイヤーで行えます。\n",
        "\n",
        "上のデータを見るとわかるのですが、レビューには<br />のようなHTMLタグが含まれています。これらのタグは、TextVectorizationレイヤーのデフォルトの標準化機能（デフォルトではテキストを小文字に変換し、句読点を除去する）では除去されません。このため、HTMLを除去するカスタム標準化関数を作成します。"
      ]
    },
    {
      "cell_type": "code",
      "metadata": {
        "id": "Vfe1IzG1kH3i"
      },
      "source": [
        "def custom_standardization(input_data):\n",
        "    lowercase = tf.strings.lower(input_data)\n",
        "    stripped_html = tf.strings.regex_replace(lowercase, '<br />', ' ')\n",
        "    cleaned_html = tf.strings.regex_replace(\n",
        "        stripped_html,\n",
        "        '[%s]' % re.escape(string.punctuation),\n",
        "        ''\n",
        "    )\n",
        "    return cleaned_html"
      ],
      "execution_count": 36,
      "outputs": []
    },
    {
      "cell_type": "markdown",
      "metadata": {
        "id": "iJJrXs6xTO29"
      },
      "source": [
        "次に、TextVectorizationレイヤーを作成します。このレイヤーを使って、データの標準化、トークン化、ベクトル化を行います。`output_mode`をintに設定し、各トークンにユニークな整数のインデックスを作成します。また、`output_sequence_length`を設定することで、ネットワークの入力となる配列をパディングしたり切り詰めたりすることもできます。\n",
        "\n",
        "デフォルトでは、空白でテキストを分割しますが、`split`に呼び出し可能なオブジェクトを渡すことで、動作をカスタマイズできます。詳細については、以下のドキュメントを参照してください。\n",
        "\n",
        "- [tf.keras.layers.TextVectorization](https://www.tensorflow.org/api_docs/python/tf/keras/layers/TextVectorization)"
      ]
    },
    {
      "cell_type": "code",
      "metadata": {
        "id": "tra8Zl66S5Gl"
      },
      "source": [
        "vectorize_layer = TextVectorization(\n",
        "    standardize=custom_standardization,\n",
        "    max_tokens=MAX_NUM_WORDS,\n",
        "    output_mode='int',\n",
        "    output_sequence_length=MAX_SEQUENCE_LENGTH\n",
        ")"
      ],
      "execution_count": 37,
      "outputs": []
    },
    {
      "cell_type": "markdown",
      "metadata": {
        "id": "w2aTJo25URTJ"
      },
      "source": [
        "レイヤーを作成したら、ボキャブラリを作成するために`adapt`を呼び出します。これにより、文字列から整数へのインデックスを構築することになります。\n"
      ]
    },
    {
      "cell_type": "code",
      "metadata": {
        "id": "A7pNrMnyUc9u"
      },
      "source": [
        "# adapt用にテキストだけのデータセットを作成\n",
        "train_text = train_data.map(lambda x, y: x)\n",
        "vectorize_layer.adapt(train_text)"
      ],
      "execution_count": 38,
      "outputs": []
    },
    {
      "cell_type": "markdown",
      "metadata": {
        "id": "7D7cFp-AUyds"
      },
      "source": [
        "`adapt`したら変換してみましょう。テキストからインデックスの系列に変換されていることがわかります。"
      ]
    },
    {
      "cell_type": "code",
      "metadata": {
        "colab": {
          "base_uri": "https://localhost:8080/"
        },
        "id": "QAT_O927ls-Q",
        "outputId": "2793bbb7-735e-4167-f404-3a339029e7cb"
      },
      "source": [
        "print(train_examples_batch[0])\n",
        "print(vectorize_layer(train_examples_batch))"
      ],
      "execution_count": 39,
      "outputs": [
        {
          "output_type": "stream",
          "name": "stdout",
          "text": [
            "tf.Tensor(b\"This was an absolutely terrible movie. Don't be lured in by Christopher Walken or Michael Ironside. Both are great actors, but this must simply be their worst role in history. Even their great acting could not redeem this movie's ridiculous storyline. This movie is an early nineties US propaganda piece. The most pathetic scenes were those when the Columbian rebels were making their cases for revolutions. Maria Conchita Alonso appeared phony, and her pseudo-love affair with Walken was nothing but a pathetic emotional plug in a movie that was devoid of any real meaning. I am disappointed that there are movies like this, ruining actor's like Christopher Walken's good name. I could barely sit through it.\", shape=(), dtype=string)\n",
            "tf.Tensor(\n",
            "[[  11   13   33 ...    0    0    0]\n",
            " [  10   25   74 ...    0    0    0]\n",
            " [4149 5732    2 ...    0    0    0]\n",
            " ...\n",
            " [   2   19    7 ...    0    0    0]\n",
            " [  10   62  112 ...    0    0    0]\n",
            " [ 247   11   28 ...    0    0    0]], shape=(10, 250), dtype=int64)\n"
          ]
        }
      ]
    },
    {
      "cell_type": "code",
      "metadata": {
        "colab": {
          "base_uri": "https://localhost:8080/"
        },
        "id": "YrCLLUvBXtyl",
        "outputId": "76e2e0c9-7a22-4938-b404-a614d9c48ad5"
      },
      "source": [
        "vectorize_layer.vocabulary_size()"
      ],
      "execution_count": 40,
      "outputs": [
        {
          "output_type": "execute_result",
          "data": {
            "text/plain": [
              "20000"
            ]
          },
          "metadata": {},
          "execution_count": 40
        }
      ]
    },
    {
      "cell_type": "markdown",
      "metadata": {
        "id": "meTy0aSsVBzJ"
      },
      "source": [
        "変換用のヘルパー関数を定義し、データセットに設定します。"
      ]
    },
    {
      "cell_type": "code",
      "metadata": {
        "colab": {
          "base_uri": "https://localhost:8080/"
        },
        "id": "58Jq3yV6pRKy",
        "outputId": "06e979f4-b574-4092-d2db-fc08fdd9b4d0"
      },
      "source": [
        "def vectorize_text(text, label):\n",
        "  return vectorize_layer(text), label\n",
        "\n",
        "vectorize_text(train_examples_batch, train_labels_batch)"
      ],
      "execution_count": 41,
      "outputs": [
        {
          "output_type": "execute_result",
          "data": {
            "text/plain": [
              "(<tf.Tensor: shape=(10, 250), dtype=int64, numpy=\n",
              " array([[  11,   13,   33, ...,    0,    0,    0],\n",
              "        [  10,   25,   74, ...,    0,    0,    0],\n",
              "        [4149, 5732,    2, ...,    0,    0,    0],\n",
              "        ...,\n",
              "        [   2,   19,    7, ...,    0,    0,    0],\n",
              "        [  10,   62,  112, ...,    0,    0,    0],\n",
              "        [ 247,   11,   28, ...,    0,    0,    0]])>,\n",
              " <tf.Tensor: shape=(10,), dtype=int64, numpy=array([0, 0, 0, 1, 1, 1, 0, 0, 0, 0])>)"
            ]
          },
          "metadata": {},
          "execution_count": 41
        }
      ]
    },
    {
      "cell_type": "code",
      "metadata": {
        "id": "S6wwi92dp7Vx"
      },
      "source": [
        "AUTOTUNE = tf.data.AUTOTUNE\n",
        "\n",
        "train_ds = train_data.batch(32).map(vectorize_text).cache().prefetch(buffer_size=AUTOTUNE)\n",
        "val_ds = validation_data.batch(32).map(vectorize_text).cache().prefetch(buffer_size=AUTOTUNE)\n",
        "test_ds = test_data.batch(32).map(vectorize_text).cache().prefetch(buffer_size=AUTOTUNE)"
      ],
      "execution_count": 42,
      "outputs": []
    },
    {
      "cell_type": "code",
      "metadata": {
        "id": "WUHqg2vvb5_l",
        "colab": {
          "base_uri": "https://localhost:8080/"
        },
        "outputId": "24d3f1c5-7c2e-4695-a0aa-3bbab20f0d73"
      },
      "source": [
        "# 埋め込み行列の準備\n",
        "# 最初に、単語のインデックスとベクトルのマッピングを作成\n",
        "embeddings_index = {}\n",
        "with open(os.path.join(GLOVE_PATH)) as f:\n",
        "    for line in f:\n",
        "        values = line.split()\n",
        "        word = values[0]\n",
        "        coefs = np.asarray(values[1:], dtype='float32')\n",
        "        embeddings_index[word] = coefs\n",
        "print('Found %s word vectors in Glove embeddings.' % len(embeddings_index))\n",
        "\n",
        "# 埋め込み行列の準備\n",
        "# 行は単語、列はGloVeから得た埋め込みに対応\n",
        "num_words = min(MAX_NUM_WORDS, vectorize_layer.vocabulary_size()) + 1\n",
        "embedding_matrix = np.zeros((num_words, EMBEDDING_DIM))\n",
        "for i, word in enumerate(vectorize_layer.get_vocabulary()):\n",
        "    if i > MAX_NUM_WORDS:\n",
        "        continue\n",
        "    embedding_vector = embeddings_index.get(word)\n",
        "    # 単語が見つからなければ、ゼロベクトルのまま\n",
        "    if embedding_vector is not None:\n",
        "        embedding_matrix[i] = embedding_vector\n",
        "\n",
        "# Embedding層に事前学習済み単語埋め込みを読み込み\n",
        "# 埋め込みを更新しないように、trainable=Falseを設定していることに注意\n",
        "embedding_layer = Embedding(\n",
        "    num_words,\n",
        "    EMBEDDING_DIM,\n",
        "    embeddings_initializer=Constant(embedding_matrix),\n",
        "    input_length=MAX_SEQUENCE_LENGTH,\n",
        "    trainable=False,\n",
        "    mask_zero=True,\n",
        ")"
      ],
      "execution_count": 43,
      "outputs": [
        {
          "output_type": "stream",
          "name": "stdout",
          "text": [
            "Found 400000 word vectors in Glove embeddings.\n"
          ]
        }
      ]
    },
    {
      "cell_type": "markdown",
      "metadata": {
        "id": "DeMVV6Y6EYnF"
      },
      "source": [
        "## モデルの学習"
      ]
    },
    {
      "cell_type": "markdown",
      "metadata": {
        "id": "vEastnX8gdxR"
      },
      "source": [
        "### 事前学習済み埋め込みを用いた1次元CNNモデル"
      ]
    },
    {
      "cell_type": "code",
      "metadata": {
        "id": "TTY-4K-Ob5_t",
        "colab": {
          "base_uri": "https://localhost:8080/"
        },
        "outputId": "e6a786ae-e7f7-451f-8574-4c582e67ba9b"
      },
      "source": [
        "# モデルの構築\n",
        "cnnmodel = Sequential()\n",
        "cnnmodel.add(embedding_layer)\n",
        "cnnmodel.add(Conv1D(128, 5, activation='relu'))\n",
        "cnnmodel.add(MaxPooling1D(5))\n",
        "cnnmodel.add(Conv1D(128, 5, activation='relu'))\n",
        "cnnmodel.add(MaxPooling1D(5))\n",
        "cnnmodel.add(Conv1D(128, 5, activation='relu'))\n",
        "cnnmodel.add(GlobalMaxPooling1D())\n",
        "cnnmodel.add(Dense(128, activation='relu'))\n",
        "cnnmodel.add(Dense(1, activation='sigmoid'))\n",
        "cnnmodel.compile(\n",
        "    loss='binary_crossentropy',\n",
        "    optimizer='adam',\n",
        "    metrics=['acc']\n",
        ")\n",
        "\n",
        "# モデルの学習\n",
        "cnnmodel.fit(\n",
        "    train_ds,\n",
        "    validation_data=val_ds,\n",
        "    epochs=1,\n",
        ")\n",
        "\n",
        "# モデルの評価\n",
        "score, acc = cnnmodel.evaluate(test_ds)\n",
        "print('Test accuracy with CNN:', acc)"
      ],
      "execution_count": 44,
      "outputs": [
        {
          "output_type": "stream",
          "name": "stdout",
          "text": [
            "625/625 [==============================] - 55s 86ms/step - loss: 0.5001 - acc: 0.7386 - val_loss: 0.3770 - val_acc: 0.8374\n",
            "782/782 [==============================] - 24s 31ms/step - loss: 0.3779 - acc: 0.8357\n",
            "Test accuracy with CNN: 0.8356800079345703\n"
          ]
        }
      ]
    },
    {
      "cell_type": "markdown",
      "metadata": {
        "id": "VdDj2FJzgi_W"
      },
      "source": [
        "### 1次元CNNモデル"
      ]
    },
    {
      "cell_type": "code",
      "metadata": {
        "id": "zI0bISwRb5_w",
        "colab": {
          "base_uri": "https://localhost:8080/"
        },
        "outputId": "3ef99e41-462a-482a-aa0e-7207a3ef4272"
      },
      "source": [
        "# モデルの構築\n",
        "cnnmodel = Sequential()\n",
        "cnnmodel.add(Embedding(MAX_NUM_WORDS, 128))\n",
        "cnnmodel.add(Conv1D(128, 5, activation='relu'))\n",
        "cnnmodel.add(MaxPooling1D(5))\n",
        "cnnmodel.add(Conv1D(128, 5, activation='relu'))\n",
        "cnnmodel.add(MaxPooling1D(5))\n",
        "cnnmodel.add(Conv1D(128, 5, activation='relu'))\n",
        "cnnmodel.add(GlobalMaxPooling1D())\n",
        "cnnmodel.add(Dense(128, activation='relu'))\n",
        "cnnmodel.add(Dense(1, activation='sigmoid'))\n",
        "cnnmodel.compile(\n",
        "    loss='binary_crossentropy',\n",
        "    optimizer='adam',\n",
        "    metrics=['accuracy']\n",
        ")\n",
        "\n",
        "# モデルの学習\n",
        "cnnmodel.fit(\n",
        "    train_ds,\n",
        "    validation_data=val_ds,\n",
        "    epochs=1\n",
        ")\n",
        "\n",
        "#　評価\n",
        "score, acc = cnnmodel.evaluate(test_ds)\n",
        "print('Test accuracy with CNN:', acc)"
      ],
      "execution_count": 45,
      "outputs": [
        {
          "output_type": "stream",
          "name": "stdout",
          "text": [
            "625/625 [==============================] - 94s 149ms/step - loss: 0.4245 - accuracy: 0.7785 - val_loss: 0.2793 - val_accuracy: 0.8890\n",
            "782/782 [==============================] - 26s 33ms/step - loss: 0.3037 - accuracy: 0.8685\n",
            "Test accuracy with CNN: 0.8684800267219543\n"
          ]
        }
      ]
    },
    {
      "cell_type": "markdown",
      "metadata": {
        "id": "6GwhXpmSgt4H"
      },
      "source": [
        "### LSTMモデル"
      ]
    },
    {
      "cell_type": "code",
      "metadata": {
        "id": "SvBt2Brib5_4",
        "colab": {
          "base_uri": "https://localhost:8080/"
        },
        "outputId": "8df111ca-4174-4876-f786-8589510892b8"
      },
      "source": [
        "# モデルの構築\n",
        "rnnmodel = Sequential()\n",
        "rnnmodel.add(Embedding(MAX_NUM_WORDS, 128, mask_zero=True))\n",
        "rnnmodel.add(LSTM(128, dropout=0.2, recurrent_dropout=0.2))\n",
        "rnnmodel.add(Dense(1, activation='sigmoid'))\n",
        "rnnmodel.compile(\n",
        "    loss='binary_crossentropy',\n",
        "    optimizer='adam',\n",
        "    metrics=['accuracy']\n",
        ")\n",
        "\n",
        "# モデルの学習\n",
        "rnnmodel.fit(\n",
        "    train_ds,\n",
        "    validation_data=val_ds,\n",
        "    epochs=1\n",
        ")\n",
        "\n",
        "# モデルの評価\n",
        "score, acc = rnnmodel.evaluate(test_ds)\n",
        "print('Test accuracy with RNN:', acc)"
      ],
      "execution_count": 46,
      "outputs": [
        {
          "output_type": "stream",
          "name": "stdout",
          "text": [
            "625/625 [==============================] - 530s 843ms/step - loss: 0.4972 - accuracy: 0.7601 - val_loss: 0.6346 - val_accuracy: 0.7046\n",
            "782/782 [==============================] - 84s 108ms/step - loss: 0.6548 - accuracy: 0.6914\n",
            "Test accuracy with RNN: 0.6914399862289429\n"
          ]
        }
      ]
    },
    {
      "cell_type": "markdown",
      "metadata": {
        "id": "tJYzsZFSg9z-"
      },
      "source": [
        "### 事前学習済み埋め込みを用いたLSTMモデル"
      ]
    },
    {
      "cell_type": "code",
      "metadata": {
        "id": "Eymx0IyCb5_-",
        "colab": {
          "base_uri": "https://localhost:8080/"
        },
        "outputId": "e62d6361-825c-4dbe-8d06-2019a4ed938d"
      },
      "source": [
        "# モデルの構築\n",
        "rnnmodel2 = Sequential()\n",
        "rnnmodel2.add(embedding_layer)\n",
        "rnnmodel2.add(LSTM(128, dropout=0.2, recurrent_dropout=0.2))\n",
        "rnnmodel2.add(Dense(1, activation='sigmoid'))\n",
        "rnnmodel2.compile(\n",
        "    loss='binary_crossentropy',\n",
        "    optimizer='adam',\n",
        "    metrics=['accuracy']\n",
        ")\n",
        "\n",
        "# モデルの学習\n",
        "rnnmodel2.fit(\n",
        "    train_ds,\n",
        "    validation_data=val_ds,\n",
        "    epochs=1\n",
        ")\n",
        "\n",
        "# モデルの評価\n",
        "score, acc = rnnmodel2.evaluate(test_ds)\n",
        "print('Test accuracy with RNN:', acc)"
      ],
      "execution_count": 47,
      "outputs": [
        {
          "output_type": "stream",
          "name": "stdout",
          "text": [
            "625/625 [==============================] - 448s 713ms/step - loss: 0.6134 - accuracy: 0.6579 - val_loss: 0.4483 - val_accuracy: 0.7916\n",
            "782/782 [==============================] - 82s 105ms/step - loss: 0.4600 - accuracy: 0.7890\n",
            "Test accuracy with RNN: 0.7889999747276306\n"
          ]
        }
      ]
    },
    {
      "cell_type": "code",
      "metadata": {
        "id": "6tKQaeHxb6AB"
      },
      "source": [
        ""
      ],
      "execution_count": 47,
      "outputs": []
    }
  ]
}