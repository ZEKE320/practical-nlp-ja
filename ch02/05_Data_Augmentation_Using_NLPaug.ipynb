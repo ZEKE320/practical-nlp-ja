{
 "nbformat": 4,
 "nbformat_minor": 0,
 "metadata": {
  "colab": {
   "name": "05_Data_Augmentation_Using_NLPaug.ipynb",
   "provenance": [],
   "collapsed_sections": [],
   "machine_shape": "hm"
  },
  "kernelspec": {
   "display_name": "Python 3",
   "language": "python",
   "name": "python3"
  },
  "language_info": {
   "codemirror_mode": {
    "name": "ipython",
    "version": 3
   },
   "file_extension": ".py",
   "mimetype": "text/x-python",
   "name": "python",
   "nbconvert_exporter": "python",
   "pygments_lexer": "ipython3",
   "version": "3.6.10"
  }
 },
 "cells": [
  {
   "cell_type": "markdown",
   "metadata": {
    "id": "yavI9mt4gayF"
   },
   "source": [
    "# NLPaugを用いたデータ拡張\n",
    "\n",
    "このノートブックでは、文字レベルと単語レベルでのデータ拡張を試します。他のタイプのデータ拡張として文や音声、スペクトラムなどもあります。詳細については、[GitHubリポジトリ](https://github.com/makcedward/nlpaug)や[公式ドキュメント](https://nlpaug.readthedocs.io/en/latest/)を参照してください。"
   ]
  },
  {
   "cell_type": "markdown",
   "metadata": {
    "id": "U41a1pqJCWte"
   },
   "source": [
    "## 準備\n",
    "### パッケージのインストール"
   ]
  },
  {
   "cell_type": "code",
   "metadata": {
    "colab": {
     "base_uri": "https://localhost:8080/"
    },
    "id": "cF5zJdr-kAPY",
    "outputId": "23f575b1-c313-482d-832b-3614eb5cd3b8"
   },
   "source": [
    "!pip install nlpaug==1.1.4"
   ],
   "execution_count": 27,
   "outputs": [
    {
     "output_type": "stream",
     "text": [
      "Requirement already satisfied: nlpaug==1.1.4 in /usr/local/lib/python3.7/dist-packages (1.1.4)\n"
     ],
     "name": "stdout"
    }
   ]
  },
  {
   "cell_type": "markdown",
   "metadata": {
    "id": "TYQxsmDkHDCf"
   },
   "source": [
    "### パッケージのインポート"
   ]
  },
  {
   "cell_type": "code",
   "metadata": {
    "id": "ekFhzIWHUmoj"
   },
   "source": [
    "from pprint import pprint\n",
    "\n",
    "import nlpaug.augmenter.char as nac\n",
    "import nlpaug.augmenter.word as naw\n",
    "import nlpaug.augmenter.sentence as nas\n",
    "import nlpaug.flow as nafc\n",
    "from nlpaug.util import Action"
   ],
   "execution_count": 3,
   "outputs": []
  },
  {
   "cell_type": "markdown",
   "metadata": {
    "id": "HILI_ErzHOgL"
   },
   "source": [
    "### テキストの用意\n",
    "\n",
    "このノートブックでは、以下のテキストを対象に、データ拡張を試します。"
   ]
  },
  {
   "cell_type": "code",
   "metadata": {
    "id": "8yhkOl3cgZ28"
   },
   "source": [
    "text = \"The quick brown fox jumps over the lazy dog .\""
   ],
   "execution_count": 2,
   "outputs": []
  },
  {
   "cell_type": "markdown",
   "metadata": {
    "id": "-Xo3CzNhh-zU"
   },
   "source": [
    "## データ拡張\n",
    "### 文字レベルでの拡張\n",
    "\n",
    "文字レベルのデータ拡張手法として、以下の2つを試します。\n",
    "\n",
    "1. OCR Augmenter: OCRを用いて画像からテキストを抽出すると、`o`ではなく`0`、`z`ではなく`2`を抽出するといった誤りが発生します。このようなOCRで発生する誤りを再現することで、データ拡張を行います。\n",
    "2. Keyboard Augmenter: タイピング中に文字を打ち間違えたことのない人はいないでしょう。このデータ拡張手法では、単語内の文字をキーボード上の同じ距離にある文字に置き換えることで、タイピングの誤りをシミュレートします。\n",
    "\n"
   ]
  },
  {
   "cell_type": "code",
   "metadata": {
    "colab": {
     "base_uri": "https://localhost:8080/"
    },
    "id": "lfAaokTmjzak",
    "outputId": "d35c2e91-6e1b-4c94-bf9f-3284731126ba"
   },
   "source": [
    "aug = nac.OcrAug()\n",
    "# n=3を指定すると、拡張したテキストを3つ生成します。\n",
    "augmented_texts = aug.augment(text, n=3)\n",
    "\n",
    "print(\"Original:\")\n",
    "print(text)\n",
    "print(\"Augmented Texts:\")\n",
    "pprint(augmented_texts)"
   ],
   "execution_count": 16,
   "outputs": [
    {
     "output_type": "stream",
     "text": [
      "Original:\n",
      "The quick brown fox jumps over the lazy dog .\n",
      "Augmented Texts:\n",
      "['The quick brown fux jomps over the lazy dog.',\n",
      " 'The qoick 6rown fox jumps over the lazy d0g.',\n",
      " 'The quicr brown fox jumps uver the lazy dog.']\n"
     ],
     "name": "stdout"
    }
   ]
  },
  {
   "cell_type": "code",
   "metadata": {
    "colab": {
     "base_uri": "https://localhost:8080/"
    },
    "id": "fKQCpS35j9Ie",
    "outputId": "e5016c6f-b5d8-4799-98b4-15ef8d2c7eb6"
   },
   "source": [
    "aug = nac.KeyboardAug()\n",
    "augmented_text = aug.augment(text, n=3)\n",
    "\n",
    "print(\"Original:\")\n",
    "print(text)\n",
    "print(\"Augmented Text:\")\n",
    "pprint(augmented_text)"
   ],
   "execution_count": 15,
   "outputs": [
    {
     "output_type": "stream",
     "text": [
      "Original:\n",
      "The quick brown fox jumps over the lazy dog .\n",
      "Augmented Text:\n",
      "['The qu*ck brPwn fox jumps ovfr the lazy dog.',\n",
      " 'The quicu brown fox jumpw over the lazh dog.',\n",
      " 'The quick brown fox jjmps oger the laz5 dog.']\n"
     ],
     "name": "stdout"
    }
   ]
  },
  {
   "cell_type": "markdown",
   "metadata": {
    "id": "MufLJXsQm4i1"
   },
   "source": [
    "### 単語レベルでの拡張\n",
    "\n",
    "単語レベルでの拡張方法として、辞書やword2vecを使って、類似する単語の挿入や置き換えをしてみましょう。"
   ]
  },
  {
   "cell_type": "markdown",
   "metadata": {
    "id": "Tc_K1-niTGFP"
   },
   "source": [
    "#### Spelling augmentor\n",
    "\n",
    "スペルミスの含まれる単語を置き換えることで、拡張してみましょう。"
   ]
  },
  {
   "cell_type": "code",
   "metadata": {
    "colab": {
     "base_uri": "https://localhost:8080/"
    },
    "id": "2Qzmv4QCYrJe",
    "outputId": "06844d1c-8e10-4d81-df61-729bd32106a1"
   },
   "source": [
    "# 辞書のダウンロード\n",
    "!wget https://raw.githubusercontent.com/makcedward/nlpaug/master/nlpaug/res/word/spelling/spelling_en.txt"
   ],
   "execution_count": 24,
   "outputs": [
    {
     "output_type": "stream",
     "text": [
      "--2021-07-02 03:11:56--  https://raw.githubusercontent.com/makcedward/nlpaug/master/nlpaug/res/word/spelling/spelling_en.txt\n",
      "Resolving raw.githubusercontent.com (raw.githubusercontent.com)... 185.199.108.133, 185.199.109.133, 185.199.110.133, ...\n",
      "Connecting to raw.githubusercontent.com (raw.githubusercontent.com)|185.199.108.133|:443... connected.\n",
      "HTTP request sent, awaiting response... 200 OK\n",
      "Length: 543624 (531K) [text/plain]\n",
      "Saving to: ‘spelling_en.txt’\n",
      "\n",
      "\rspelling_en.txt       0%[                    ]       0  --.-KB/s               \rspelling_en.txt     100%[===================>] 530.88K  --.-KB/s    in 0.04s   \n",
      "\n",
      "2021-07-02 03:11:56 (12.3 MB/s) - ‘spelling_en.txt’ saved [543624/543624]\n",
      "\n"
     ],
     "name": "stdout"
    }
   ]
  },
  {
   "cell_type": "code",
   "metadata": {
    "colab": {
     "base_uri": "https://localhost:8080/"
    },
    "id": "5Y6JB1TTMiAc",
    "outputId": "2c465f95-248d-4ea3-8399-85d5c149987d"
   },
   "source": [
    "!head spelling_en.txt"
   ],
   "execution_count": 25,
   "outputs": [
    {
     "output_type": "stream",
     "text": [
      "hierarchically hierachically\n",
      "esteem estime esstem\n",
      "luck lock lucke luke like Lock lake look luch\n",
      "cleaning cleanig cliner\n",
      "deteriorated dereriorates\n",
      "girls gherls girles gerls girs grils gairls\n",
      "millionaire millionare millionnaire milionaire millioner milionary millionier millonaire billinaire\n",
      "ancient acient ancien anciest accient\n",
      "Plina P?lina\n",
      "engrossed engresed\n"
     ],
     "name": "stdout"
    }
   ]
  },
  {
   "cell_type": "code",
   "metadata": {
    "colab": {
     "base_uri": "https://localhost:8080/"
    },
    "id": "gOHrgDIill2F",
    "outputId": "0baaea2b-c958-42e4-8cf4-80ece7afda5d"
   },
   "source": [
    "aug = naw.SpellingAug('spelling_en.txt')\n",
    "augmented_texts = aug.augment(text)\n",
    "\n",
    "print(\"Original:\")\n",
    "print(text)\n",
    "print(\"Augmented Texts:\")\n",
    "print(augmented_texts)"
   ],
   "execution_count": 26,
   "outputs": [
    {
     "output_type": "stream",
     "text": [
      "Original:\n",
      "The quick brown fox jumps over the lazy dog .\n",
      "Augmented Texts:\n",
      "quick brown fox jumps over lazy dog.\n"
     ],
     "name": "stdout"
    }
   ]
  },
  {
   "cell_type": "markdown",
   "metadata": {
    "id": "eaeQOtVqTQKG"
   },
   "source": [
    "#### Word embeddings augmentor"
   ]
  },
  {
   "cell_type": "code",
   "metadata": {
    "colab": {
     "base_uri": "https://localhost:8080/"
    },
    "id": "5mnIk8RjbMhi",
    "outputId": "061a39df-45f4-4253-8fac-2cb24b713f86"
   },
   "source": [
    "#Downloading the reqired model\n",
    "!wget -c \"https://s3.amazonaws.com/dl4j-distribution/GoogleNews-vectors-negative300.bin.gz\""
   ],
   "execution_count": 8,
   "outputs": [
    {
     "output_type": "stream",
     "text": [
      "--2021-07-02 02:53:21--  https://s3.amazonaws.com/dl4j-distribution/GoogleNews-vectors-negative300.bin.gz\n",
      "Resolving s3.amazonaws.com (s3.amazonaws.com)... 52.216.113.93\n",
      "Connecting to s3.amazonaws.com (s3.amazonaws.com)|52.216.113.93|:443... connected.\n",
      "HTTP request sent, awaiting response... 200 OK\n",
      "Length: 1647046227 (1.5G) [application/x-gzip]\n",
      "Saving to: ‘GoogleNews-vectors-negative300.bin.gz’\n",
      "\n",
      "GoogleNews-vectors- 100%[===================>]   1.53G  50.7MB/s    in 32s     \n",
      "\n",
      "2021-07-02 02:53:53 (49.3 MB/s) - ‘GoogleNews-vectors-negative300.bin.gz’ saved [1647046227/1647046227]\n",
      "\n"
     ],
     "name": "stdout"
    }
   ]
  },
  {
   "cell_type": "code",
   "metadata": {
    "id": "ElZsqt6zd6ED"
   },
   "source": [
    "!gunzip GoogleNews-vectors-negative300.bin.gz"
   ],
   "execution_count": 9,
   "outputs": []
  },
  {
   "cell_type": "code",
   "metadata": {
    "colab": {
     "base_uri": "https://localhost:8080/"
    },
    "id": "TUZgiweqevDi",
    "outputId": "ab530cf4-50d0-4f96-a548-3c74f232b346"
   },
   "source": [
    "!ls"
   ],
   "execution_count": 10,
   "outputs": [
    {
     "output_type": "stream",
     "text": [
      "GoogleNews-vectors-negative300.bin  sample_data  spelling_en.txt\n"
     ],
     "name": "stdout"
    }
   ]
  },
  {
   "cell_type": "markdown",
   "metadata": {
    "id": "Jf_QHk-SgegN"
   },
   "source": [
    "単語埋め込みの類似度に基づいて、単語をランダムに挿入してみましょう。"
   ]
  },
  {
   "cell_type": "code",
   "metadata": {
    "colab": {
     "base_uri": "https://localhost:8080/"
    },
    "id": "ffUb6s-XTOsQ",
    "outputId": "8f44e8b4-3006-4bd9-e910-d8cf577a1d30"
   },
   "source": [
    "# model_type: word2vec, glove or fasttext\n",
    "aug = naw.WordEmbsAug(\n",
    "    model_type='word2vec',\n",
    "    model_path='GoogleNews-vectors-negative300.bin',\n",
    "    action=\"insert\"\n",
    ")\n",
    "augmented_text = aug.augment(text)\n",
    "\n",
    "print(\"Original:\")\n",
    "print(text)\n",
    "print(\"Augmented Text:\")\n",
    "print(augmented_text)"
   ],
   "execution_count": 11,
   "outputs": [
    {
     "output_type": "stream",
     "text": [
      "Original:\n",
      "The quick brown fox jumps over the lazy dog .\n",
      "Augmented Text:\n",
      "The GCPP quick Trippi brown fox jumps over the lazy Gillig dog.\n"
     ],
     "name": "stdout"
    }
   ]
  },
  {
   "cell_type": "markdown",
   "metadata": {
    "id": "kUB3Nd4Wghd0"
   },
   "source": [
    "word2vecの類似度に基づいて、単語を置き換えてみましょう。\n"
   ]
  },
  {
   "cell_type": "code",
   "metadata": {
    "colab": {
     "base_uri": "https://localhost:8080/"
    },
    "id": "pSeZNfQRfy2l",
    "outputId": "e41c2a84-5fde-4d06-f51b-d076e9b8bfa3"
   },
   "source": [
    "aug = naw.WordEmbsAug(\n",
    "    model_type='word2vec',\n",
    "    model_path='GoogleNews-vectors-negative300.bin',\n",
    "    action=\"substitute\"\n",
    ")\n",
    "augmented_text = aug.augment(text)\n",
    "print(\"Original:\")\n",
    "print(text)\n",
    "print(\"Augmented Text:\")\n",
    "print(augmented_text)"
   ],
   "execution_count": 12,
   "outputs": [
    {
     "output_type": "stream",
     "text": [
      "Original:\n",
      "The quick brown fox jumps over the lazy dog .\n",
      "Augmented Text:\n",
      "The quick brown fox jump whopping clearly lazy dog.\n"
     ],
     "name": "stdout"
    }
   ]
  },
  {
   "cell_type": "code",
   "metadata": {
    "id": "HnxNhN7bwXLM"
   },
   "source": [
    ""
   ],
   "execution_count": null,
   "outputs": []
  }
 ]
}