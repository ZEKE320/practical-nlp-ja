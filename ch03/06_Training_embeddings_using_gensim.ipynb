{
  "nbformat": 4,
  "nbformat_minor": 0,
  "metadata": {
    "colab": {
      "name": "06_Training_embeddings_using_gensim.ipynb",
      "provenance": [],
      "collapsed_sections": [],
      "toc_visible": true,
      "machine_shape": "hm"
    },
    "kernelspec": {
      "display_name": "Python 3",
      "language": "python",
      "name": "python3"
    },
    "language_info": {
      "codemirror_mode": {
        "name": "ipython",
        "version": 3
      },
      "file_extension": ".py",
      "mimetype": "text/x-python",
      "name": "python",
      "nbconvert_exporter": "python",
      "pygments_lexer": "ipython3",
      "version": "3.6.10"
    }
  },
  "cells": [
    {
      "cell_type": "markdown",
      "metadata": {
        "id": "2WGPwjhbbwPT"
      },
      "source": [
        "# gensimを用いた単語埋め込みの学習\n",
        "\n",
        "単語埋め込みは、単語の表現方法の1つです。このノートブックでは、genismを使って埋め込みを学習する方法を紹介します。[gensim](https://radimrehurek.com/gensim/index.html)は、第7章で解説するトピックモデルなどを含む、自然言語処理用のPythonライブラリです。"
      ]
    },
    {
      "cell_type": "markdown",
      "metadata": {
        "id": "ZNMt2-yENfX5"
      },
      "source": [
        "## パッケージのインポート"
      ]
    },
    {
      "cell_type": "code",
      "metadata": {
        "id": "TBw9OCYcYQ_n"
      },
      "source": [
        "import time\n",
        "import warnings\n",
        "\n",
        "from gensim.models import FastText, Word2Vec, KeyedVectors   \n",
        "from gensim.corpora.wikicorpus import WikiCorpus\n",
        "warnings.filterwarnings('ignore')"
      ],
      "execution_count": 7,
      "outputs": []
    },
    {
      "cell_type": "markdown",
      "metadata": {
        "id": "bNZktn71Ni1V"
      },
      "source": [
        "## 学習データの準備"
      ]
    },
    {
      "cell_type": "code",
      "metadata": {
        "id": "5qWptd54ZcfV"
      },
      "source": [
        "# gensimのword2vecでは、リストのリスト形式での学習データが必要です。\n",
        "# 各リストが1つの文書を表し、文書はトークンのリストで表されます。\n",
        "corpus = [\n",
        "    ['dog', 'bites', 'man'],\n",
        "    ['man', 'bites', 'dog'],\n",
        "    ['dog', 'eats', 'meat'],\n",
        "    ['man', 'eats', 'food']\n",
        "]"
      ],
      "execution_count": 8,
      "outputs": []
    },
    {
      "cell_type": "markdown",
      "metadata": {
        "id": "0QjSxefPl4mh"
      },
      "source": [
        "## Continuous Bag of Words (CBOW) \n",
        "\n",
        "CBOWの主なタスクは、文脈語を与えたときに、その中心語を正しく予測できる言語モデルを構築することです。\n",
        "gensimのWord2Vecクラスに学習データとハイパーパラメータを指定することで学習できます。\n",
        "学習アルゴリズムは、`sg`パラメータで指定します。CBOWを使うなら`0`、Skip-gramを使うなら`1`を指定します。その他のパラメータについては、以下のドキュメントを参照してください。\n",
        "\n",
        "- [gensim.models.word2vec.Word2Vec](https://radimrehurek.com/gensim/models/word2vec.html#gensim.models.word2vec.Word2Vec)"
      ]
    },
    {
      "cell_type": "code",
      "metadata": {
        "colab": {
          "base_uri": "https://localhost:8080/"
        },
        "id": "nyZY8ME4lUjd",
        "outputId": "557d0853-99fc-4d07-f6d3-e722e1401ba5"
      },
      "source": [
        "# モデルの学習\n",
        "model_cbow = Word2Vec(corpus, min_count=1, sg=0)\n",
        "\n",
        "# モデルのサマリー\n",
        "print(model_cbow)\n",
        "\n",
        "# ボキャブラリの表示\n",
        "words = list(model_cbow.wv.vocab)\n",
        "print(words)\n",
        "\n",
        "# 単語ベクトルの取得\n",
        "print(model_cbow.wv['dog'])"
      ],
      "execution_count": 9,
      "outputs": [
        {
          "output_type": "stream",
          "name": "stdout",
          "text": [
            "Word2Vec(vocab=6, size=100, alpha=0.025)\n",
            "['dog', 'bites', 'man', 'eats', 'meat', 'food']\n",
            "[-2.4190836e-03  3.9345301e-03 -4.0867063e-03 -3.3580605e-03\n",
            " -4.9987063e-03 -3.2243780e-03 -1.9584254e-03 -3.2025778e-03\n",
            "  3.9975140e-03 -3.8498973e-03  4.6813912e-03 -3.1696623e-03\n",
            " -5.1643112e-04  4.3939748e-03 -2.6446586e-03  4.2424193e-03\n",
            "  9.3994418e-04 -3.5626194e-03 -1.6576669e-03  1.1161768e-04\n",
            " -4.9683126e-04 -3.5317065e-03 -2.0356272e-05  4.3223472e-03\n",
            " -4.8883087e-03  8.2331704e-04  1.1718493e-03  2.3582387e-03\n",
            " -4.2451480e-03  2.2809638e-03  5.7795114e-04 -4.5479289e-03\n",
            "  3.8631337e-03  2.1488585e-03 -1.8883956e-03 -1.0207531e-03\n",
            " -2.6229296e-03 -4.1782241e-03 -7.3080783e-04 -2.2069707e-03\n",
            " -2.5679416e-03 -2.4002710e-04  3.4047170e-03 -3.0350059e-03\n",
            "  1.2890766e-03 -3.9590728e-03 -1.9741219e-03 -1.5056815e-03\n",
            "  2.0105110e-03 -2.0129199e-03 -3.0427284e-03  4.3714312e-03\n",
            " -4.5723256e-04 -2.9080869e-03 -3.7506886e-03  2.0689457e-03\n",
            "  4.8298906e-03  1.7303320e-03  6.1707827e-04 -1.7938673e-03\n",
            " -4.0961211e-03 -1.2291444e-03 -4.1965726e-03  2.3280354e-03\n",
            "  4.2326045e-03 -2.4502024e-03  3.3747791e-03 -3.3857247e-03\n",
            "  3.5296162e-03 -2.4909484e-03  3.4468514e-03  1.1906235e-03\n",
            "  4.6120803e-03 -1.2457388e-03 -3.0368762e-03 -4.3997131e-03\n",
            " -1.7580151e-03  2.9565764e-03 -3.7017250e-03  1.2057044e-03\n",
            "  3.2257419e-03 -3.5320318e-03  1.8146461e-03  7.4460579e-05\n",
            "  1.0907806e-03 -1.7457230e-03  4.6688011e-03  2.5058966e-03\n",
            " -4.5036748e-03  1.5892574e-03  3.7779817e-03  7.6805305e-04\n",
            "  1.6392336e-03 -3.6140047e-03 -4.8973821e-03 -2.5335660e-03\n",
            "  3.9533256e-03  2.1262744e-03  1.6660754e-03 -2.1201645e-03]\n"
          ]
        }
      ]
    },
    {
      "cell_type": "markdown",
      "metadata": {
        "id": "1MaKMu7yuTTO"
      },
      "source": [
        "[similarity](https://radimrehurek.com/gensim/models/keyedvectors.html#gensim.models.keyedvectors.KeyedVectors.similarity)メソッドを使って、単語の類似度を計算します。similarityメソッドに2つの単語を与えて呼び出すことで、学習した単語ベクトル同士のコサイン類似度を計算しています。"
      ]
    },
    {
      "cell_type": "code",
      "metadata": {
        "colab": {
          "base_uri": "https://localhost:8080/"
        },
        "id": "gMuHv52GeuoR",
        "outputId": "44e815ee-0ecb-483e-cd18-d4f4c3cd2c83"
      },
      "source": [
        "# 類似度の計算\n",
        "print(\"Similarity between eats and bites:\", model_cbow.wv.similarity('eats', 'bites'))\n",
        "print(\"Similarity between eats and man:\", model_cbow.wv.similarity('eats', 'man'))"
      ],
      "execution_count": 10,
      "outputs": [
        {
          "output_type": "stream",
          "name": "stdout",
          "text": [
            "Similarity between eats and bites: -0.03992596\n",
            "Similarity between eats and man: -0.046774115\n"
          ]
        }
      ]
    },
    {
      "cell_type": "markdown",
      "metadata": {
        "id": "twhTZfPOezTU"
      },
      "source": [
        "上記の類似度スコアを見ると、eatsはmanよりbitesに近いことがわかります。\n",
        "\n",
        "次に、[most_similar](https://radimrehurek.com/gensim/models/keyedvectors.html#gensim.models.keyedvectors.KeyedVectors.most_similar)メソッドを使って、与えた単語に最も類似した単語を検索してみましょう。このメソッドに単語を与えて呼び出すことで、ボキャブラリ内のその他の単語とのコサイン類似度を計算して、類似度順に返してくれます。その他の機能として、`King - Man + Woman = Queen`のような類推問題を解くこともできます。詳細については、[公式ドキュメント](https://radimrehurek.com/gensim/models/keyedvectors.html#gensim.models.keyedvectors.KeyedVectors.most_similar)を参照してください。"
      ]
    },
    {
      "cell_type": "code",
      "metadata": {
        "colab": {
          "base_uri": "https://localhost:8080/"
        },
        "id": "5Lv0V7WofmsB",
        "outputId": "79034b17-8667-45f9-bad3-02554685c65a"
      },
      "source": [
        "model_cbow.wv.most_similar('meat')"
      ],
      "execution_count": 11,
      "outputs": [
        {
          "output_type": "execute_result",
          "data": {
            "text/plain": [
              "[('man', 0.15192528069019318),\n",
              " ('food', 0.12299454212188721),\n",
              " ('eats', 0.1195271834731102),\n",
              " ('bites', -0.014911144971847534),\n",
              " ('dog', -0.16333791613578796)]"
            ]
          },
          "metadata": {},
          "execution_count": 11
        }
      ]
    },
    {
      "cell_type": "code",
      "metadata": {
        "colab": {
          "base_uri": "https://localhost:8080/"
        },
        "id": "WA783nrSalgs",
        "outputId": "9e355c9e-767d-41dd-dfe8-176e8bc18d15"
      },
      "source": [
        "# モデルの保存\n",
        "model_cbow.save('model_cbow.bin')\n",
        "\n",
        "# モデルの読み込み\n",
        "new_model_cbow = Word2Vec.load('model_cbow.bin')\n",
        "print(new_model_cbow)"
      ],
      "execution_count": 12,
      "outputs": [
        {
          "output_type": "stream",
          "name": "stdout",
          "text": [
            "Word2Vec(vocab=6, size=100, alpha=0.025)\n"
          ]
        }
      ]
    },
    {
      "cell_type": "markdown",
      "metadata": {
        "id": "deReLSI7mQyr"
      },
      "source": [
        "## SkipGram\n",
        "\n",
        "Skipgramのタスクは、中心語から文脈語を予測することです。"
      ]
    },
    {
      "cell_type": "code",
      "metadata": {
        "colab": {
          "base_uri": "https://localhost:8080/"
        },
        "id": "9QtUtsLglvY0",
        "outputId": "06b2693f-5785-43eb-9326-b3fbb097cee8"
      },
      "source": [
        "# モデルの学習\n",
        "model_skipgram = Word2Vec(corpus, min_count=1, sg=1)\n",
        "\n",
        "# モデルのサマリー\n",
        "print(model_skipgram)\n",
        "\n",
        "# ボキャブラリの表示\n",
        "words = list(model_skipgram.wv.vocab)\n",
        "print(words)\n",
        "\n",
        "# 単語ベクトルの取得\n",
        "print(model_skipgram.wv['dog'])"
      ],
      "execution_count": 13,
      "outputs": [
        {
          "output_type": "stream",
          "name": "stdout",
          "text": [
            "Word2Vec(vocab=6, size=100, alpha=0.025)\n",
            "['dog', 'bites', 'man', 'eats', 'meat', 'food']\n",
            "[-2.4190836e-03  3.9345301e-03 -4.0867063e-03 -3.3580605e-03\n",
            " -4.9987063e-03 -3.2243780e-03 -1.9584254e-03 -3.2025778e-03\n",
            "  3.9975140e-03 -3.8498973e-03  4.6813912e-03 -3.1696623e-03\n",
            " -5.1643112e-04  4.3939748e-03 -2.6446586e-03  4.2424193e-03\n",
            "  9.3994418e-04 -3.5626194e-03 -1.6576669e-03  1.1161768e-04\n",
            " -4.9683126e-04 -3.5317065e-03 -2.0356272e-05  4.3223472e-03\n",
            " -4.8883087e-03  8.2331704e-04  1.1718493e-03  2.3582387e-03\n",
            " -4.2451480e-03  2.2809638e-03  5.7795114e-04 -4.5479289e-03\n",
            "  3.8631337e-03  2.1488585e-03 -1.8883956e-03 -1.0207531e-03\n",
            " -2.6229296e-03 -4.1782241e-03 -7.3080783e-04 -2.2069707e-03\n",
            " -2.5679416e-03 -2.4002710e-04  3.4047170e-03 -3.0350059e-03\n",
            "  1.2890766e-03 -3.9590728e-03 -1.9741219e-03 -1.5056815e-03\n",
            "  2.0105110e-03 -2.0129199e-03 -3.0427284e-03  4.3714312e-03\n",
            " -4.5723256e-04 -2.9080869e-03 -3.7506886e-03  2.0689457e-03\n",
            "  4.8298906e-03  1.7303320e-03  6.1707827e-04 -1.7938673e-03\n",
            " -4.0961211e-03 -1.2291444e-03 -4.1965726e-03  2.3280354e-03\n",
            "  4.2326045e-03 -2.4502024e-03  3.3747791e-03 -3.3857247e-03\n",
            "  3.5296162e-03 -2.4909484e-03  3.4468514e-03  1.1906235e-03\n",
            "  4.6120803e-03 -1.2457388e-03 -3.0368762e-03 -4.3997131e-03\n",
            " -1.7580151e-03  2.9565764e-03 -3.7017250e-03  1.2057044e-03\n",
            "  3.2257419e-03 -3.5320318e-03  1.8146461e-03  7.4460579e-05\n",
            "  1.0907806e-03 -1.7457230e-03  4.6688011e-03  2.5058966e-03\n",
            " -4.5036748e-03  1.5892574e-03  3.7779817e-03  7.6805305e-04\n",
            "  1.6392336e-03 -3.6140047e-03 -4.8973821e-03 -2.5335660e-03\n",
            "  3.9533256e-03  2.1262744e-03  1.6660754e-03 -2.1201645e-03]\n"
          ]
        }
      ]
    },
    {
      "cell_type": "code",
      "metadata": {
        "colab": {
          "base_uri": "https://localhost:8080/"
        },
        "id": "8YUsblEOfFWf",
        "outputId": "7112c58f-82d3-4dc5-a180-5cfb6a88575f"
      },
      "source": [
        "print(\"Similarity between eats and bites:\", model_skipgram.wv.similarity('eats', 'bites'))\n",
        "print(\"Similarity between eats and man:\", model_skipgram.wv.similarity('eats', 'man'))"
      ],
      "execution_count": 14,
      "outputs": [
        {
          "output_type": "stream",
          "name": "stdout",
          "text": [
            "Similarity between eats and bites: -0.039925296\n",
            "Similarity between eats and man: -0.046784468\n"
          ]
        }
      ]
    },
    {
      "cell_type": "code",
      "metadata": {
        "colab": {
          "base_uri": "https://localhost:8080/"
        },
        "id": "lpF4qtwpmuM3",
        "outputId": "a5d83bc9-3cf0-4d52-8710-478bd909f9b4"
      },
      "source": [
        "model_skipgram.wv.most_similar('meat')"
      ],
      "execution_count": 15,
      "outputs": [
        {
          "output_type": "execute_result",
          "data": {
            "text/plain": [
              "[('man', 0.15192528069019318),\n",
              " ('food', 0.1229945495724678),\n",
              " ('eats', 0.11946240067481995),\n",
              " ('bites', -0.014911137521266937),\n",
              " ('dog', -0.16333791613578796)]"
            ]
          },
          "metadata": {},
          "execution_count": 15
        }
      ]
    },
    {
      "cell_type": "code",
      "metadata": {
        "colab": {
          "base_uri": "https://localhost:8080/"
        },
        "id": "aNDCEXRTnAnj",
        "outputId": "c138863b-ae78-4de8-b1db-1d0f36733145"
      },
      "source": [
        "model_skipgram.save('model_skipgram.bin')\n",
        "\n",
        "new_model_skipgram = Word2Vec.load('model_skipgram.bin')\n",
        "print(model_skipgram)"
      ],
      "execution_count": 16,
      "outputs": [
        {
          "output_type": "stream",
          "name": "stdout",
          "text": [
            "Word2Vec(vocab=6, size=100, alpha=0.025)\n"
          ]
        }
      ]
    },
    {
      "cell_type": "markdown",
      "metadata": {
        "id": "b0MiqJ_1M0mX"
      },
      "source": [
        "## Wikiコーパスを用いた埋め込みの学習\n",
        "\n",
        "ここまでで、小さなデータを使ってモデルを学習する方法は紹介しました。\n",
        "次は、より大きなデータを使ってモデルを学習してみましょう。\n",
        "ただ、そのすべてを利用すると全体で数GBを超えるので、今回はその一部だけを使って、word2vecとfastTextの埋め込みを学習します。コーパスは以下のページからダウンロードできます。\n",
        "\n",
        "- https://dumps.wikimedia.org/jawiki/20210701/\n"
      ]
    },
    {
      "cell_type": "markdown",
      "metadata": {
        "id": "azq1_Hqk0cgi"
      },
      "source": [
        "### データのダウンロード"
      ]
    },
    {
      "cell_type": "code",
      "metadata": {
        "colab": {
          "base_uri": "https://localhost:8080/"
        },
        "id": "DCaNWWgingYj",
        "outputId": "2f00d05d-9402-4163-d851-110096a70003"
      },
      "source": [
        "!mkdir -p data/ja/\n",
        "!wget -P data/ja/ https://dumps.wikimedia.org/jawiki/20210701/jawiki-20210701-pages-articles6.xml-p4307948p4407107.bz2"
      ],
      "execution_count": 17,
      "outputs": [
        {
          "output_type": "stream",
          "name": "stdout",
          "text": [
            "--2021-09-02 00:07:27--  https://dumps.wikimedia.org/jawiki/20210701/jawiki-20210701-pages-articles6.xml-p4307948p4407107.bz2\n",
            "Resolving dumps.wikimedia.org (dumps.wikimedia.org)... 208.80.154.7, 2620:0:861:1:208:80:154:7\n",
            "Connecting to dumps.wikimedia.org (dumps.wikimedia.org)|208.80.154.7|:443... connected.\n",
            "HTTP request sent, awaiting response... 200 OK\n",
            "Length: 52534161 (50M) [application/octet-stream]\n",
            "Saving to: ‘data/ja/jawiki-20210701-pages-articles6.xml-p4307948p4407107.bz2’\n",
            "\n",
            "jawiki-20210701-pag 100%[===================>]  50.10M  4.76MB/s    in 10s     \n",
            "\n",
            "2021-09-02 00:07:38 (4.80 MB/s) - ‘data/ja/jawiki-20210701-pages-articles6.xml-p4307948p4407107.bz2’ saved [52534161/52534161]\n",
            "\n"
          ]
        }
      ]
    },
    {
      "cell_type": "markdown",
      "metadata": {
        "id": "ob2H0p7zWnyH"
      },
      "source": [
        "### パッケージのインストール\n",
        "\n",
        "日本語の場合、学習前に単語分割が必要なので、形態素解析器「MeCab」のラッパーである「fugashi」をインストールします。"
      ]
    },
    {
      "cell_type": "code",
      "metadata": {
        "colab": {
          "base_uri": "https://localhost:8080/"
        },
        "id": "EKegjxjOWknQ",
        "outputId": "2e2ebb8f-5ccc-48f2-e485-ffe56b12e4ee"
      },
      "source": [
        "!pip install fugashi[unidic-lite]"
      ],
      "execution_count": 18,
      "outputs": [
        {
          "output_type": "stream",
          "name": "stdout",
          "text": [
            "Collecting fugashi[unidic-lite]\n",
            "  Downloading fugashi-1.1.1-cp37-cp37m-manylinux_2_5_x86_64.manylinux1_x86_64.whl (490 kB)\n",
            "\u001b[?25l\r\u001b[K     |▊                               | 10 kB 18.7 MB/s eta 0:00:01\r\u001b[K     |█▍                              | 20 kB 18.7 MB/s eta 0:00:01\r\u001b[K     |██                              | 30 kB 10.8 MB/s eta 0:00:01\r\u001b[K     |██▊                             | 40 kB 9.7 MB/s eta 0:00:01\r\u001b[K     |███▍                            | 51 kB 5.1 MB/s eta 0:00:01\r\u001b[K     |████                            | 61 kB 5.8 MB/s eta 0:00:01\r\u001b[K     |████▊                           | 71 kB 5.7 MB/s eta 0:00:01\r\u001b[K     |█████▍                          | 81 kB 6.4 MB/s eta 0:00:01\r\u001b[K     |██████                          | 92 kB 4.7 MB/s eta 0:00:01\r\u001b[K     |██████▊                         | 102 kB 5.0 MB/s eta 0:00:01\r\u001b[K     |███████▍                        | 112 kB 5.0 MB/s eta 0:00:01\r\u001b[K     |████████                        | 122 kB 5.0 MB/s eta 0:00:01\r\u001b[K     |████████▊                       | 133 kB 5.0 MB/s eta 0:00:01\r\u001b[K     |█████████▍                      | 143 kB 5.0 MB/s eta 0:00:01\r\u001b[K     |██████████                      | 153 kB 5.0 MB/s eta 0:00:01\r\u001b[K     |██████████▊                     | 163 kB 5.0 MB/s eta 0:00:01\r\u001b[K     |███████████▍                    | 174 kB 5.0 MB/s eta 0:00:01\r\u001b[K     |████████████                    | 184 kB 5.0 MB/s eta 0:00:01\r\u001b[K     |████████████▊                   | 194 kB 5.0 MB/s eta 0:00:01\r\u001b[K     |█████████████▍                  | 204 kB 5.0 MB/s eta 0:00:01\r\u001b[K     |██████████████                  | 215 kB 5.0 MB/s eta 0:00:01\r\u001b[K     |██████████████▊                 | 225 kB 5.0 MB/s eta 0:00:01\r\u001b[K     |███████████████▍                | 235 kB 5.0 MB/s eta 0:00:01\r\u001b[K     |████████████████                | 245 kB 5.0 MB/s eta 0:00:01\r\u001b[K     |████████████████▊               | 256 kB 5.0 MB/s eta 0:00:01\r\u001b[K     |█████████████████▍              | 266 kB 5.0 MB/s eta 0:00:01\r\u001b[K     |██████████████████              | 276 kB 5.0 MB/s eta 0:00:01\r\u001b[K     |██████████████████▊             | 286 kB 5.0 MB/s eta 0:00:01\r\u001b[K     |███████████████████▍            | 296 kB 5.0 MB/s eta 0:00:01\r\u001b[K     |████████████████████            | 307 kB 5.0 MB/s eta 0:00:01\r\u001b[K     |████████████████████▊           | 317 kB 5.0 MB/s eta 0:00:01\r\u001b[K     |█████████████████████▍          | 327 kB 5.0 MB/s eta 0:00:01\r\u001b[K     |██████████████████████          | 337 kB 5.0 MB/s eta 0:00:01\r\u001b[K     |██████████████████████▊         | 348 kB 5.0 MB/s eta 0:00:01\r\u001b[K     |███████████████████████▍        | 358 kB 5.0 MB/s eta 0:00:01\r\u001b[K     |████████████████████████        | 368 kB 5.0 MB/s eta 0:00:01\r\u001b[K     |████████████████████████▊       | 378 kB 5.0 MB/s eta 0:00:01\r\u001b[K     |█████████████████████████▍      | 389 kB 5.0 MB/s eta 0:00:01\r\u001b[K     |██████████████████████████      | 399 kB 5.0 MB/s eta 0:00:01\r\u001b[K     |██████████████████████████▊     | 409 kB 5.0 MB/s eta 0:00:01\r\u001b[K     |███████████████████████████▍    | 419 kB 5.0 MB/s eta 0:00:01\r\u001b[K     |████████████████████████████    | 430 kB 5.0 MB/s eta 0:00:01\r\u001b[K     |████████████████████████████▊   | 440 kB 5.0 MB/s eta 0:00:01\r\u001b[K     |█████████████████████████████▍  | 450 kB 5.0 MB/s eta 0:00:01\r\u001b[K     |██████████████████████████████  | 460 kB 5.0 MB/s eta 0:00:01\r\u001b[K     |██████████████████████████████▊ | 471 kB 5.0 MB/s eta 0:00:01\r\u001b[K     |███████████████████████████████▍| 481 kB 5.0 MB/s eta 0:00:01\r\u001b[K     |████████████████████████████████| 490 kB 5.0 MB/s \n",
            "\u001b[?25hCollecting unidic-lite\n",
            "  Downloading unidic-lite-1.0.8.tar.gz (47.4 MB)\n",
            "\u001b[K     |████████████████████████████████| 47.4 MB 43 kB/s \n",
            "\u001b[?25hBuilding wheels for collected packages: unidic-lite\n",
            "  Building wheel for unidic-lite (setup.py) ... \u001b[?25l\u001b[?25hdone\n",
            "  Created wheel for unidic-lite: filename=unidic_lite-1.0.8-py3-none-any.whl size=47658836 sha256=6c8473b47e878c2446fff6a8dee749033d9bbbd52987347eebc0707132c470bb\n",
            "  Stored in directory: /root/.cache/pip/wheels/de/69/b1/112140b599f2b13f609d485a99e357ba68df194d2079c5b1a2\n",
            "Successfully built unidic-lite\n",
            "Installing collected packages: unidic-lite, fugashi\n",
            "Successfully installed fugashi-1.1.1 unidic-lite-1.0.8\n"
          ]
        }
      ]
    },
    {
      "cell_type": "markdown",
      "metadata": {
        "id": "7GI4Cni30keh"
      },
      "source": [
        "### 前処理"
      ]
    },
    {
      "cell_type": "markdown",
      "metadata": {
        "id": "q69hRngxxXwN"
      },
      "source": [
        "インストールを終えたら、単語分割用の関数を定義します。\n",
        "学習データの準備にgensimのWikiCorpusを利用するため、その内部で必要とされる形式の関数を定義しています。パラメータは以下の通りです。\n",
        "\n",
        "- content (str): Wikiのマークアップを除去した文字列\n",
        "- token_min_len (int): 最小のトークン長\n",
        "- token_max_len (int): 最大のトークン長\n",
        "- lower (bool): 文字列を小文字化するか否か\n",
        "\n",
        "その他の詳細については、[公式ドキュメント](https://radimrehurek.com/gensim/corpora/wikicorpus.html#gensim.corpora.wikicorpus.tokenize)を参照してください。"
      ]
    },
    {
      "cell_type": "code",
      "metadata": {
        "id": "QTTK4y4OWvcA"
      },
      "source": [
        "from fugashi import Tagger\n",
        "from gensim.corpora.wikicorpus import TOKEN_MAX_LEN, WikiCorpus\n",
        "from gensim import utils\n",
        "fugger = Tagger('-Owakati')\n",
        "TOKEN_MIN_LEN = 1\n",
        "\n",
        "def tokenize(\n",
        "    content,\n",
        "    token_min_len=TOKEN_MIN_LEN,\n",
        "    token_max_len=TOKEN_MAX_LEN,\n",
        "    lower=True\n",
        "  ):\n",
        "    return [\n",
        "        utils.to_unicode(token.surface) for token in fugger(content.lower() if lower else content)\n",
        "    ]"
      ],
      "execution_count": 19,
      "outputs": []
    },
    {
      "cell_type": "markdown",
      "metadata": {
        "id": "Wcm7FMRjywdw"
      },
      "source": [
        "単語分割用の関数を定義したら、学習データを準備します。\n",
        "学習データの準備にはgensimの[WikiCorpus](https://radimrehurek.com/gensim/corpora/wikicorpus.html#gensim.corpora.wikicorpus.WikiCorpus)クラスを使います。\n",
        "WikiCorpusクラスを使うことで、Wikipediaの記事のダンプを、学習データとして扱うことができます。サポートしているダンプのフォーマットは以下の2種類です。\n",
        "\n",
        "- \\<LANG\\>wiki-\\<YYYYMMDD\\>-pages-articles.xml.bz2\n",
        "- \\<LANG\\>wiki-latest-pages-articles.xml.bz2"
      ]
    },
    {
      "cell_type": "code",
      "metadata": {
        "id": "rJgsEUmRPppc"
      },
      "source": [
        "# 学習データの準備\n",
        "wiki = WikiCorpus(\n",
        "    'data/ja/jawiki-20210701-pages-articles6.xml-p4307948p4407107.bz2',\n",
        "    tokenizer_func=tokenize\n",
        ")\n",
        "sentences = list(wiki.get_texts())"
      ],
      "execution_count": 20,
      "outputs": []
    },
    {
      "cell_type": "markdown",
      "metadata": {
        "id": "cX2WH1_30o0i"
      },
      "source": [
        "### Word2Vecモデルの学習"
      ]
    },
    {
      "cell_type": "code",
      "metadata": {
        "colab": {
          "base_uri": "https://localhost:8080/"
        },
        "id": "idmfbr_8LvoN",
        "outputId": "dde2ae41-1693-43b5-b67a-7e7eef20e4f9"
      },
      "source": [
        "# CBOWの学習\n",
        "start = time.time()\n",
        "word2vec_cbow = Word2Vec(sentences, min_count=10, sg=0)\n",
        "end = time.time()\n",
        "\n",
        "print(\"Time taken for training is:{:.2f} hrs \".format((end - start) / 3600.0))"
      ],
      "execution_count": 21,
      "outputs": [
        {
          "output_type": "stream",
          "name": "stdout",
          "text": [
            "Time taken for training is:0.02 hrs \n"
          ]
        }
      ]
    },
    {
      "cell_type": "code",
      "metadata": {
        "colab": {
          "base_uri": "https://localhost:8080/"
        },
        "id": "mMdGn08-RkhM",
        "outputId": "56241795-7456-43a8-c256-a5a16b38c69f"
      },
      "source": [
        "print(word2vec_cbow)\n",
        "print(\"-\" * 30)\n",
        "\n",
        "# ボキャブラリの取得\n",
        "words = list(word2vec_cbow.wv.vocab)\n",
        "print(words[:10])\n",
        "print(\"-\" * 30)\n",
        "\n",
        "# ベクトルの取得\n",
        "print(word2vec_cbow.wv['猫'])\n",
        "print(\"-\" * 30)\n",
        "\n",
        "# 類似度の計算\n",
        "print(\"Similarity between 猫 and 犬:\", word2vec_cbow.wv.similarity('猫', '犬'))\n",
        "print(\"Similarity between 猫 and 石:\", word2vec_cbow.wv.similarity('猫', '石'))\n",
        "print(\"-\" * 30)"
      ],
      "execution_count": 22,
      "outputs": [
        {
          "output_type": "stream",
          "name": "stdout",
          "text": [
            "Word2Vec(vocab=55023, size=100, alpha=0.025)\n",
            "------------------------------\n",
            "[\"'''\", '松田', \"'''（\", 'まつだ', 'みのり', '、', '1886', '年', '（', '明治']\n",
            "------------------------------\n",
            "[ 0.4803291  -0.26755214  1.8851796   2.1370397   0.4145621   2.4362938\n",
            "  1.091774   -0.79165006  1.0529066   1.1643319  -0.6166124  -1.3831989\n",
            "  0.32871732  1.7413331   0.45214954  0.3553559  -0.51122105 -0.1195362\n",
            "  1.0193094  -1.4569782   2.2853062  -0.14232646 -0.8975287  -2.184406\n",
            " -0.4996832   0.68254656 -0.38484892  1.1567738  -0.1356831   0.43790963\n",
            "  0.02898838 -0.22504367 -0.20682266 -1.6368281   1.5475001  -1.7462156\n",
            " -1.1966965   0.4772035  -1.6926249   0.59005827  1.2758892  -1.6047785\n",
            "  0.40053117 -0.10537413  0.8446828   1.3618791  -0.00406642  0.6349208\n",
            " -2.5736046  -1.789437    0.05310813 -0.78653073 -1.2193427  -0.5214791\n",
            " -1.6702218  -0.6017423  -0.22100064  0.2051663   0.6978673  -0.6835604\n",
            "  0.5850414   0.41687828  0.836443    1.3891189  -1.0133115   1.4724859\n",
            " -0.48280108 -0.7773937   0.2819049  -0.79428416 -0.3128377  -0.10548419\n",
            " -1.1697837   0.37824148 -0.15985665  1.6241752  -0.6382764   1.5941613\n",
            " -0.6800774   0.72199553  0.16059457 -0.19964573  0.41738743 -0.44763234\n",
            " -1.5369413   0.16814306 -1.8744438  -1.0763488  -0.30602673  2.5598714\n",
            " -0.00521802 -1.1953217   0.5141466  -0.10867177  1.4204651   0.28278813\n",
            " -0.02661647 -0.62171084  1.9843314   0.6638818 ]\n",
            "------------------------------\n",
            "Similarity between 猫 and 犬: 0.70118123\n",
            "Similarity between 猫 and 石: 0.21995685\n",
            "------------------------------\n"
          ]
        }
      ]
    },
    {
      "cell_type": "code",
      "metadata": {
        "id": "rXrDOrKskcHX"
      },
      "source": [
        "# モデルの保存\n",
        "word2vec_cbow.wv.save_word2vec_format('word2vec_cbow.bin', binary=True)\n",
        "\n",
        "# モデルの読み込み\n",
        "# new_modelword2vec_cbow = Word2Vec.load('word2vec_cbow.bin')\n",
        "# print(word2vec_cbow)"
      ],
      "execution_count": 23,
      "outputs": []
    },
    {
      "cell_type": "code",
      "metadata": {
        "colab": {
          "base_uri": "https://localhost:8080/"
        },
        "id": "dX0U0CbQOK30",
        "outputId": "24b90201-95ee-4948-8439-e41dc669a302"
      },
      "source": [
        "# SkipGramの学習\n",
        "start = time.time()\n",
        "word2vec_skipgram = Word2Vec(sentences, min_count=10, sg=1)\n",
        "end = time.time()\n",
        "\n",
        "print(\"Time taken for training is:{:.2f} hrs \".format((end - start) / 3600.0))"
      ],
      "execution_count": 24,
      "outputs": [
        {
          "output_type": "stream",
          "name": "stdout",
          "text": [
            "Time taken for training is:0.07 hrs \n"
          ]
        }
      ]
    },
    {
      "cell_type": "code",
      "metadata": {
        "colab": {
          "base_uri": "https://localhost:8080/"
        },
        "id": "LXnY9YInSvnI",
        "outputId": "e091b231-4ce9-450c-b95b-591787e78a1c"
      },
      "source": [
        "print(word2vec_skipgram)\n",
        "print(\"-\" * 30)\n",
        "\n",
        "words = list(word2vec_skipgram.wv.vocab)\n",
        "print(words[:10])\n",
        "print(\"-\" * 30)\n",
        "\n",
        "print(word2vec_skipgram.wv['猫'])\n",
        "print(\"-\" * 30)\n",
        "\n",
        "print(\"Similarity between 猫 and 犬:\", word2vec_skipgram.wv.similarity('猫', '犬'))\n",
        "print(\"Similarity between 猫 and 石:\", word2vec_skipgram.wv.similarity('猫', '石'))\n",
        "print(\"-\" * 30)"
      ],
      "execution_count": 25,
      "outputs": [
        {
          "output_type": "stream",
          "name": "stdout",
          "text": [
            "Word2Vec(vocab=55023, size=100, alpha=0.025)\n",
            "------------------------------\n",
            "[\"'''\", '松田', \"'''（\", 'まつだ', 'みのり', '、', '1886', '年', '（', '明治']\n",
            "------------------------------\n",
            "[ 3.18760425e-01  3.19911897e-01 -1.67814702e-01  7.50234246e-01\n",
            "  2.66804278e-01  1.92610651e-01  1.44445568e-01 -1.40261889e-01\n",
            " -7.53758773e-02  4.64176238e-02 -4.21440974e-02 -5.36385715e-01\n",
            "  1.89105153e-01 -2.10110098e-01 -8.47956419e-01  7.54157454e-02\n",
            "  2.87250191e-01  5.83331585e-01  3.39055866e-01  9.46621224e-02\n",
            " -9.03506801e-02  3.40238392e-01 -5.59616089e-03 -2.30783120e-01\n",
            " -2.51028419e-01  1.15221448e-01  3.05352092e-01 -1.13746695e-01\n",
            " -9.35844705e-02  4.86865565e-02  3.87228727e-01 -1.98963463e-01\n",
            " -6.63830787e-02 -5.11656821e-01  4.69573170e-01 -3.19391191e-01\n",
            " -3.20576906e-01  2.73486687e-04 -4.02929902e-01  3.82524654e-02\n",
            "  5.70152521e-01 -1.09046154e-01  4.42002714e-02 -4.49504107e-02\n",
            "  5.82416356e-02  5.19746423e-01  3.53730947e-01  2.01171011e-01\n",
            " -5.94525516e-01 -4.88940418e-01  1.10941686e-01  4.94843245e-01\n",
            " -6.57036975e-02 -6.47741556e-01 -5.88282309e-02 -5.41331507e-02\n",
            " -3.99677485e-01 -2.29491010e-01  3.14140737e-01  4.92737532e-01\n",
            " -4.94366854e-01  4.04337049e-01  5.92039049e-01  6.46407962e-01\n",
            " -2.64128614e-02 -3.04393773e-03 -3.38087469e-01 -1.64087310e-01\n",
            "  5.21397591e-01  1.36889949e-01 -7.77871981e-02  1.25279084e-01\n",
            "  1.35100707e-01 -2.87418336e-01 -7.68676922e-02  1.14761759e-02\n",
            " -4.53767151e-01  1.25213847e-01  2.98387945e-01  5.36085069e-02\n",
            " -3.48609835e-01  2.32593134e-01  5.22420764e-01 -5.21147072e-01\n",
            " -2.74613440e-01  4.52803284e-01 -1.85679629e-01 -1.72083043e-02\n",
            "  4.11424607e-01 -3.38808186e-02  5.58257736e-02 -3.63329053e-01\n",
            "  2.77766854e-01  2.18269482e-01 -9.29886848e-02 -2.19673544e-01\n",
            " -1.83352038e-01 -3.59805673e-01  4.29137468e-01 -2.72699565e-01]\n",
            "------------------------------\n",
            "Similarity between 猫 and 犬: 0.59152144\n",
            "Similarity between 猫 and 石: 0.27204028\n",
            "------------------------------\n"
          ]
        }
      ]
    },
    {
      "cell_type": "code",
      "metadata": {
        "id": "o8U7bfPSVB04"
      },
      "source": [
        "# モデルの保存\n",
        "word2vec_cbow.wv.save_word2vec_format('word2vec_sg.bin', binary=True)\n",
        "\n",
        "# モデルの読み込み\n",
        "# new_model_skipgram = Word2Vec.load('model_skipgram.bin')\n",
        "# print(model_skipgram)"
      ],
      "execution_count": 26,
      "outputs": []
    },
    {
      "cell_type": "markdown",
      "metadata": {
        "id": "kExlA8kfrKml"
      },
      "source": [
        "### FastTextモデルの学習"
      ]
    },
    {
      "cell_type": "code",
      "metadata": {
        "colab": {
          "base_uri": "https://localhost:8080/"
        },
        "id": "JPd2VhMEk8gL",
        "outputId": "3e97374a-6ea8-47a3-b678-644489401436"
      },
      "source": [
        "# CBOWの学習\n",
        "start = time.time()\n",
        "fasttext_cbow = FastText(sentences, sg=0, min_count=10)\n",
        "end = time.time()\n",
        "\n",
        "print(\"Time taken for training is:{:.2f} hrs \".format((end - start) / 3600.0))"
      ],
      "execution_count": 27,
      "outputs": [
        {
          "output_type": "stream",
          "name": "stdout",
          "text": [
            "Time taken for training is:0.04 hrs \n"
          ]
        }
      ]
    },
    {
      "cell_type": "code",
      "metadata": {
        "colab": {
          "base_uri": "https://localhost:8080/"
        },
        "id": "FlQFl8-Zsost",
        "outputId": "e9a40549-d7cd-42bc-9e66-1ddfd08ae557"
      },
      "source": [
        "print(fasttext_cbow)\n",
        "print(\"-\" * 30)\n",
        "\n",
        "words = list(fasttext_cbow.wv.vocab)\n",
        "print(words[:10])\n",
        "print(\"-\" * 30)\n",
        "\n",
        "print(fasttext_cbow.wv['猫'])\n",
        "print(\"-\" * 30)\n",
        "\n",
        "print(\"Similarity between 猫 and 犬:\", fasttext_cbow.similarity('猫', '犬'))\n",
        "print(\"Similarity between 猫 and 石:\", fasttext_cbow.similarity('猫', '石'))\n",
        "print(\"-\" * 30)"
      ],
      "execution_count": 28,
      "outputs": [
        {
          "output_type": "stream",
          "name": "stdout",
          "text": [
            "FastText(vocab=55023, size=100, alpha=0.025)\n",
            "------------------------------\n",
            "[\"'''\", '松田', \"'''（\", 'まつだ', 'みのり', '、', '1886', '年', '（', '明治']\n",
            "------------------------------\n",
            "[-0.21055603  1.9364047  -0.6618966  -2.8286877  -1.747594    0.8876541\n",
            "  1.9856669   1.2447248  -0.82500076  0.42230105 -0.04942975 -0.63433045\n",
            "  2.763354    0.2237634  -0.75201464  0.24883053 -0.54105586 -0.64725536\n",
            " -2.368435    0.13232313 -0.4485092  -0.27970585  1.5105442   0.47174805\n",
            "  1.3213906   0.09933054  0.20629425  0.48365623  0.04136713 -0.34680226\n",
            "  1.1115282  -0.5453791   0.27316573 -1.6178588   0.86495936  0.52859753\n",
            " -0.01277385 -1.8511162  -1.4706675  -1.2783549   0.6667346  -0.974852\n",
            "  0.10005664 -0.48317418 -0.42455682  2.4559274   1.0890949   0.2856696\n",
            "  1.5529332  -1.8901747  -0.4491058   0.8683636   1.9854089   0.26533592\n",
            "  0.60221875 -0.7380746   0.6612123   0.61387116  0.26555738 -1.3728558\n",
            " -0.3879201  -0.45068723 -1.1440125  -2.2049565   1.430046   -1.2279831\n",
            "  1.358506    0.23567013 -0.4956708  -1.7563794   1.9282627   0.756204\n",
            " -2.5979135  -0.17783967  0.9928582   1.0820876   0.9510217  -1.0674076\n",
            " -1.0202448   1.5815195  -0.6764432  -0.40199676  2.202105   -0.9539343\n",
            "  1.6891731  -1.5486255  -1.0010943  -0.14970633  1.9865248  -0.77463686\n",
            " -0.47196177  1.666044    3.0342429  -0.9409113   0.8528998  -2.9151342\n",
            "  0.988856    0.8543751   0.1293444   0.06231717]\n",
            "------------------------------\n",
            "Similarity between 猫 and 犬: 0.7515707\n",
            "Similarity between 猫 and 石: 0.21045044\n",
            "------------------------------\n"
          ]
        }
      ]
    },
    {
      "cell_type": "code",
      "metadata": {
        "colab": {
          "base_uri": "https://localhost:8080/"
        },
        "id": "UgSOxsNklAvh",
        "outputId": "047eaf38-a7f1-4437-ebc0-00cf8008e597"
      },
      "source": [
        "# SkipGramの学習\n",
        "start = time.time()\n",
        "fasttext_skipgram = FastText(sentences, sg=1, min_count=10)\n",
        "end = time.time()\n",
        "\n",
        "print(\"Time taken for training is:{:.2f} hrs \".format((end - start) / 3600.0))"
      ],
      "execution_count": 29,
      "outputs": [
        {
          "output_type": "stream",
          "name": "stdout",
          "text": [
            "Time taken for training is:0.09 hrs \n"
          ]
        }
      ]
    },
    {
      "cell_type": "code",
      "metadata": {
        "colab": {
          "base_uri": "https://localhost:8080/"
        },
        "id": "vFiTAP0PsQwi",
        "outputId": "fe155de6-6029-4d08-e715-75d000a4a1f2"
      },
      "source": [
        "print(fasttext_skipgram)\n",
        "print(\"-\" * 30)\n",
        "\n",
        "words = list(fasttext_skipgram.wv.vocab)\n",
        "print(words[:10])\n",
        "print(\"-\" * 30)\n",
        "\n",
        "print(fasttext_skipgram.wv['猫'])\n",
        "print(\"-\" * 30)\n",
        "\n",
        "print(\"Similarity between 猫 and 犬:\", fasttext_skipgram.wv.similarity('猫', '犬'))\n",
        "print(\"Similarity between 猫 and 石:\", fasttext_skipgram.wv.similarity('猫', '石'))\n",
        "print(\"-\" * 30)"
      ],
      "execution_count": 30,
      "outputs": [
        {
          "output_type": "stream",
          "name": "stdout",
          "text": [
            "FastText(vocab=55023, size=100, alpha=0.025)\n",
            "------------------------------\n",
            "[\"'''\", '松田', \"'''（\", 'まつだ', 'みのり', '、', '1886', '年', '（', '明治']\n",
            "------------------------------\n",
            "[ 0.2696672   0.18861265 -0.02024899  0.00622671 -0.00185222  0.14164612\n",
            "  0.2409192  -0.21536526  0.10057747 -0.13081904 -0.12770903 -0.4597932\n",
            "  0.20203054  0.0411027  -0.25389844 -0.23035528  0.08346335  0.03206843\n",
            " -0.42905587  0.25714007 -0.27228212 -0.04105185 -0.44270617 -0.2758658\n",
            "  0.05847213  0.1434209  -0.02533826 -0.16879071 -0.05606332  0.24250448\n",
            "  0.25177985  0.13241014 -0.21466193  0.14706865 -0.3531927   0.271098\n",
            "  0.32020685  0.04217644 -0.1842621  -0.06005319 -0.19842038  0.26519722\n",
            " -0.42355868  0.21075994 -0.26790833  0.11443414 -0.01542821  0.06442037\n",
            " -0.00555118  0.02112193  0.11594013  0.12190726  0.2428713  -0.04728377\n",
            " -0.02653726  0.07947062 -0.03165951  0.40582758 -0.01276721  0.21176325\n",
            " -0.10584069 -0.06230808  0.10854024 -0.11993311 -0.29278514 -0.36715135\n",
            "  0.03995505  0.2526267   0.16104169 -0.2757319  -0.01442093 -0.01427419\n",
            " -0.33426702  0.0213832   0.06890713  0.01485594  0.28398392 -0.15378459\n",
            " -0.12171087 -0.03370004 -0.00354642 -0.07509843  0.03860579 -0.08564384\n",
            " -0.04755466 -0.07556573  0.0164281   0.1948045  -0.19701782  0.2280619\n",
            " -0.04104863 -0.07405747  0.04149475  0.05905263  0.00229113 -0.25077242\n",
            " -0.33009556  0.18533725  0.01384984 -0.07353906]\n",
            "------------------------------\n",
            "Similarity between 猫 and 犬: 0.5632277\n",
            "Similarity between 猫 and 石: 0.21896775\n",
            "------------------------------\n"
          ]
        }
      ]
    },
    {
      "cell_type": "code",
      "metadata": {
        "id": "gq7j1zUXzvAM"
      },
      "source": [
        ""
      ],
      "execution_count": 30,
      "outputs": []
    }
  ]
}