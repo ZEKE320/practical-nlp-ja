{
  "nbformat": 4,
  "nbformat_minor": 0,
  "metadata": {
    "colab": {
      "name": "02_Bag_of_Words.ipynb",
      "provenance": [],
      "collapsed_sections": []
    },
    "kernelspec": {
      "display_name": "Python 3",
      "language": "python",
      "name": "python3"
    },
    "language_info": {
      "codemirror_mode": {
        "name": "ipython",
        "version": 3
      },
      "file_extension": ".py",
      "mimetype": "text/x-python",
      "name": "python",
      "nbconvert_exporter": "python",
      "pygments_lexer": "ipython3",
      "version": "3.6.7"
    }
  },
  "cells": [
    {
      "cell_type": "markdown",
      "metadata": {
        "id": "bMoADcrhJP2H"
      },
      "source": [
        "## Bag of Words\n",
        "\n",
        "1つ前のノートブックでは、one-hotエンコーディングを取得する方法を紹介しました。このノートブックでは、bag of wordsを使う方法について確認します。"
      ]
    },
    {
      "cell_type": "code",
      "metadata": {
        "colab": {
          "base_uri": "https://localhost:8080/"
        },
        "id": "mhnX4sORJP2J",
        "outputId": "db1d335c-2a16-4b1e-c39b-7334e8601671"
      },
      "source": [
        "documents = [\n",
        "    \"Dog bites man.\",\n",
        "    \"Man bites dog.\",\n",
        "    \"Dog eats meat.\",\n",
        "    \"Man eats food.\"\n",
        "]\n",
        "processed_docs = [doc.lower().replace(\".\", \"\") for doc in documents]\n",
        "processed_docs"
      ],
      "execution_count": 1,
      "outputs": [
        {
          "output_type": "execute_result",
          "data": {
            "text/plain": [
              "['dog bites man', 'man bites dog', 'dog eats meat', 'man eats food']"
            ]
          },
          "metadata": {
            "tags": []
          },
          "execution_count": 1
        }
      ]
    },
    {
      "cell_type": "markdown",
      "metadata": {
        "id": "zEm3kuokJP2N"
      },
      "source": [
        "scikit-learnのCountVectorizerを使うと、bag of wordsを簡単に作れます。"
      ]
    },
    {
      "cell_type": "code",
      "metadata": {
        "colab": {
          "base_uri": "https://localhost:8080/"
        },
        "id": "pbCdQVWQJP2O",
        "scrolled": true,
        "outputId": "4b99fd94-939d-4c7e-d26d-bd76fc650a07"
      },
      "source": [
        "from sklearn.feature_extraction.text import CountVectorizer\n",
        "\n",
        "# 文書のリストを確認\n",
        "print(\"Our corpus: \", processed_docs)\n",
        "\n",
        "count_vect = CountVectorizer()\n",
        "# BoW表現の構築\n",
        "bow_rep = count_vect.fit_transform(processed_docs)\n",
        "\n",
        "# ボキャブラリの確認\n",
        "print(\"Our vocabulary: \", count_vect.vocabulary_)\n",
        "\n",
        "# 最初の2つの文書に対するBoWを確認\n",
        "print(\"BoW representation for 'dog bites man': \", bow_rep[0].toarray())\n",
        "print(\"BoW representation for 'man bites dog': \", bow_rep[1].toarray())\n",
        "\n",
        "# 新しいテキストに対するBoWを取得\n",
        "temp = count_vect.transform([\"dog and dog are friends\"])\n",
        "print(\"BoW representation for 'dog and dog are friends': \", temp.toarray())"
      ],
      "execution_count": 2,
      "outputs": [
        {
          "output_type": "stream",
          "text": [
            "Our corpus:  ['dog bites man', 'man bites dog', 'dog eats meat', 'man eats food']\n",
            "Our vocabulary:  {'dog': 1, 'bites': 0, 'man': 4, 'eats': 2, 'meat': 5, 'food': 3}\n",
            "BoW representation for 'dog bites man':  [[1 1 0 0 1 0]]\n",
            "BoW representation for 'man bites dog':  [[1 1 0 0 1 0]]\n",
            "BoW representation for 'dog and dog are friends':  [[0 2 0 0 0 0]]\n"
          ],
          "name": "stdout"
        }
      ]
    },
    {
      "cell_type": "markdown",
      "metadata": {
        "id": "Y9uvXfLA_wSG"
      },
      "source": [
        "上のコードでは、単語の頻度を考慮してテキストを表現しています。しかし、頻度を気にせず、ある単語がテキストに出現するかどうかだけを知りたい場合もあります。その場合、各文書は0と1のベクトルで表されます。このようなベクトルは、CountVectorizerのオプションであるbinary=Trueを使うことで作成できます。"
      ]
    },
    {
      "cell_type": "code",
      "metadata": {
        "colab": {
          "base_uri": "https://localhost:8080/"
        },
        "id": "bvFoqDRAJP2Q",
        "outputId": "b594b7e1-c69f-46ea-d16c-168ccb877e66"
      },
      "source": [
        "# 2値ベクトルによるBoW\n",
        "count_vect = CountVectorizer(binary=True)\n",
        "bow_rep_bin = count_vect.fit_transform(processed_docs)\n",
        "temp = count_vect.transform([\"dog and dog are friends\"])\n",
        "print(\"Bow representation for 'dog and dog are friends': \", temp.toarray())"
      ],
      "execution_count": 3,
      "outputs": [
        {
          "output_type": "stream",
          "text": [
            "Bow representation for 'dog and dog are friends':  [[0 1 0 0 0 0]]\n"
          ],
          "name": "stdout"
        }
      ]
    },
    {
      "cell_type": "markdown",
      "metadata": {
        "id": "ed7Ox8ZQ_wSH"
      },
      "source": [
        "テキスト分類に対してBoW表現を使う方法は、第４章で紹介します。"
      ]
    },
    {
      "cell_type": "code",
      "metadata": {
        "id": "iGg5I9aPBKS8"
      },
      "source": [
        ""
      ],
      "execution_count": 3,
      "outputs": []
    }
  ]
}