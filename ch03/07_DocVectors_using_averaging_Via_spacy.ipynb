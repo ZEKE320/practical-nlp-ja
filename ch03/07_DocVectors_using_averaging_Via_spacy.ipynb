{
 "nbformat": 4,
 "nbformat_minor": 0,
 "metadata": {
  "colab": {
   "name": "07_DocVectors_using_averaging_Via_spacy.ipynb",
   "provenance": [],
   "collapsed_sections": []
  },
  "kernelspec": {
   "display_name": "Python 3",
   "language": "python",
   "name": "python3"
  },
  "language_info": {
   "codemirror_mode": {
    "name": "ipython",
    "version": 3
   },
   "file_extension": ".py",
   "mimetype": "text/x-python",
   "name": "python",
   "nbconvert_exporter": "python",
   "pygments_lexer": "ipython3",
   "version": "3.7.3"
  }
 },
 "cells": [
  {
   "cell_type": "markdown",
   "metadata": {
    "id": "R7Xgt_KQ51l7"
   },
   "source": [
    "# 文書ベクトル\n",
    "\n",
    "Doc2vecでは、任意の長さのテキスト（フレーズ、文、パラグラフ、文書）に対する表現を直接学習できます。その際、テキスト中の単語の文脈を考慮します。\n",
    "\n",
    "このノートブックでは、spaCyを使って、単語ベクトルの平均を取ることで文書ベクトルを作成する方法を紹介します。[spaCy](https://spacy.io/)は、自然言語処理用のPythonライブラリで、多くの機能を備えています。spaCyには様々な言語のモデルが用意されており、ダウンロードして使うことができます。\n"
   ]
  },
  {
   "cell_type": "markdown",
   "metadata": {
    "id": "GN4B1zGEW85q"
   },
   "source": [
    "## spaCyのインストール\n",
    "\n",
    "spaCyのインストールを終えたら、ランタイムを再起動しましょう。"
   ]
  },
  {
   "cell_type": "code",
   "metadata": {
    "colab": {
     "base_uri": "https://localhost:8080/"
    },
    "id": "2vSSKz66WzkQ",
    "outputId": "c9039055-3222-4b14-dd28-9e27907983fb"
   },
   "source": [
    "!pip install -U spacy spacy[ja]"
   ],
   "execution_count": 4,
   "outputs": [
    {
     "output_type": "stream",
     "name": "stdout",
     "text": [
      "Requirement already satisfied: spacy in /usr/local/lib/python3.7/dist-packages (2.2.4)\n",
      "Collecting spacy\n",
      "  Downloading spacy-3.1.2-cp37-cp37m-manylinux_2_17_x86_64.manylinux2014_x86_64.whl (5.8 MB)\n",
      "\u001B[K     |████████████████████████████████| 5.8 MB 25.3 MB/s \n",
      "\u001B[?25hRequirement already satisfied: numpy>=1.15.0 in /usr/local/lib/python3.7/dist-packages (from spacy) (1.19.5)\n",
      "Collecting pathy>=0.3.5\n",
      "  Downloading pathy-0.6.0-py3-none-any.whl (42 kB)\n",
      "\u001B[K     |████████████████████████████████| 42 kB 1.6 MB/s \n",
      "\u001B[?25hRequirement already satisfied: cymem<2.1.0,>=2.0.2 in /usr/local/lib/python3.7/dist-packages (from spacy) (2.0.5)\n",
      "Collecting typer<0.4.0,>=0.3.0\n",
      "  Downloading typer-0.3.2-py3-none-any.whl (21 kB)\n",
      "Requirement already satisfied: typing-extensions<4.0.0.0,>=3.7.4 in /usr/local/lib/python3.7/dist-packages (from spacy) (3.7.4.3)\n",
      "Requirement already satisfied: murmurhash<1.1.0,>=0.28.0 in /usr/local/lib/python3.7/dist-packages (from spacy) (1.0.5)\n",
      "Requirement already satisfied: jinja2 in /usr/local/lib/python3.7/dist-packages (from spacy) (2.11.3)\n",
      "Collecting pydantic!=1.8,!=1.8.1,<1.9.0,>=1.7.4\n",
      "  Downloading pydantic-1.8.2-cp37-cp37m-manylinux2014_x86_64.whl (10.1 MB)\n",
      "\u001B[K     |████████████████████████████████| 10.1 MB 26.5 MB/s \n",
      "\u001B[?25hCollecting thinc<8.1.0,>=8.0.8\n",
      "  Downloading thinc-8.0.8-cp37-cp37m-manylinux_2_17_x86_64.manylinux2014_x86_64.whl (621 kB)\n",
      "\u001B[K     |████████████████████████████████| 621 kB 35.4 MB/s \n",
      "\u001B[?25hRequirement already satisfied: requests<3.0.0,>=2.13.0 in /usr/local/lib/python3.7/dist-packages (from spacy) (2.23.0)\n",
      "Requirement already satisfied: packaging>=20.0 in /usr/local/lib/python3.7/dist-packages (from spacy) (21.0)\n",
      "Collecting spacy-legacy<3.1.0,>=3.0.7\n",
      "  Downloading spacy_legacy-3.0.8-py2.py3-none-any.whl (14 kB)\n",
      "Collecting srsly<3.0.0,>=2.4.1\n",
      "  Downloading srsly-2.4.1-cp37-cp37m-manylinux2014_x86_64.whl (456 kB)\n",
      "\u001B[K     |████████████████████████████████| 456 kB 54.0 MB/s \n",
      "\u001B[?25hRequirement already satisfied: tqdm<5.0.0,>=4.38.0 in /usr/local/lib/python3.7/dist-packages (from spacy) (4.62.0)\n",
      "Collecting catalogue<2.1.0,>=2.0.4\n",
      "  Downloading catalogue-2.0.6-py3-none-any.whl (17 kB)\n",
      "Requirement already satisfied: wasabi<1.1.0,>=0.8.1 in /usr/local/lib/python3.7/dist-packages (from spacy) (0.8.2)\n",
      "Requirement already satisfied: blis<0.8.0,>=0.4.0 in /usr/local/lib/python3.7/dist-packages (from spacy) (0.4.1)\n",
      "Requirement already satisfied: preshed<3.1.0,>=3.0.2 in /usr/local/lib/python3.7/dist-packages (from spacy) (3.0.5)\n",
      "Requirement already satisfied: setuptools in /usr/local/lib/python3.7/dist-packages (from spacy) (57.4.0)\n",
      "Requirement already satisfied: zipp>=0.5 in /usr/local/lib/python3.7/dist-packages (from catalogue<2.1.0,>=2.0.4->spacy) (3.5.0)\n",
      "Requirement already satisfied: pyparsing>=2.0.2 in /usr/local/lib/python3.7/dist-packages (from packaging>=20.0->spacy) (2.4.7)\n",
      "Requirement already satisfied: smart-open<6.0.0,>=5.0.0 in /usr/local/lib/python3.7/dist-packages (from pathy>=0.3.5->spacy) (5.1.0)\n",
      "Requirement already satisfied: certifi>=2017.4.17 in /usr/local/lib/python3.7/dist-packages (from requests<3.0.0,>=2.13.0->spacy) (2021.5.30)\n",
      "Requirement already satisfied: chardet<4,>=3.0.2 in /usr/local/lib/python3.7/dist-packages (from requests<3.0.0,>=2.13.0->spacy) (3.0.4)\n",
      "Requirement already satisfied: urllib3!=1.25.0,!=1.25.1,<1.26,>=1.21.1 in /usr/local/lib/python3.7/dist-packages (from requests<3.0.0,>=2.13.0->spacy) (1.24.3)\n",
      "Requirement already satisfied: idna<3,>=2.5 in /usr/local/lib/python3.7/dist-packages (from requests<3.0.0,>=2.13.0->spacy) (2.10)\n",
      "Requirement already satisfied: click<7.2.0,>=7.1.1 in /usr/local/lib/python3.7/dist-packages (from typer<0.4.0,>=0.3.0->spacy) (7.1.2)\n",
      "Requirement already satisfied: MarkupSafe>=0.23 in /usr/local/lib/python3.7/dist-packages (from jinja2->spacy) (2.0.1)\n",
      "Requirement already satisfied: plac<1.2.0,>=0.9.6 in /usr/local/lib/python3.7/dist-packages (from spacy) (1.1.3)\n",
      "Collecting sudachidict-core>=20200330\n",
      "  Downloading SudachiDict-core-20210802.tar.gz (9.1 kB)\n",
      "Collecting sudachipy>=0.4.9\n",
      "  Downloading SudachiPy-0.5.2.tar.gz (70 kB)\n",
      "\u001B[K     |████████████████████████████████| 70 kB 9.3 MB/s \n",
      "\u001B[?25hCollecting sortedcontainers~=2.1.0\n",
      "  Downloading sortedcontainers-2.1.0-py2.py3-none-any.whl (28 kB)\n",
      "Collecting dartsclone~=0.9.0\n",
      "  Downloading dartsclone-0.9.0-cp37-cp37m-manylinux1_x86_64.whl (473 kB)\n",
      "\u001B[K     |████████████████████████████████| 473 kB 48.6 MB/s \n",
      "\u001B[?25hRequirement already satisfied: Cython in /usr/local/lib/python3.7/dist-packages (from dartsclone~=0.9.0->sudachipy>=0.4.9->spacy) (0.29.24)\n",
      "Building wheels for collected packages: sudachidict-core, sudachipy\n",
      "  Building wheel for sudachidict-core (setup.py) ... \u001B[?25l\u001B[?25hdone\n",
      "  Created wheel for sudachidict-core: filename=SudachiDict_core-20210802-py3-none-any.whl size=71418512 sha256=c88f65b741f47e3b4f64844acdc0457feea4a29ecae0d65af533e88ceefa310a\n",
      "  Stored in directory: /root/.cache/pip/wheels/91/e8/21/e80d212743835d87bb5e7eca81b6abef6d8cb67a294007a837\n",
      "  Building wheel for sudachipy (setup.py) ... \u001B[?25l\u001B[?25hdone\n",
      "  Created wheel for sudachipy: filename=SudachiPy-0.5.2-cp37-cp37m-linux_x86_64.whl size=870409 sha256=3f0ef243e49efe4427ad9ef606bc46ef1f882f254fd4dedbdc36e60b005cd09c\n",
      "  Stored in directory: /root/.cache/pip/wheels/43/72/0f/1c62895bde30566c65602f15ddbfa0b2bbc273f8c43c190a45\n",
      "Successfully built sudachidict-core sudachipy\n",
      "Installing collected packages: catalogue, typer, srsly, sortedcontainers, pydantic, dartsclone, thinc, sudachipy, spacy-legacy, pathy, sudachidict-core, spacy\n",
      "  Attempting uninstall: catalogue\n",
      "    Found existing installation: catalogue 1.0.0\n",
      "    Uninstalling catalogue-1.0.0:\n",
      "      Successfully uninstalled catalogue-1.0.0\n",
      "  Attempting uninstall: srsly\n",
      "    Found existing installation: srsly 1.0.5\n",
      "    Uninstalling srsly-1.0.5:\n",
      "      Successfully uninstalled srsly-1.0.5\n",
      "  Attempting uninstall: sortedcontainers\n",
      "    Found existing installation: sortedcontainers 2.4.0\n",
      "    Uninstalling sortedcontainers-2.4.0:\n",
      "      Successfully uninstalled sortedcontainers-2.4.0\n",
      "  Attempting uninstall: thinc\n",
      "    Found existing installation: thinc 7.4.0\n",
      "    Uninstalling thinc-7.4.0:\n",
      "      Successfully uninstalled thinc-7.4.0\n",
      "  Attempting uninstall: spacy\n",
      "    Found existing installation: spacy 2.2.4\n",
      "    Uninstalling spacy-2.2.4:\n",
      "      Successfully uninstalled spacy-2.2.4\n",
      "Successfully installed catalogue-2.0.6 dartsclone-0.9.0 pathy-0.6.0 pydantic-1.8.2 sortedcontainers-2.1.0 spacy-3.1.2 spacy-legacy-3.0.8 srsly-2.4.1 sudachidict-core-20210802 sudachipy-0.5.2 thinc-8.0.8 typer-0.3.2\n"
     ]
    }
   ]
  },
  {
   "cell_type": "markdown",
   "metadata": {
    "id": "qEDQwydhRPcy"
   },
   "source": [
    "## モデルのダウンロード"
   ]
  },
  {
   "cell_type": "code",
   "metadata": {
    "colab": {
     "base_uri": "https://localhost:8080/"
    },
    "id": "hNOI4ylkPves",
    "outputId": "b9641c0f-158d-4109-a4a8-f49669ee4da3"
   },
   "source": [
    "!python -m spacy download ja_core_news_md"
   ],
   "execution_count": 5,
   "outputs": [
    {
     "output_type": "stream",
     "name": "stdout",
     "text": [
      "Collecting ja-core-news-md==3.1.0\n",
      "  Downloading https://github.com/explosion/spacy-models/releases/download/ja_core_news_md-3.1.0/ja_core_news_md-3.1.0-py3-none-any.whl (42.8 MB)\n",
      "\u001B[K     |████████████████████████████████| 42.8 MB 77 kB/s \n",
      "\u001B[?25hRequirement already satisfied: sudachidict-core>=20200330 in /usr/local/lib/python3.7/dist-packages (from ja-core-news-md==3.1.0) (20210802)\n",
      "Requirement already satisfied: sudachipy>=0.4.9 in /usr/local/lib/python3.7/dist-packages (from ja-core-news-md==3.1.0) (0.5.2)\n",
      "Requirement already satisfied: spacy<3.2.0,>=3.1.0 in /usr/local/lib/python3.7/dist-packages (from ja-core-news-md==3.1.0) (3.1.2)\n",
      "Requirement already satisfied: typer<0.4.0,>=0.3.0 in /usr/local/lib/python3.7/dist-packages (from spacy<3.2.0,>=3.1.0->ja-core-news-md==3.1.0) (0.3.2)\n",
      "Requirement already satisfied: wasabi<1.1.0,>=0.8.1 in /usr/local/lib/python3.7/dist-packages (from spacy<3.2.0,>=3.1.0->ja-core-news-md==3.1.0) (0.8.2)\n",
      "Requirement already satisfied: murmurhash<1.1.0,>=0.28.0 in /usr/local/lib/python3.7/dist-packages (from spacy<3.2.0,>=3.1.0->ja-core-news-md==3.1.0) (1.0.5)\n",
      "Requirement already satisfied: pydantic!=1.8,!=1.8.1,<1.9.0,>=1.7.4 in /usr/local/lib/python3.7/dist-packages (from spacy<3.2.0,>=3.1.0->ja-core-news-md==3.1.0) (1.8.2)\n",
      "Requirement already satisfied: cymem<2.1.0,>=2.0.2 in /usr/local/lib/python3.7/dist-packages (from spacy<3.2.0,>=3.1.0->ja-core-news-md==3.1.0) (2.0.5)\n",
      "Requirement already satisfied: preshed<3.1.0,>=3.0.2 in /usr/local/lib/python3.7/dist-packages (from spacy<3.2.0,>=3.1.0->ja-core-news-md==3.1.0) (3.0.5)\n",
      "Requirement already satisfied: blis<0.8.0,>=0.4.0 in /usr/local/lib/python3.7/dist-packages (from spacy<3.2.0,>=3.1.0->ja-core-news-md==3.1.0) (0.4.1)\n",
      "Requirement already satisfied: catalogue<2.1.0,>=2.0.4 in /usr/local/lib/python3.7/dist-packages (from spacy<3.2.0,>=3.1.0->ja-core-news-md==3.1.0) (2.0.6)\n",
      "Requirement already satisfied: tqdm<5.0.0,>=4.38.0 in /usr/local/lib/python3.7/dist-packages (from spacy<3.2.0,>=3.1.0->ja-core-news-md==3.1.0) (4.62.0)\n",
      "Requirement already satisfied: spacy-legacy<3.1.0,>=3.0.7 in /usr/local/lib/python3.7/dist-packages (from spacy<3.2.0,>=3.1.0->ja-core-news-md==3.1.0) (3.0.8)\n",
      "Requirement already satisfied: numpy>=1.15.0 in /usr/local/lib/python3.7/dist-packages (from spacy<3.2.0,>=3.1.0->ja-core-news-md==3.1.0) (1.19.5)\n",
      "Requirement already satisfied: setuptools in /usr/local/lib/python3.7/dist-packages (from spacy<3.2.0,>=3.1.0->ja-core-news-md==3.1.0) (57.4.0)\n",
      "Requirement already satisfied: pathy>=0.3.5 in /usr/local/lib/python3.7/dist-packages (from spacy<3.2.0,>=3.1.0->ja-core-news-md==3.1.0) (0.6.0)\n",
      "Requirement already satisfied: srsly<3.0.0,>=2.4.1 in /usr/local/lib/python3.7/dist-packages (from spacy<3.2.0,>=3.1.0->ja-core-news-md==3.1.0) (2.4.1)\n",
      "Requirement already satisfied: jinja2 in /usr/local/lib/python3.7/dist-packages (from spacy<3.2.0,>=3.1.0->ja-core-news-md==3.1.0) (2.11.3)\n",
      "Requirement already satisfied: typing-extensions<4.0.0.0,>=3.7.4 in /usr/local/lib/python3.7/dist-packages (from spacy<3.2.0,>=3.1.0->ja-core-news-md==3.1.0) (3.7.4.3)\n",
      "Requirement already satisfied: thinc<8.1.0,>=8.0.8 in /usr/local/lib/python3.7/dist-packages (from spacy<3.2.0,>=3.1.0->ja-core-news-md==3.1.0) (8.0.8)\n",
      "Requirement already satisfied: packaging>=20.0 in /usr/local/lib/python3.7/dist-packages (from spacy<3.2.0,>=3.1.0->ja-core-news-md==3.1.0) (21.0)\n",
      "Requirement already satisfied: requests<3.0.0,>=2.13.0 in /usr/local/lib/python3.7/dist-packages (from spacy<3.2.0,>=3.1.0->ja-core-news-md==3.1.0) (2.23.0)\n",
      "Requirement already satisfied: zipp>=0.5 in /usr/local/lib/python3.7/dist-packages (from catalogue<2.1.0,>=2.0.4->spacy<3.2.0,>=3.1.0->ja-core-news-md==3.1.0) (3.5.0)\n",
      "Requirement already satisfied: pyparsing>=2.0.2 in /usr/local/lib/python3.7/dist-packages (from packaging>=20.0->spacy<3.2.0,>=3.1.0->ja-core-news-md==3.1.0) (2.4.7)\n",
      "Requirement already satisfied: smart-open<6.0.0,>=5.0.0 in /usr/local/lib/python3.7/dist-packages (from pathy>=0.3.5->spacy<3.2.0,>=3.1.0->ja-core-news-md==3.1.0) (5.1.0)\n",
      "Requirement already satisfied: certifi>=2017.4.17 in /usr/local/lib/python3.7/dist-packages (from requests<3.0.0,>=2.13.0->spacy<3.2.0,>=3.1.0->ja-core-news-md==3.1.0) (2021.5.30)\n",
      "Requirement already satisfied: idna<3,>=2.5 in /usr/local/lib/python3.7/dist-packages (from requests<3.0.0,>=2.13.0->spacy<3.2.0,>=3.1.0->ja-core-news-md==3.1.0) (2.10)\n",
      "Requirement already satisfied: chardet<4,>=3.0.2 in /usr/local/lib/python3.7/dist-packages (from requests<3.0.0,>=2.13.0->spacy<3.2.0,>=3.1.0->ja-core-news-md==3.1.0) (3.0.4)\n",
      "Requirement already satisfied: urllib3!=1.25.0,!=1.25.1,<1.26,>=1.21.1 in /usr/local/lib/python3.7/dist-packages (from requests<3.0.0,>=2.13.0->spacy<3.2.0,>=3.1.0->ja-core-news-md==3.1.0) (1.24.3)\n",
      "Requirement already satisfied: sortedcontainers~=2.1.0 in /usr/local/lib/python3.7/dist-packages (from sudachipy>=0.4.9->ja-core-news-md==3.1.0) (2.1.0)\n",
      "Requirement already satisfied: dartsclone~=0.9.0 in /usr/local/lib/python3.7/dist-packages (from sudachipy>=0.4.9->ja-core-news-md==3.1.0) (0.9.0)\n",
      "Requirement already satisfied: Cython in /usr/local/lib/python3.7/dist-packages (from dartsclone~=0.9.0->sudachipy>=0.4.9->ja-core-news-md==3.1.0) (0.29.24)\n",
      "Requirement already satisfied: click<7.2.0,>=7.1.1 in /usr/local/lib/python3.7/dist-packages (from typer<0.4.0,>=0.3.0->spacy<3.2.0,>=3.1.0->ja-core-news-md==3.1.0) (7.1.2)\n",
      "Requirement already satisfied: MarkupSafe>=0.23 in /usr/local/lib/python3.7/dist-packages (from jinja2->spacy<3.2.0,>=3.1.0->ja-core-news-md==3.1.0) (2.0.1)\n",
      "Installing collected packages: ja-core-news-md\n",
      "Successfully installed ja-core-news-md-3.1.0\n",
      "\u001B[38;5;2m✔ Download and installation successful\u001B[0m\n",
      "You can now load the package via spacy.load('ja_core_news_md')\n"
     ]
    }
   ]
  },
  {
   "cell_type": "markdown",
   "metadata": {
    "id": "trfq1IwnRRxY"
   },
   "source": [
    "## モデルの読み込み"
   ]
  },
  {
   "cell_type": "code",
   "metadata": {
    "id": "E7n8Mk0dV8eE"
   },
   "source": [
    "import spacy\n",
    "nlp = spacy.load(\"ja_core_news_md\")"
   ],
   "execution_count": 1,
   "outputs": []
  },
  {
   "cell_type": "markdown",
   "metadata": {
    "id": "WZAmzYUoY9eN"
   },
   "source": [
    "## 文書ベクトルの作成\n",
    "\n",
    "モデルを読み込み終えたら、文書ベクトルを作成しましょう。\n",
    "読み込んだモデルに文書を渡すと、spaCyの[Doc](https://spacy.io/api/doc)オブジェクトを作成してくれます。\n",
    "このDocオブジェクトは、トークンを表すTokenオブジェクトの系列です。Docオブジェクトの`vector`プロパティへアクセスすることで、各Tokenオブジェクトの持つベクトルを平均した文書ベクトルを得られます。"
   ]
  },
  {
   "cell_type": "code",
   "metadata": {
    "colab": {
     "base_uri": "https://localhost:8080/"
    },
    "id": "14YQ0_WaXvl0",
    "outputId": "43765726-fe47-493c-986f-0c3b20f783cb"
   },
   "source": [
    "documents = [\n",
    "    '猫は可愛い',\n",
    "    'りんごが好き',\n",
    "    'みかんが好き'\n",
    "]\n",
    "\n",
    "# spaCyのDocオブジェクトを作成\n",
    "doc = nlp(documents[0])\n",
    "\n",
    "# 各トークンの表示\n",
    "for token in doc:\n",
    "  print(token, token.vector[:5])\n",
    "\n",
    "# 平均ベクトルを取得\n",
    "print(doc.vector)"
   ],
   "execution_count": 7,
   "outputs": [
    {
     "output_type": "stream",
     "name": "stdout",
     "text": [
      "猫 [ 0.15373811 -0.1564905   0.16179664 -0.28655747  0.0342402 ]\n",
      "は [-0.05035316 -0.15731327 -0.08336552 -0.15989235 -0.12370043]\n",
      "可愛い [ 0.12928508  0.07598259  0.0954372  -0.01305387  0.17068844]\n",
      "[ 0.07755668 -0.07927374  0.05795611 -0.15316789  0.02707607 -0.03550185\n",
      " -0.23161416 -0.18687034 -0.10469284 -0.0547585   0.03532061 -0.21707535\n",
      "  0.09295091  0.19374524  0.01164827 -0.26621327 -0.07038879 -0.1116474\n",
      " -0.21574079  0.07504889 -0.2936578   0.07074806 -0.08422249  0.12428612\n",
      " -0.10739413 -0.01528161 -0.20476162  0.22658513  0.17365307  0.0942969\n",
      "  0.10059032  0.03179478  0.05282551  0.15279552  0.04274288  0.16492642\n",
      " -0.04502092  0.12238503 -0.08911269 -0.04925058  0.06517535  0.27023697\n",
      "  0.06821477  0.01712265 -0.16434152 -0.17404014 -0.01288699 -0.0643749\n",
      "  0.05278266 -0.04197481  0.02881307 -0.05066462 -0.03055322  0.08792243\n",
      " -0.01550499  0.11798475 -0.05484968 -0.00574829 -0.07100813  0.20918112\n",
      "  0.09645573  0.05226985  0.04954366 -0.07742713 -0.16009885 -0.05242826\n",
      "  0.07624318  0.00611217  0.02932944 -0.03115982 -0.13278812  0.03666778\n",
      "  0.05505205  0.24790557 -0.08039899  0.1141819  -0.03472338 -0.10782772\n",
      "  0.0855519  -0.09405936 -0.07849211 -0.12538098 -0.02475917 -0.02794753\n",
      "  0.01698889 -0.08838301  0.17360838 -0.13144107  0.10486235 -0.10992921\n",
      " -0.00278825  0.04533272 -0.19428724  0.0713699   0.130782    0.03644183\n",
      "  0.14982557 -0.12209749  0.12024117  0.02147199 -0.00843035 -0.0583446\n",
      "  0.1624452  -0.06553569 -0.02118501 -0.1590514  -0.02703463  0.287332\n",
      "  0.10983019  0.1645366   0.07716346 -0.23589562  0.16825081 -0.09184667\n",
      "  0.07322785 -0.10859475  0.1783033  -0.02884158  0.02731957  0.09586257\n",
      " -0.01368914 -0.18744652 -0.02593631 -0.01213136  0.02473816  0.04243619\n",
      " -0.01373218  0.17157458  0.00144721 -0.06685773 -0.28292263 -0.19888078\n",
      " -0.21390097 -0.1747473  -0.08320459 -0.103387    0.04751313 -0.0281587\n",
      "  0.05376406  0.04712239 -0.09631974  0.12540516  0.12001538  0.06089166\n",
      "  0.08778051 -0.00224787 -0.10831686  0.01062108  0.20695587  0.06926783\n",
      "  0.07180484  0.05505048 -0.00640565 -0.11303189 -0.24411683  0.1148449\n",
      " -0.35486984 -0.0265198  -0.01321043  0.01983093 -0.07020212  0.2788899\n",
      " -0.19380486  0.13101436 -0.18058707  0.0146832  -0.27271533  0.14971596\n",
      " -0.09991971 -0.00424197  0.04925886 -0.00535716  0.01708385 -0.15367317\n",
      "  0.09056413  0.08257193 -0.03627419  0.19042158  0.00415889  0.13336985\n",
      " -0.26930606 -0.10554931 -0.15931343  0.10660974 -0.10546181 -0.14076866\n",
      "  0.12245754  0.06722588  0.02646851 -0.0407982   0.08789866 -0.04774336\n",
      "  0.03328272  0.02681816 -0.00371592 -0.04880105  0.10904247 -0.01213284\n",
      " -0.02053964 -0.00562546 -0.01009473 -0.11532614 -0.01398104 -0.15883324\n",
      "  0.00719553  0.32125553 -0.10133114 -0.08041044  0.08182944  0.06239481\n",
      " -0.03473517 -0.15166563  0.12384087  0.03786896 -0.11123987  0.11450724\n",
      "  0.0862091   0.07505447 -0.06502265  0.06499248  0.16187124 -0.20364107\n",
      "  0.12568131  0.02072921  0.10616875  0.03984061  0.13132781 -0.14327762\n",
      " -0.00121538  0.06831041  0.09986343  0.18060248 -0.15370628  0.30078876\n",
      "  0.05156485  0.04841049 -0.19113888  0.07356568  0.18617798  0.24860775\n",
      "  0.22980297 -0.07935794 -0.17936744 -0.12541844 -0.2139227  -0.00261594\n",
      "  0.00983415 -0.14243597 -0.06672624  0.04637498  0.15911706  0.0041\n",
      "  0.0844684   0.06569045 -0.04349012  0.06825977  0.08878141 -0.30299616\n",
      "  0.01105471 -0.15101223  0.0659982  -0.1856008   0.10970356 -0.09816116\n",
      "  0.05467916 -0.06523032 -0.1185033  -0.13541766  0.04651741 -0.24114038\n",
      "  0.10929192  0.09279541 -0.25587866  0.1042977   0.0260207  -0.10531932\n",
      "  0.10809805 -0.11171687  0.1711895   0.17734538  0.0447894   0.01881003\n",
      "  0.13539743  0.13125561 -0.28818062 -0.17091872  0.04646346 -0.02853128\n",
      " -0.00902697 -0.17115735 -0.07869544  0.01560189  0.12260275 -0.03766519\n",
      "  0.00556796  0.07916486 -0.15979986 -0.02828177 -0.06075821 -0.12272763]\n"
     ]
    }
   ]
  },
  {
   "cell_type": "markdown",
   "metadata": {
    "id": "J3OydUiEa3Qx"
   },
   "source": [
    "文書ベクトルの取得方法はわかったので、類似度を計算してみましょう。\n",
    "Docオブジェクトは[similarity](https://spacy.io/api/doc#similarity)メソッドを持っており、Docオブジェクトを渡して呼び出すことで、文書同士のコサイン類似度を計算できます。"
   ]
  },
  {
   "cell_type": "code",
   "metadata": {
    "colab": {
     "base_uri": "https://localhost:8080/"
    },
    "id": "vPOiSIYSYKJm",
    "outputId": "f51fe7dc-d816-45f2-db13-d96d333add83"
   },
   "source": [
    "apple = nlp(documents[1])\n",
    "orange = nlp(documents[2])\n",
    "\n",
    "print(doc.similarity(apple))\n",
    "print(doc.similarity(orange))\n",
    "print(apple.similarity(orange))"
   ],
   "execution_count": 8,
   "outputs": [
    {
     "output_type": "stream",
     "name": "stdout",
     "text": [
      "0.6628968617209818\n",
      "0.6305005832823635\n",
      "0.8444694979470903\n"
     ]
    }
   ]
  },
  {
   "cell_type": "code",
   "metadata": {
    "id": "ft8Xyo6WXZSi"
   },
   "source": [
    ""
   ],
   "execution_count": null,
   "outputs": []
  }
 ]
}