{
  "nbformat": 4,
  "nbformat_minor": 0,
  "metadata": {
    "colab": {
      "name": "01_OneHotEncoding.ipynb",
      "provenance": [],
      "collapsed_sections": []
    },
    "kernelspec": {
      "display_name": "Python 3",
      "language": "python",
      "name": "python3"
    },
    "language_info": {
      "codemirror_mode": {
        "name": "ipython",
        "version": 3
      },
      "file_extension": ".py",
      "mimetype": "text/x-python",
      "name": "python",
      "nbconvert_exporter": "python",
      "pygments_lexer": "ipython3",
      "version": "3.6.7"
    }
  },
  "cells": [
    {
      "cell_type": "markdown",
      "metadata": {
        "id": "wuu5HXaWLWSM"
      },
      "source": [
        "## テキストのOne-Hotエンコーディング\n",
        "\n",
        "このノートブックでは、one-hotエンコーディングを実装します。実際のプロジェクトでは、scikit-learnの実装を使うことのほうが多いでしょう。"
      ]
    },
    {
      "cell_type": "code",
      "metadata": {
        "colab": {
          "base_uri": "https://localhost:8080/"
        },
        "id": "GvndsBIzLWSQ",
        "outputId": "55c5af25-19c7-439c-dbef-3b48559a2697"
      },
      "source": [
        "documents = [\n",
        "    \"Dog bites man.\",\n",
        "    \"Man bites dog.\",\n",
        "    \"Dog eats meat.\",\n",
        "    \"Man eats food.\"\n",
        "]\n",
        "processed_docs = [doc.lower().replace(\".\", \"\") for doc in documents]\n",
        "processed_docs"
      ],
      "execution_count": 1,
      "outputs": [
        {
          "output_type": "execute_result",
          "data": {
            "text/plain": [
              "['dog bites man', 'man bites dog', 'dog eats meat', 'man eats food']"
            ]
          },
          "metadata": {
            "tags": []
          },
          "execution_count": 1
        }
      ]
    },
    {
      "cell_type": "code",
      "metadata": {
        "colab": {
          "base_uri": "https://localhost:8080/"
        },
        "id": "dWJcOZLBLWSW",
        "outputId": "6b3a8352-03aa-4f67-841d-f3596d7a50a0"
      },
      "source": [
        "# ボキャブラリの構築\n",
        "vocab = {}\n",
        "count = 0\n",
        "for doc in processed_docs:\n",
        "    for word in doc.split():\n",
        "        if word not in vocab:\n",
        "            count = count + 1\n",
        "            vocab[word] = count\n",
        "print(vocab)"
      ],
      "execution_count": 2,
      "outputs": [
        {
          "output_type": "stream",
          "text": [
            "{'dog': 1, 'bites': 2, 'man': 3, 'eats': 4, 'meat': 5, 'food': 6}\n"
          ],
          "name": "stdout"
        }
      ]
    },
    {
      "cell_type": "code",
      "metadata": {
        "id": "4pesdRwpLWSc"
      },
      "source": [
        "# 与えたテキストに対応するone-hot表現を取得\n",
        "# 単語がボキャブラリに存在する場合、その表現が返される。\n",
        "# 存在しない場合は、ゼロのリストが返される。\n",
        "def get_onehot_vector(somestring):\n",
        "    onehot_encoded = []\n",
        "    for word in somestring.split():\n",
        "        temp = [0] * len(vocab)\n",
        "        if word in vocab:\n",
        "            temp[vocab[word] - 1] = 1 # リストのインデックスは1ではなく0から始まるため-1している\n",
        "        onehot_encoded.append(temp)\n",
        "    return onehot_encoded"
      ],
      "execution_count": 3,
      "outputs": []
    },
    {
      "cell_type": "markdown",
      "metadata": {
        "id": "p2-GIjI8770K"
      },
      "source": [
        "コーパスのテキストに対して、one-hot表現を取得してみましょう。"
      ]
    },
    {
      "cell_type": "code",
      "metadata": {
        "colab": {
          "base_uri": "https://localhost:8080/"
        },
        "id": "JELqSh4gLWSg",
        "outputId": "74ab9359-70fe-4219-ece4-e5f95001ee27"
      },
      "source": [
        "print(processed_docs[1])\n",
        "get_onehot_vector(processed_docs[1])"
      ],
      "execution_count": 4,
      "outputs": [
        {
          "output_type": "stream",
          "text": [
            "man bites dog\n"
          ],
          "name": "stdout"
        },
        {
          "output_type": "execute_result",
          "data": {
            "text/plain": [
              "[[0, 0, 1, 0, 0, 0], [0, 1, 0, 0, 0, 0], [1, 0, 0, 0, 0, 0]]"
            ]
          },
          "metadata": {
            "tags": []
          },
          "execution_count": 4
        }
      ]
    },
    {
      "cell_type": "markdown",
      "metadata": {
        "id": "YAPeqVFu8Fam"
      },
      "source": [
        "同じボキャブラリを使って、ランダムなテキストに対するone-hot表現を取得してみましょう。"
      ]
    },
    {
      "cell_type": "code",
      "metadata": {
        "colab": {
          "base_uri": "https://localhost:8080/"
        },
        "id": "PVQExJUGLWSm",
        "outputId": "986d9507-b972-48fb-a4e0-f9849ddcfc8d"
      },
      "source": [
        "get_onehot_vector(\"man and dog are good\") "
      ],
      "execution_count": 5,
      "outputs": [
        {
          "output_type": "execute_result",
          "data": {
            "text/plain": [
              "[[0, 0, 1, 0, 0, 0],\n",
              " [0, 0, 0, 0, 0, 0],\n",
              " [1, 0, 0, 0, 0, 0],\n",
              " [0, 0, 0, 0, 0, 0],\n",
              " [0, 0, 0, 0, 0, 0]]"
            ]
          },
          "metadata": {
            "tags": []
          },
          "execution_count": 5
        }
      ]
    },
    {
      "cell_type": "code",
      "metadata": {
        "colab": {
          "base_uri": "https://localhost:8080/"
        },
        "id": "_xb8azVwLWSs",
        "outputId": "0f45c6f8-b50a-4f61-8ff8-52b63706001a"
      },
      "source": [
        "get_onehot_vector(\"man and man are good\") "
      ],
      "execution_count": 6,
      "outputs": [
        {
          "output_type": "execute_result",
          "data": {
            "text/plain": [
              "[[0, 0, 1, 0, 0, 0],\n",
              " [0, 0, 0, 0, 0, 0],\n",
              " [0, 0, 1, 0, 0, 0],\n",
              " [0, 0, 0, 0, 0, 0],\n",
              " [0, 0, 0, 0, 0, 0]]"
            ]
          },
          "metadata": {
            "tags": []
          },
          "execution_count": 6
        }
      ]
    },
    {
      "cell_type": "markdown",
      "metadata": {
        "id": "ANj41SQ4L7xI"
      },
      "source": [
        "## scikit-learnを用いたOne-hotエンコーディング\n",
        "\n",
        "ここでは、scikit-learnのOneHotEncoderを用いて、one-hotエンコーディングをしてみましょう。\n",
        "\n",
        "具体的には、次のことを試します。\n",
        "\n",
        "* One-Hotエンコーディング: one-hotエンコーディングでは、ボキャブラリの各単語wに、1から|V|の間の一意の整数IDとしてwidを与える。各単語は、0と1からなるV次元の二値ベクトルで表現される。\n",
        "\n",
        "* ラベルエンコーディング: ラベルエンコーディングでは、コーパスの各単語wを0からn-1までの数値に変換する。ここでnはコーパスに含まれる一意な単語数を意味する。\n",
        "\n",
        "参考\n",
        "\n",
        "- [OneHotEncoder](https://scikit-learn.org/stable/modules/generated/sklearn.preprocessing.OneHotEncoder.html)\n",
        "- [LabelEncoder](https://scikit-learn.org/stable/modules/generated/sklearn.preprocessing.LabelEncoder.html) respectively.\n",
        "\n",
        "\n",
        "\n",
        "\n",
        "\n",
        "\n"
      ]
    },
    {
      "cell_type": "code",
      "metadata": {
        "id": "sAPkk-fZLh4W"
      },
      "source": [
        "S1 = 'dog bites man'\n",
        "S2 = 'man bites dog'\n",
        "S3 = 'dog eats meat'\n",
        "S4 = 'man eats food'"
      ],
      "execution_count": 7,
      "outputs": []
    },
    {
      "cell_type": "code",
      "metadata": {
        "colab": {
          "base_uri": "https://localhost:8080/"
        },
        "id": "OYCRHl5SLWSy",
        "outputId": "608005b3-ed53-4abd-cfad-961dbde6acb4"
      },
      "source": [
        "from itertools import chain\n",
        "from sklearn.preprocessing import LabelEncoder, OneHotEncoder\n",
        "\n",
        "data = [S1.split(), S2.split(), S3.split(), S4.split()]\n",
        "values = list(chain.from_iterable(data))\n",
        "print(f\"The data: {values}\")\n",
        "\n",
        "# Label Encoding\n",
        "label_encoder = LabelEncoder()\n",
        "integer_encoded = label_encoder.fit_transform(values)\n",
        "print(f\"Label Encoded: {integer_encoded}\")\n",
        "\n",
        "# One-Hot Encoding\n",
        "onehot_encoder = OneHotEncoder()\n",
        "onehot_encoded = onehot_encoder.fit_transform(data).toarray()\n",
        "print(f\"Onehot Encoded Matrix:\\n{onehot_encoded}\")"
      ],
      "execution_count": 19,
      "outputs": [
        {
          "output_type": "stream",
          "text": [
            "The data: ['dog', 'bites', 'man', 'man', 'bites', 'dog', 'dog', 'eats', 'meat', 'man', 'eats', 'food']\n",
            "Label Encoded: [1 0 4 4 0 1 1 2 5 4 2 3]\n",
            "Onehot Encoded Matrix:\n",
            "[[1. 0. 1. 0. 0. 0. 1. 0.]\n",
            " [0. 1. 1. 0. 1. 0. 0. 0.]\n",
            " [1. 0. 0. 1. 0. 0. 0. 1.]\n",
            " [0. 1. 0. 1. 0. 1. 0. 0.]]\n"
          ],
          "name": "stdout"
        }
      ]
    },
    {
      "cell_type": "code",
      "metadata": {
        "id": "N5T2dRue-f0I"
      },
      "source": [
        ""
      ],
      "execution_count": null,
      "outputs": []
    }
  ]
}