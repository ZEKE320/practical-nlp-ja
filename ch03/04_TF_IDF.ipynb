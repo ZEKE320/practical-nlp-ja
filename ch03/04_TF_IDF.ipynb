{
  "nbformat": 4,
  "nbformat_minor": 0,
  "metadata": {
    "colab": {
      "name": "04_TF_IDF.ipynb",
      "provenance": [],
      "collapsed_sections": []
    },
    "kernelspec": {
      "display_name": "Python 3",
      "language": "python",
      "name": "python3"
    },
    "language_info": {
      "codemirror_mode": {
        "name": "ipython",
        "version": 3
      },
      "file_extension": ".py",
      "mimetype": "text/x-python",
      "name": "python",
      "nbconvert_exporter": "python",
      "pygments_lexer": "ipython3",
      "version": "3.6.7"
    }
  },
  "cells": [
    {
      "cell_type": "markdown",
      "metadata": {
        "id": "QE4VO40Gbl1U"
      },
      "source": [
        "## TF-IDF\n",
        "\n",
        "これまで見てきた他のアプローチでは、テキスト内の単語の重要度は等しいと仮定しています。つまり、文書中のある単語が他の単語よりも重要であるという概念はありません。TF-IDFはこの問題を解決します。TF-IDFは、文書やコーパス内の他の単語と比較して、ある単語の重要性を定量化することを目的としています。TF-IDFは、情報検索システムにおいて、与えられたテキストクエリに関連する文書をコーパスから抽出するために、一般的に使用されています。\n",
        "\n",
        "このノートブックでは、scikit-learnのTfidfVectorizerを使って、文書のTF-IDF表現を取得する簡単な例を示します。"
      ]
    },
    {
      "cell_type": "code",
      "metadata": {
        "colab": {
          "base_uri": "https://localhost:8080/"
        },
        "id": "5S4Ircomar27",
        "outputId": "6d82bd5b-79e0-41e2-d6f7-d25b20a28114"
      },
      "source": [
        "documents = [\n",
        "    \"Dog bites man.\",\n",
        "    \"Man bites dog.\",\n",
        "    \"Dog eats meat.\",\n",
        "    \"Man eats food.\"\n",
        "]\n",
        "processed_docs = [doc.lower().replace(\".\", \"\") for doc in documents]\n",
        "processed_docs"
      ],
      "execution_count": 1,
      "outputs": [
        {
          "output_type": "execute_result",
          "data": {
            "text/plain": [
              "['dog bites man', 'man bites dog', 'dog eats meat', 'man eats food']"
            ]
          },
          "metadata": {
            "tags": []
          },
          "execution_count": 1
        }
      ]
    },
    {
      "cell_type": "code",
      "metadata": {
        "colab": {
          "base_uri": "https://localhost:8080/"
        },
        "id": "BRjyqt4Ba2zx",
        "outputId": "eed2e047-4231-42cd-ed41-c8a056f64e7c"
      },
      "source": [
        "from sklearn.feature_extraction.text import TfidfVectorizer\n",
        "\n",
        "tfidf = TfidfVectorizer()\n",
        "bow_rep_tfidf = tfidf.fit_transform(processed_docs)\n",
        "\n",
        "# ボキャブラリの全単語に対するIDF\n",
        "print(\"IDF for all words in the vocabulary\",tfidf.idf_)\n",
        "print(\"-\" * 10)\n",
        "\n",
        "# ボキャブラリの全単語\n",
        "print(\"All words in the vocabulary\",tfidf.get_feature_names())\n",
        "print(\"-\"*10)\n",
        "\n",
        "# 全文書に対するTFIDF\n",
        "print(\"TFIDF representation for all documents in our corpus\\n\",bow_rep_tfidf.toarray()) \n",
        "print(\"-\"*10)\n",
        "\n",
        "temp = tfidf.transform([\"dog and man are friends\"])\n",
        "print(\"Tfidf representation for 'dog and man are friends':\\n\", temp.toarray())"
      ],
      "execution_count": 2,
      "outputs": [
        {
          "output_type": "stream",
          "text": [
            "IDF for all words in the vocabulary [1.51082562 1.22314355 1.51082562 1.91629073 1.22314355 1.91629073]\n",
            "----------\n",
            "All words in the vocabulary ['bites', 'dog', 'eats', 'food', 'man', 'meat']\n",
            "----------\n",
            "TFIDF representation for all documents in our corpus\n",
            " [[0.65782931 0.53256952 0.         0.         0.53256952 0.        ]\n",
            " [0.65782931 0.53256952 0.         0.         0.53256952 0.        ]\n",
            " [0.         0.44809973 0.55349232 0.         0.         0.70203482]\n",
            " [0.         0.         0.55349232 0.70203482 0.44809973 0.        ]]\n",
            "----------\n",
            "Tfidf representation for 'dog and man are friends':\n",
            " [[0.         0.70710678 0.         0.         0.70710678 0.        ]]\n"
          ],
          "name": "stdout"
        }
      ]
    },
    {
      "cell_type": "markdown",
      "metadata": {
        "id": "3_sQAtMRFiJy"
      },
      "source": [
        "TF-IDFの使い方については、第４章のテキスト分類で確認します。"
      ]
    },
    {
      "cell_type": "code",
      "metadata": {
        "id": "RvU5QPRcGRsK"
      },
      "source": [
        ""
      ],
      "execution_count": 2,
      "outputs": []
    }
  ]
}